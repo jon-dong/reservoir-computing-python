{
 "cells": [
  {
   "cell_type": "code",
   "execution_count": 4,
   "metadata": {},
   "outputs": [],
   "source": [
    "import numpy as np\n",
    "import data1D\n",
    "from reservoir import Reservoir\n",
    "from sklearn.model_selection import GridSearchCV\n",
    "\n",
    "%load_ext autoreload\n",
    "%autoreload 2\n",
    "%aimport data1D\n",
    "%aimport reservoir\n",
    "\n",
    "%matplotlib inline"
   ]
  },
  {
   "cell_type": "code",
   "execution_count": null,
   "metadata": {},
   "outputs": [],
   "source": []
  },
  {
   "cell_type": "code",
   "execution_count": 17,
   "metadata": {},
   "outputs": [],
   "source": [
    "\n",
    "parallel_runs = 1\n",
    "forget = 100\n",
    "b = Reservoir(n_res=2000, res_scale=1, res_encoding=None, res_enc_param=np.pi,\n",
    "              input_scale=1, input_encoding=None,\n",
    "              random_projection='PRL', weights_type='gaussian',\n",
    "              activation_fun='tanh', activation_param=10,\n",
    "              parallel_runs=parallel_runs,  bias_scale=0.1, leak_rate=1,\n",
    "              pred_horizon=1, rec_pred_steps=300, forget = forget,\n",
    "              train_method='ridge', train_param=50, verbose=1,\n",
    "              k=3, rho=0.6, l=6, gridsearch=True\n",
    "             )"
   ]
  },
  {
   "cell_type": "code",
   "execution_count": null,
   "metadata": {},
   "outputs": [],
   "source": []
  },
  {
   "cell_type": "code",
   "execution_count": 18,
   "metadata": {},
   "outputs": [],
   "source": [
    "params = [\n",
    "  {'k': np.arange(1, 11, 3),\n",
    "   'rho': np.arange(.1, 1.1, .3), \n",
    "   'train_param': [1, 1e1, 1e2, 1e3]\n",
    "  }\n",
    "]"
   ]
  },
  {
   "cell_type": "code",
   "execution_count": null,
   "metadata": {},
   "outputs": [],
   "source": []
  },
  {
   "cell_type": "code",
   "execution_count": null,
   "metadata": {
    "scrolled": true
   },
   "outputs": [
    {
     "name": "stdout",
     "output_type": "stream",
     "text": [
      "Fitting 3 folds for each of 64 candidates, totalling 192 fits\n"
     ]
    },
    {
     "name": "stderr",
     "output_type": "stream",
     "text": [
      "[Parallel(n_jobs=1)]: Using backend SequentialBackend with 1 concurrent workers.\n"
     ]
    },
    {
     "name": "stdout",
     "output_type": "stream",
     "text": [
      "[CV] k=1, rho=0.1, train_param=1 .....................................\n",
      "Reservoir Computing algorithm - Training phase:\n",
      "\n",
      "Initialization complete. \t\tElapsed time: 3.1286332607269287 s\n"
     ]
    },
    {
     "data": {
      "application/vnd.jupyter.widget-view+json": {
       "model_id": "aa8468b1fc0046cc8de6bbf15afef381",
       "version_major": 2,
       "version_minor": 0
      },
      "text/plain": [
       "HBox(children=(IntProgress(value=0, description='reservoir construction', max=2000, style=ProgressStyle(descri…"
      ]
     },
     "metadata": {},
     "output_type": "display_data"
    },
    {
     "name": "stdout",
     "output_type": "stream",
     "text": [
      "\n",
      "Reservoir iterations complete. \t\tElapsed time: 4.327428340911865 s\n",
      "true_output.shape = (1, 1900, 18)\n",
      "(1, 1900, 4000)\n",
      "concat_states.shape = (1900, 4000)\n",
      "y.shape = (1900, 18)\n",
      "Training complete. \t\t\tElapsed time: 0.27227163314819336 s\n",
      "Training score: 0.999290424034533\n",
      "Reservoir Computing algorithm - Testing phase:\n",
      "\n",
      "Initialization complete. \t\tElapsed time: 0.002991914749145508 s\n"
     ]
    },
    {
     "data": {
      "application/vnd.jupyter.widget-view+json": {
       "model_id": "e9d80031ae6347d1832597a087455a2a",
       "version_major": 2,
       "version_minor": 0
      },
      "text/plain": [
       "HBox(children=(IntProgress(value=0, description='reservoir update', max=300, style=ProgressStyle(description_w…"
      ]
     },
     "metadata": {},
     "output_type": "display_data"
    },
    {
     "data": {
      "application/vnd.jupyter.widget-view+json": {
       "model_id": "d2d83570232b42e4916de4bd91d6a30e",
       "version_major": 2,
       "version_minor": 0
      },
      "text/plain": [
       "HBox(children=(IntProgress(value=0, description='reservoir construction', max=700, style=ProgressStyle(descrip…"
      ]
     },
     "metadata": {},
     "output_type": "display_data"
    },
    {
     "name": "stdout",
     "output_type": "stream",
     "text": [
      "\n",
      "Reservoir iterations complete. \t\tElapsed time: 11.501246690750122 s\n",
      "Testing complete. \t\t\tElapsed time: 0.012981891632080078 s\n",
      "Testing score: 0.05107507179699625\n",
      "Reservoir Computing algorithm - Testing phase:\n",
      "\n",
      "Initialization complete. \t\tElapsed time: 0.0009622573852539062 s\n"
     ]
    },
    {
     "data": {
      "application/vnd.jupyter.widget-view+json": {
       "model_id": "2708ef972f2e4bd4a7b43a8a806a8e3d",
       "version_major": 2,
       "version_minor": 0
      },
      "text/plain": [
       "HBox(children=(IntProgress(value=0, description='reservoir update', max=300, style=ProgressStyle(description_w…"
      ]
     },
     "metadata": {},
     "output_type": "display_data"
    },
    {
     "data": {
      "application/vnd.jupyter.widget-view+json": {
       "model_id": "38a5ea4fad7f47efa469be485cf0705b",
       "version_major": 2,
       "version_minor": 0
      },
      "text/plain": [
       "HBox(children=(IntProgress(value=0, description='reservoir construction', max=1700, style=ProgressStyle(descri…"
      ]
     },
     "metadata": {},
     "output_type": "display_data"
    },
    {
     "name": "stdout",
     "output_type": "stream",
     "text": [
      "\n",
      "Reservoir iterations complete. \t\tElapsed time: 12.971315145492554 s\n",
      "Testing complete. \t\t\tElapsed time: 0.010973691940307617 s\n",
      "Testing score: 2.3802182835379368e-05\n",
      "[CV] ...................... k=1, rho=0.1, train_param=1, total=  21.1s\n"
     ]
    },
    {
     "name": "stderr",
     "output_type": "stream",
     "text": [
      "[Parallel(n_jobs=1)]: Done   1 out of   1 | elapsed:   35.9s remaining:    0.0s\n"
     ]
    },
    {
     "name": "stdout",
     "output_type": "stream",
     "text": [
      "[CV] k=1, rho=0.1, train_param=1 .....................................\n",
      "Reservoir Computing algorithm - Training phase:\n",
      "\n",
      "Initialization complete. \t\tElapsed time: 2.1861517429351807 s\n"
     ]
    },
    {
     "data": {
      "application/vnd.jupyter.widget-view+json": {
       "model_id": "adbd181731c14ea18624585d7a98f351",
       "version_major": 2,
       "version_minor": 0
      },
      "text/plain": [
       "HBox(children=(IntProgress(value=0, description='reservoir construction', max=2000, style=ProgressStyle(descri…"
      ]
     },
     "metadata": {},
     "output_type": "display_data"
    },
    {
     "name": "stdout",
     "output_type": "stream",
     "text": [
      "\n",
      "Reservoir iterations complete. \t\tElapsed time: 4.416191339492798 s\n",
      "true_output.shape = (1, 1900, 18)\n",
      "(1, 1900, 4000)\n",
      "concat_states.shape = (1900, 4000)\n",
      "y.shape = (1900, 18)\n",
      "Training complete. \t\t\tElapsed time: 0.2622988224029541 s\n",
      "Training score: 0.9992324254425025\n",
      "Reservoir Computing algorithm - Testing phase:\n",
      "\n",
      "Initialization complete. \t\tElapsed time: 0.003988742828369141 s\n"
     ]
    },
    {
     "data": {
      "application/vnd.jupyter.widget-view+json": {
       "model_id": "b017804fb2f54922a76a709e27defccd",
       "version_major": 2,
       "version_minor": 0
      },
      "text/plain": [
       "HBox(children=(IntProgress(value=0, description='reservoir update', max=300, style=ProgressStyle(description_w…"
      ]
     },
     "metadata": {},
     "output_type": "display_data"
    },
    {
     "data": {
      "application/vnd.jupyter.widget-view+json": {
       "model_id": "2ca44f0d781a438c8bd876f13dc90f9a",
       "version_major": 2,
       "version_minor": 0
      },
      "text/plain": [
       "HBox(children=(IntProgress(value=0, description='reservoir construction', max=700, style=ProgressStyle(descrip…"
      ]
     },
     "metadata": {},
     "output_type": "display_data"
    },
    {
     "name": "stdout",
     "output_type": "stream",
     "text": [
      "\n",
      "Reservoir iterations complete. \t\tElapsed time: 11.383562326431274 s\n",
      "Testing complete. \t\t\tElapsed time: 0.011967897415161133 s\n",
      "Testing score: 3.7380842875504305e-06\n",
      "Reservoir Computing algorithm - Testing phase:\n",
      "\n",
      "Initialization complete. \t\tElapsed time: 0.0010366439819335938 s\n"
     ]
    },
    {
     "data": {
      "application/vnd.jupyter.widget-view+json": {
       "model_id": "634abe9c94a04181b51c9be21b6d263e",
       "version_major": 2,
       "version_minor": 0
      },
      "text/plain": [
       "HBox(children=(IntProgress(value=0, description='reservoir update', max=300, style=ProgressStyle(description_w…"
      ]
     },
     "metadata": {},
     "output_type": "display_data"
    },
    {
     "data": {
      "application/vnd.jupyter.widget-view+json": {
       "model_id": "23c6f7573c204053af1080d85be42045",
       "version_major": 2,
       "version_minor": 0
      },
      "text/plain": [
       "HBox(children=(IntProgress(value=0, description='reservoir construction', max=1700, style=ProgressStyle(descri…"
      ]
     },
     "metadata": {},
     "output_type": "display_data"
    },
    {
     "name": "stdout",
     "output_type": "stream",
     "text": [
      "\n",
      "Reservoir iterations complete. \t\tElapsed time: 13.0281240940094 s\n",
      "Testing complete. \t\t\tElapsed time: 0.011970996856689453 s\n",
      "Testing score: 0.07039671588671566\n",
      "[CV] ...................... k=1, rho=0.1, train_param=1, total=  20.0s\n",
      "[CV] k=1, rho=0.1, train_param=1 .....................................\n",
      "Reservoir Computing algorithm - Training phase:\n",
      "\n",
      "Initialization complete. \t\tElapsed time: 1.9248487949371338 s\n"
     ]
    },
    {
     "data": {
      "application/vnd.jupyter.widget-view+json": {
       "model_id": "755ca5aa01ee48e0980d1d71f8435faa",
       "version_major": 2,
       "version_minor": 0
      },
      "text/plain": [
       "HBox(children=(IntProgress(value=0, description='reservoir construction', max=2000, style=ProgressStyle(descri…"
      ]
     },
     "metadata": {},
     "output_type": "display_data"
    },
    {
     "name": "stdout",
     "output_type": "stream",
     "text": [
      "\n",
      "Reservoir iterations complete. \t\tElapsed time: 3.922511339187622 s\n",
      "true_output.shape = (1, 1900, 18)\n",
      "(1, 1900, 4000)\n",
      "concat_states.shape = (1900, 4000)\n",
      "y.shape = (1900, 18)\n",
      "Training complete. \t\t\tElapsed time: 0.26927995681762695 s\n",
      "Training score: 0.9998014446223993\n",
      "Reservoir Computing algorithm - Testing phase:\n",
      "\n",
      "Initialization complete. \t\tElapsed time: 0.003989219665527344 s\n"
     ]
    },
    {
     "data": {
      "application/vnd.jupyter.widget-view+json": {
       "model_id": "fbf77af6fdab432d9a379801f5789f73",
       "version_major": 2,
       "version_minor": 0
      },
      "text/plain": [
       "HBox(children=(IntProgress(value=0, description='reservoir update', max=300, style=ProgressStyle(description_w…"
      ]
     },
     "metadata": {},
     "output_type": "display_data"
    },
    {
     "data": {
      "application/vnd.jupyter.widget-view+json": {
       "model_id": "6a55b24d439d4fd48ab3cf310aea85a1",
       "version_major": 2,
       "version_minor": 0
      },
      "text/plain": [
       "HBox(children=(IntProgress(value=0, description='reservoir construction', max=700, style=ProgressStyle(descrip…"
      ]
     },
     "metadata": {},
     "output_type": "display_data"
    },
    {
     "name": "stdout",
     "output_type": "stream",
     "text": [
      "\n",
      "Reservoir iterations complete. \t\tElapsed time: 11.114280939102173 s\n",
      "Testing complete. \t\t\tElapsed time: 0.009990930557250977 s\n",
      "Testing score: 0.010531199957187628\n",
      "Reservoir Computing algorithm - Testing phase:\n",
      "\n",
      "Initialization complete. \t\tElapsed time: 0.0019876956939697266 s\n"
     ]
    },
    {
     "data": {
      "application/vnd.jupyter.widget-view+json": {
       "model_id": "88b46792f02644ca9d280d60b4dfc214",
       "version_major": 2,
       "version_minor": 0
      },
      "text/plain": [
       "HBox(children=(IntProgress(value=0, description='reservoir update', max=300, style=ProgressStyle(description_w…"
      ]
     },
     "metadata": {},
     "output_type": "display_data"
    },
    {
     "data": {
      "application/vnd.jupyter.widget-view+json": {
       "model_id": "3f22445deee346b28214805164f1e92b",
       "version_major": 2,
       "version_minor": 0
      },
      "text/plain": [
       "HBox(children=(IntProgress(value=0, description='reservoir construction', max=1700, style=ProgressStyle(descri…"
      ]
     },
     "metadata": {},
     "output_type": "display_data"
    },
    {
     "name": "stdout",
     "output_type": "stream",
     "text": [
      "\n",
      "Reservoir iterations complete. \t\tElapsed time: 12.847617149353027 s\n",
      "Testing complete. \t\t\tElapsed time: 0.011968612670898438 s\n",
      "Testing score: 0.0423593408144573\n",
      "[CV] ...................... k=1, rho=0.1, train_param=1, total=  19.0s\n",
      "[CV] k=1, rho=0.1, train_param=10.0 ..................................\n",
      "Reservoir Computing algorithm - Training phase:\n",
      "\n",
      "Initialization complete. \t\tElapsed time: 1.9298088550567627 s\n"
     ]
    },
    {
     "data": {
      "application/vnd.jupyter.widget-view+json": {
       "model_id": "fbffd5fac0004e4cba3dcce7437b5c13",
       "version_major": 2,
       "version_minor": 0
      },
      "text/plain": [
       "HBox(children=(IntProgress(value=0, description='reservoir construction', max=2000, style=ProgressStyle(descri…"
      ]
     },
     "metadata": {},
     "output_type": "display_data"
    },
    {
     "name": "stdout",
     "output_type": "stream",
     "text": [
      "\n",
      "Reservoir iterations complete. \t\tElapsed time: 3.9115407466888428 s\n",
      "true_output.shape = (1, 1900, 18)\n",
      "(1, 1900, 4000)\n",
      "concat_states.shape = (1900, 4000)\n",
      "y.shape = (1900, 18)\n",
      "Training complete. \t\t\tElapsed time: 0.26628804206848145 s\n",
      "Training score: 0.9991876997076355\n",
      "Reservoir Computing algorithm - Testing phase:\n",
      "\n",
      "Initialization complete. \t\tElapsed time: 0.002995014190673828 s\n"
     ]
    },
    {
     "data": {
      "application/vnd.jupyter.widget-view+json": {
       "model_id": "782dc1dc07e4412ab7aff6a35e1c722b",
       "version_major": 2,
       "version_minor": 0
      },
      "text/plain": [
       "HBox(children=(IntProgress(value=0, description='reservoir update', max=300, style=ProgressStyle(description_w…"
      ]
     },
     "metadata": {},
     "output_type": "display_data"
    },
    {
     "data": {
      "application/vnd.jupyter.widget-view+json": {
       "model_id": "abc89d15f6fa412c85a56c81d67702a5",
       "version_major": 2,
       "version_minor": 0
      },
      "text/plain": [
       "HBox(children=(IntProgress(value=0, description='reservoir construction', max=700, style=ProgressStyle(descrip…"
      ]
     },
     "metadata": {},
     "output_type": "display_data"
    },
    {
     "name": "stdout",
     "output_type": "stream",
     "text": [
      "\n",
      "Reservoir iterations complete. \t\tElapsed time: 11.507227897644043 s\n",
      "Testing complete. \t\t\tElapsed time: 0.011968135833740234 s\n",
      "Testing score: 0.032673757347399746\n",
      "Reservoir Computing algorithm - Testing phase:\n",
      "\n",
      "Initialization complete. \t\tElapsed time: 0.0019729137420654297 s\n"
     ]
    },
    {
     "data": {
      "application/vnd.jupyter.widget-view+json": {
       "model_id": "673d9988561a4bcfa8824adeedc8c4ba",
       "version_major": 2,
       "version_minor": 0
      },
      "text/plain": [
       "HBox(children=(IntProgress(value=0, description='reservoir update', max=300, style=ProgressStyle(description_w…"
      ]
     },
     "metadata": {},
     "output_type": "display_data"
    },
    {
     "data": {
      "application/vnd.jupyter.widget-view+json": {
       "model_id": "b045d55daada47539dfdda767a39f05d",
       "version_major": 2,
       "version_minor": 0
      },
      "text/plain": [
       "HBox(children=(IntProgress(value=0, description='reservoir construction', max=1700, style=ProgressStyle(descri…"
      ]
     },
     "metadata": {},
     "output_type": "display_data"
    },
    {
     "name": "stdout",
     "output_type": "stream",
     "text": [
      "\n",
      "Reservoir iterations complete. \t\tElapsed time: 14.055388450622559 s\n",
      "Testing complete. \t\t\tElapsed time: 0.011966943740844727 s\n",
      "Testing score: 0.00013142411707497905\n",
      "[CV] ................... k=1, rho=0.1, train_param=10.0, total=  19.5s\n",
      "[CV] k=1, rho=0.1, train_param=10.0 ..................................\n",
      "Reservoir Computing algorithm - Training phase:\n",
      "\n",
      "Initialization complete. \t\tElapsed time: 1.96274995803833 s\n"
     ]
    },
    {
     "data": {
      "application/vnd.jupyter.widget-view+json": {
       "model_id": "148c0ed83e90495c98ac8827a5f581ad",
       "version_major": 2,
       "version_minor": 0
      },
      "text/plain": [
       "HBox(children=(IntProgress(value=0, description='reservoir construction', max=2000, style=ProgressStyle(descri…"
      ]
     },
     "metadata": {},
     "output_type": "display_data"
    },
    {
     "name": "stdout",
     "output_type": "stream",
     "text": [
      "\n",
      "Reservoir iterations complete. \t\tElapsed time: 4.043188571929932 s\n",
      "true_output.shape = (1, 1900, 18)\n",
      "(1, 1900, 4000)\n",
      "concat_states.shape = (1900, 4000)\n",
      "y.shape = (1900, 18)\n",
      "Training complete. \t\t\tElapsed time: 0.28025054931640625 s\n",
      "Training score: 0.99913047208998\n",
      "Reservoir Computing algorithm - Testing phase:\n",
      "\n",
      "Initialization complete. \t\tElapsed time: 0.002991199493408203 s\n"
     ]
    },
    {
     "data": {
      "application/vnd.jupyter.widget-view+json": {
       "model_id": "359c0c1e244745dca0788e98a6343fea",
       "version_major": 2,
       "version_minor": 0
      },
      "text/plain": [
       "HBox(children=(IntProgress(value=0, description='reservoir update', max=300, style=ProgressStyle(description_w…"
      ]
     },
     "metadata": {},
     "output_type": "display_data"
    },
    {
     "data": {
      "application/vnd.jupyter.widget-view+json": {
       "model_id": "07b01006dbd848d5a0da0f7768d0c625",
       "version_major": 2,
       "version_minor": 0
      },
      "text/plain": [
       "HBox(children=(IntProgress(value=0, description='reservoir construction', max=700, style=ProgressStyle(descrip…"
      ]
     },
     "metadata": {},
     "output_type": "display_data"
    },
    {
     "name": "stdout",
     "output_type": "stream",
     "text": [
      "\n",
      "Reservoir iterations complete. \t\tElapsed time: 11.731630802154541 s\n",
      "Testing complete. \t\t\tElapsed time: 0.015961408615112305 s\n",
      "Testing score: 0.04308807959512113\n",
      "Reservoir Computing algorithm - Testing phase:\n",
      "\n",
      "Initialization complete. \t\tElapsed time: 0.0009968280792236328 s\n"
     ]
    },
    {
     "data": {
      "application/vnd.jupyter.widget-view+json": {
       "model_id": "648161bf63b6494da58d21f4dad62cdc",
       "version_major": 2,
       "version_minor": 0
      },
      "text/plain": [
       "HBox(children=(IntProgress(value=0, description='reservoir update', max=300, style=ProgressStyle(description_w…"
      ]
     },
     "metadata": {},
     "output_type": "display_data"
    },
    {
     "data": {
      "application/vnd.jupyter.widget-view+json": {
       "model_id": "fba7bb6ef5ee42c099603e23eb483b37",
       "version_major": 2,
       "version_minor": 0
      },
      "text/plain": [
       "HBox(children=(IntProgress(value=0, description='reservoir construction', max=1700, style=ProgressStyle(descri…"
      ]
     },
     "metadata": {},
     "output_type": "display_data"
    },
    {
     "name": "stdout",
     "output_type": "stream",
     "text": [
      "\n",
      "Reservoir iterations complete. \t\tElapsed time: 13.679388046264648 s\n",
      "Testing complete. \t\t\tElapsed time: 0.011968135833740234 s\n",
      "Testing score: 0.004206392720504333\n",
      "[CV] ................... k=1, rho=0.1, train_param=10.0, total=  19.9s\n",
      "[CV] k=1, rho=0.1, train_param=10.0 ..................................\n",
      "Reservoir Computing algorithm - Training phase:\n",
      "\n",
      "Initialization complete. \t\tElapsed time: 1.8829636573791504 s\n"
     ]
    },
    {
     "data": {
      "application/vnd.jupyter.widget-view+json": {
       "model_id": "bfa906a2186649758fcce9ea6933147e",
       "version_major": 2,
       "version_minor": 0
      },
      "text/plain": [
       "HBox(children=(IntProgress(value=0, description='reservoir construction', max=2000, style=ProgressStyle(descri…"
      ]
     },
     "metadata": {},
     "output_type": "display_data"
    },
    {
     "name": "stdout",
     "output_type": "stream",
     "text": [
      "\n",
      "Reservoir iterations complete. \t\tElapsed time: 4.106020927429199 s\n",
      "true_output.shape = (1, 1900, 18)\n",
      "(1, 1900, 4000)\n",
      "concat_states.shape = (1900, 4000)\n",
      "y.shape = (1900, 18)\n",
      "Training complete. \t\t\tElapsed time: 0.29620814323425293 s\n",
      "Training score: 0.9997397461467246\n",
      "Reservoir Computing algorithm - Testing phase:\n",
      "\n",
      "Initialization complete. \t\tElapsed time: 0.003990888595581055 s\n"
     ]
    },
    {
     "data": {
      "application/vnd.jupyter.widget-view+json": {
       "model_id": "cdb74824c6e54c86962128af4ef369fe",
       "version_major": 2,
       "version_minor": 0
      },
      "text/plain": [
       "HBox(children=(IntProgress(value=0, description='reservoir update', max=300, style=ProgressStyle(description_w…"
      ]
     },
     "metadata": {},
     "output_type": "display_data"
    },
    {
     "data": {
      "application/vnd.jupyter.widget-view+json": {
       "model_id": "fed0cf204b2248279f9e85b1c3e9a2ef",
       "version_major": 2,
       "version_minor": 0
      },
      "text/plain": [
       "HBox(children=(IntProgress(value=0, description='reservoir construction', max=700, style=ProgressStyle(descrip…"
      ]
     },
     "metadata": {},
     "output_type": "display_data"
    },
    {
     "name": "stdout",
     "output_type": "stream",
     "text": [
      "\n",
      "Reservoir iterations complete. \t\tElapsed time: 12.231292724609375 s\n",
      "Testing complete. \t\t\tElapsed time: 0.010972976684570312 s\n",
      "Testing score: 0.0034133037362545915\n",
      "Reservoir Computing algorithm - Testing phase:\n",
      "\n",
      "Initialization complete. \t\tElapsed time: 0.0010266304016113281 s\n"
     ]
    },
    {
     "data": {
      "application/vnd.jupyter.widget-view+json": {
       "model_id": "c7b73e4eb8e54d7a9aa599d9c52a075e",
       "version_major": 2,
       "version_minor": 0
      },
      "text/plain": [
       "HBox(children=(IntProgress(value=0, description='reservoir update', max=300, style=ProgressStyle(description_w…"
      ]
     },
     "metadata": {},
     "output_type": "display_data"
    },
    {
     "data": {
      "application/vnd.jupyter.widget-view+json": {
       "model_id": "f5134cb63741412599089ab46b5f6a07",
       "version_major": 2,
       "version_minor": 0
      },
      "text/plain": [
       "HBox(children=(IntProgress(value=0, description='reservoir construction', max=1700, style=ProgressStyle(descri…"
      ]
     },
     "metadata": {},
     "output_type": "display_data"
    },
    {
     "name": "stdout",
     "output_type": "stream",
     "text": [
      "\n",
      "Reservoir iterations complete. \t\tElapsed time: 13.069024801254272 s\n",
      "Testing complete. \t\t\tElapsed time: 0.011970758438110352 s\n",
      "Testing score: 0.05607248083760283\n",
      "[CV] ................... k=1, rho=0.1, train_param=10.0, total=  20.3s\n",
      "[CV] k=1, rho=0.1, train_param=100.0 .................................\n",
      "Reservoir Computing algorithm - Training phase:\n",
      "\n",
      "Initialization complete. \t\tElapsed time: 1.9288415908813477 s\n"
     ]
    },
    {
     "data": {
      "application/vnd.jupyter.widget-view+json": {
       "model_id": "96cc5e2f76424afbb47020a87168de10",
       "version_major": 2,
       "version_minor": 0
      },
      "text/plain": [
       "HBox(children=(IntProgress(value=0, description='reservoir construction', max=2000, style=ProgressStyle(descri…"
      ]
     },
     "metadata": {},
     "output_type": "display_data"
    },
    {
     "name": "stdout",
     "output_type": "stream",
     "text": [
      "\n",
      "Reservoir iterations complete. \t\tElapsed time: 4.363332509994507 s\n",
      "true_output.shape = (1, 1900, 18)\n",
      "(1, 1900, 4000)\n",
      "concat_states.shape = (1900, 4000)\n",
      "y.shape = (1900, 18)\n",
      "Training complete. \t\t\tElapsed time: 0.2732691764831543 s\n",
      "Training score: 0.9988573347053393\n",
      "Reservoir Computing algorithm - Testing phase:\n",
      "\n",
      "Initialization complete. \t\tElapsed time: 0.0049877166748046875 s\n"
     ]
    },
    {
     "data": {
      "application/vnd.jupyter.widget-view+json": {
       "model_id": "5bf0c75efad1412e811503460447a9f3",
       "version_major": 2,
       "version_minor": 0
      },
      "text/plain": [
       "HBox(children=(IntProgress(value=0, description='reservoir update', max=300, style=ProgressStyle(description_w…"
      ]
     },
     "metadata": {},
     "output_type": "display_data"
    },
    {
     "data": {
      "application/vnd.jupyter.widget-view+json": {
       "model_id": "4fbbfa804abb4f6382626ff91d992599",
       "version_major": 2,
       "version_minor": 0
      },
      "text/plain": [
       "HBox(children=(IntProgress(value=0, description='reservoir construction', max=700, style=ProgressStyle(descrip…"
      ]
     },
     "metadata": {},
     "output_type": "display_data"
    },
    {
     "name": "stdout",
     "output_type": "stream",
     "text": [
      "\n",
      "Reservoir iterations complete. \t\tElapsed time: 12.666131496429443 s\n",
      "Testing complete. \t\t\tElapsed time: 0.010972261428833008 s\n",
      "Testing score: 0.010058792299126299\n",
      "Reservoir Computing algorithm - Testing phase:\n",
      "\n",
      "Initialization complete. \t\tElapsed time: 0.0010294914245605469 s\n"
     ]
    },
    {
     "data": {
      "application/vnd.jupyter.widget-view+json": {
       "model_id": "68f6f19c984d494f8f9b923f330c4d27",
       "version_major": 2,
       "version_minor": 0
      },
      "text/plain": [
       "HBox(children=(IntProgress(value=0, description='reservoir update', max=300, style=ProgressStyle(description_w…"
      ]
     },
     "metadata": {},
     "output_type": "display_data"
    },
    {
     "data": {
      "application/vnd.jupyter.widget-view+json": {
       "model_id": "905c36c811174531854a09669dca2388",
       "version_major": 2,
       "version_minor": 0
      },
      "text/plain": [
       "HBox(children=(IntProgress(value=0, description='reservoir construction', max=1700, style=ProgressStyle(descri…"
      ]
     },
     "metadata": {},
     "output_type": "display_data"
    },
    {
     "name": "stdout",
     "output_type": "stream",
     "text": [
      "\n",
      "Reservoir iterations complete. \t\tElapsed time: 13.659182071685791 s\n",
      "Testing complete. \t\t\tElapsed time: 0.011968135833740234 s\n",
      "Testing score: 0.0038288934485700586\n",
      "[CV] .................. k=1, rho=0.1, train_param=100.0, total=  21.1s\n",
      "[CV] k=1, rho=0.1, train_param=100.0 .................................\n",
      "Reservoir Computing algorithm - Training phase:\n",
      "\n",
      "Initialization complete. \t\tElapsed time: 1.8640141487121582 s\n"
     ]
    },
    {
     "data": {
      "application/vnd.jupyter.widget-view+json": {
       "model_id": "c74f6da7592f415a9de452694083a242",
       "version_major": 2,
       "version_minor": 0
      },
      "text/plain": [
       "HBox(children=(IntProgress(value=0, description='reservoir construction', max=2000, style=ProgressStyle(descri…"
      ]
     },
     "metadata": {},
     "output_type": "display_data"
    },
    {
     "name": "stdout",
     "output_type": "stream",
     "text": [
      "\n",
      "Reservoir iterations complete. \t\tElapsed time: 3.819786310195923 s\n",
      "true_output.shape = (1, 1900, 18)\n",
      "(1, 1900, 4000)\n",
      "concat_states.shape = (1900, 4000)\n",
      "y.shape = (1900, 18)\n",
      "Training complete. \t\t\tElapsed time: 0.29919981956481934 s\n",
      "Training score: 0.9988205826305743\n",
      "Reservoir Computing algorithm - Testing phase:\n",
      "\n",
      "Initialization complete. \t\tElapsed time: 0.003989458084106445 s\n"
     ]
    },
    {
     "data": {
      "application/vnd.jupyter.widget-view+json": {
       "model_id": "7ac446bd87cd4aeb8997714d2ec59c48",
       "version_major": 2,
       "version_minor": 0
      },
      "text/plain": [
       "HBox(children=(IntProgress(value=0, description='reservoir update', max=300, style=ProgressStyle(description_w…"
      ]
     },
     "metadata": {},
     "output_type": "display_data"
    },
    {
     "data": {
      "application/vnd.jupyter.widget-view+json": {
       "model_id": "d4f1f2e1ccbd4149aab5e75692188da1",
       "version_major": 2,
       "version_minor": 0
      },
      "text/plain": [
       "HBox(children=(IntProgress(value=0, description='reservoir construction', max=700, style=ProgressStyle(descrip…"
      ]
     },
     "metadata": {},
     "output_type": "display_data"
    },
    {
     "name": "stdout",
     "output_type": "stream",
     "text": [
      "\n",
      "Reservoir iterations complete. \t\tElapsed time: 10.863950729370117 s\n",
      "Testing complete. \t\t\tElapsed time: 0.009974956512451172 s\n",
      "Testing score: 0.021908958425886037\n",
      "Reservoir Computing algorithm - Testing phase:\n",
      "\n",
      "Initialization complete. \t\tElapsed time: 0.0019960403442382812 s\n"
     ]
    },
    {
     "data": {
      "application/vnd.jupyter.widget-view+json": {
       "model_id": "2f95e713b8eb4077851cfdf7cdf8a83d",
       "version_major": 2,
       "version_minor": 0
      },
      "text/plain": [
       "HBox(children=(IntProgress(value=0, description='reservoir update', max=300, style=ProgressStyle(description_w…"
      ]
     },
     "metadata": {},
     "output_type": "display_data"
    },
    {
     "data": {
      "application/vnd.jupyter.widget-view+json": {
       "model_id": "89cd0e6ec0ff4347953a1790642ad871",
       "version_major": 2,
       "version_minor": 0
      },
      "text/plain": [
       "HBox(children=(IntProgress(value=0, description='reservoir construction', max=1700, style=ProgressStyle(descri…"
      ]
     },
     "metadata": {},
     "output_type": "display_data"
    },
    {
     "name": "stdout",
     "output_type": "stream",
     "text": [
      "\n",
      "Reservoir iterations complete. \t\tElapsed time: 14.630847692489624 s\n",
      "Testing complete. \t\t\tElapsed time: 0.012966394424438477 s\n",
      "Testing score: 0.006341622809264779\n",
      "[CV] .................. k=1, rho=0.1, train_param=100.0, total=  18.6s\n",
      "[CV] k=1, rho=0.1, train_param=100.0 .................................\n",
      "Reservoir Computing algorithm - Training phase:\n",
      "\n",
      "Initialization complete. \t\tElapsed time: 1.8779757022857666 s\n"
     ]
    },
    {
     "data": {
      "application/vnd.jupyter.widget-view+json": {
       "model_id": "5a39894acfc247b1bda55dafe68aca6a",
       "version_major": 2,
       "version_minor": 0
      },
      "text/plain": [
       "HBox(children=(IntProgress(value=0, description='reservoir construction', max=2000, style=ProgressStyle(descri…"
      ]
     },
     "metadata": {},
     "output_type": "display_data"
    },
    {
     "name": "stdout",
     "output_type": "stream",
     "text": [
      "\n",
      "Reservoir iterations complete. \t\tElapsed time: 4.019252300262451 s\n",
      "true_output.shape = (1, 1900, 18)\n",
      "(1, 1900, 4000)\n",
      "concat_states.shape = (1900, 4000)\n",
      "y.shape = (1900, 18)\n",
      "Training complete. \t\t\tElapsed time: 0.2712745666503906 s\n",
      "Training score: 0.9994482141277792\n",
      "Reservoir Computing algorithm - Testing phase:\n",
      "\n",
      "Initialization complete. \t\tElapsed time: 0.003984928131103516 s\n"
     ]
    },
    {
     "data": {
      "application/vnd.jupyter.widget-view+json": {
       "model_id": "3b6a3cc31dbd4bf5b62c3e850fcd185b",
       "version_major": 2,
       "version_minor": 0
      },
      "text/plain": [
       "HBox(children=(IntProgress(value=0, description='reservoir update', max=300, style=ProgressStyle(description_w…"
      ]
     },
     "metadata": {},
     "output_type": "display_data"
    },
    {
     "data": {
      "application/vnd.jupyter.widget-view+json": {
       "model_id": "f0b1ef145655487eac691f88b5b60946",
       "version_major": 2,
       "version_minor": 0
      },
      "text/plain": [
       "HBox(children=(IntProgress(value=0, description='reservoir construction', max=700, style=ProgressStyle(descrip…"
      ]
     },
     "metadata": {},
     "output_type": "display_data"
    },
    {
     "name": "stdout",
     "output_type": "stream",
     "text": [
      "\n",
      "Reservoir iterations complete. \t\tElapsed time: 10.946728467941284 s\n",
      "Testing complete. \t\t\tElapsed time: 0.01097416877746582 s\n",
      "Testing score: 0.00942617587660133\n",
      "Reservoir Computing algorithm - Testing phase:\n",
      "\n",
      "Initialization complete. \t\tElapsed time: 0.0010037422180175781 s\n"
     ]
    },
    {
     "data": {
      "application/vnd.jupyter.widget-view+json": {
       "model_id": "4dfa5ebe0c4a4b949dff87751e4c1f62",
       "version_major": 2,
       "version_minor": 0
      },
      "text/plain": [
       "HBox(children=(IntProgress(value=0, description='reservoir update', max=300, style=ProgressStyle(description_w…"
      ]
     },
     "metadata": {},
     "output_type": "display_data"
    },
    {
     "data": {
      "application/vnd.jupyter.widget-view+json": {
       "model_id": "ebf27cd17fad48ad83aaa5a2dac061a1",
       "version_major": 2,
       "version_minor": 0
      },
      "text/plain": [
       "HBox(children=(IntProgress(value=0, description='reservoir construction', max=1700, style=ProgressStyle(descri…"
      ]
     },
     "metadata": {},
     "output_type": "display_data"
    },
    {
     "name": "stdout",
     "output_type": "stream",
     "text": [
      "\n",
      "Reservoir iterations complete. \t\tElapsed time: 12.629194974899292 s\n",
      "Testing complete. \t\t\tElapsed time: 0.010975122451782227 s\n",
      "Testing score: 0.04981081314329672\n",
      "[CV] .................. k=1, rho=0.1, train_param=100.0, total=  18.9s\n",
      "[CV] k=1, rho=0.1, train_param=1000.0 ................................\n",
      "Reservoir Computing algorithm - Training phase:\n",
      "\n",
      "Initialization complete. \t\tElapsed time: 1.8979227542877197 s\n"
     ]
    },
    {
     "data": {
      "application/vnd.jupyter.widget-view+json": {
       "model_id": "df48c1027a754243a3592c1716ac2625",
       "version_major": 2,
       "version_minor": 0
      },
      "text/plain": [
       "HBox(children=(IntProgress(value=0, description='reservoir construction', max=2000, style=ProgressStyle(descri…"
      ]
     },
     "metadata": {},
     "output_type": "display_data"
    },
    {
     "name": "stdout",
     "output_type": "stream",
     "text": [
      "\n",
      "Reservoir iterations complete. \t\tElapsed time: 3.7390029430389404 s\n",
      "true_output.shape = (1, 1900, 18)\n",
      "(1, 1900, 4000)\n",
      "concat_states.shape = (1900, 4000)\n",
      "y.shape = (1900, 18)\n",
      "Training complete. \t\t\tElapsed time: 0.2652900218963623 s\n",
      "Training score: 0.9970712194511158\n",
      "Reservoir Computing algorithm - Testing phase:\n",
      "\n",
      "Initialization complete. \t\tElapsed time: 0.003988027572631836 s\n"
     ]
    },
    {
     "data": {
      "application/vnd.jupyter.widget-view+json": {
       "model_id": "d44791679d3844d189b52dea951a418d",
       "version_major": 2,
       "version_minor": 0
      },
      "text/plain": [
       "HBox(children=(IntProgress(value=0, description='reservoir update', max=300, style=ProgressStyle(description_w…"
      ]
     },
     "metadata": {},
     "output_type": "display_data"
    },
    {
     "data": {
      "application/vnd.jupyter.widget-view+json": {
       "model_id": "ed104b2b5b534e75b53c4f6748c759a1",
       "version_major": 2,
       "version_minor": 0
      },
      "text/plain": [
       "HBox(children=(IntProgress(value=0, description='reservoir construction', max=700, style=ProgressStyle(descrip…"
      ]
     },
     "metadata": {},
     "output_type": "display_data"
    },
    {
     "name": "stdout",
     "output_type": "stream",
     "text": [
      "\n",
      "Reservoir iterations complete. \t\tElapsed time: 10.779177188873291 s\n",
      "Testing complete. \t\t\tElapsed time: 0.011969804763793945 s\n",
      "Testing score: 0.05860422496111858\n",
      "Reservoir Computing algorithm - Testing phase:\n",
      "\n",
      "Initialization complete. \t\tElapsed time: 0.0009982585906982422 s\n"
     ]
    },
    {
     "data": {
      "application/vnd.jupyter.widget-view+json": {
       "model_id": "439f4b7b263c48148796cf2e5a08cda5",
       "version_major": 2,
       "version_minor": 0
      },
      "text/plain": [
       "HBox(children=(IntProgress(value=0, description='reservoir update', max=300, style=ProgressStyle(description_w…"
      ]
     },
     "metadata": {},
     "output_type": "display_data"
    },
    {
     "data": {
      "application/vnd.jupyter.widget-view+json": {
       "model_id": "7da02a28f46948f19303e90104dbfe67",
       "version_major": 2,
       "version_minor": 0
      },
      "text/plain": [
       "HBox(children=(IntProgress(value=0, description='reservoir construction', max=1700, style=ProgressStyle(descri…"
      ]
     },
     "metadata": {},
     "output_type": "display_data"
    },
    {
     "name": "stdout",
     "output_type": "stream",
     "text": [
      "\n",
      "Reservoir iterations complete. \t\tElapsed time: 12.585346698760986 s\n",
      "Testing complete. \t\t\tElapsed time: 0.012966156005859375 s\n",
      "Testing score: 4.195434521282561e-06\n",
      "[CV] ................. k=1, rho=0.1, train_param=1000.0, total=  18.4s\n",
      "[CV] k=1, rho=0.1, train_param=1000.0 ................................\n",
      "Reservoir Computing algorithm - Training phase:\n",
      "\n",
      "Initialization complete. \t\tElapsed time: 1.8510489463806152 s\n"
     ]
    },
    {
     "data": {
      "application/vnd.jupyter.widget-view+json": {
       "model_id": "3c79fbad8ccd404a9721f541ef40af73",
       "version_major": 2,
       "version_minor": 0
      },
      "text/plain": [
       "HBox(children=(IntProgress(value=0, description='reservoir construction', max=2000, style=ProgressStyle(descri…"
      ]
     },
     "metadata": {},
     "output_type": "display_data"
    },
    {
     "name": "stdout",
     "output_type": "stream",
     "text": [
      "\n",
      "Reservoir iterations complete. \t\tElapsed time: 3.765930652618408 s\n",
      "true_output.shape = (1, 1900, 18)\n",
      "(1, 1900, 4000)\n",
      "concat_states.shape = (1900, 4000)\n",
      "y.shape = (1900, 18)\n",
      "Training complete. \t\t\tElapsed time: 0.26927947998046875 s\n",
      "Training score: 0.9969806547597931\n",
      "Reservoir Computing algorithm - Testing phase:\n",
      "\n",
      "Initialization complete. \t\tElapsed time: 0.003989219665527344 s\n"
     ]
    },
    {
     "data": {
      "application/vnd.jupyter.widget-view+json": {
       "model_id": "5da6fa84540f4591893be5309c269d88",
       "version_major": 2,
       "version_minor": 0
      },
      "text/plain": [
       "HBox(children=(IntProgress(value=0, description='reservoir update', max=300, style=ProgressStyle(description_w…"
      ]
     },
     "metadata": {},
     "output_type": "display_data"
    },
    {
     "data": {
      "application/vnd.jupyter.widget-view+json": {
       "model_id": "72519a7de4014416a81ff81f0842cb60",
       "version_major": 2,
       "version_minor": 0
      },
      "text/plain": [
       "HBox(children=(IntProgress(value=0, description='reservoir construction', max=700, style=ProgressStyle(descrip…"
      ]
     },
     "metadata": {},
     "output_type": "display_data"
    },
    {
     "name": "stdout",
     "output_type": "stream",
     "text": [
      "\n",
      "Reservoir iterations complete. \t\tElapsed time: 10.798126935958862 s\n",
      "Testing complete. \t\t\tElapsed time: 0.010971307754516602 s\n",
      "Testing score: 0.03106608825523511\n",
      "Reservoir Computing algorithm - Testing phase:\n",
      "\n",
      "Initialization complete. \t\tElapsed time: 0.001987934112548828 s\n"
     ]
    },
    {
     "data": {
      "application/vnd.jupyter.widget-view+json": {
       "model_id": "94b2e8b5085343fcaeab52fcddd51b8a",
       "version_major": 2,
       "version_minor": 0
      },
      "text/plain": [
       "HBox(children=(IntProgress(value=0, description='reservoir update', max=300, style=ProgressStyle(description_w…"
      ]
     },
     "metadata": {},
     "output_type": "display_data"
    },
    {
     "data": {
      "application/vnd.jupyter.widget-view+json": {
       "model_id": "94c363f7db9042679a35628d20642e84",
       "version_major": 2,
       "version_minor": 0
      },
      "text/plain": [
       "HBox(children=(IntProgress(value=0, description='reservoir construction', max=1700, style=ProgressStyle(descri…"
      ]
     },
     "metadata": {},
     "output_type": "display_data"
    },
    {
     "name": "stdout",
     "output_type": "stream",
     "text": [
      "\n",
      "Reservoir iterations complete. \t\tElapsed time: 12.557392358779907 s\n",
      "Testing complete. \t\t\tElapsed time: 0.011969566345214844 s\n",
      "Testing score: 2.4722572249979222e-05\n",
      "[CV] ................. k=1, rho=0.1, train_param=1000.0, total=  18.4s\n",
      "[CV] k=1, rho=0.1, train_param=1000.0 ................................\n",
      "Reservoir Computing algorithm - Training phase:\n",
      "\n",
      "Initialization complete. \t\tElapsed time: 1.8809692859649658 s\n"
     ]
    },
    {
     "data": {
      "application/vnd.jupyter.widget-view+json": {
       "model_id": "bb793b5ba9414d07bd045be3186af0a2",
       "version_major": 2,
       "version_minor": 0
      },
      "text/plain": [
       "HBox(children=(IntProgress(value=0, description='reservoir construction', max=2000, style=ProgressStyle(descri…"
      ]
     },
     "metadata": {},
     "output_type": "display_data"
    },
    {
     "name": "stdout",
     "output_type": "stream",
     "text": [
      "\n",
      "Reservoir iterations complete. \t\tElapsed time: 3.7918612957000732 s\n",
      "true_output.shape = (1, 1900, 18)\n",
      "(1, 1900, 4000)\n",
      "concat_states.shape = (1900, 4000)\n",
      "y.shape = (1900, 18)\n",
      "Training complete. \t\t\tElapsed time: 0.262298583984375 s\n",
      "Training score: 0.9975500209646448\n",
      "Reservoir Computing algorithm - Testing phase:\n",
      "\n",
      "Initialization complete. \t\tElapsed time: 0.003988742828369141 s\n"
     ]
    },
    {
     "data": {
      "application/vnd.jupyter.widget-view+json": {
       "model_id": "9e181f9f9ed445ada52422fe77ce3e53",
       "version_major": 2,
       "version_minor": 0
      },
      "text/plain": [
       "HBox(children=(IntProgress(value=0, description='reservoir update', max=300, style=ProgressStyle(description_w…"
      ]
     },
     "metadata": {},
     "output_type": "display_data"
    },
    {
     "data": {
      "application/vnd.jupyter.widget-view+json": {
       "model_id": "abf963477e0549358612819dfa454225",
       "version_major": 2,
       "version_minor": 0
      },
      "text/plain": [
       "HBox(children=(IntProgress(value=0, description='reservoir construction', max=700, style=ProgressStyle(descrip…"
      ]
     },
     "metadata": {},
     "output_type": "display_data"
    },
    {
     "name": "stdout",
     "output_type": "stream",
     "text": [
      "\n",
      "Reservoir iterations complete. \t\tElapsed time: 11.074387550354004 s\n",
      "Testing complete. \t\t\tElapsed time: 0.010975360870361328 s\n",
      "Testing score: 0.00789916050403351\n",
      "Reservoir Computing algorithm - Testing phase:\n",
      "\n",
      "Initialization complete. \t\tElapsed time: 0.0019991397857666016 s\n"
     ]
    },
    {
     "data": {
      "application/vnd.jupyter.widget-view+json": {
       "model_id": "5edeab6df0624d6dbc48a5f2f81ada5c",
       "version_major": 2,
       "version_minor": 0
      },
      "text/plain": [
       "HBox(children=(IntProgress(value=0, description='reservoir update', max=300, style=ProgressStyle(description_w…"
      ]
     },
     "metadata": {},
     "output_type": "display_data"
    },
    {
     "data": {
      "application/vnd.jupyter.widget-view+json": {
       "model_id": "6b45f74fce884f4ca8b8ff6f0f64b702",
       "version_major": 2,
       "version_minor": 0
      },
      "text/plain": [
       "HBox(children=(IntProgress(value=0, description='reservoir construction', max=1700, style=ProgressStyle(descri…"
      ]
     },
     "metadata": {},
     "output_type": "display_data"
    },
    {
     "name": "stdout",
     "output_type": "stream",
     "text": [
      "\n",
      "Reservoir iterations complete. \t\tElapsed time: 13.065059661865234 s\n",
      "Testing complete. \t\t\tElapsed time: 0.011981964111328125 s\n",
      "Testing score: 0.009709745233866073\n",
      "[CV] ................. k=1, rho=0.1, train_param=1000.0, total=  18.7s\n",
      "[CV] k=1, rho=0.4, train_param=1 .....................................\n",
      "Reservoir Computing algorithm - Training phase:\n",
      "\n",
      "Initialization complete. \t\tElapsed time: 1.8570334911346436 s\n"
     ]
    },
    {
     "data": {
      "application/vnd.jupyter.widget-view+json": {
       "model_id": "490b614580784d01a8461271e2c04fd9",
       "version_major": 2,
       "version_minor": 0
      },
      "text/plain": [
       "HBox(children=(IntProgress(value=0, description='reservoir construction', max=2000, style=ProgressStyle(descri…"
      ]
     },
     "metadata": {},
     "output_type": "display_data"
    },
    {
     "name": "stdout",
     "output_type": "stream",
     "text": [
      "\n",
      "Reservoir iterations complete. \t\tElapsed time: 3.82277774810791 s\n",
      "true_output.shape = (1, 1900, 18)\n",
      "(1, 1900, 4000)\n",
      "concat_states.shape = (1900, 4000)\n",
      "y.shape = (1900, 18)\n",
      "Training complete. \t\t\tElapsed time: 0.2702767848968506 s\n",
      "Training score: 0.9993091293056665\n",
      "Reservoir Computing algorithm - Testing phase:\n",
      "\n",
      "Initialization complete. \t\tElapsed time: 0.0029921531677246094 s\n"
     ]
    },
    {
     "data": {
      "application/vnd.jupyter.widget-view+json": {
       "model_id": "8d9a512b04fd4e17b2799b08bd7dbe07",
       "version_major": 2,
       "version_minor": 0
      },
      "text/plain": [
       "HBox(children=(IntProgress(value=0, description='reservoir update', max=300, style=ProgressStyle(description_w…"
      ]
     },
     "metadata": {},
     "output_type": "display_data"
    },
    {
     "data": {
      "application/vnd.jupyter.widget-view+json": {
       "model_id": "4842e291c9214282ae4c3c6a96397532",
       "version_major": 2,
       "version_minor": 0
      },
      "text/plain": [
       "HBox(children=(IntProgress(value=0, description='reservoir construction', max=700, style=ProgressStyle(descrip…"
      ]
     },
     "metadata": {},
     "output_type": "display_data"
    },
    {
     "name": "stdout",
     "output_type": "stream",
     "text": [
      "\n",
      "Reservoir iterations complete. \t\tElapsed time: 10.93974757194519 s\n",
      "Testing complete. \t\t\tElapsed time: 0.011969804763793945 s\n",
      "Testing score: 0.0016726358093571074\n",
      "Reservoir Computing algorithm - Testing phase:\n",
      "\n",
      "Initialization complete. \t\tElapsed time: 0.0009679794311523438 s\n"
     ]
    },
    {
     "data": {
      "application/vnd.jupyter.widget-view+json": {
       "model_id": "9d2610012fdc42ee85644f83fcfb6d96",
       "version_major": 2,
       "version_minor": 0
      },
      "text/plain": [
       "HBox(children=(IntProgress(value=0, description='reservoir update', max=300, style=ProgressStyle(description_w…"
      ]
     },
     "metadata": {},
     "output_type": "display_data"
    },
    {
     "data": {
      "application/vnd.jupyter.widget-view+json": {
       "model_id": "69e6532208de4a6c92900b781297af11",
       "version_major": 2,
       "version_minor": 0
      },
      "text/plain": [
       "HBox(children=(IntProgress(value=0, description='reservoir construction', max=1700, style=ProgressStyle(descri…"
      ]
     },
     "metadata": {},
     "output_type": "display_data"
    },
    {
     "name": "stdout",
     "output_type": "stream",
     "text": [
      "\n",
      "Reservoir iterations complete. \t\tElapsed time: 12.584349632263184 s\n",
      "Testing complete. \t\t\tElapsed time: 0.011969566345214844 s\n",
      "Testing score: 0.006291415252855107\n",
      "[CV] ...................... k=1, rho=0.4, train_param=1, total=  18.6s\n",
      "[CV] k=1, rho=0.4, train_param=1 .....................................\n",
      "Reservoir Computing algorithm - Training phase:\n",
      "\n",
      "Initialization complete. \t\tElapsed time: 1.8759829998016357 s\n"
     ]
    },
    {
     "data": {
      "application/vnd.jupyter.widget-view+json": {
       "model_id": "f0642d14a9584c93a523b790717c3504",
       "version_major": 2,
       "version_minor": 0
      },
      "text/plain": [
       "HBox(children=(IntProgress(value=0, description='reservoir construction', max=2000, style=ProgressStyle(descri…"
      ]
     },
     "metadata": {},
     "output_type": "display_data"
    },
    {
     "name": "stdout",
     "output_type": "stream",
     "text": [
      "\n",
      "Reservoir iterations complete. \t\tElapsed time: 3.7589480876922607 s\n",
      "true_output.shape = (1, 1900, 18)\n",
      "(1, 1900, 4000)\n",
      "concat_states.shape = (1900, 4000)\n",
      "y.shape = (1900, 18)\n",
      "Training complete. \t\t\tElapsed time: 0.262298583984375 s\n",
      "Training score: 0.9992516441249369\n",
      "Reservoir Computing algorithm - Testing phase:\n",
      "\n",
      "Initialization complete. \t\tElapsed time: 0.003990888595581055 s\n"
     ]
    },
    {
     "data": {
      "application/vnd.jupyter.widget-view+json": {
       "model_id": "c34a3934ace04aa692297304c727546f",
       "version_major": 2,
       "version_minor": 0
      },
      "text/plain": [
       "HBox(children=(IntProgress(value=0, description='reservoir update', max=300, style=ProgressStyle(description_w…"
      ]
     },
     "metadata": {},
     "output_type": "display_data"
    },
    {
     "data": {
      "application/vnd.jupyter.widget-view+json": {
       "model_id": "7053e774aaa9413c8f931828f8721779",
       "version_major": 2,
       "version_minor": 0
      },
      "text/plain": [
       "HBox(children=(IntProgress(value=0, description='reservoir construction', max=700, style=ProgressStyle(descrip…"
      ]
     },
     "metadata": {},
     "output_type": "display_data"
    },
    {
     "name": "stdout",
     "output_type": "stream",
     "text": [
      "\n",
      "Reservoir iterations complete. \t\tElapsed time: 10.866941213607788 s\n",
      "Testing complete. \t\t\tElapsed time: 0.011968851089477539 s\n",
      "Testing score: 0.01993141950227124\n",
      "Reservoir Computing algorithm - Testing phase:\n",
      "\n",
      "Initialization complete. \t\tElapsed time: 0.001994609832763672 s\n"
     ]
    },
    {
     "data": {
      "application/vnd.jupyter.widget-view+json": {
       "model_id": "99919d510f5343b48f566bdc6f9ffb50",
       "version_major": 2,
       "version_minor": 0
      },
      "text/plain": [
       "HBox(children=(IntProgress(value=0, description='reservoir update', max=300, style=ProgressStyle(description_w…"
      ]
     },
     "metadata": {},
     "output_type": "display_data"
    },
    {
     "data": {
      "application/vnd.jupyter.widget-view+json": {
       "model_id": "2a28b10e49284ca6aaf963cfe7d1ab57",
       "version_major": 2,
       "version_minor": 0
      },
      "text/plain": [
       "HBox(children=(IntProgress(value=0, description='reservoir construction', max=1700, style=ProgressStyle(descri…"
      ]
     },
     "metadata": {},
     "output_type": "display_data"
    },
    {
     "name": "stdout",
     "output_type": "stream",
     "text": [
      "\n",
      "Reservoir iterations complete. \t\tElapsed time: 12.552435398101807 s\n",
      "Testing complete. \t\t\tElapsed time: 0.0109710693359375 s\n",
      "Testing score: 0.07426207384146276\n",
      "[CV] ...................... k=1, rho=0.4, train_param=1, total=  18.5s\n",
      "[CV] k=1, rho=0.4, train_param=1 .....................................\n",
      "Reservoir Computing algorithm - Training phase:\n",
      "\n",
      "Initialization complete. \t\tElapsed time: 1.8340659141540527 s\n"
     ]
    },
    {
     "data": {
      "application/vnd.jupyter.widget-view+json": {
       "model_id": "6c0064d42d7b40418a75219d4cfaddfa",
       "version_major": 2,
       "version_minor": 0
      },
      "text/plain": [
       "HBox(children=(IntProgress(value=0, description='reservoir construction', max=2000, style=ProgressStyle(descri…"
      ]
     },
     "metadata": {},
     "output_type": "display_data"
    },
    {
     "name": "stdout",
     "output_type": "stream",
     "text": [
      "\n",
      "Reservoir iterations complete. \t\tElapsed time: 3.9464476108551025 s\n",
      "true_output.shape = (1, 1900, 18)\n",
      "(1, 1900, 4000)\n",
      "concat_states.shape = (1900, 4000)\n",
      "y.shape = (1900, 18)\n",
      "Training complete. \t\t\tElapsed time: 0.27426624298095703 s\n",
      "Training score: 0.9998080106600039\n",
      "Reservoir Computing algorithm - Testing phase:\n",
      "\n",
      "Initialization complete. \t\tElapsed time: 0.003988981246948242 s\n"
     ]
    },
    {
     "data": {
      "application/vnd.jupyter.widget-view+json": {
       "model_id": "365384b01b594b7bbc5e316e26ce71a8",
       "version_major": 2,
       "version_minor": 0
      },
      "text/plain": [
       "HBox(children=(IntProgress(value=0, description='reservoir update', max=300, style=ProgressStyle(description_w…"
      ]
     },
     "metadata": {},
     "output_type": "display_data"
    },
    {
     "data": {
      "application/vnd.jupyter.widget-view+json": {
       "model_id": "71abb016785d4525ab3235a2abeaa573",
       "version_major": 2,
       "version_minor": 0
      },
      "text/plain": [
       "HBox(children=(IntProgress(value=0, description='reservoir construction', max=700, style=ProgressStyle(descrip…"
      ]
     },
     "metadata": {},
     "output_type": "display_data"
    },
    {
     "name": "stdout",
     "output_type": "stream",
     "text": [
      "\n",
      "Reservoir iterations complete. \t\tElapsed time: 11.707694292068481 s\n",
      "Testing complete. \t\t\tElapsed time: 0.01197052001953125 s\n",
      "Testing score: 0.0012756415401770104\n",
      "Reservoir Computing algorithm - Testing phase:\n",
      "\n",
      "Initialization complete. \t\tElapsed time: 0.0019559860229492188 s\n"
     ]
    },
    {
     "data": {
      "application/vnd.jupyter.widget-view+json": {
       "model_id": "bffa37b14f4f40b6b2f60c26f24aa737",
       "version_major": 2,
       "version_minor": 0
      },
      "text/plain": [
       "HBox(children=(IntProgress(value=0, description='reservoir update', max=300, style=ProgressStyle(description_w…"
      ]
     },
     "metadata": {},
     "output_type": "display_data"
    },
    {
     "data": {
      "application/vnd.jupyter.widget-view+json": {
       "model_id": "5f64a2032cd74a61addf7ec2693e5a13",
       "version_major": 2,
       "version_minor": 0
      },
      "text/plain": [
       "HBox(children=(IntProgress(value=0, description='reservoir construction', max=1700, style=ProgressStyle(descri…"
      ]
     },
     "metadata": {},
     "output_type": "display_data"
    },
    {
     "name": "stdout",
     "output_type": "stream",
     "text": [
      "\n",
      "Reservoir iterations complete. \t\tElapsed time: 14.271838426589966 s\n",
      "Testing complete. \t\t\tElapsed time: 0.011968612670898438 s\n",
      "Testing score: 1.0850092371417844e-08\n",
      "[CV] ...................... k=1, rho=0.4, train_param=1, total=  19.6s\n",
      "[CV] k=1, rho=0.4, train_param=10.0 ..................................\n",
      "Reservoir Computing algorithm - Training phase:\n",
      "\n",
      "Initialization complete. \t\tElapsed time: 2.365673303604126 s\n"
     ]
    },
    {
     "data": {
      "application/vnd.jupyter.widget-view+json": {
       "model_id": "f0272c76a5e14ca3be22f5d8e932ce46",
       "version_major": 2,
       "version_minor": 0
      },
      "text/plain": [
       "HBox(children=(IntProgress(value=0, description='reservoir construction', max=2000, style=ProgressStyle(descri…"
      ]
     },
     "metadata": {},
     "output_type": "display_data"
    },
    {
     "name": "stdout",
     "output_type": "stream",
     "text": [
      "\n",
      "Reservoir iterations complete. \t\tElapsed time: 4.061141014099121 s\n",
      "true_output.shape = (1, 1900, 18)\n",
      "(1, 1900, 4000)\n",
      "concat_states.shape = (1900, 4000)\n",
      "y.shape = (1900, 18)\n",
      "Training complete. \t\t\tElapsed time: 0.2792530059814453 s\n",
      "Training score: 0.9992049621645483\n",
      "Reservoir Computing algorithm - Testing phase:\n",
      "\n",
      "Initialization complete. \t\tElapsed time: 0.0049860477447509766 s\n"
     ]
    },
    {
     "data": {
      "application/vnd.jupyter.widget-view+json": {
       "model_id": "f83f6e45b09c422cbc5d3d5c374daf18",
       "version_major": 2,
       "version_minor": 0
      },
      "text/plain": [
       "HBox(children=(IntProgress(value=0, description='reservoir update', max=300, style=ProgressStyle(description_w…"
      ]
     },
     "metadata": {},
     "output_type": "display_data"
    },
    {
     "data": {
      "application/vnd.jupyter.widget-view+json": {
       "model_id": "bbaa860307c947078a6730e2d844f032",
       "version_major": 2,
       "version_minor": 0
      },
      "text/plain": [
       "HBox(children=(IntProgress(value=0, description='reservoir construction', max=700, style=ProgressStyle(descrip…"
      ]
     },
     "metadata": {},
     "output_type": "display_data"
    },
    {
     "name": "stdout",
     "output_type": "stream",
     "text": [
      "\n",
      "Reservoir iterations complete. \t\tElapsed time: 12.003902912139893 s\n",
      "Testing complete. \t\t\tElapsed time: 0.01097249984741211 s\n",
      "Testing score: 0.00946425683051008\n",
      "Reservoir Computing algorithm - Testing phase:\n",
      "\n",
      "Initialization complete. \t\tElapsed time: 0.0009555816650390625 s\n"
     ]
    },
    {
     "data": {
      "application/vnd.jupyter.widget-view+json": {
       "model_id": "788fc26d92d44f5b89e3fca573dc9a47",
       "version_major": 2,
       "version_minor": 0
      },
      "text/plain": [
       "HBox(children=(IntProgress(value=0, description='reservoir update', max=300, style=ProgressStyle(description_w…"
      ]
     },
     "metadata": {},
     "output_type": "display_data"
    },
    {
     "data": {
      "application/vnd.jupyter.widget-view+json": {
       "model_id": "9002311462dd4bfba9729cd67f5d09b0",
       "version_major": 2,
       "version_minor": 0
      },
      "text/plain": [
       "HBox(children=(IntProgress(value=0, description='reservoir construction', max=1700, style=ProgressStyle(descri…"
      ]
     },
     "metadata": {},
     "output_type": "display_data"
    },
    {
     "name": "stdout",
     "output_type": "stream",
     "text": [
      "\n",
      "Reservoir iterations complete. \t\tElapsed time: 12.879559993743896 s\n",
      "Testing complete. \t\t\tElapsed time: 0.011969804763793945 s\n",
      "Testing score: 0.0015703513083071465\n",
      "[CV] ................... k=1, rho=0.4, train_param=10.0, total=  20.5s\n",
      "[CV] k=1, rho=0.4, train_param=10.0 ..................................\n",
      "Reservoir Computing algorithm - Training phase:\n",
      "\n",
      "Initialization complete. \t\tElapsed time: 1.9487876892089844 s\n"
     ]
    },
    {
     "data": {
      "application/vnd.jupyter.widget-view+json": {
       "model_id": "1cd140a7ef9c4cedb3c9b2dfb0680d4a",
       "version_major": 2,
       "version_minor": 0
      },
      "text/plain": [
       "HBox(children=(IntProgress(value=0, description='reservoir construction', max=2000, style=ProgressStyle(descri…"
      ]
     },
     "metadata": {},
     "output_type": "display_data"
    },
    {
     "name": "stdout",
     "output_type": "stream",
     "text": [
      "\n",
      "Reservoir iterations complete. \t\tElapsed time: 3.870649576187134 s\n",
      "true_output.shape = (1, 1900, 18)\n",
      "(1, 1900, 4000)\n",
      "concat_states.shape = (1900, 4000)\n",
      "y.shape = (1900, 18)\n",
      "Training complete. \t\t\tElapsed time: 0.27227163314819336 s\n",
      "Training score: 0.9991477894626629\n",
      "Reservoir Computing algorithm - Testing phase:\n",
      "\n",
      "Initialization complete. \t\tElapsed time: 0.003988981246948242 s\n"
     ]
    },
    {
     "data": {
      "application/vnd.jupyter.widget-view+json": {
       "model_id": "1b1667d5c6914dd9883de6816b41c4da",
       "version_major": 2,
       "version_minor": 0
      },
      "text/plain": [
       "HBox(children=(IntProgress(value=0, description='reservoir update', max=300, style=ProgressStyle(description_w…"
      ]
     },
     "metadata": {},
     "output_type": "display_data"
    },
    {
     "data": {
      "application/vnd.jupyter.widget-view+json": {
       "model_id": "4ae7e41e1ab5410eb3b991be02d34072",
       "version_major": 2,
       "version_minor": 0
      },
      "text/plain": [
       "HBox(children=(IntProgress(value=0, description='reservoir construction', max=700, style=ProgressStyle(descrip…"
      ]
     },
     "metadata": {},
     "output_type": "display_data"
    },
    {
     "name": "stdout",
     "output_type": "stream",
     "text": [
      "\n",
      "Reservoir iterations complete. \t\tElapsed time: 10.861956119537354 s\n",
      "Testing complete. \t\t\tElapsed time: 0.01197052001953125 s\n",
      "Testing score: 0.01651062559725279\n",
      "Reservoir Computing algorithm - Testing phase:\n",
      "\n",
      "Initialization complete. \t\tElapsed time: 0.0019881725311279297 s\n"
     ]
    },
    {
     "data": {
      "application/vnd.jupyter.widget-view+json": {
       "model_id": "5af5f9db4e0548a5a76df2f48aa92c56",
       "version_major": 2,
       "version_minor": 0
      },
      "text/plain": [
       "HBox(children=(IntProgress(value=0, description='reservoir update', max=300, style=ProgressStyle(description_w…"
      ]
     },
     "metadata": {},
     "output_type": "display_data"
    },
    {
     "data": {
      "application/vnd.jupyter.widget-view+json": {
       "model_id": "00b8de181533440cbfc9a4cd1d53b816",
       "version_major": 2,
       "version_minor": 0
      },
      "text/plain": [
       "HBox(children=(IntProgress(value=0, description='reservoir construction', max=1700, style=ProgressStyle(descri…"
      ]
     },
     "metadata": {},
     "output_type": "display_data"
    },
    {
     "name": "stdout",
     "output_type": "stream",
     "text": [
      "\n",
      "Reservoir iterations complete. \t\tElapsed time: 12.5893075466156 s\n",
      "Testing complete. \t\t\tElapsed time: 0.010971307754516602 s\n",
      "Testing score: 0.0004212475153220565\n",
      "[CV] ................... k=1, rho=0.4, train_param=10.0, total=  18.7s\n",
      "[CV] k=1, rho=0.4, train_param=10.0 ..................................\n",
      "Reservoir Computing algorithm - Training phase:\n",
      "\n",
      "Initialization complete. \t\tElapsed time: 1.8181381225585938 s\n"
     ]
    },
    {
     "data": {
      "application/vnd.jupyter.widget-view+json": {
       "model_id": "059a9b703d1b490fb8a61fe24b02d841",
       "version_major": 2,
       "version_minor": 0
      },
      "text/plain": [
       "HBox(children=(IntProgress(value=0, description='reservoir construction', max=2000, style=ProgressStyle(descri…"
      ]
     },
     "metadata": {},
     "output_type": "display_data"
    },
    {
     "name": "stdout",
     "output_type": "stream",
     "text": [
      "\n",
      "Reservoir iterations complete. \t\tElapsed time: 3.7370080947875977 s\n",
      "true_output.shape = (1, 1900, 18)\n",
      "(1, 1900, 4000)\n",
      "concat_states.shape = (1900, 4000)\n",
      "y.shape = (1900, 18)\n",
      "Training complete. \t\t\tElapsed time: 0.26927924156188965 s\n",
      "Training score: 0.999750570475132\n",
      "Reservoir Computing algorithm - Testing phase:\n",
      "\n",
      "Initialization complete. \t\tElapsed time: 0.003981113433837891 s\n"
     ]
    },
    {
     "data": {
      "application/vnd.jupyter.widget-view+json": {
       "model_id": "1af956346e454653ac526c8e05f9fbc0",
       "version_major": 2,
       "version_minor": 0
      },
      "text/plain": [
       "HBox(children=(IntProgress(value=0, description='reservoir update', max=300, style=ProgressStyle(description_w…"
      ]
     },
     "metadata": {},
     "output_type": "display_data"
    },
    {
     "data": {
      "application/vnd.jupyter.widget-view+json": {
       "model_id": "a1496512709f4d7d96228a570bf9f61a",
       "version_major": 2,
       "version_minor": 0
      },
      "text/plain": [
       "HBox(children=(IntProgress(value=0, description='reservoir construction', max=700, style=ProgressStyle(descrip…"
      ]
     },
     "metadata": {},
     "output_type": "display_data"
    },
    {
     "name": "stdout",
     "output_type": "stream",
     "text": [
      "\n",
      "Reservoir iterations complete. \t\tElapsed time: 11.086355924606323 s\n",
      "Testing complete. \t\t\tElapsed time: 0.011969804763793945 s\n",
      "Testing score: 0.0017116915372676347\n",
      "Reservoir Computing algorithm - Testing phase:\n",
      "\n",
      "Initialization complete. \t\tElapsed time: 0.001993894577026367 s\n"
     ]
    },
    {
     "data": {
      "application/vnd.jupyter.widget-view+json": {
       "model_id": "3f94feb2a3cd4df08219b960d6b1dfef",
       "version_major": 2,
       "version_minor": 0
      },
      "text/plain": [
       "HBox(children=(IntProgress(value=0, description='reservoir update', max=300, style=ProgressStyle(description_w…"
      ]
     },
     "metadata": {},
     "output_type": "display_data"
    },
    {
     "data": {
      "application/vnd.jupyter.widget-view+json": {
       "model_id": "6cf900db407140fcaba6f2e6d82a2135",
       "version_major": 2,
       "version_minor": 0
      },
      "text/plain": [
       "HBox(children=(IntProgress(value=0, description='reservoir construction', max=1700, style=ProgressStyle(descri…"
      ]
     },
     "metadata": {},
     "output_type": "display_data"
    },
    {
     "name": "stdout",
     "output_type": "stream",
     "text": [
      "\n",
      "Reservoir iterations complete. \t\tElapsed time: 12.763874292373657 s\n",
      "Testing complete. \t\t\tElapsed time: 0.011965036392211914 s\n",
      "Testing score: 0.044760111970290756\n",
      "[CV] ................... k=1, rho=0.4, train_param=10.0, total=  18.6s\n",
      "[CV] k=1, rho=0.4, train_param=100.0 .................................\n",
      "Reservoir Computing algorithm - Training phase:\n",
      "\n",
      "Initialization complete. \t\tElapsed time: 1.9896788597106934 s\n"
     ]
    },
    {
     "data": {
      "application/vnd.jupyter.widget-view+json": {
       "model_id": "99d4ab9e695346d79f706356060264fe",
       "version_major": 2,
       "version_minor": 0
      },
      "text/plain": [
       "HBox(children=(IntProgress(value=0, description='reservoir construction', max=2000, style=ProgressStyle(descri…"
      ]
     },
     "metadata": {},
     "output_type": "display_data"
    },
    {
     "name": "stdout",
     "output_type": "stream",
     "text": [
      "\n",
      "Reservoir iterations complete. \t\tElapsed time: 3.889599084854126 s\n",
      "true_output.shape = (1, 1900, 18)\n",
      "(1, 1900, 4000)\n",
      "concat_states.shape = (1900, 4000)\n",
      "y.shape = (1900, 18)\n",
      "Training complete. \t\t\tElapsed time: 0.27526402473449707 s\n",
      "Training score: 0.9989233942403349\n",
      "Reservoir Computing algorithm - Testing phase:\n",
      "\n",
      "Initialization complete. \t\tElapsed time: 0.003988742828369141 s\n"
     ]
    },
    {
     "data": {
      "application/vnd.jupyter.widget-view+json": {
       "model_id": "c0055a60c076400d850410c5365952fc",
       "version_major": 2,
       "version_minor": 0
      },
      "text/plain": [
       "HBox(children=(IntProgress(value=0, description='reservoir update', max=300, style=ProgressStyle(description_w…"
      ]
     },
     "metadata": {},
     "output_type": "display_data"
    },
    {
     "data": {
      "application/vnd.jupyter.widget-view+json": {
       "model_id": "ce2010fbcf8c4e2cb0ad20845492feac",
       "version_major": 2,
       "version_minor": 0
      },
      "text/plain": [
       "HBox(children=(IntProgress(value=0, description='reservoir construction', max=700, style=ProgressStyle(descrip…"
      ]
     },
     "metadata": {},
     "output_type": "display_data"
    },
    {
     "name": "stdout",
     "output_type": "stream",
     "text": [
      "\n",
      "Reservoir iterations complete. \t\tElapsed time: 12.09366226196289 s\n",
      "Testing complete. \t\t\tElapsed time: 0.011970281600952148 s\n",
      "Testing score: 0.01399631705454941\n",
      "Reservoir Computing algorithm - Testing phase:\n",
      "\n",
      "Initialization complete. \t\tElapsed time: 0.0010068416595458984 s\n"
     ]
    },
    {
     "data": {
      "application/vnd.jupyter.widget-view+json": {
       "model_id": "97716bd699c84e51b32373909ff70ada",
       "version_major": 2,
       "version_minor": 0
      },
      "text/plain": [
       "HBox(children=(IntProgress(value=0, description='reservoir update', max=300, style=ProgressStyle(description_w…"
      ]
     },
     "metadata": {},
     "output_type": "display_data"
    },
    {
     "data": {
      "application/vnd.jupyter.widget-view+json": {
       "model_id": "863e7ec7d1e4414f9d8aae16feed84c3",
       "version_major": 2,
       "version_minor": 0
      },
      "text/plain": [
       "HBox(children=(IntProgress(value=0, description='reservoir construction', max=1700, style=ProgressStyle(descri…"
      ]
     },
     "metadata": {},
     "output_type": "display_data"
    },
    {
     "name": "stdout",
     "output_type": "stream",
     "text": [
      "\n",
      "Reservoir iterations complete. \t\tElapsed time: 13.11691689491272 s\n",
      "Testing complete. \t\t\tElapsed time: 0.011970996856689453 s\n",
      "Testing score: 0.0010207347360993392\n",
      "[CV] .................. k=1, rho=0.4, train_param=100.0, total=  20.1s\n",
      "[CV] k=1, rho=0.4, train_param=100.0 .................................\n",
      "Reservoir Computing algorithm - Training phase:\n",
      "\n",
      "Initialization complete. \t\tElapsed time: 4.613663196563721 s\n"
     ]
    },
    {
     "data": {
      "application/vnd.jupyter.widget-view+json": {
       "model_id": "dcd1f5b0fa1849ccad86e11c36de9e03",
       "version_major": 2,
       "version_minor": 0
      },
      "text/plain": [
       "HBox(children=(IntProgress(value=0, description='reservoir construction', max=2000, style=ProgressStyle(descri…"
      ]
     },
     "metadata": {},
     "output_type": "display_data"
    },
    {
     "name": "stdout",
     "output_type": "stream",
     "text": [
      "\n",
      "Reservoir iterations complete. \t\tElapsed time: 8.775532245635986 s\n",
      "true_output.shape = (1, 1900, 18)\n",
      "(1, 1900, 4000)\n",
      "concat_states.shape = (1900, 4000)\n",
      "y.shape = (1900, 18)\n",
      "Training complete. \t\t\tElapsed time: 0.4637625217437744 s\n",
      "Training score: 0.9988821805574838\n",
      "Reservoir Computing algorithm - Testing phase:\n",
      "\n",
      "Initialization complete. \t\tElapsed time: 0.006981611251831055 s\n"
     ]
    },
    {
     "data": {
      "application/vnd.jupyter.widget-view+json": {
       "model_id": "35128f483149478aa0b4a179c35efebf",
       "version_major": 2,
       "version_minor": 0
      },
      "text/plain": [
       "HBox(children=(IntProgress(value=0, description='reservoir update', max=300, style=ProgressStyle(description_w…"
      ]
     },
     "metadata": {},
     "output_type": "display_data"
    },
    {
     "data": {
      "application/vnd.jupyter.widget-view+json": {
       "model_id": "b1b58d21cfe94df888caca92a52503c5",
       "version_major": 2,
       "version_minor": 0
      },
      "text/plain": [
       "HBox(children=(IntProgress(value=0, description='reservoir construction', max=700, style=ProgressStyle(descrip…"
      ]
     },
     "metadata": {},
     "output_type": "display_data"
    },
    {
     "name": "stdout",
     "output_type": "stream",
     "text": [
      "\n",
      "Reservoir iterations complete. \t\tElapsed time: 13.917784214019775 s\n",
      "Testing complete. \t\t\tElapsed time: 0.011970758438110352 s\n",
      "Testing score: 0.021113868466662956\n",
      "Reservoir Computing algorithm - Testing phase:\n",
      "\n",
      "Initialization complete. \t\tElapsed time: 0.001994609832763672 s\n"
     ]
    },
    {
     "data": {
      "application/vnd.jupyter.widget-view+json": {
       "model_id": "811f0490e0b3426e90b2d61a5f6035a7",
       "version_major": 2,
       "version_minor": 0
      },
      "text/plain": [
       "HBox(children=(IntProgress(value=0, description='reservoir update', max=300, style=ProgressStyle(description_w…"
      ]
     },
     "metadata": {},
     "output_type": "display_data"
    },
    {
     "data": {
      "application/vnd.jupyter.widget-view+json": {
       "model_id": "ac354965d4a54532a4e2474a7c384766",
       "version_major": 2,
       "version_minor": 0
      },
      "text/plain": [
       "HBox(children=(IntProgress(value=0, description='reservoir construction', max=1700, style=ProgressStyle(descri…"
      ]
     },
     "metadata": {},
     "output_type": "display_data"
    },
    {
     "name": "stdout",
     "output_type": "stream",
     "text": [
      "\n",
      "Reservoir iterations complete. \t\tElapsed time: 12.540467977523804 s\n",
      "Testing complete. \t\t\tElapsed time: 0.011968135833740234 s\n",
      "Testing score: 0.0005339456482034284\n",
      "[CV] .................. k=1, rho=0.4, train_param=100.0, total=  29.5s\n",
      "[CV] k=1, rho=0.4, train_param=100.0 .................................\n",
      "Reservoir Computing algorithm - Training phase:\n",
      "\n",
      "Initialization complete. \t\tElapsed time: 2.215075969696045 s\n"
     ]
    },
    {
     "data": {
      "application/vnd.jupyter.widget-view+json": {
       "model_id": "7473fcb69a984c3787bb7cf0ff31c554",
       "version_major": 2,
       "version_minor": 0
      },
      "text/plain": [
       "HBox(children=(IntProgress(value=0, description='reservoir construction', max=2000, style=ProgressStyle(descri…"
      ]
     },
     "metadata": {},
     "output_type": "display_data"
    },
    {
     "name": "stdout",
     "output_type": "stream",
     "text": [
      "\n",
      "Reservoir iterations complete. \t\tElapsed time: 4.058148384094238 s\n",
      "true_output.shape = (1, 1900, 18)\n",
      "(1, 1900, 4000)\n",
      "concat_states.shape = (1900, 4000)\n",
      "y.shape = (1900, 18)\n",
      "Training complete. \t\t\tElapsed time: 0.25232529640197754 s\n",
      "Training score: 0.9995028904203376\n",
      "Reservoir Computing algorithm - Testing phase:\n",
      "\n",
      "Initialization complete. \t\tElapsed time: 0.002995729446411133 s\n"
     ]
    },
    {
     "data": {
      "application/vnd.jupyter.widget-view+json": {
       "model_id": "d71ca9e2b2b7482c8426e8aaf5d6c2de",
       "version_major": 2,
       "version_minor": 0
      },
      "text/plain": [
       "HBox(children=(IntProgress(value=0, description='reservoir update', max=300, style=ProgressStyle(description_w…"
      ]
     },
     "metadata": {},
     "output_type": "display_data"
    },
    {
     "data": {
      "application/vnd.jupyter.widget-view+json": {
       "model_id": "217827714474473a807e818e92e1937e",
       "version_major": 2,
       "version_minor": 0
      },
      "text/plain": [
       "HBox(children=(IntProgress(value=0, description='reservoir construction', max=700, style=ProgressStyle(descrip…"
      ]
     },
     "metadata": {},
     "output_type": "display_data"
    },
    {
     "name": "stdout",
     "output_type": "stream",
     "text": [
      "\n",
      "Reservoir iterations complete. \t\tElapsed time: 11.035488605499268 s\n",
      "Testing complete. \t\t\tElapsed time: 0.010973215103149414 s\n",
      "Testing score: 0.0105351600030752\n",
      "Reservoir Computing algorithm - Testing phase:\n",
      "\n",
      "Initialization complete. \t\tElapsed time: 0.0019943714141845703 s\n"
     ]
    },
    {
     "data": {
      "application/vnd.jupyter.widget-view+json": {
       "model_id": "9b7b49d62c9d4faa89ae7a9d5cfae63f",
       "version_major": 2,
       "version_minor": 0
      },
      "text/plain": [
       "HBox(children=(IntProgress(value=0, description='reservoir update', max=300, style=ProgressStyle(description_w…"
      ]
     },
     "metadata": {},
     "output_type": "display_data"
    },
    {
     "data": {
      "application/vnd.jupyter.widget-view+json": {
       "model_id": "d9d1fc1246324132ba0c3482bb590436",
       "version_major": 2,
       "version_minor": 0
      },
      "text/plain": [
       "HBox(children=(IntProgress(value=0, description='reservoir construction', max=1700, style=ProgressStyle(descri…"
      ]
     },
     "metadata": {},
     "output_type": "display_data"
    },
    {
     "name": "stdout",
     "output_type": "stream",
     "text": [
      "\n",
      "Reservoir iterations complete. \t\tElapsed time: 14.032477855682373 s\n",
      "Testing complete. \t\t\tElapsed time: 0.01296687126159668 s\n",
      "Testing score: 0.06171896649630377\n",
      "[CV] .................. k=1, rho=0.4, train_param=100.0, total=  19.3s\n",
      "[CV] k=1, rho=0.4, train_param=1000.0 ................................\n",
      "Reservoir Computing algorithm - Training phase:\n",
      "\n",
      "Initialization complete. \t\tElapsed time: 2.4295005798339844 s\n"
     ]
    },
    {
     "data": {
      "application/vnd.jupyter.widget-view+json": {
       "model_id": "3eb1792982724f6193511134f9de8d70",
       "version_major": 2,
       "version_minor": 0
      },
      "text/plain": [
       "HBox(children=(IntProgress(value=0, description='reservoir construction', max=2000, style=ProgressStyle(descri…"
      ]
     },
     "metadata": {},
     "output_type": "display_data"
    },
    {
     "name": "stdout",
     "output_type": "stream",
     "text": [
      "\n",
      "Reservoir iterations complete. \t\tElapsed time: 4.954752683639526 s\n",
      "true_output.shape = (1, 1900, 18)\n",
      "(1, 1900, 4000)\n",
      "concat_states.shape = (1900, 4000)\n",
      "y.shape = (1900, 18)\n",
      "Training complete. \t\t\tElapsed time: 0.306180477142334 s\n",
      "Training score: 0.9970822505227942\n",
      "Reservoir Computing algorithm - Testing phase:\n",
      "\n",
      "Initialization complete. \t\tElapsed time: 0.0029909610748291016 s\n"
     ]
    },
    {
     "data": {
      "application/vnd.jupyter.widget-view+json": {
       "model_id": "5ed72d730b0b4c219bad57ac3d1acf42",
       "version_major": 2,
       "version_minor": 0
      },
      "text/plain": [
       "HBox(children=(IntProgress(value=0, description='reservoir update', max=300, style=ProgressStyle(description_w…"
      ]
     },
     "metadata": {},
     "output_type": "display_data"
    },
    {
     "data": {
      "application/vnd.jupyter.widget-view+json": {
       "model_id": "c46684cd9c4f446c83e86164e2b82365",
       "version_major": 2,
       "version_minor": 0
      },
      "text/plain": [
       "HBox(children=(IntProgress(value=0, description='reservoir construction', max=700, style=ProgressStyle(descrip…"
      ]
     },
     "metadata": {},
     "output_type": "display_data"
    },
    {
     "name": "stdout",
     "output_type": "stream",
     "text": [
      "\n",
      "Reservoir iterations complete. \t\tElapsed time: 12.417795658111572 s\n",
      "Testing complete. \t\t\tElapsed time: 0.010972023010253906 s\n",
      "Testing score: 0.05891055092782096\n",
      "Reservoir Computing algorithm - Testing phase:\n",
      "\n",
      "Initialization complete. \t\tElapsed time: 0.0010192394256591797 s\n"
     ]
    },
    {
     "data": {
      "application/vnd.jupyter.widget-view+json": {
       "model_id": "7315e79755f0447aa19bf5a43acdce8a",
       "version_major": 2,
       "version_minor": 0
      },
      "text/plain": [
       "HBox(children=(IntProgress(value=0, description='reservoir update', max=300, style=ProgressStyle(description_w…"
      ]
     },
     "metadata": {},
     "output_type": "display_data"
    },
    {
     "data": {
      "application/vnd.jupyter.widget-view+json": {
       "model_id": "ab080ef1a7ed4f60b290522c5ff2de91",
       "version_major": 2,
       "version_minor": 0
      },
      "text/plain": [
       "HBox(children=(IntProgress(value=0, description='reservoir construction', max=1700, style=ProgressStyle(descri…"
      ]
     },
     "metadata": {},
     "output_type": "display_data"
    },
    {
     "name": "stdout",
     "output_type": "stream",
     "text": [
      "\n",
      "Reservoir iterations complete. \t\tElapsed time: 13.687342882156372 s\n",
      "Testing complete. \t\t\tElapsed time: 0.010972738265991211 s\n",
      "Testing score: 0.0007375503237782155\n",
      "[CV] ................. k=1, rho=0.4, train_param=1000.0, total=  21.9s\n",
      "[CV] k=1, rho=0.4, train_param=1000.0 ................................\n",
      "Reservoir Computing algorithm - Training phase:\n",
      "\n",
      "Initialization complete. \t\tElapsed time: 1.9777116775512695 s\n"
     ]
    },
    {
     "data": {
      "application/vnd.jupyter.widget-view+json": {
       "model_id": "74ef9854c5894f57965ce235b0e89940",
       "version_major": 2,
       "version_minor": 0
      },
      "text/plain": [
       "HBox(children=(IntProgress(value=0, description='reservoir construction', max=2000, style=ProgressStyle(descri…"
      ]
     },
     "metadata": {},
     "output_type": "display_data"
    },
    {
     "name": "stdout",
     "output_type": "stream",
     "text": [
      "\n",
      "Reservoir iterations complete. \t\tElapsed time: 4.161871671676636 s\n",
      "true_output.shape = (1, 1900, 18)\n",
      "(1, 1900, 4000)\n",
      "concat_states.shape = (1900, 4000)\n",
      "y.shape = (1900, 18)\n",
      "Training complete. \t\t\tElapsed time: 0.3141601085662842 s\n",
      "Training score: 0.9970116997681028\n",
      "Reservoir Computing algorithm - Testing phase:\n",
      "\n",
      "Initialization complete. \t\tElapsed time: 0.003989696502685547 s\n"
     ]
    },
    {
     "data": {
      "application/vnd.jupyter.widget-view+json": {
       "model_id": "4091e8bdaadf4b39857d061644a00f54",
       "version_major": 2,
       "version_minor": 0
      },
      "text/plain": [
       "HBox(children=(IntProgress(value=0, description='reservoir update', max=300, style=ProgressStyle(description_w…"
      ]
     },
     "metadata": {},
     "output_type": "display_data"
    },
    {
     "data": {
      "application/vnd.jupyter.widget-view+json": {
       "model_id": "ba7e781b5ed7446e9663988794732f49",
       "version_major": 2,
       "version_minor": 0
      },
      "text/plain": [
       "HBox(children=(IntProgress(value=0, description='reservoir construction', max=700, style=ProgressStyle(descrip…"
      ]
     },
     "metadata": {},
     "output_type": "display_data"
    },
    {
     "name": "stdout",
     "output_type": "stream",
     "text": [
      "\n",
      "Reservoir iterations complete. \t\tElapsed time: 11.71966290473938 s\n",
      "Testing complete. \t\t\tElapsed time: 0.010971784591674805 s\n",
      "Testing score: 0.00021644024032207955\n",
      "Reservoir Computing algorithm - Testing phase:\n",
      "\n",
      "Initialization complete. \t\tElapsed time: 0.0009970664978027344 s\n"
     ]
    },
    {
     "data": {
      "application/vnd.jupyter.widget-view+json": {
       "model_id": "eccf832ec926438dad293ba2aa3c5f47",
       "version_major": 2,
       "version_minor": 0
      },
      "text/plain": [
       "HBox(children=(IntProgress(value=0, description='reservoir update', max=300, style=ProgressStyle(description_w…"
      ]
     },
     "metadata": {},
     "output_type": "display_data"
    },
    {
     "data": {
      "application/vnd.jupyter.widget-view+json": {
       "model_id": "d76d9dd506da489abe941b47d04c23ab",
       "version_major": 2,
       "version_minor": 0
      },
      "text/plain": [
       "HBox(children=(IntProgress(value=0, description='reservoir construction', max=1700, style=ProgressStyle(descri…"
      ]
     },
     "metadata": {},
     "output_type": "display_data"
    },
    {
     "name": "stdout",
     "output_type": "stream",
     "text": [
      "\n",
      "Reservoir iterations complete. \t\tElapsed time: 13.459974527359009 s\n",
      "Testing complete. \t\t\tElapsed time: 0.010971546173095703 s\n",
      "Testing score: 0.004195267466358553\n",
      "[CV] ................. k=1, rho=0.4, train_param=1000.0, total=  20.0s\n",
      "[CV] k=1, rho=0.4, train_param=1000.0 ................................\n",
      "Reservoir Computing algorithm - Training phase:\n",
      "\n",
      "Initialization complete. \t\tElapsed time: 3.696117877960205 s\n"
     ]
    },
    {
     "data": {
      "application/vnd.jupyter.widget-view+json": {
       "model_id": "3414b1f9744144d28e62704cf7395fbf",
       "version_major": 2,
       "version_minor": 0
      },
      "text/plain": [
       "HBox(children=(IntProgress(value=0, description='reservoir construction', max=2000, style=ProgressStyle(descri…"
      ]
     },
     "metadata": {},
     "output_type": "display_data"
    },
    {
     "name": "stdout",
     "output_type": "stream",
     "text": [
      "\n",
      "Reservoir iterations complete. \t\tElapsed time: 5.371638298034668 s\n",
      "true_output.shape = (1, 1900, 18)\n",
      "(1, 1900, 4000)\n",
      "concat_states.shape = (1900, 4000)\n",
      "y.shape = (1900, 18)\n",
      "Training complete. \t\t\tElapsed time: 0.3171517848968506 s\n",
      "Training score: 0.9975888389401147\n",
      "Reservoir Computing algorithm - Testing phase:\n",
      "\n",
      "Initialization complete. \t\tElapsed time: 0.003988742828369141 s\n"
     ]
    },
    {
     "data": {
      "application/vnd.jupyter.widget-view+json": {
       "model_id": "34c589dec8984d3f84980a5a11ee5cef",
       "version_major": 2,
       "version_minor": 0
      },
      "text/plain": [
       "HBox(children=(IntProgress(value=0, description='reservoir update', max=300, style=ProgressStyle(description_w…"
      ]
     },
     "metadata": {},
     "output_type": "display_data"
    },
    {
     "data": {
      "application/vnd.jupyter.widget-view+json": {
       "model_id": "a6cc95616ad14555a1b85c93ab2cee16",
       "version_major": 2,
       "version_minor": 0
      },
      "text/plain": [
       "HBox(children=(IntProgress(value=0, description='reservoir construction', max=700, style=ProgressStyle(descrip…"
      ]
     },
     "metadata": {},
     "output_type": "display_data"
    },
    {
     "name": "stdout",
     "output_type": "stream",
     "text": [
      "\n",
      "Reservoir iterations complete. \t\tElapsed time: 21.053136348724365 s\n",
      "Testing complete. \t\t\tElapsed time: 0.010972976684570312 s\n",
      "Testing score: 0.01689241040254095\n",
      "Reservoir Computing algorithm - Testing phase:\n",
      "\n",
      "Initialization complete. \t\tElapsed time: 0.0010082721710205078 s\n"
     ]
    },
    {
     "data": {
      "application/vnd.jupyter.widget-view+json": {
       "model_id": "95f5514629244ba8927de48708473653",
       "version_major": 2,
       "version_minor": 0
      },
      "text/plain": [
       "HBox(children=(IntProgress(value=0, description='reservoir update', max=300, style=ProgressStyle(description_w…"
      ]
     },
     "metadata": {},
     "output_type": "display_data"
    },
    {
     "data": {
      "application/vnd.jupyter.widget-view+json": {
       "model_id": "2869f0ee24104539a4d2424b8c3f0ec9",
       "version_major": 2,
       "version_minor": 0
      },
      "text/plain": [
       "HBox(children=(IntProgress(value=0, description='reservoir construction', max=1700, style=ProgressStyle(descri…"
      ]
     },
     "metadata": {},
     "output_type": "display_data"
    },
    {
     "name": "stdout",
     "output_type": "stream",
     "text": [
      "\n",
      "Reservoir iterations complete. \t\tElapsed time: 13.282472133636475 s\n",
      "Testing complete. \t\t\tElapsed time: 0.011976003646850586 s\n",
      "Testing score: 0.03294700900956724\n",
      "[CV] ................. k=1, rho=0.4, train_param=1000.0, total=  32.2s\n",
      "[CV] k=1, rho=0.7000000000000001, train_param=1 ......................\n",
      "Reservoir Computing algorithm - Training phase:\n",
      "\n",
      "Initialization complete. \t\tElapsed time: 2.034557342529297 s\n"
     ]
    },
    {
     "data": {
      "application/vnd.jupyter.widget-view+json": {
       "model_id": "9fa2813822a8438f8379e0b26d58b8fe",
       "version_major": 2,
       "version_minor": 0
      },
      "text/plain": [
       "HBox(children=(IntProgress(value=0, description='reservoir construction', max=2000, style=ProgressStyle(descri…"
      ]
     },
     "metadata": {},
     "output_type": "display_data"
    },
    {
     "name": "stdout",
     "output_type": "stream",
     "text": [
      "\n",
      "Reservoir iterations complete. \t\tElapsed time: 4.017257452011108 s\n",
      "true_output.shape = (1, 1900, 18)\n",
      "(1, 1900, 4000)\n",
      "concat_states.shape = (1900, 4000)\n",
      "y.shape = (1900, 18)\n",
      "Training complete. \t\t\tElapsed time: 0.28822946548461914 s\n",
      "Training score: 0.9993538068859514\n",
      "Reservoir Computing algorithm - Testing phase:\n",
      "\n",
      "Initialization complete. \t\tElapsed time: 0.0029926300048828125 s\n"
     ]
    },
    {
     "data": {
      "application/vnd.jupyter.widget-view+json": {
       "model_id": "44876c5fc16a4ccfbe367fcb2a8e63a8",
       "version_major": 2,
       "version_minor": 0
      },
      "text/plain": [
       "HBox(children=(IntProgress(value=0, description='reservoir update', max=300, style=ProgressStyle(description_w…"
      ]
     },
     "metadata": {},
     "output_type": "display_data"
    },
    {
     "data": {
      "application/vnd.jupyter.widget-view+json": {
       "model_id": "db26284aa2774ea481b6616a8e48b089",
       "version_major": 2,
       "version_minor": 0
      },
      "text/plain": [
       "HBox(children=(IntProgress(value=0, description='reservoir construction', max=700, style=ProgressStyle(descrip…"
      ]
     },
     "metadata": {},
     "output_type": "display_data"
    },
    {
     "name": "stdout",
     "output_type": "stream",
     "text": [
      "\n",
      "Reservoir iterations complete. \t\tElapsed time: 13.052099227905273 s\n",
      "Testing complete. \t\t\tElapsed time: 0.030918121337890625 s\n",
      "Testing score: 0.16451157397424768\n",
      "Reservoir Computing algorithm - Testing phase:\n",
      "\n",
      "Initialization complete. \t\tElapsed time: 0.0019941329956054688 s\n"
     ]
    },
    {
     "data": {
      "application/vnd.jupyter.widget-view+json": {
       "model_id": "b7624aa38ae44a57a67ed5a53a2f2574",
       "version_major": 2,
       "version_minor": 0
      },
      "text/plain": [
       "HBox(children=(IntProgress(value=0, description='reservoir update', max=300, style=ProgressStyle(description_w…"
      ]
     },
     "metadata": {},
     "output_type": "display_data"
    },
    {
     "data": {
      "application/vnd.jupyter.widget-view+json": {
       "model_id": "aa3c9e6d1c274d3c8a3fea0df35d6f9b",
       "version_major": 2,
       "version_minor": 0
      },
      "text/plain": [
       "HBox(children=(IntProgress(value=0, description='reservoir construction', max=1700, style=ProgressStyle(descri…"
      ]
     },
     "metadata": {},
     "output_type": "display_data"
    },
    {
     "name": "stdout",
     "output_type": "stream",
     "text": [
      "\n",
      "Reservoir iterations complete. \t\tElapsed time: 24.969233751296997 s\n",
      "Testing complete. \t\t\tElapsed time: 0.011968374252319336 s\n",
      "Testing score: 0.011279738963109954\n",
      "[CV] ....... k=1, rho=0.7000000000000001, train_param=1, total=  21.5s\n",
      "[CV] k=1, rho=0.7000000000000001, train_param=1 ......................\n",
      "Reservoir Computing algorithm - Training phase:\n",
      "\n",
      "Initialization complete. \t\tElapsed time: 2.7396745681762695 s\n"
     ]
    },
    {
     "data": {
      "application/vnd.jupyter.widget-view+json": {
       "model_id": "ada6197b7f9447488eb07f6987306499",
       "version_major": 2,
       "version_minor": 0
      },
      "text/plain": [
       "HBox(children=(IntProgress(value=0, description='reservoir construction', max=2000, style=ProgressStyle(descri…"
      ]
     },
     "metadata": {},
     "output_type": "display_data"
    },
    {
     "name": "stdout",
     "output_type": "stream",
     "text": [
      "\n",
      "Reservoir iterations complete. \t\tElapsed time: 4.579753637313843 s\n",
      "true_output.shape = (1, 1900, 18)\n",
      "(1, 1900, 4000)\n",
      "concat_states.shape = (1900, 4000)\n",
      "y.shape = (1900, 18)\n",
      "Training complete. \t\t\tElapsed time: 0.2902235984802246 s\n",
      "Training score: 0.999283540070268\n",
      "Reservoir Computing algorithm - Testing phase:\n",
      "\n",
      "Initialization complete. \t\tElapsed time: 0.003988981246948242 s\n"
     ]
    },
    {
     "data": {
      "application/vnd.jupyter.widget-view+json": {
       "model_id": "20de5bf44f2244c49bc3b42501cce3dc",
       "version_major": 2,
       "version_minor": 0
      },
      "text/plain": [
       "HBox(children=(IntProgress(value=0, description='reservoir update', max=300, style=ProgressStyle(description_w…"
      ]
     },
     "metadata": {},
     "output_type": "display_data"
    },
    {
     "data": {
      "application/vnd.jupyter.widget-view+json": {
       "model_id": "9b30f04696b94f37b861a536c8f1d07f",
       "version_major": 2,
       "version_minor": 0
      },
      "text/plain": [
       "HBox(children=(IntProgress(value=0, description='reservoir construction', max=700, style=ProgressStyle(descrip…"
      ]
     },
     "metadata": {},
     "output_type": "display_data"
    },
    {
     "name": "stdout",
     "output_type": "stream",
     "text": [
      "\n",
      "Reservoir iterations complete. \t\tElapsed time: 11.471326351165771 s\n",
      "Testing complete. \t\t\tElapsed time: 0.01396322250366211 s\n",
      "Testing score: 0.006627041191398659\n",
      "Reservoir Computing algorithm - Testing phase:\n",
      "\n",
      "Initialization complete. \t\tElapsed time: 0.001993417739868164 s\n"
     ]
    },
    {
     "data": {
      "application/vnd.jupyter.widget-view+json": {
       "model_id": "fbd96f771a4a4199a96c8f72a27ff8a1",
       "version_major": 2,
       "version_minor": 0
      },
      "text/plain": [
       "HBox(children=(IntProgress(value=0, description='reservoir update', max=300, style=ProgressStyle(description_w…"
      ]
     },
     "metadata": {},
     "output_type": "display_data"
    },
    {
     "data": {
      "application/vnd.jupyter.widget-view+json": {
       "model_id": "a43ca33ed6414de593b3fd533f9a9de2",
       "version_major": 2,
       "version_minor": 0
      },
      "text/plain": [
       "HBox(children=(IntProgress(value=0, description='reservoir construction', max=1700, style=ProgressStyle(descri…"
      ]
     },
     "metadata": {},
     "output_type": "display_data"
    },
    {
     "name": "stdout",
     "output_type": "stream",
     "text": [
      "\n",
      "Reservoir iterations complete. \t\tElapsed time: 14.139163494110107 s\n",
      "Testing complete. \t\t\tElapsed time: 0.01197052001953125 s\n",
      "Testing score: 0.05731816044141434\n",
      "[CV] ....... k=1, rho=0.7000000000000001, train_param=1, total=  20.9s\n",
      "[CV] k=1, rho=0.7000000000000001, train_param=1 ......................\n",
      "Reservoir Computing algorithm - Training phase:\n",
      "\n",
      "Initialization complete. \t\tElapsed time: 2.0754473209381104 s\n"
     ]
    },
    {
     "data": {
      "application/vnd.jupyter.widget-view+json": {
       "model_id": "849291bf45604211aebc63b4c735781f",
       "version_major": 2,
       "version_minor": 0
      },
      "text/plain": [
       "HBox(children=(IntProgress(value=0, description='reservoir construction', max=2000, style=ProgressStyle(descri…"
      ]
     },
     "metadata": {},
     "output_type": "display_data"
    },
    {
     "name": "stdout",
     "output_type": "stream",
     "text": [
      "\n",
      "Reservoir iterations complete. \t\tElapsed time: 3.9753713607788086 s\n",
      "true_output.shape = (1, 1900, 18)\n",
      "(1, 1900, 4000)\n",
      "concat_states.shape = (1900, 4000)\n",
      "y.shape = (1900, 18)\n",
      "Training complete. \t\t\tElapsed time: 0.26129984855651855 s\n",
      "Training score: 0.9998240473396537\n",
      "Reservoir Computing algorithm - Testing phase:\n",
      "\n",
      "Initialization complete. \t\tElapsed time: 0.0029921531677246094 s\n"
     ]
    },
    {
     "data": {
      "application/vnd.jupyter.widget-view+json": {
       "model_id": "4b1c5445a93a4d79986dd8c7b4561a08",
       "version_major": 2,
       "version_minor": 0
      },
      "text/plain": [
       "HBox(children=(IntProgress(value=0, description='reservoir update', max=300, style=ProgressStyle(description_w…"
      ]
     },
     "metadata": {},
     "output_type": "display_data"
    },
    {
     "data": {
      "application/vnd.jupyter.widget-view+json": {
       "model_id": "bfea5b4b868943a98d91da64cd1c7f85",
       "version_major": 2,
       "version_minor": 0
      },
      "text/plain": [
       "HBox(children=(IntProgress(value=0, description='reservoir construction', max=700, style=ProgressStyle(descrip…"
      ]
     },
     "metadata": {},
     "output_type": "display_data"
    },
    {
     "name": "stdout",
     "output_type": "stream",
     "text": [
      "\n",
      "Reservoir iterations complete. \t\tElapsed time: 10.867939710617065 s\n",
      "Testing complete. \t\t\tElapsed time: 0.011968851089477539 s\n",
      "Testing score: 0.002596926593549186\n",
      "Reservoir Computing algorithm - Testing phase:\n",
      "\n",
      "Initialization complete. \t\tElapsed time: 0.0009622573852539062 s\n"
     ]
    },
    {
     "data": {
      "application/vnd.jupyter.widget-view+json": {
       "model_id": "84717a96927d42e6baebd6b6e524f8fb",
       "version_major": 2,
       "version_minor": 0
      },
      "text/plain": [
       "HBox(children=(IntProgress(value=0, description='reservoir update', max=300, style=ProgressStyle(description_w…"
      ]
     },
     "metadata": {},
     "output_type": "display_data"
    },
    {
     "data": {
      "application/vnd.jupyter.widget-view+json": {
       "model_id": "bd912ef5cddd4f9cb210b8e4e3982e9d",
       "version_major": 2,
       "version_minor": 0
      },
      "text/plain": [
       "HBox(children=(IntProgress(value=0, description='reservoir construction', max=1700, style=ProgressStyle(descri…"
      ]
     },
     "metadata": {},
     "output_type": "display_data"
    },
    {
     "name": "stdout",
     "output_type": "stream",
     "text": [
      "\n",
      "Reservoir iterations complete. \t\tElapsed time: 20.621858596801758 s\n",
      "Testing complete. \t\t\tElapsed time: 0.012966632843017578 s\n",
      "Testing score: 0.058102249776622254\n",
      "[CV] ....... k=1, rho=0.7000000000000001, train_param=1, total=  19.0s\n",
      "[CV] k=1, rho=0.7000000000000001, train_param=10.0 ...................\n",
      "Reservoir Computing algorithm - Training phase:\n",
      "\n",
      "Initialization complete. \t\tElapsed time: 3.2243778705596924 s\n"
     ]
    },
    {
     "data": {
      "application/vnd.jupyter.widget-view+json": {
       "model_id": "78c84a50e86749bdb03b924dbe68fdaa",
       "version_major": 2,
       "version_minor": 0
      },
      "text/plain": [
       "HBox(children=(IntProgress(value=0, description='reservoir construction', max=2000, style=ProgressStyle(descri…"
      ]
     },
     "metadata": {},
     "output_type": "display_data"
    },
    {
     "name": "stdout",
     "output_type": "stream",
     "text": [
      "\n",
      "Reservoir iterations complete. \t\tElapsed time: 6.07276177406311 s\n",
      "true_output.shape = (1, 1900, 18)\n",
      "(1, 1900, 4000)\n",
      "concat_states.shape = (1900, 4000)\n",
      "y.shape = (1900, 18)\n",
      "Training complete. \t\t\tElapsed time: 0.38497424125671387 s\n",
      "Training score: 0.9992417475371799\n",
      "Reservoir Computing algorithm - Testing phase:\n",
      "\n",
      "Initialization complete. \t\tElapsed time: 0.003988742828369141 s\n"
     ]
    },
    {
     "data": {
      "application/vnd.jupyter.widget-view+json": {
       "model_id": "5e2406452ee44982866b2dc93deddefd",
       "version_major": 2,
       "version_minor": 0
      },
      "text/plain": [
       "HBox(children=(IntProgress(value=0, description='reservoir update', max=300, style=ProgressStyle(description_w…"
      ]
     },
     "metadata": {},
     "output_type": "display_data"
    },
    {
     "data": {
      "application/vnd.jupyter.widget-view+json": {
       "model_id": "99b662632afa4dc4bfb96bd5a908602d",
       "version_major": 2,
       "version_minor": 0
      },
      "text/plain": [
       "HBox(children=(IntProgress(value=0, description='reservoir construction', max=700, style=ProgressStyle(descrip…"
      ]
     },
     "metadata": {},
     "output_type": "display_data"
    },
    {
     "name": "stdout",
     "output_type": "stream",
     "text": [
      "\n",
      "Reservoir iterations complete. \t\tElapsed time: 15.972291946411133 s\n",
      "Testing complete. \t\t\tElapsed time: 0.014961719512939453 s\n",
      "Testing score: 0.0007948826153440832\n",
      "Reservoir Computing algorithm - Testing phase:\n",
      "\n",
      "Initialization complete. \t\tElapsed time: 0.0009560585021972656 s\n"
     ]
    },
    {
     "data": {
      "application/vnd.jupyter.widget-view+json": {
       "model_id": "d27e15fda0684f039db0d301f1183869",
       "version_major": 2,
       "version_minor": 0
      },
      "text/plain": [
       "HBox(children=(IntProgress(value=0, description='reservoir update', max=300, style=ProgressStyle(description_w…"
      ]
     },
     "metadata": {},
     "output_type": "display_data"
    },
    {
     "data": {
      "application/vnd.jupyter.widget-view+json": {
       "model_id": "e676abd8a0794bf2850da7dcee698fa4",
       "version_major": 2,
       "version_minor": 0
      },
      "text/plain": [
       "HBox(children=(IntProgress(value=0, description='reservoir construction', max=1700, style=ProgressStyle(descri…"
      ]
     },
     "metadata": {},
     "output_type": "display_data"
    },
    {
     "name": "stdout",
     "output_type": "stream",
     "text": [
      "\n",
      "Reservoir iterations complete. \t\tElapsed time: 19.002191066741943 s\n",
      "Testing complete. \t\t\tElapsed time: 0.023935317993164062 s\n",
      "Testing score: 2.9354904524352997e-06\n",
      "[CV] .... k=1, rho=0.7000000000000001, train_param=10.0, total=  27.5s\n",
      "[CV] k=1, rho=0.7000000000000001, train_param=10.0 ...................\n",
      "Reservoir Computing algorithm - Training phase:\n",
      "\n",
      "Initialization complete. \t\tElapsed time: 6.614315986633301 s\n"
     ]
    },
    {
     "data": {
      "application/vnd.jupyter.widget-view+json": {
       "model_id": "a75d2d335d234bd5a7753892e41359a1",
       "version_major": 2,
       "version_minor": 0
      },
      "text/plain": [
       "HBox(children=(IntProgress(value=0, description='reservoir construction', max=2000, style=ProgressStyle(descri…"
      ]
     },
     "metadata": {},
     "output_type": "display_data"
    },
    {
     "name": "stdout",
     "output_type": "stream",
     "text": [
      "\n",
      "Reservoir iterations complete. \t\tElapsed time: 7.486524343490601 s\n",
      "true_output.shape = (1, 1900, 18)\n",
      "(1, 1900, 4000)\n",
      "concat_states.shape = (1900, 4000)\n",
      "y.shape = (1900, 18)\n",
      "Training complete. \t\t\tElapsed time: 0.4358339309692383 s\n",
      "Training score: 0.9991848650739767\n",
      "Reservoir Computing algorithm - Testing phase:\n",
      "\n",
      "Initialization complete. \t\tElapsed time: 0.012962579727172852 s\n"
     ]
    },
    {
     "data": {
      "application/vnd.jupyter.widget-view+json": {
       "model_id": "71d1043cf728424ca53fdb08d3fa24b7",
       "version_major": 2,
       "version_minor": 0
      },
      "text/plain": [
       "HBox(children=(IntProgress(value=0, description='reservoir update', max=300, style=ProgressStyle(description_w…"
      ]
     },
     "metadata": {},
     "output_type": "display_data"
    },
    {
     "data": {
      "application/vnd.jupyter.widget-view+json": {
       "model_id": "1fb9f648372c4198825c7f9560ddc661",
       "version_major": 2,
       "version_minor": 0
      },
      "text/plain": [
       "HBox(children=(IntProgress(value=0, description='reservoir construction', max=700, style=ProgressStyle(descrip…"
      ]
     },
     "metadata": {},
     "output_type": "display_data"
    },
    {
     "name": "stdout",
     "output_type": "stream",
     "text": [
      "\n",
      "Reservoir iterations complete. \t\tElapsed time: 18.63069176673889 s\n",
      "Testing complete. \t\t\tElapsed time: 0.012965202331542969 s\n",
      "Testing score: 0.00998176654350414\n",
      "Reservoir Computing algorithm - Testing phase:\n",
      "\n",
      "Initialization complete. \t\tElapsed time: 0.0019941329956054688 s\n"
     ]
    },
    {
     "data": {
      "application/vnd.jupyter.widget-view+json": {
       "model_id": "6391b9a747c2466284894df481ceecea",
       "version_major": 2,
       "version_minor": 0
      },
      "text/plain": [
       "HBox(children=(IntProgress(value=0, description='reservoir update', max=300, style=ProgressStyle(description_w…"
      ]
     },
     "metadata": {},
     "output_type": "display_data"
    },
    {
     "data": {
      "application/vnd.jupyter.widget-view+json": {
       "model_id": "010799b6b8ca4dea9539f6ae8875018f",
       "version_major": 2,
       "version_minor": 0
      },
      "text/plain": [
       "HBox(children=(IntProgress(value=0, description='reservoir construction', max=1700, style=ProgressStyle(descri…"
      ]
     },
     "metadata": {},
     "output_type": "display_data"
    },
    {
     "name": "stdout",
     "output_type": "stream",
     "text": [
      "\n",
      "Reservoir iterations complete. \t\tElapsed time: 19.26149606704712 s\n",
      "Testing complete. \t\t\tElapsed time: 0.0189511775970459 s\n",
      "Testing score: 0.03336821842377523\n",
      "[CV] .... k=1, rho=0.7000000000000001, train_param=10.0, total=  35.3s\n",
      "[CV] k=1, rho=0.7000000000000001, train_param=10.0 ...................\n",
      "Reservoir Computing algorithm - Training phase:\n",
      "\n",
      "Initialization complete. \t\tElapsed time: 2.28887939453125 s\n"
     ]
    },
    {
     "data": {
      "application/vnd.jupyter.widget-view+json": {
       "model_id": "de6aea72cb274fa9918abe74d9090e77",
       "version_major": 2,
       "version_minor": 0
      },
      "text/plain": [
       "HBox(children=(IntProgress(value=0, description='reservoir construction', max=2000, style=ProgressStyle(descri…"
      ]
     },
     "metadata": {},
     "output_type": "display_data"
    },
    {
     "name": "stdout",
     "output_type": "stream",
     "text": [
      "\n",
      "Reservoir iterations complete. \t\tElapsed time: 4.287535667419434 s\n",
      "true_output.shape = (1, 1900, 18)\n",
      "(1, 1900, 4000)\n",
      "concat_states.shape = (1900, 4000)\n",
      "y.shape = (1900, 18)\n",
      "Training complete. \t\t\tElapsed time: 0.2652897834777832 s\n",
      "Training score: 0.9997735620970707\n",
      "Reservoir Computing algorithm - Testing phase:\n",
      "\n",
      "Initialization complete. \t\tElapsed time: 0.002991914749145508 s\n"
     ]
    },
    {
     "data": {
      "application/vnd.jupyter.widget-view+json": {
       "model_id": "3d1277b6b53747a581da939d6c3c6c08",
       "version_major": 2,
       "version_minor": 0
      },
      "text/plain": [
       "HBox(children=(IntProgress(value=0, description='reservoir update', max=300, style=ProgressStyle(description_w…"
      ]
     },
     "metadata": {},
     "output_type": "display_data"
    },
    {
     "data": {
      "application/vnd.jupyter.widget-view+json": {
       "model_id": "04ad6dad2677483689f551f9e3569c91",
       "version_major": 2,
       "version_minor": 0
      },
      "text/plain": [
       "HBox(children=(IntProgress(value=0, description='reservoir construction', max=700, style=ProgressStyle(descrip…"
      ]
     },
     "metadata": {},
     "output_type": "display_data"
    },
    {
     "name": "stdout",
     "output_type": "stream",
     "text": [
      "\n",
      "Reservoir iterations complete. \t\tElapsed time: 11.175118446350098 s\n",
      "Testing complete. \t\t\tElapsed time: 0.011967658996582031 s\n",
      "Testing score: 0.00012099946289952738\n",
      "Reservoir Computing algorithm - Testing phase:\n",
      "\n",
      "Initialization complete. \t\tElapsed time: 0.0009918212890625 s\n"
     ]
    },
    {
     "data": {
      "application/vnd.jupyter.widget-view+json": {
       "model_id": "4cc1ccef885b4aaf981bffcda23578fd",
       "version_major": 2,
       "version_minor": 0
      },
      "text/plain": [
       "HBox(children=(IntProgress(value=0, description='reservoir update', max=300, style=ProgressStyle(description_w…"
      ]
     },
     "metadata": {},
     "output_type": "display_data"
    },
    {
     "data": {
      "application/vnd.jupyter.widget-view+json": {
       "model_id": "8d9364b5dbda4fc6b0e69c0cb2f141d1",
       "version_major": 2,
       "version_minor": 0
      },
      "text/plain": [
       "HBox(children=(IntProgress(value=0, description='reservoir construction', max=1700, style=ProgressStyle(descri…"
      ]
     },
     "metadata": {},
     "output_type": "display_data"
    },
    {
     "name": "stdout",
     "output_type": "stream",
     "text": [
      "\n",
      "Reservoir iterations complete. \t\tElapsed time: 12.731926202774048 s\n",
      "Testing complete. \t\t\tElapsed time: 0.011967182159423828 s\n",
      "Testing score: 0.0011332316743730797\n",
      "[CV] .... k=1, rho=0.7000000000000001, train_param=10.0, total=  19.8s\n",
      "[CV] k=1, rho=0.7000000000000001, train_param=100.0 ..................\n",
      "Reservoir Computing algorithm - Training phase:\n",
      "\n",
      "Initialization complete. \t\tElapsed time: 1.8979229927062988 s\n"
     ]
    },
    {
     "data": {
      "application/vnd.jupyter.widget-view+json": {
       "model_id": "8d6cb1dbcdc74c10b9c0ff8e388a1244",
       "version_major": 2,
       "version_minor": 0
      },
      "text/plain": [
       "HBox(children=(IntProgress(value=0, description='reservoir construction', max=2000, style=ProgressStyle(descri…"
      ]
     },
     "metadata": {},
     "output_type": "display_data"
    },
    {
     "name": "stdout",
     "output_type": "stream",
     "text": [
      "\n",
      "Reservoir iterations complete. \t\tElapsed time: 4.1449174880981445 s\n",
      "true_output.shape = (1, 1900, 18)\n",
      "(1, 1900, 4000)\n",
      "concat_states.shape = (1900, 4000)\n",
      "y.shape = (1900, 18)\n",
      "Training complete. \t\t\tElapsed time: 0.2652902603149414 s\n",
      "Training score: 0.9990312614182643\n",
      "Reservoir Computing algorithm - Testing phase:\n",
      "\n",
      "Initialization complete. \t\tElapsed time: 0.003989458084106445 s\n"
     ]
    },
    {
     "data": {
      "application/vnd.jupyter.widget-view+json": {
       "model_id": "dac3f64d67624b3db16870ad1db1388f",
       "version_major": 2,
       "version_minor": 0
      },
      "text/plain": [
       "HBox(children=(IntProgress(value=0, description='reservoir update', max=300, style=ProgressStyle(description_w…"
      ]
     },
     "metadata": {},
     "output_type": "display_data"
    },
    {
     "data": {
      "application/vnd.jupyter.widget-view+json": {
       "model_id": "0b8ccb84b4684f21ac92189dbd35a5b5",
       "version_major": 2,
       "version_minor": 0
      },
      "text/plain": [
       "HBox(children=(IntProgress(value=0, description='reservoir construction', max=700, style=ProgressStyle(descrip…"
      ]
     },
     "metadata": {},
     "output_type": "display_data"
    },
    {
     "name": "stdout",
     "output_type": "stream",
     "text": [
      "\n",
      "Reservoir iterations complete. \t\tElapsed time: 11.624916315078735 s\n",
      "Testing complete. \t\t\tElapsed time: 0.01296687126159668 s\n",
      "Testing score: 0.013026927392459477\n",
      "Reservoir Computing algorithm - Testing phase:\n",
      "\n",
      "Initialization complete. \t\tElapsed time: 0.000997781753540039 s\n"
     ]
    },
    {
     "data": {
      "application/vnd.jupyter.widget-view+json": {
       "model_id": "4b1caf757a4f4d60bb10b8f5c3f879a5",
       "version_major": 2,
       "version_minor": 0
      },
      "text/plain": [
       "HBox(children=(IntProgress(value=0, description='reservoir update', max=300, style=ProgressStyle(description_w…"
      ]
     },
     "metadata": {},
     "output_type": "display_data"
    },
    {
     "data": {
      "application/vnd.jupyter.widget-view+json": {
       "model_id": "7092a2ef9d5e4f3eb343b0d1019a26d4",
       "version_major": 2,
       "version_minor": 0
      },
      "text/plain": [
       "HBox(children=(IntProgress(value=0, description='reservoir construction', max=1700, style=ProgressStyle(descri…"
      ]
     },
     "metadata": {},
     "output_type": "display_data"
    },
    {
     "name": "stdout",
     "output_type": "stream",
     "text": [
      "\n",
      "Reservoir iterations complete. \t\tElapsed time: 13.343320846557617 s\n",
      "Testing complete. \t\t\tElapsed time: 0.01296854019165039 s\n",
      "Testing score: 0.0011623436418331174\n",
      "[CV] ... k=1, rho=0.7000000000000001, train_param=100.0, total=  19.7s\n",
      "[CV] k=1, rho=0.7000000000000001, train_param=100.0 ..................\n",
      "Reservoir Computing algorithm - Training phase:\n",
      "\n",
      "Initialization complete. \t\tElapsed time: 2.0395166873931885 s\n"
     ]
    },
    {
     "data": {
      "application/vnd.jupyter.widget-view+json": {
       "model_id": "6ec647c84a654f02af5077be223a98ae",
       "version_major": 2,
       "version_minor": 0
      },
      "text/plain": [
       "HBox(children=(IntProgress(value=0, description='reservoir construction', max=2000, style=ProgressStyle(descri…"
      ]
     },
     "metadata": {},
     "output_type": "display_data"
    },
    {
     "name": "stdout",
     "output_type": "stream",
     "text": [
      "\n",
      "Reservoir iterations complete. \t\tElapsed time: 5.275892734527588 s\n",
      "true_output.shape = (1, 1900, 18)\n",
      "(1, 1900, 4000)\n",
      "concat_states.shape = (1900, 4000)\n",
      "y.shape = (1900, 18)\n",
      "Training complete. \t\t\tElapsed time: 0.3231360912322998 s\n",
      "Training score: 0.998980251615138\n",
      "Reservoir Computing algorithm - Testing phase:\n",
      "\n",
      "Initialization complete. \t\tElapsed time: 0.003989219665527344 s\n"
     ]
    },
    {
     "data": {
      "application/vnd.jupyter.widget-view+json": {
       "model_id": "09fa9a820eb443beb4a7ab37d22c2fde",
       "version_major": 2,
       "version_minor": 0
      },
      "text/plain": [
       "HBox(children=(IntProgress(value=0, description='reservoir update', max=300, style=ProgressStyle(description_w…"
      ]
     },
     "metadata": {},
     "output_type": "display_data"
    },
    {
     "data": {
      "application/vnd.jupyter.widget-view+json": {
       "model_id": "869d48df2e114baca6f3b6fd4eab8eb5",
       "version_major": 2,
       "version_minor": 0
      },
      "text/plain": [
       "HBox(children=(IntProgress(value=0, description='reservoir construction', max=700, style=ProgressStyle(descrip…"
      ]
     },
     "metadata": {},
     "output_type": "display_data"
    },
    {
     "name": "stdout",
     "output_type": "stream",
     "text": [
      "\n",
      "Reservoir iterations complete. \t\tElapsed time: 22.20961332321167 s\n",
      "Testing complete. \t\t\tElapsed time: 0.011968374252319336 s\n",
      "Testing score: 0.009618547794794636\n",
      "Reservoir Computing algorithm - Testing phase:\n",
      "\n",
      "Initialization complete. \t\tElapsed time: 0.0029904842376708984 s\n"
     ]
    },
    {
     "data": {
      "application/vnd.jupyter.widget-view+json": {
       "model_id": "199fffb3b54d492c8bf4b3d2d400e4ad",
       "version_major": 2,
       "version_minor": 0
      },
      "text/plain": [
       "HBox(children=(IntProgress(value=0, description='reservoir update', max=300, style=ProgressStyle(description_w…"
      ]
     },
     "metadata": {},
     "output_type": "display_data"
    },
    {
     "data": {
      "application/vnd.jupyter.widget-view+json": {
       "model_id": "7bb55f5f9f9e40e0b064d740ffe7995d",
       "version_major": 2,
       "version_minor": 0
      },
      "text/plain": [
       "HBox(children=(IntProgress(value=0, description='reservoir construction', max=1700, style=ProgressStyle(descri…"
      ]
     },
     "metadata": {},
     "output_type": "display_data"
    },
    {
     "name": "stdout",
     "output_type": "stream",
     "text": [
      "\n",
      "Reservoir iterations complete. \t\tElapsed time: 21.98521327972412 s\n",
      "Testing complete. \t\t\tElapsed time: 0.014960765838623047 s\n",
      "Testing score: 2.1335719897971627e-05\n",
      "[CV] ... k=1, rho=0.7000000000000001, train_param=100.0, total=  32.1s\n",
      "[CV] k=1, rho=0.7000000000000001, train_param=100.0 ..................\n",
      "Reservoir Computing algorithm - Training phase:\n",
      "\n",
      "Initialization complete. \t\tElapsed time: 3.94744610786438 s\n"
     ]
    },
    {
     "data": {
      "application/vnd.jupyter.widget-view+json": {
       "model_id": "76b21a7a545b40daabcf990fdf3bd277",
       "version_major": 2,
       "version_minor": 0
      },
      "text/plain": [
       "HBox(children=(IntProgress(value=0, description='reservoir construction', max=2000, style=ProgressStyle(descri…"
      ]
     },
     "metadata": {},
     "output_type": "display_data"
    },
    {
     "name": "stdout",
     "output_type": "stream",
     "text": [
      "\n",
      "Reservoir iterations complete. \t\tElapsed time: 7.598142623901367 s\n",
      "true_output.shape = (1, 1900, 18)\n",
      "(1, 1900, 4000)\n",
      "concat_states.shape = (1900, 4000)\n",
      "y.shape = (1900, 18)\n",
      "Training complete. \t\t\tElapsed time: 0.36901330947875977 s\n",
      "Training score: 0.9995987860120814\n",
      "Reservoir Computing algorithm - Testing phase:\n",
      "\n",
      "Initialization complete. \t\tElapsed time: 0.004996776580810547 s\n"
     ]
    },
    {
     "data": {
      "application/vnd.jupyter.widget-view+json": {
       "model_id": "845dc92154ea420f8ef4f6bfae6186d9",
       "version_major": 2,
       "version_minor": 0
      },
      "text/plain": [
       "HBox(children=(IntProgress(value=0, description='reservoir update', max=300, style=ProgressStyle(description_w…"
      ]
     },
     "metadata": {},
     "output_type": "display_data"
    },
    {
     "data": {
      "application/vnd.jupyter.widget-view+json": {
       "model_id": "2fb1cdff6a98435f993e39cfe4172cfd",
       "version_major": 2,
       "version_minor": 0
      },
      "text/plain": [
       "HBox(children=(IntProgress(value=0, description='reservoir construction', max=700, style=ProgressStyle(descrip…"
      ]
     },
     "metadata": {},
     "output_type": "display_data"
    },
    {
     "name": "stdout",
     "output_type": "stream",
     "text": [
      "\n",
      "Reservoir iterations complete. \t\tElapsed time: 15.51450490951538 s\n",
      "Testing complete. \t\t\tElapsed time: 0.011970043182373047 s\n",
      "Testing score: 0.007374330916437037\n",
      "Reservoir Computing algorithm - Testing phase:\n",
      "\n",
      "Initialization complete. \t\tElapsed time: 0.0009975433349609375 s\n"
     ]
    },
    {
     "data": {
      "application/vnd.jupyter.widget-view+json": {
       "model_id": "38331dea412f4bcd8df6521f3f01b7c7",
       "version_major": 2,
       "version_minor": 0
      },
      "text/plain": [
       "HBox(children=(IntProgress(value=0, description='reservoir update', max=300, style=ProgressStyle(description_w…"
      ]
     },
     "metadata": {},
     "output_type": "display_data"
    },
    {
     "data": {
      "application/vnd.jupyter.widget-view+json": {
       "model_id": "e835ed80bd6f4a49a47edfbbd8586daf",
       "version_major": 2,
       "version_minor": 0
      },
      "text/plain": [
       "HBox(children=(IntProgress(value=0, description='reservoir construction', max=1700, style=ProgressStyle(descri…"
      ]
     },
     "metadata": {},
     "output_type": "display_data"
    },
    {
     "name": "stdout",
     "output_type": "stream",
     "text": [
      "\n",
      "Reservoir iterations complete. \t\tElapsed time: 14.150638103485107 s\n",
      "Testing complete. \t\t\tElapsed time: 0.018018007278442383 s\n",
      "Testing score: 0.018692011834957074\n",
      "[CV] ... k=1, rho=0.7000000000000001, train_param=100.0, total=  29.2s\n",
      "[CV] k=1, rho=0.7000000000000001, train_param=1000.0 .................\n",
      "Reservoir Computing algorithm - Training phase:\n",
      "\n",
      "Initialization complete. \t\tElapsed time: 2.5377254486083984 s\n"
     ]
    },
    {
     "data": {
      "application/vnd.jupyter.widget-view+json": {
       "model_id": "f931e0ab7aed46819960eb9deae7be55",
       "version_major": 2,
       "version_minor": 0
      },
      "text/plain": [
       "HBox(children=(IntProgress(value=0, description='reservoir construction', max=2000, style=ProgressStyle(descri…"
      ]
     },
     "metadata": {},
     "output_type": "display_data"
    },
    {
     "name": "stdout",
     "output_type": "stream",
     "text": [
      "\n",
      "Reservoir iterations complete. \t\tElapsed time: 4.993811368942261 s\n",
      "true_output.shape = (1, 1900, 18)\n",
      "(1, 1900, 4000)\n",
      "concat_states.shape = (1900, 4000)\n",
      "y.shape = (1900, 18)\n",
      "Training complete. \t\t\tElapsed time: 0.2862393856048584 s\n",
      "Training score: 0.9972872069347376\n",
      "Reservoir Computing algorithm - Testing phase:\n",
      "\n",
      "Initialization complete. \t\tElapsed time: 0.0029926300048828125 s\n"
     ]
    },
    {
     "data": {
      "application/vnd.jupyter.widget-view+json": {
       "model_id": "4e19bbe06857463b972b7a2cc7ef0748",
       "version_major": 2,
       "version_minor": 0
      },
      "text/plain": [
       "HBox(children=(IntProgress(value=0, description='reservoir update', max=300, style=ProgressStyle(description_w…"
      ]
     },
     "metadata": {},
     "output_type": "display_data"
    },
    {
     "data": {
      "application/vnd.jupyter.widget-view+json": {
       "model_id": "def56b12b4b34e72bbe8118c9ecbad49",
       "version_major": 2,
       "version_minor": 0
      },
      "text/plain": [
       "HBox(children=(IntProgress(value=0, description='reservoir construction', max=700, style=ProgressStyle(descrip…"
      ]
     },
     "metadata": {},
     "output_type": "display_data"
    },
    {
     "name": "stdout",
     "output_type": "stream",
     "text": [
      "\n",
      "Reservoir iterations complete. \t\tElapsed time: 12.437831163406372 s\n",
      "Testing complete. \t\t\tElapsed time: 0.011990070343017578 s\n",
      "Testing score: 0.003367448071806744\n",
      "Reservoir Computing algorithm - Testing phase:\n",
      "\n",
      "Initialization complete. \t\tElapsed time: 0.0009906291961669922 s\n"
     ]
    },
    {
     "data": {
      "application/vnd.jupyter.widget-view+json": {
       "model_id": "7fbf98940b1a4323a792df5967197d5a",
       "version_major": 2,
       "version_minor": 0
      },
      "text/plain": [
       "HBox(children=(IntProgress(value=0, description='reservoir update', max=300, style=ProgressStyle(description_w…"
      ]
     },
     "metadata": {},
     "output_type": "display_data"
    },
    {
     "data": {
      "application/vnd.jupyter.widget-view+json": {
       "model_id": "0633a9c7266b443e9f30058d661a376e",
       "version_major": 2,
       "version_minor": 0
      },
      "text/plain": [
       "HBox(children=(IntProgress(value=0, description='reservoir construction', max=1700, style=ProgressStyle(descri…"
      ]
     },
     "metadata": {},
     "output_type": "display_data"
    },
    {
     "name": "stdout",
     "output_type": "stream",
     "text": [
      "\n",
      "Reservoir iterations complete. \t\tElapsed time: 15.106180191040039 s\n",
      "Testing complete. \t\t\tElapsed time: 0.011999845504760742 s\n",
      "Testing score: 2.6886954250333052e-05\n",
      "[CV] .. k=1, rho=0.7000000000000001, train_param=1000.0, total=  22.1s\n",
      "[CV] k=1, rho=0.7000000000000001, train_param=1000.0 .................\n",
      "Reservoir Computing algorithm - Training phase:\n",
      "\n",
      "Initialization complete. \t\tElapsed time: 2.1348719596862793 s\n"
     ]
    },
    {
     "data": {
      "application/vnd.jupyter.widget-view+json": {
       "model_id": "ad5ce9db8b0a42ca9f6ee83c714697cb",
       "version_major": 2,
       "version_minor": 0
      },
      "text/plain": [
       "HBox(children=(IntProgress(value=0, description='reservoir construction', max=2000, style=ProgressStyle(descri…"
      ]
     },
     "metadata": {},
     "output_type": "display_data"
    },
    {
     "name": "stdout",
     "output_type": "stream",
     "text": [
      "\n",
      "Reservoir iterations complete. \t\tElapsed time: 4.105064868927002 s\n",
      "true_output.shape = (1, 1900, 18)\n",
      "(1, 1900, 4000)\n",
      "concat_states.shape = (1900, 4000)\n",
      "y.shape = (1900, 18)\n",
      "Training complete. \t\t\tElapsed time: 0.2603034973144531 s\n",
      "Training score: 0.9972703986106888\n",
      "Reservoir Computing algorithm - Testing phase:\n",
      "\n",
      "Initialization complete. \t\tElapsed time: 0.0029916763305664062 s\n"
     ]
    },
    {
     "data": {
      "application/vnd.jupyter.widget-view+json": {
       "model_id": "2bb68d0dfe834d99b43e717bffa3a670",
       "version_major": 2,
       "version_minor": 0
      },
      "text/plain": [
       "HBox(children=(IntProgress(value=0, description='reservoir update', max=300, style=ProgressStyle(description_w…"
      ]
     },
     "metadata": {},
     "output_type": "display_data"
    },
    {
     "data": {
      "application/vnd.jupyter.widget-view+json": {
       "model_id": "f07c357d80844fdba158c03337c384dd",
       "version_major": 2,
       "version_minor": 0
      },
      "text/plain": [
       "HBox(children=(IntProgress(value=0, description='reservoir construction', max=700, style=ProgressStyle(descrip…"
      ]
     },
     "metadata": {},
     "output_type": "display_data"
    },
    {
     "name": "stdout",
     "output_type": "stream",
     "text": [
      "\n",
      "Reservoir iterations complete. \t\tElapsed time: 11.39054250717163 s\n",
      "Testing complete. \t\t\tElapsed time: 0.010971784591674805 s\n",
      "Testing score: 0.003997449635079327\n",
      "Reservoir Computing algorithm - Testing phase:\n",
      "\n",
      "Initialization complete. \t\tElapsed time: 0.0019943714141845703 s\n"
     ]
    },
    {
     "data": {
      "application/vnd.jupyter.widget-view+json": {
       "model_id": "ca82f86e8fbe4c02891240e75fd4c324",
       "version_major": 2,
       "version_minor": 0
      },
      "text/plain": [
       "HBox(children=(IntProgress(value=0, description='reservoir update', max=300, style=ProgressStyle(description_w…"
      ]
     },
     "metadata": {},
     "output_type": "display_data"
    },
    {
     "data": {
      "application/vnd.jupyter.widget-view+json": {
       "model_id": "30531bdce61e48a684a9615254caaaf6",
       "version_major": 2,
       "version_minor": 0
      },
      "text/plain": [
       "HBox(children=(IntProgress(value=0, description='reservoir construction', max=1700, style=ProgressStyle(descri…"
      ]
     },
     "metadata": {},
     "output_type": "display_data"
    },
    {
     "name": "stdout",
     "output_type": "stream",
     "text": [
      "\n",
      "Reservoir iterations complete. \t\tElapsed time: 13.331352949142456 s\n",
      "Testing complete. \t\t\tElapsed time: 0.011968135833740234 s\n",
      "Testing score: 0.01013844184200435\n",
      "[CV] .. k=1, rho=0.7000000000000001, train_param=1000.0, total=  19.7s\n",
      "[CV] k=1, rho=0.7000000000000001, train_param=1000.0 .................\n",
      "Reservoir Computing algorithm - Training phase:\n",
      "\n",
      "Initialization complete. \t\tElapsed time: 2.001607894897461 s\n"
     ]
    },
    {
     "data": {
      "application/vnd.jupyter.widget-view+json": {
       "model_id": "8dbd1f36ff2b4fd8b240ef692413de2d",
       "version_major": 2,
       "version_minor": 0
      },
      "text/plain": [
       "HBox(children=(IntProgress(value=0, description='reservoir construction', max=2000, style=ProgressStyle(descri…"
      ]
     },
     "metadata": {},
     "output_type": "display_data"
    },
    {
     "name": "stdout",
     "output_type": "stream",
     "text": [
      "\n",
      "Reservoir iterations complete. \t\tElapsed time: 4.01625919342041 s\n",
      "true_output.shape = (1, 1900, 18)\n",
      "(1, 1900, 4000)\n",
      "concat_states.shape = (1900, 4000)\n",
      "y.shape = (1900, 18)\n",
      "Training complete. \t\t\tElapsed time: 0.2682826519012451 s\n",
      "Training score: 0.9978219037697165\n",
      "Reservoir Computing algorithm - Testing phase:\n",
      "\n",
      "Initialization complete. \t\tElapsed time: 0.0029921531677246094 s\n"
     ]
    },
    {
     "data": {
      "application/vnd.jupyter.widget-view+json": {
       "model_id": "c1a923588a734724acbec273b654ddc6",
       "version_major": 2,
       "version_minor": 0
      },
      "text/plain": [
       "HBox(children=(IntProgress(value=0, description='reservoir update', max=300, style=ProgressStyle(description_w…"
      ]
     },
     "metadata": {},
     "output_type": "display_data"
    },
    {
     "data": {
      "application/vnd.jupyter.widget-view+json": {
       "model_id": "1573ea3d41e745dcb9b8e1070d2ed7da",
       "version_major": 2,
       "version_minor": 0
      },
      "text/plain": [
       "HBox(children=(IntProgress(value=0, description='reservoir construction', max=700, style=ProgressStyle(descrip…"
      ]
     },
     "metadata": {},
     "output_type": "display_data"
    },
    {
     "name": "stdout",
     "output_type": "stream",
     "text": [
      "\n",
      "Reservoir iterations complete. \t\tElapsed time: 11.265876054763794 s\n",
      "Testing complete. \t\t\tElapsed time: 0.010970830917358398 s\n",
      "Testing score: 0.001881584004970877\n",
      "Reservoir Computing algorithm - Testing phase:\n",
      "\n",
      "Initialization complete. \t\tElapsed time: 0.0019943714141845703 s\n"
     ]
    },
    {
     "data": {
      "application/vnd.jupyter.widget-view+json": {
       "model_id": "869bc704cac7495f8de2049b9d15da92",
       "version_major": 2,
       "version_minor": 0
      },
      "text/plain": [
       "HBox(children=(IntProgress(value=0, description='reservoir update', max=300, style=ProgressStyle(description_w…"
      ]
     },
     "metadata": {},
     "output_type": "display_data"
    },
    {
     "data": {
      "application/vnd.jupyter.widget-view+json": {
       "model_id": "948e48cbfc324047a2c243575772d248",
       "version_major": 2,
       "version_minor": 0
      },
      "text/plain": [
       "HBox(children=(IntProgress(value=0, description='reservoir construction', max=1700, style=ProgressStyle(descri…"
      ]
     },
     "metadata": {},
     "output_type": "display_data"
    },
    {
     "name": "stdout",
     "output_type": "stream",
     "text": [
      "\n",
      "Reservoir iterations complete. \t\tElapsed time: 13.307416677474976 s\n",
      "Testing complete. \t\t\tElapsed time: 0.010972023010253906 s\n",
      "Testing score: 0.023663397378908293\n",
      "[CV] .. k=1, rho=0.7000000000000001, train_param=1000.0, total=  19.3s\n",
      "[CV] k=1, rho=1.0000000000000002, train_param=1 ......................\n",
      "Reservoir Computing algorithm - Training phase:\n",
      "\n",
      "Initialization complete. \t\tElapsed time: 1.9118585586547852 s\n"
     ]
    },
    {
     "data": {
      "application/vnd.jupyter.widget-view+json": {
       "model_id": "814bd40189a340a4aca67359e6c116e6",
       "version_major": 2,
       "version_minor": 0
      },
      "text/plain": [
       "HBox(children=(IntProgress(value=0, description='reservoir construction', max=2000, style=ProgressStyle(descri…"
      ]
     },
     "metadata": {},
     "output_type": "display_data"
    },
    {
     "name": "stdout",
     "output_type": "stream",
     "text": [
      "\n",
      "Reservoir iterations complete. \t\tElapsed time: 4.0790932178497314 s\n",
      "true_output.shape = (1, 1900, 18)\n",
      "(1, 1900, 4000)\n",
      "concat_states.shape = (1900, 4000)\n",
      "y.shape = (1900, 18)\n",
      "Training complete. \t\t\tElapsed time: 0.28324222564697266 s\n",
      "Training score: 0.9994160645905659\n",
      "Reservoir Computing algorithm - Testing phase:\n",
      "\n",
      "Initialization complete. \t\tElapsed time: 0.003988504409790039 s\n"
     ]
    },
    {
     "data": {
      "application/vnd.jupyter.widget-view+json": {
       "model_id": "4202ff522b9c4db08522a381fa1f5540",
       "version_major": 2,
       "version_minor": 0
      },
      "text/plain": [
       "HBox(children=(IntProgress(value=0, description='reservoir update', max=300, style=ProgressStyle(description_w…"
      ]
     },
     "metadata": {},
     "output_type": "display_data"
    },
    {
     "data": {
      "application/vnd.jupyter.widget-view+json": {
       "model_id": "34ff67e8e5ab4ef0a5444655c4851c8e",
       "version_major": 2,
       "version_minor": 0
      },
      "text/plain": [
       "HBox(children=(IntProgress(value=0, description='reservoir construction', max=700, style=ProgressStyle(descrip…"
      ]
     },
     "metadata": {},
     "output_type": "display_data"
    },
    {
     "name": "stdout",
     "output_type": "stream",
     "text": [
      "\n",
      "Reservoir iterations complete. \t\tElapsed time: 11.361620426177979 s\n",
      "Testing complete. \t\t\tElapsed time: 0.010972976684570312 s\n",
      "Testing score: 0.07604082369877897\n",
      "Reservoir Computing algorithm - Testing phase:\n",
      "\n",
      "Initialization complete. \t\tElapsed time: 0.0009937286376953125 s\n"
     ]
    },
    {
     "data": {
      "application/vnd.jupyter.widget-view+json": {
       "model_id": "f58e8db9d7f24f0c95d112f574f797e3",
       "version_major": 2,
       "version_minor": 0
      },
      "text/plain": [
       "HBox(children=(IntProgress(value=0, description='reservoir update', max=300, style=ProgressStyle(description_w…"
      ]
     },
     "metadata": {},
     "output_type": "display_data"
    },
    {
     "data": {
      "application/vnd.jupyter.widget-view+json": {
       "model_id": "142da26476d0436d8e0fc402c91f6529",
       "version_major": 2,
       "version_minor": 0
      },
      "text/plain": [
       "HBox(children=(IntProgress(value=0, description='reservoir construction', max=1700, style=ProgressStyle(descri…"
      ]
     },
     "metadata": {},
     "output_type": "display_data"
    },
    {
     "name": "stdout",
     "output_type": "stream",
     "text": [
      "\n",
      "Reservoir iterations complete. \t\tElapsed time: 13.410110235214233 s\n",
      "Testing complete. \t\t\tElapsed time: 0.012965202331542969 s\n",
      "Testing score: 0.0751130264586027\n",
      "[CV] ....... k=1, rho=1.0000000000000002, train_param=1, total=  19.4s\n",
      "[CV] k=1, rho=1.0000000000000002, train_param=1 ......................\n",
      "Reservoir Computing algorithm - Training phase:\n",
      "\n",
      "Initialization complete. \t\tElapsed time: 1.9657437801361084 s\n"
     ]
    },
    {
     "data": {
      "application/vnd.jupyter.widget-view+json": {
       "model_id": "2dff71d5db894a2b872436103fba9b3c",
       "version_major": 2,
       "version_minor": 0
      },
      "text/plain": [
       "HBox(children=(IntProgress(value=0, description='reservoir construction', max=2000, style=ProgressStyle(descri…"
      ]
     },
     "metadata": {},
     "output_type": "display_data"
    },
    {
     "name": "stdout",
     "output_type": "stream",
     "text": [
      "\n",
      "Reservoir iterations complete. \t\tElapsed time: 3.9235081672668457 s\n",
      "true_output.shape = (1, 1900, 18)\n",
      "(1, 1900, 4000)\n",
      "concat_states.shape = (1900, 4000)\n",
      "y.shape = (1900, 18)\n",
      "Training complete. \t\t\tElapsed time: 0.2822451591491699 s\n",
      "Training score: 0.9993652814643884\n",
      "Reservoir Computing algorithm - Testing phase:\n",
      "\n",
      "Initialization complete. \t\tElapsed time: 0.005983829498291016 s\n"
     ]
    },
    {
     "data": {
      "application/vnd.jupyter.widget-view+json": {
       "model_id": "2113ff81d78f48edb58fcca9b332551a",
       "version_major": 2,
       "version_minor": 0
      },
      "text/plain": [
       "HBox(children=(IntProgress(value=0, description='reservoir update', max=300, style=ProgressStyle(description_w…"
      ]
     },
     "metadata": {},
     "output_type": "display_data"
    },
    {
     "data": {
      "application/vnd.jupyter.widget-view+json": {
       "model_id": "77de975abf804849b69f3072286c4bbb",
       "version_major": 2,
       "version_minor": 0
      },
      "text/plain": [
       "HBox(children=(IntProgress(value=0, description='reservoir construction', max=700, style=ProgressStyle(descrip…"
      ]
     },
     "metadata": {},
     "output_type": "display_data"
    },
    {
     "name": "stdout",
     "output_type": "stream",
     "text": [
      "\n",
      "Reservoir iterations complete. \t\tElapsed time: 11.470329284667969 s\n",
      "Testing complete. \t\t\tElapsed time: 0.011967897415161133 s\n",
      "Testing score: 0.0015349475385179317\n",
      "Reservoir Computing algorithm - Testing phase:\n",
      "\n",
      "Initialization complete. \t\tElapsed time: 0.001986980438232422 s\n"
     ]
    },
    {
     "data": {
      "application/vnd.jupyter.widget-view+json": {
       "model_id": "8a4ed0fddbbb44dd8c7981d876e5ca0c",
       "version_major": 2,
       "version_minor": 0
      },
      "text/plain": [
       "HBox(children=(IntProgress(value=0, description='reservoir update', max=300, style=ProgressStyle(description_w…"
      ]
     },
     "metadata": {},
     "output_type": "display_data"
    },
    {
     "data": {
      "application/vnd.jupyter.widget-view+json": {
       "model_id": "c233575c242f478b8a66c590617ceb92",
       "version_major": 2,
       "version_minor": 0
      },
      "text/plain": [
       "HBox(children=(IntProgress(value=0, description='reservoir construction', max=1700, style=ProgressStyle(descri…"
      ]
     },
     "metadata": {},
     "output_type": "display_data"
    },
    {
     "name": "stdout",
     "output_type": "stream",
     "text": [
      "\n",
      "Reservoir iterations complete. \t\tElapsed time: 13.2934250831604 s\n",
      "Testing complete. \t\t\tElapsed time: 0.011976242065429688 s\n",
      "Testing score: 0.0024290238601113066\n",
      "[CV] ....... k=1, rho=1.0000000000000002, train_param=1, total=  19.4s\n",
      "[CV] k=1, rho=1.0000000000000002, train_param=1 ......................\n",
      "Reservoir Computing algorithm - Training phase:\n",
      "\n",
      "Initialization complete. \t\tElapsed time: 1.9707276821136475 s\n"
     ]
    },
    {
     "data": {
      "application/vnd.jupyter.widget-view+json": {
       "model_id": "a70cdff8bd354ee7992f9aa613fc4c5a",
       "version_major": 2,
       "version_minor": 0
      },
      "text/plain": [
       "HBox(children=(IntProgress(value=0, description='reservoir construction', max=2000, style=ProgressStyle(descri…"
      ]
     },
     "metadata": {},
     "output_type": "display_data"
    },
    {
     "name": "stdout",
     "output_type": "stream",
     "text": [
      "\n",
      "Reservoir iterations complete. \t\tElapsed time: 4.163866758346558 s\n",
      "true_output.shape = (1, 1900, 18)\n",
      "(1, 1900, 4000)\n",
      "concat_states.shape = (1900, 4000)\n",
      "y.shape = (1900, 18)\n",
      "Training complete. \t\t\tElapsed time: 0.28324222564697266 s\n",
      "Training score: 0.9998525812963002\n",
      "Reservoir Computing algorithm - Testing phase:\n",
      "\n",
      "Initialization complete. \t\tElapsed time: 0.004986763000488281 s\n"
     ]
    },
    {
     "data": {
      "application/vnd.jupyter.widget-view+json": {
       "model_id": "ff1cc9249d004e90961c8acafb28b66c",
       "version_major": 2,
       "version_minor": 0
      },
      "text/plain": [
       "HBox(children=(IntProgress(value=0, description='reservoir update', max=300, style=ProgressStyle(description_w…"
      ]
     },
     "metadata": {},
     "output_type": "display_data"
    },
    {
     "data": {
      "application/vnd.jupyter.widget-view+json": {
       "model_id": "42223785798d484b93d99982ee9540fd",
       "version_major": 2,
       "version_minor": 0
      },
      "text/plain": [
       "HBox(children=(IntProgress(value=0, description='reservoir construction', max=700, style=ProgressStyle(descrip…"
      ]
     },
     "metadata": {},
     "output_type": "display_data"
    },
    {
     "name": "stdout",
     "output_type": "stream",
     "text": [
      "\n",
      "Reservoir iterations complete. \t\tElapsed time: 13.987194776535034 s\n",
      "Testing complete. \t\t\tElapsed time: 0.014009714126586914 s\n",
      "Testing score: 2.5757355230698675e-06\n",
      "Reservoir Computing algorithm - Testing phase:\n",
      "\n",
      "Initialization complete. \t\tElapsed time: 0.001993417739868164 s\n"
     ]
    },
    {
     "data": {
      "application/vnd.jupyter.widget-view+json": {
       "model_id": "6d9e8107d7bd475ba08a162150741344",
       "version_major": 2,
       "version_minor": 0
      },
      "text/plain": [
       "HBox(children=(IntProgress(value=0, description='reservoir update', max=300, style=ProgressStyle(description_w…"
      ]
     },
     "metadata": {},
     "output_type": "display_data"
    },
    {
     "data": {
      "application/vnd.jupyter.widget-view+json": {
       "model_id": "a7c2f69c56a84ab08b0db6870e44f9db",
       "version_major": 2,
       "version_minor": 0
      },
      "text/plain": [
       "HBox(children=(IntProgress(value=0, description='reservoir construction', max=1700, style=ProgressStyle(descri…"
      ]
     },
     "metadata": {},
     "output_type": "display_data"
    },
    {
     "name": "stdout",
     "output_type": "stream",
     "text": [
      "\n",
      "Reservoir iterations complete. \t\tElapsed time: 15.101528406143188 s\n",
      "Testing complete. \t\t\tElapsed time: 0.015958309173583984 s\n",
      "Testing score: 0.0017109834766260293\n",
      "[CV] ....... k=1, rho=1.0000000000000002, train_param=1, total=  22.3s\n",
      "[CV] k=1, rho=1.0000000000000002, train_param=10.0 ...................\n",
      "Reservoir Computing algorithm - Training phase:\n",
      "\n",
      "Initialization complete. \t\tElapsed time: 2.5018157958984375 s\n"
     ]
    },
    {
     "data": {
      "application/vnd.jupyter.widget-view+json": {
       "model_id": "bb8243af9c914abb81a7eeb0c177a55e",
       "version_major": 2,
       "version_minor": 0
      },
      "text/plain": [
       "HBox(children=(IntProgress(value=0, description='reservoir construction', max=2000, style=ProgressStyle(descri…"
      ]
     },
     "metadata": {},
     "output_type": "display_data"
    },
    {
     "name": "stdout",
     "output_type": "stream",
     "text": [
      "\n",
      "Reservoir iterations complete. \t\tElapsed time: 4.182910442352295 s\n",
      "true_output.shape = (1, 1900, 18)\n",
      "(1, 1900, 4000)\n",
      "concat_states.shape = (1900, 4000)\n",
      "y.shape = (1900, 18)\n",
      "Training complete. \t\t\tElapsed time: 0.26888489723205566 s\n",
      "Training score: 0.9993186407137781\n",
      "Reservoir Computing algorithm - Testing phase:\n",
      "\n",
      "Initialization complete. \t\tElapsed time: 0.003496408462524414 s\n"
     ]
    },
    {
     "data": {
      "application/vnd.jupyter.widget-view+json": {
       "model_id": "33bdcd91e1b142cfb697da4ebe33094d",
       "version_major": 2,
       "version_minor": 0
      },
      "text/plain": [
       "HBox(children=(IntProgress(value=0, description='reservoir update', max=300, style=ProgressStyle(description_w…"
      ]
     },
     "metadata": {},
     "output_type": "display_data"
    },
    {
     "data": {
      "application/vnd.jupyter.widget-view+json": {
       "model_id": "7d366e9f04df4fb2b5dc1bf65dcae8f8",
       "version_major": 2,
       "version_minor": 0
      },
      "text/plain": [
       "HBox(children=(IntProgress(value=0, description='reservoir construction', max=700, style=ProgressStyle(descrip…"
      ]
     },
     "metadata": {},
     "output_type": "display_data"
    },
    {
     "name": "stdout",
     "output_type": "stream",
     "text": [
      "\n",
      "Reservoir iterations complete. \t\tElapsed time: 11.460955381393433 s\n",
      "Testing complete. \t\t\tElapsed time: 0.012995719909667969 s\n",
      "Testing score: 0.05719118908007956\n",
      "Reservoir Computing algorithm - Testing phase:\n",
      "\n",
      "Initialization complete. \t\tElapsed time: 0.0019664764404296875 s\n"
     ]
    },
    {
     "data": {
      "application/vnd.jupyter.widget-view+json": {
       "model_id": "51f22c130eab4d238701ad9afe64715d",
       "version_major": 2,
       "version_minor": 0
      },
      "text/plain": [
       "HBox(children=(IntProgress(value=0, description='reservoir update', max=300, style=ProgressStyle(description_w…"
      ]
     },
     "metadata": {},
     "output_type": "display_data"
    },
    {
     "data": {
      "application/vnd.jupyter.widget-view+json": {
       "model_id": "3a9d756b5418435b8a9254845e20b938",
       "version_major": 2,
       "version_minor": 0
      },
      "text/plain": [
       "HBox(children=(IntProgress(value=0, description='reservoir construction', max=1700, style=ProgressStyle(descri…"
      ]
     },
     "metadata": {},
     "output_type": "display_data"
    },
    {
     "name": "stdout",
     "output_type": "stream",
     "text": [
      "\n",
      "Reservoir iterations complete. \t\tElapsed time: 13.513660669326782 s\n",
      "Testing complete. \t\t\tElapsed time: 0.013011455535888672 s\n",
      "Testing score: 0.0065185410886535785\n",
      "[CV] .... k=1, rho=1.0000000000000002, train_param=10.0, total=  20.2s\n",
      "[CV] k=1, rho=1.0000000000000002, train_param=10.0 ...................\n",
      "Reservoir Computing algorithm - Training phase:\n",
      "\n",
      "Initialization complete. \t\tElapsed time: 2.0577542781829834 s\n"
     ]
    },
    {
     "data": {
      "application/vnd.jupyter.widget-view+json": {
       "model_id": "1f607c3ad45141a38ba67f83eee496ba",
       "version_major": 2,
       "version_minor": 0
      },
      "text/plain": [
       "HBox(children=(IntProgress(value=0, description='reservoir construction', max=2000, style=ProgressStyle(descri…"
      ]
     },
     "metadata": {},
     "output_type": "display_data"
    },
    {
     "name": "stdout",
     "output_type": "stream",
     "text": [
      "\n",
      "Reservoir iterations complete. \t\tElapsed time: 4.202032089233398 s\n",
      "true_output.shape = (1, 1900, 18)\n",
      "(1, 1900, 4000)\n",
      "concat_states.shape = (1900, 4000)\n",
      "y.shape = (1900, 18)\n",
      "Training complete. \t\t\tElapsed time: 0.25890159606933594 s\n",
      "Training score: 0.9992324651948891\n",
      "Reservoir Computing algorithm - Testing phase:\n",
      "\n",
      "Initialization complete. \t\tElapsed time: 0.0031082630157470703 s\n"
     ]
    },
    {
     "data": {
      "application/vnd.jupyter.widget-view+json": {
       "model_id": "a10d510799c04d219dd11dd1120a218e",
       "version_major": 2,
       "version_minor": 0
      },
      "text/plain": [
       "HBox(children=(IntProgress(value=0, description='reservoir update', max=300, style=ProgressStyle(description_w…"
      ]
     },
     "metadata": {},
     "output_type": "display_data"
    },
    {
     "data": {
      "application/vnd.jupyter.widget-view+json": {
       "model_id": "a83e6ccc2cc1431484047ca0f62e19a4",
       "version_major": 2,
       "version_minor": 0
      },
      "text/plain": [
       "HBox(children=(IntProgress(value=0, description='reservoir construction', max=700, style=ProgressStyle(descrip…"
      ]
     },
     "metadata": {},
     "output_type": "display_data"
    },
    {
     "name": "stdout",
     "output_type": "stream",
     "text": [
      "\n",
      "Reservoir iterations complete. \t\tElapsed time: 11.579937934875488 s\n",
      "Testing complete. \t\t\tElapsed time: 0.011980295181274414 s\n",
      "Testing score: 0.007795035947445372\n",
      "Reservoir Computing algorithm - Testing phase:\n",
      "\n",
      "Initialization complete. \t\tElapsed time: 0.0019948482513427734 s\n"
     ]
    },
    {
     "data": {
      "application/vnd.jupyter.widget-view+json": {
       "model_id": "4c90a20d5e72444886c39fc236ceabf3",
       "version_major": 2,
       "version_minor": 0
      },
      "text/plain": [
       "HBox(children=(IntProgress(value=0, description='reservoir update', max=300, style=ProgressStyle(description_w…"
      ]
     },
     "metadata": {},
     "output_type": "display_data"
    },
    {
     "data": {
      "application/vnd.jupyter.widget-view+json": {
       "model_id": "ce581e9b31be4c758fb97edb06c87e67",
       "version_major": 2,
       "version_minor": 0
      },
      "text/plain": [
       "HBox(children=(IntProgress(value=0, description='reservoir construction', max=1700, style=ProgressStyle(descri…"
      ]
     },
     "metadata": {},
     "output_type": "display_data"
    },
    {
     "name": "stdout",
     "output_type": "stream",
     "text": [
      "\n",
      "Reservoir iterations complete. \t\tElapsed time: 13.512696504592896 s\n",
      "Testing complete. \t\t\tElapsed time: 0.011984586715698242 s\n",
      "Testing score: 2.6508316853240664e-05\n",
      "[CV] .... k=1, rho=1.0000000000000002, train_param=10.0, total=  19.9s\n",
      "[CV] k=1, rho=1.0000000000000002, train_param=10.0 ...................\n",
      "Reservoir Computing algorithm - Training phase:\n",
      "\n",
      "Initialization complete. \t\tElapsed time: 2.0689103603363037 s\n"
     ]
    },
    {
     "data": {
      "application/vnd.jupyter.widget-view+json": {
       "model_id": "34b40976ecda4f94bbca8d7d4e598157",
       "version_major": 2,
       "version_minor": 0
      },
      "text/plain": [
       "HBox(children=(IntProgress(value=0, description='reservoir construction', max=2000, style=ProgressStyle(descri…"
      ]
     },
     "metadata": {},
     "output_type": "display_data"
    },
    {
     "name": "stdout",
     "output_type": "stream",
     "text": [
      "\n",
      "Reservoir iterations complete. \t\tElapsed time: 4.276234865188599 s\n",
      "true_output.shape = (1, 1900, 18)\n",
      "(1, 1900, 4000)\n",
      "concat_states.shape = (1900, 4000)\n",
      "y.shape = (1900, 18)\n",
      "Training complete. \t\t\tElapsed time: 0.28539371490478516 s\n",
      "Training score: 0.9997926945219845\n",
      "Reservoir Computing algorithm - Testing phase:\n",
      "\n",
      "Initialization complete. \t\tElapsed time: 0.0039899349212646484 s\n"
     ]
    },
    {
     "data": {
      "application/vnd.jupyter.widget-view+json": {
       "model_id": "cf1f8ad2a7a5434da43f137ee7667aee",
       "version_major": 2,
       "version_minor": 0
      },
      "text/plain": [
       "HBox(children=(IntProgress(value=0, description='reservoir update', max=300, style=ProgressStyle(description_w…"
      ]
     },
     "metadata": {},
     "output_type": "display_data"
    },
    {
     "data": {
      "application/vnd.jupyter.widget-view+json": {
       "model_id": "ba8b06bd5f6a47029b8843754ee33784",
       "version_major": 2,
       "version_minor": 0
      },
      "text/plain": [
       "HBox(children=(IntProgress(value=0, description='reservoir construction', max=700, style=ProgressStyle(descrip…"
      ]
     },
     "metadata": {},
     "output_type": "display_data"
    },
    {
     "name": "stdout",
     "output_type": "stream",
     "text": [
      "\n",
      "Reservoir iterations complete. \t\tElapsed time: 11.515022277832031 s\n",
      "Testing complete. \t\t\tElapsed time: 0.010990381240844727 s\n",
      "Testing score: 0.0003892495234913129\n",
      "Reservoir Computing algorithm - Testing phase:\n",
      "\n",
      "Initialization complete. \t\tElapsed time: 0.0020248889923095703 s\n"
     ]
    },
    {
     "data": {
      "application/vnd.jupyter.widget-view+json": {
       "model_id": "545c1352157b41e4b3e708f104d9c650",
       "version_major": 2,
       "version_minor": 0
      },
      "text/plain": [
       "HBox(children=(IntProgress(value=0, description='reservoir update', max=300, style=ProgressStyle(description_w…"
      ]
     },
     "metadata": {},
     "output_type": "display_data"
    },
    {
     "data": {
      "application/vnd.jupyter.widget-view+json": {
       "model_id": "be515ac3659342b3ab3c28f7056653df",
       "version_major": 2,
       "version_minor": 0
      },
      "text/plain": [
       "HBox(children=(IntProgress(value=0, description='reservoir construction', max=1700, style=ProgressStyle(descri…"
      ]
     },
     "metadata": {},
     "output_type": "display_data"
    },
    {
     "name": "stdout",
     "output_type": "stream",
     "text": [
      "\n",
      "Reservoir iterations complete. \t\tElapsed time: 13.526917934417725 s\n",
      "Testing complete. \t\t\tElapsed time: 0.012007951736450195 s\n",
      "Testing score: 0.010604557588723564\n",
      "[CV] .... k=1, rho=1.0000000000000002, train_param=10.0, total=  20.0s\n",
      "[CV] k=1, rho=1.0000000000000002, train_param=100.0 ..................\n",
      "Reservoir Computing algorithm - Training phase:\n",
      "\n",
      "Initialization complete. \t\tElapsed time: 2.0201845169067383 s\n"
     ]
    },
    {
     "data": {
      "application/vnd.jupyter.widget-view+json": {
       "model_id": "7dfc3cc8ed0a4f78875f5473c13ddf76",
       "version_major": 2,
       "version_minor": 0
      },
      "text/plain": [
       "HBox(children=(IntProgress(value=0, description='reservoir construction', max=2000, style=ProgressStyle(descri…"
      ]
     },
     "metadata": {},
     "output_type": "display_data"
    },
    {
     "name": "stdout",
     "output_type": "stream",
     "text": [
      "\n",
      "Reservoir iterations complete. \t\tElapsed time: 4.163135528564453 s\n",
      "true_output.shape = (1, 1900, 18)\n",
      "(1, 1900, 4000)\n",
      "concat_states.shape = (1900, 4000)\n",
      "y.shape = (1900, 18)\n",
      "Training complete. \t\t\tElapsed time: 0.2817513942718506 s\n",
      "Training score: 0.9991176979628604\n",
      "Reservoir Computing algorithm - Testing phase:\n",
      "\n",
      "Initialization complete. \t\tElapsed time: 0.003522157669067383 s\n"
     ]
    },
    {
     "data": {
      "application/vnd.jupyter.widget-view+json": {
       "model_id": "3de657036ae5426690de3319b52e7c4d",
       "version_major": 2,
       "version_minor": 0
      },
      "text/plain": [
       "HBox(children=(IntProgress(value=0, description='reservoir update', max=300, style=ProgressStyle(description_w…"
      ]
     },
     "metadata": {},
     "output_type": "display_data"
    },
    {
     "data": {
      "application/vnd.jupyter.widget-view+json": {
       "model_id": "2052c574ef454a0ca0ec50339edd710e",
       "version_major": 2,
       "version_minor": 0
      },
      "text/plain": [
       "HBox(children=(IntProgress(value=0, description='reservoir construction', max=700, style=ProgressStyle(descrip…"
      ]
     },
     "metadata": {},
     "output_type": "display_data"
    },
    {
     "name": "stdout",
     "output_type": "stream",
     "text": [
      "\n",
      "Reservoir iterations complete. \t\tElapsed time: 11.497843027114868 s\n",
      "Testing complete. \t\t\tElapsed time: 0.009975194931030273 s\n",
      "Testing score: 0.032844338674850135\n",
      "Reservoir Computing algorithm - Testing phase:\n",
      "\n",
      "Initialization complete. \t\tElapsed time: 0.0009849071502685547 s\n"
     ]
    },
    {
     "data": {
      "application/vnd.jupyter.widget-view+json": {
       "model_id": "ca1601222f9844e89b352662543775c4",
       "version_major": 2,
       "version_minor": 0
      },
      "text/plain": [
       "HBox(children=(IntProgress(value=0, description='reservoir update', max=300, style=ProgressStyle(description_w…"
      ]
     },
     "metadata": {},
     "output_type": "display_data"
    },
    {
     "data": {
      "application/vnd.jupyter.widget-view+json": {
       "model_id": "9cc7c0e2f4624122a86f0d94e01d82f0",
       "version_major": 2,
       "version_minor": 0
      },
      "text/plain": [
       "HBox(children=(IntProgress(value=0, description='reservoir construction', max=1700, style=ProgressStyle(descri…"
      ]
     },
     "metadata": {},
     "output_type": "display_data"
    },
    {
     "name": "stdout",
     "output_type": "stream",
     "text": [
      "\n",
      "Reservoir iterations complete. \t\tElapsed time: 13.625361442565918 s\n",
      "Testing complete. \t\t\tElapsed time: 0.011998176574707031 s\n",
      "Testing score: 4.736539371833285e-05\n",
      "[CV] ... k=1, rho=1.0000000000000002, train_param=100.0, total=  19.8s\n",
      "[CV] k=1, rho=1.0000000000000002, train_param=100.0 ..................\n",
      "Reservoir Computing algorithm - Training phase:\n",
      "\n",
      "Initialization complete. \t\tElapsed time: 2.0265800952911377 s\n"
     ]
    },
    {
     "data": {
      "application/vnd.jupyter.widget-view+json": {
       "model_id": "d73362f9095147aabfe02b52c8613970",
       "version_major": 2,
       "version_minor": 0
      },
      "text/plain": [
       "HBox(children=(IntProgress(value=0, description='reservoir construction', max=2000, style=ProgressStyle(descri…"
      ]
     },
     "metadata": {},
     "output_type": "display_data"
    },
    {
     "name": "stdout",
     "output_type": "stream",
     "text": [
      "\n",
      "Reservoir iterations complete. \t\tElapsed time: 4.150531053543091 s\n",
      "true_output.shape = (1, 1900, 18)\n",
      "(1, 1900, 4000)\n",
      "concat_states.shape = (1900, 4000)\n",
      "y.shape = (1900, 18)\n",
      "Training complete. \t\t\tElapsed time: 0.2748868465423584 s\n",
      "Training score: 0.9990649736019147\n",
      "Reservoir Computing algorithm - Testing phase:\n",
      "\n",
      "Initialization complete. \t\tElapsed time: 0.003990888595581055 s\n"
     ]
    },
    {
     "data": {
      "application/vnd.jupyter.widget-view+json": {
       "model_id": "4d654052c57f4f9cbf8ebb5c50a8005f",
       "version_major": 2,
       "version_minor": 0
      },
      "text/plain": [
       "HBox(children=(IntProgress(value=0, description='reservoir update', max=300, style=ProgressStyle(description_w…"
      ]
     },
     "metadata": {},
     "output_type": "display_data"
    },
    {
     "data": {
      "application/vnd.jupyter.widget-view+json": {
       "model_id": "462c7423ac3448f58c7cae52d1ed1adc",
       "version_major": 2,
       "version_minor": 0
      },
      "text/plain": [
       "HBox(children=(IntProgress(value=0, description='reservoir construction', max=700, style=ProgressStyle(descrip…"
      ]
     },
     "metadata": {},
     "output_type": "display_data"
    },
    {
     "name": "stdout",
     "output_type": "stream",
     "text": [
      "\n",
      "Reservoir iterations complete. \t\tElapsed time: 11.479135751724243 s\n",
      "Testing complete. \t\t\tElapsed time: 0.012990236282348633 s\n",
      "Testing score: 0.00021433327694407483\n",
      "Reservoir Computing algorithm - Testing phase:\n",
      "\n",
      "Initialization complete. \t\tElapsed time: 0.0009980201721191406 s\n"
     ]
    },
    {
     "data": {
      "application/vnd.jupyter.widget-view+json": {
       "model_id": "d573ceb1a7174889aea1a798be9b8a1a",
       "version_major": 2,
       "version_minor": 0
      },
      "text/plain": [
       "HBox(children=(IntProgress(value=0, description='reservoir update', max=300, style=ProgressStyle(description_w…"
      ]
     },
     "metadata": {},
     "output_type": "display_data"
    },
    {
     "data": {
      "application/vnd.jupyter.widget-view+json": {
       "model_id": "c6ab151f62be445aa718228eba8692c5",
       "version_major": 2,
       "version_minor": 0
      },
      "text/plain": [
       "HBox(children=(IntProgress(value=0, description='reservoir construction', max=1700, style=ProgressStyle(descri…"
      ]
     },
     "metadata": {},
     "output_type": "display_data"
    },
    {
     "name": "stdout",
     "output_type": "stream",
     "text": [
      "\n",
      "Reservoir iterations complete. \t\tElapsed time: 13.476970195770264 s\n",
      "Testing complete. \t\t\tElapsed time: 0.011003732681274414 s\n",
      "Testing score: 0.0012680249895071207\n",
      "[CV] ... k=1, rho=1.0000000000000002, train_param=100.0, total=  19.7s\n",
      "[CV] k=1, rho=1.0000000000000002, train_param=100.0 ..................\n",
      "Reservoir Computing algorithm - Training phase:\n",
      "\n",
      "Initialization complete. \t\tElapsed time: 2.052564859390259 s\n"
     ]
    },
    {
     "data": {
      "application/vnd.jupyter.widget-view+json": {
       "model_id": "8559ead0cc1b44f29ee01a0e17da6254",
       "version_major": 2,
       "version_minor": 0
      },
      "text/plain": [
       "HBox(children=(IntProgress(value=0, description='reservoir construction', max=2000, style=ProgressStyle(descri…"
      ]
     },
     "metadata": {},
     "output_type": "display_data"
    },
    {
     "name": "stdout",
     "output_type": "stream",
     "text": [
      "\n",
      "Reservoir iterations complete. \t\tElapsed time: 4.175617933273315 s\n",
      "true_output.shape = (1, 1900, 18)\n",
      "(1, 1900, 4000)\n",
      "concat_states.shape = (1900, 4000)\n",
      "y.shape = (1900, 18)\n",
      "Training complete. \t\t\tElapsed time: 0.2673006057739258 s\n",
      "Training score: 0.999672533153017\n",
      "Reservoir Computing algorithm - Testing phase:\n",
      "\n",
      "Initialization complete. \t\tElapsed time: 0.0029921531677246094 s\n"
     ]
    },
    {
     "data": {
      "application/vnd.jupyter.widget-view+json": {
       "model_id": "5c90de5b957c475f9a3e7cf27c743dde",
       "version_major": 2,
       "version_minor": 0
      },
      "text/plain": [
       "HBox(children=(IntProgress(value=0, description='reservoir update', max=300, style=ProgressStyle(description_w…"
      ]
     },
     "metadata": {},
     "output_type": "display_data"
    },
    {
     "data": {
      "application/vnd.jupyter.widget-view+json": {
       "model_id": "4dd3ba64aa9b456ab0503fe453b7f228",
       "version_major": 2,
       "version_minor": 0
      },
      "text/plain": [
       "HBox(children=(IntProgress(value=0, description='reservoir construction', max=700, style=ProgressStyle(descrip…"
      ]
     },
     "metadata": {},
     "output_type": "display_data"
    },
    {
     "name": "stdout",
     "output_type": "stream",
     "text": [
      "\n",
      "Reservoir iterations complete. \t\tElapsed time: 11.62104845046997 s\n",
      "Testing complete. \t\t\tElapsed time: 0.011969804763793945 s\n",
      "Testing score: 0.013241831168677925\n",
      "Reservoir Computing algorithm - Testing phase:\n",
      "\n",
      "Initialization complete. \t\tElapsed time: 0.0019867420196533203 s\n"
     ]
    },
    {
     "data": {
      "application/vnd.jupyter.widget-view+json": {
       "model_id": "2a59390dc8204f19bee6acd7211055ee",
       "version_major": 2,
       "version_minor": 0
      },
      "text/plain": [
       "HBox(children=(IntProgress(value=0, description='reservoir update', max=300, style=ProgressStyle(description_w…"
      ]
     },
     "metadata": {},
     "output_type": "display_data"
    },
    {
     "data": {
      "application/vnd.jupyter.widget-view+json": {
       "model_id": "a5b5545a5c7a4af8896ad191b19470ca",
       "version_major": 2,
       "version_minor": 0
      },
      "text/plain": [
       "HBox(children=(IntProgress(value=0, description='reservoir construction', max=1700, style=ProgressStyle(descri…"
      ]
     },
     "metadata": {},
     "output_type": "display_data"
    },
    {
     "name": "stdout",
     "output_type": "stream",
     "text": [
      "\n",
      "Reservoir iterations complete. \t\tElapsed time: 15.54104495048523 s\n",
      "Testing complete. \t\t\tElapsed time: 0.011972188949584961 s\n",
      "Testing score: 0.020785490310110368\n",
      "[CV] ... k=1, rho=1.0000000000000002, train_param=100.0, total=  19.9s\n",
      "[CV] k=1, rho=1.0000000000000002, train_param=1000.0 .................\n",
      "Reservoir Computing algorithm - Training phase:\n",
      "\n",
      "Initialization complete. \t\tElapsed time: 2.284019708633423 s\n"
     ]
    },
    {
     "data": {
      "application/vnd.jupyter.widget-view+json": {
       "model_id": "25aa867b50b5455ba48a263c3bf73364",
       "version_major": 2,
       "version_minor": 0
      },
      "text/plain": [
       "HBox(children=(IntProgress(value=0, description='reservoir construction', max=2000, style=ProgressStyle(descri…"
      ]
     },
     "metadata": {},
     "output_type": "display_data"
    },
    {
     "name": "stdout",
     "output_type": "stream",
     "text": [
      "\n",
      "Reservoir iterations complete. \t\tElapsed time: 4.93349552154541 s\n",
      "true_output.shape = (1, 1900, 18)\n",
      "(1, 1900, 4000)\n",
      "concat_states.shape = (1900, 4000)\n",
      "y.shape = (1900, 18)\n",
      "Training complete. \t\t\tElapsed time: 0.28791284561157227 s\n",
      "Training score: 0.9975642141805848\n",
      "Reservoir Computing algorithm - Testing phase:\n",
      "\n",
      "Initialization complete. \t\tElapsed time: 0.003989458084106445 s\n"
     ]
    },
    {
     "data": {
      "application/vnd.jupyter.widget-view+json": {
       "model_id": "6c1376d1e8e04723b8807b173f48862f",
       "version_major": 2,
       "version_minor": 0
      },
      "text/plain": [
       "HBox(children=(IntProgress(value=0, description='reservoir update', max=300, style=ProgressStyle(description_w…"
      ]
     },
     "metadata": {},
     "output_type": "display_data"
    },
    {
     "data": {
      "application/vnd.jupyter.widget-view+json": {
       "model_id": "3d19f5097a8a49f4a9e239904953e4c5",
       "version_major": 2,
       "version_minor": 0
      },
      "text/plain": [
       "HBox(children=(IntProgress(value=0, description='reservoir construction', max=700, style=ProgressStyle(descrip…"
      ]
     },
     "metadata": {},
     "output_type": "display_data"
    },
    {
     "name": "stdout",
     "output_type": "stream",
     "text": [
      "\n",
      "Reservoir iterations complete. \t\tElapsed time: 12.314045429229736 s\n",
      "Testing complete. \t\t\tElapsed time: 0.012030839920043945 s\n",
      "Testing score: 0.01084473010191571\n",
      "Reservoir Computing algorithm - Testing phase:\n",
      "\n",
      "Initialization complete. \t\tElapsed time: 0.0020017623901367188 s\n"
     ]
    },
    {
     "data": {
      "application/vnd.jupyter.widget-view+json": {
       "model_id": "4601232cf83549f7bd3c65470e24868c",
       "version_major": 2,
       "version_minor": 0
      },
      "text/plain": [
       "HBox(children=(IntProgress(value=0, description='reservoir update', max=300, style=ProgressStyle(description_w…"
      ]
     },
     "metadata": {},
     "output_type": "display_data"
    },
    {
     "data": {
      "application/vnd.jupyter.widget-view+json": {
       "model_id": "a58a93ebb6a341a588ceb03b0f91114a",
       "version_major": 2,
       "version_minor": 0
      },
      "text/plain": [
       "HBox(children=(IntProgress(value=0, description='reservoir construction', max=1700, style=ProgressStyle(descri…"
      ]
     },
     "metadata": {},
     "output_type": "display_data"
    },
    {
     "name": "stdout",
     "output_type": "stream",
     "text": [
      "\n",
      "Reservoir iterations complete. \t\tElapsed time: 13.655563116073608 s\n",
      "Testing complete. \t\t\tElapsed time: 0.012012958526611328 s\n",
      "Testing score: 0.0001789124131933772\n",
      "[CV] .. k=1, rho=1.0000000000000002, train_param=1000.0, total=  21.6s\n",
      "[CV] k=1, rho=1.0000000000000002, train_param=1000.0 .................\n",
      "Reservoir Computing algorithm - Training phase:\n",
      "\n",
      "Initialization complete. \t\tElapsed time: 2.186577081680298 s\n"
     ]
    },
    {
     "data": {
      "application/vnd.jupyter.widget-view+json": {
       "model_id": "f039d27e4c2b4018b19c36f9482cbfc2",
       "version_major": 2,
       "version_minor": 0
      },
      "text/plain": [
       "HBox(children=(IntProgress(value=0, description='reservoir construction', max=2000, style=ProgressStyle(descri…"
      ]
     },
     "metadata": {},
     "output_type": "display_data"
    },
    {
     "name": "stdout",
     "output_type": "stream",
     "text": [
      "\n",
      "Reservoir iterations complete. \t\tElapsed time: 4.595037221908569 s\n",
      "true_output.shape = (1, 1900, 18)\n",
      "(1, 1900, 4000)\n",
      "concat_states.shape = (1900, 4000)\n",
      "y.shape = (1900, 18)\n",
      "Training complete. \t\t\tElapsed time: 0.27190136909484863 s\n",
      "Training score: 0.997706340434851\n",
      "Reservoir Computing algorithm - Testing phase:\n",
      "\n",
      "Initialization complete. \t\tElapsed time: 0.002992391586303711 s\n"
     ]
    },
    {
     "data": {
      "application/vnd.jupyter.widget-view+json": {
       "model_id": "917b07f522ae411ebc97cbce2e0edbd6",
       "version_major": 2,
       "version_minor": 0
      },
      "text/plain": [
       "HBox(children=(IntProgress(value=0, description='reservoir update', max=300, style=ProgressStyle(description_w…"
      ]
     },
     "metadata": {},
     "output_type": "display_data"
    },
    {
     "data": {
      "application/vnd.jupyter.widget-view+json": {
       "model_id": "cfc5588b3620441da828d67ca5c74eff",
       "version_major": 2,
       "version_minor": 0
      },
      "text/plain": [
       "HBox(children=(IntProgress(value=0, description='reservoir construction', max=700, style=ProgressStyle(descrip…"
      ]
     },
     "metadata": {},
     "output_type": "display_data"
    },
    {
     "name": "stdout",
     "output_type": "stream",
     "text": [
      "\n",
      "Reservoir iterations complete. \t\tElapsed time: 11.763430118560791 s\n",
      "Testing complete. \t\t\tElapsed time: 0.011490821838378906 s\n",
      "Testing score: 0.0004727263871508545\n",
      "Reservoir Computing algorithm - Testing phase:\n",
      "\n",
      "Initialization complete. \t\tElapsed time: 0.0009908676147460938 s\n"
     ]
    },
    {
     "data": {
      "application/vnd.jupyter.widget-view+json": {
       "model_id": "475c54e9b188446a96910a7de28e7daf",
       "version_major": 2,
       "version_minor": 0
      },
      "text/plain": [
       "HBox(children=(IntProgress(value=0, description='reservoir update', max=300, style=ProgressStyle(description_w…"
      ]
     },
     "metadata": {},
     "output_type": "display_data"
    },
    {
     "data": {
      "application/vnd.jupyter.widget-view+json": {
       "model_id": "d80928b5781c41f9b6b17fcc03ab7638",
       "version_major": 2,
       "version_minor": 0
      },
      "text/plain": [
       "HBox(children=(IntProgress(value=0, description='reservoir construction', max=1700, style=ProgressStyle(descri…"
      ]
     },
     "metadata": {},
     "output_type": "display_data"
    },
    {
     "name": "stdout",
     "output_type": "stream",
     "text": [
      "\n",
      "Reservoir iterations complete. \t\tElapsed time: 15.07433295249939 s\n",
      "Testing complete. \t\t\tElapsed time: 0.01149439811706543 s\n",
      "Testing score: 0.008729591446710783\n",
      "[CV] .. k=1, rho=1.0000000000000002, train_param=1000.0, total=  20.6s\n",
      "[CV] k=1, rho=1.0000000000000002, train_param=1000.0 .................\n",
      "Reservoir Computing algorithm - Training phase:\n",
      "\n",
      "Initialization complete. \t\tElapsed time: 2.1927340030670166 s\n"
     ]
    },
    {
     "data": {
      "application/vnd.jupyter.widget-view+json": {
       "model_id": "1c17e7460bd24b1099487ef66d5e44f2",
       "version_major": 2,
       "version_minor": 0
      },
      "text/plain": [
       "HBox(children=(IntProgress(value=0, description='reservoir construction', max=2000, style=ProgressStyle(descri…"
      ]
     },
     "metadata": {},
     "output_type": "display_data"
    },
    {
     "name": "stdout",
     "output_type": "stream",
     "text": [
      "\n",
      "Reservoir iterations complete. \t\tElapsed time: 4.754028797149658 s\n",
      "true_output.shape = (1, 1900, 18)\n",
      "(1, 1900, 4000)\n",
      "concat_states.shape = (1900, 4000)\n",
      "y.shape = (1900, 18)\n",
      "Training complete. \t\t\tElapsed time: 0.2708883285522461 s\n",
      "Training score: 0.9983203192092268\n",
      "Reservoir Computing algorithm - Testing phase:\n",
      "\n",
      "Initialization complete. \t\tElapsed time: 0.002992868423461914 s\n"
     ]
    },
    {
     "data": {
      "application/vnd.jupyter.widget-view+json": {
       "model_id": "788e6ce0fe62443da113345b211cbe2f",
       "version_major": 2,
       "version_minor": 0
      },
      "text/plain": [
       "HBox(children=(IntProgress(value=0, description='reservoir update', max=300, style=ProgressStyle(description_w…"
      ]
     },
     "metadata": {},
     "output_type": "display_data"
    },
    {
     "data": {
      "application/vnd.jupyter.widget-view+json": {
       "model_id": "5e1c03ed3e594561961228a98bbda46c",
       "version_major": 2,
       "version_minor": 0
      },
      "text/plain": [
       "HBox(children=(IntProgress(value=0, description='reservoir construction', max=700, style=ProgressStyle(descrip…"
      ]
     },
     "metadata": {},
     "output_type": "display_data"
    },
    {
     "name": "stdout",
     "output_type": "stream",
     "text": [
      "\n",
      "Reservoir iterations complete. \t\tElapsed time: 11.83302617073059 s\n",
      "Testing complete. \t\t\tElapsed time: 0.011988401412963867 s\n",
      "Testing score: 0.006978921799053183\n",
      "Reservoir Computing algorithm - Testing phase:\n",
      "\n",
      "Initialization complete. \t\tElapsed time: 0.0009584426879882812 s\n"
     ]
    },
    {
     "data": {
      "application/vnd.jupyter.widget-view+json": {
       "model_id": "2b19bd9eabd543d6a7d353b86ad3cea8",
       "version_major": 2,
       "version_minor": 0
      },
      "text/plain": [
       "HBox(children=(IntProgress(value=0, description='reservoir update', max=300, style=ProgressStyle(description_w…"
      ]
     },
     "metadata": {},
     "output_type": "display_data"
    },
    {
     "data": {
      "application/vnd.jupyter.widget-view+json": {
       "model_id": "58a470ebc86d49baa9ad47a05efd26a9",
       "version_major": 2,
       "version_minor": 0
      },
      "text/plain": [
       "HBox(children=(IntProgress(value=0, description='reservoir construction', max=1700, style=ProgressStyle(descri…"
      ]
     },
     "metadata": {},
     "output_type": "display_data"
    },
    {
     "name": "stdout",
     "output_type": "stream",
     "text": [
      "\n",
      "Reservoir iterations complete. \t\tElapsed time: 15.244932651519775 s\n",
      "Testing complete. \t\t\tElapsed time: 0.015959739685058594 s\n",
      "Testing score: 0.023363227423052572\n",
      "[CV] .. k=1, rho=1.0000000000000002, train_param=1000.0, total=  20.9s\n",
      "[CV] k=4, rho=0.1, train_param=1 .....................................\n",
      "Reservoir Computing algorithm - Training phase:\n",
      "\n",
      "Initialization complete. \t\tElapsed time: 3.7848167419433594 s\n"
     ]
    },
    {
     "data": {
      "application/vnd.jupyter.widget-view+json": {
       "model_id": "c52d2fde82534d9295826658c4bc5831",
       "version_major": 2,
       "version_minor": 0
      },
      "text/plain": [
       "HBox(children=(IntProgress(value=0, description='reservoir construction', max=2000, style=ProgressStyle(descri…"
      ]
     },
     "metadata": {},
     "output_type": "display_data"
    },
    {
     "name": "stdout",
     "output_type": "stream",
     "text": [
      "\n",
      "Reservoir iterations complete. \t\tElapsed time: 4.037645578384399 s\n",
      "true_output.shape = (1, 1900, 18)\n",
      "(1, 1900, 4000)\n",
      "concat_states.shape = (1900, 4000)\n",
      "y.shape = (1900, 18)\n",
      "Training complete. \t\t\tElapsed time: 0.2752645015716553 s\n",
      "Training score: 0.9992953224373881\n",
      "Reservoir Computing algorithm - Testing phase:\n",
      "\n",
      "Initialization complete. \t\tElapsed time: 0.003989696502685547 s\n"
     ]
    },
    {
     "data": {
      "application/vnd.jupyter.widget-view+json": {
       "model_id": "32206e80321e45c5bcdd7a7084e5905e",
       "version_major": 2,
       "version_minor": 0
      },
      "text/plain": [
       "HBox(children=(IntProgress(value=0, description='reservoir update', max=300, style=ProgressStyle(description_w…"
      ]
     },
     "metadata": {},
     "output_type": "display_data"
    },
    {
     "data": {
      "application/vnd.jupyter.widget-view+json": {
       "model_id": "d5790426a27d486d925e7ebcb32a1fd1",
       "version_major": 2,
       "version_minor": 0
      },
      "text/plain": [
       "HBox(children=(IntProgress(value=0, description='reservoir construction', max=700, style=ProgressStyle(descrip…"
      ]
     },
     "metadata": {},
     "output_type": "display_data"
    },
    {
     "name": "stdout",
     "output_type": "stream",
     "text": [
      "\n",
      "Reservoir iterations complete. \t\tElapsed time: 11.247923851013184 s\n",
      "Testing complete. \t\t\tElapsed time: 0.011970043182373047 s\n",
      "Testing score: 0.058580730798819876\n",
      "Reservoir Computing algorithm - Testing phase:\n",
      "\n",
      "Initialization complete. \t\tElapsed time: 0.0009691715240478516 s\n"
     ]
    },
    {
     "data": {
      "application/vnd.jupyter.widget-view+json": {
       "model_id": "6ecd784cd0654c679112bea5a569c87c",
       "version_major": 2,
       "version_minor": 0
      },
      "text/plain": [
       "HBox(children=(IntProgress(value=0, description='reservoir update', max=300, style=ProgressStyle(description_w…"
      ]
     },
     "metadata": {},
     "output_type": "display_data"
    },
    {
     "data": {
      "application/vnd.jupyter.widget-view+json": {
       "model_id": "b310ee83fa13450cb8ffe24eb3eff81f",
       "version_major": 2,
       "version_minor": 0
      },
      "text/plain": [
       "HBox(children=(IntProgress(value=0, description='reservoir construction', max=1700, style=ProgressStyle(descri…"
      ]
     },
     "metadata": {},
     "output_type": "display_data"
    },
    {
     "name": "stdout",
     "output_type": "stream",
     "text": [
      "\n",
      "Reservoir iterations complete. \t\tElapsed time: 13.6664559841156 s\n",
      "Testing complete. \t\t\tElapsed time: 0.011968374252319336 s\n",
      "Testing score: 0.0006018561527228731\n",
      "[CV] ...................... k=4, rho=0.1, train_param=1, total=  21.1s\n",
      "[CV] k=4, rho=0.1, train_param=1 .....................................\n",
      "Reservoir Computing algorithm - Training phase:\n",
      "\n",
      "Initialization complete. \t\tElapsed time: 3.540532112121582 s\n"
     ]
    },
    {
     "data": {
      "application/vnd.jupyter.widget-view+json": {
       "model_id": "c01dd6e0b152425fbc387c27ef3bb07d",
       "version_major": 2,
       "version_minor": 0
      },
      "text/plain": [
       "HBox(children=(IntProgress(value=0, description='reservoir construction', max=2000, style=ProgressStyle(descri…"
      ]
     },
     "metadata": {},
     "output_type": "display_data"
    },
    {
     "name": "stdout",
     "output_type": "stream",
     "text": [
      "\n",
      "Reservoir iterations complete. \t\tElapsed time: 3.8876051902770996 s\n",
      "true_output.shape = (1, 1900, 18)\n",
      "(1, 1900, 4000)\n",
      "concat_states.shape = (1900, 4000)\n",
      "y.shape = (1900, 18)\n",
      "Training complete. \t\t\tElapsed time: 0.26130080223083496 s\n",
      "Training score: 0.9992353702596333\n",
      "Reservoir Computing algorithm - Testing phase:\n",
      "\n",
      "Initialization complete. \t\tElapsed time: 0.0029921531677246094 s\n"
     ]
    },
    {
     "data": {
      "application/vnd.jupyter.widget-view+json": {
       "model_id": "8eaef65ad675430eb4de57a3ff47c971",
       "version_major": 2,
       "version_minor": 0
      },
      "text/plain": [
       "HBox(children=(IntProgress(value=0, description='reservoir update', max=300, style=ProgressStyle(description_w…"
      ]
     },
     "metadata": {},
     "output_type": "display_data"
    },
    {
     "data": {
      "application/vnd.jupyter.widget-view+json": {
       "model_id": "eb39f2c0dd834728b9be6eee621d8eca",
       "version_major": 2,
       "version_minor": 0
      },
      "text/plain": [
       "HBox(children=(IntProgress(value=0, description='reservoir construction', max=700, style=ProgressStyle(descrip…"
      ]
     },
     "metadata": {},
     "output_type": "display_data"
    },
    {
     "name": "stdout",
     "output_type": "stream",
     "text": [
      "\n",
      "Reservoir iterations complete. \t\tElapsed time: 11.261886358261108 s\n",
      "Testing complete. \t\t\tElapsed time: 0.010972976684570312 s\n",
      "Testing score: 0.0005737757810348584\n",
      "Reservoir Computing algorithm - Testing phase:\n",
      "\n",
      "Initialization complete. \t\tElapsed time: 0.0010266304016113281 s\n"
     ]
    },
    {
     "data": {
      "application/vnd.jupyter.widget-view+json": {
       "model_id": "a874459809f547088229e8a6477f8eb3",
       "version_major": 2,
       "version_minor": 0
      },
      "text/plain": [
       "HBox(children=(IntProgress(value=0, description='reservoir update', max=300, style=ProgressStyle(description_w…"
      ]
     },
     "metadata": {},
     "output_type": "display_data"
    },
    {
     "data": {
      "application/vnd.jupyter.widget-view+json": {
       "model_id": "4f2c75d929654559a1b3ce6f8edcf6c2",
       "version_major": 2,
       "version_minor": 0
      },
      "text/plain": [
       "HBox(children=(IntProgress(value=0, description='reservoir construction', max=1700, style=ProgressStyle(descri…"
      ]
     },
     "metadata": {},
     "output_type": "display_data"
    },
    {
     "name": "stdout",
     "output_type": "stream",
     "text": [
      "\n",
      "Reservoir iterations complete. \t\tElapsed time: 13.639018058776855 s\n",
      "Testing complete. \t\t\tElapsed time: 0.011970281600952148 s\n",
      "Testing score: 0.05423788156100086\n",
      "[CV] ...................... k=4, rho=0.1, train_param=1, total=  20.7s\n",
      "[CV] k=4, rho=0.1, train_param=1 .....................................\n",
      "Reservoir Computing algorithm - Training phase:\n",
      "\n",
      "Initialization complete. \t\tElapsed time: 3.6213150024414062 s\n"
     ]
    },
    {
     "data": {
      "application/vnd.jupyter.widget-view+json": {
       "model_id": "7e614fdeb4eb41b4999b106287eb9ac9",
       "version_major": 2,
       "version_minor": 0
      },
      "text/plain": [
       "HBox(children=(IntProgress(value=0, description='reservoir construction', max=2000, style=ProgressStyle(descri…"
      ]
     },
     "metadata": {},
     "output_type": "display_data"
    },
    {
     "name": "stdout",
     "output_type": "stream",
     "text": [
      "\n",
      "Reservoir iterations complete. \t\tElapsed time: 4.033215284347534 s\n",
      "true_output.shape = (1, 1900, 18)\n",
      "(1, 1900, 4000)\n",
      "concat_states.shape = (1900, 4000)\n",
      "y.shape = (1900, 18)\n",
      "Training complete. \t\t\tElapsed time: 0.2732696533203125 s\n",
      "Training score: 0.9998059089978888\n",
      "Reservoir Computing algorithm - Testing phase:\n",
      "\n",
      "Initialization complete. \t\tElapsed time: 0.004987955093383789 s\n"
     ]
    },
    {
     "data": {
      "application/vnd.jupyter.widget-view+json": {
       "model_id": "eba6b5aaafea47ef84045e19e996aff5",
       "version_major": 2,
       "version_minor": 0
      },
      "text/plain": [
       "HBox(children=(IntProgress(value=0, description='reservoir update', max=300, style=ProgressStyle(description_w…"
      ]
     },
     "metadata": {},
     "output_type": "display_data"
    },
    {
     "data": {
      "application/vnd.jupyter.widget-view+json": {
       "model_id": "ab84f6c7adee4fd386e4811b081d3477",
       "version_major": 2,
       "version_minor": 0
      },
      "text/plain": [
       "HBox(children=(IntProgress(value=0, description='reservoir construction', max=700, style=ProgressStyle(descrip…"
      ]
     },
     "metadata": {},
     "output_type": "display_data"
    },
    {
     "name": "stdout",
     "output_type": "stream",
     "text": [
      "\n",
      "Reservoir iterations complete. \t\tElapsed time: 11.183096170425415 s\n",
      "Testing complete. \t\t\tElapsed time: 0.01097249984741211 s\n",
      "Testing score: 0.039715503097950404\n",
      "Reservoir Computing algorithm - Testing phase:\n",
      "\n",
      "Initialization complete. \t\tElapsed time: 0.0019884109497070312 s\n"
     ]
    },
    {
     "data": {
      "application/vnd.jupyter.widget-view+json": {
       "model_id": "adbba513eb884ec1b9afc10c9bb332f9",
       "version_major": 2,
       "version_minor": 0
      },
      "text/plain": [
       "HBox(children=(IntProgress(value=0, description='reservoir update', max=300, style=ProgressStyle(description_w…"
      ]
     },
     "metadata": {},
     "output_type": "display_data"
    },
    {
     "data": {
      "application/vnd.jupyter.widget-view+json": {
       "model_id": "04a9e18b204846e8bad0a4da20c1fc6a",
       "version_major": 2,
       "version_minor": 0
      },
      "text/plain": [
       "HBox(children=(IntProgress(value=0, description='reservoir construction', max=1700, style=ProgressStyle(descri…"
      ]
     },
     "metadata": {},
     "output_type": "display_data"
    },
    {
     "name": "stdout",
     "output_type": "stream",
     "text": [
      "\n",
      "Reservoir iterations complete. \t\tElapsed time: 13.103930473327637 s\n",
      "Testing complete. \t\t\tElapsed time: 0.01795220375061035 s\n",
      "Testing score: 0.03588816341275341\n",
      "[CV] ...................... k=4, rho=0.1, train_param=1, total=  20.9s\n",
      "[CV] k=4, rho=0.1, train_param=10.0 ..................................\n",
      "Reservoir Computing algorithm - Training phase:\n",
      "\n",
      "Initialization complete. \t\tElapsed time: 4.31343674659729 s\n"
     ]
    },
    {
     "data": {
      "application/vnd.jupyter.widget-view+json": {
       "model_id": "3ad75883aae14a9ba30354e7576e9101",
       "version_major": 2,
       "version_minor": 0
      },
      "text/plain": [
       "HBox(children=(IntProgress(value=0, description='reservoir construction', max=2000, style=ProgressStyle(descri…"
      ]
     },
     "metadata": {},
     "output_type": "display_data"
    },
    {
     "name": "stdout",
     "output_type": "stream",
     "text": [
      "\n",
      "Reservoir iterations complete. \t\tElapsed time: 4.249635934829712 s\n",
      "true_output.shape = (1, 1900, 18)\n",
      "(1, 1900, 4000)\n",
      "concat_states.shape = (1900, 4000)\n",
      "y.shape = (1900, 18)\n",
      "Training complete. \t\t\tElapsed time: 0.2593064308166504 s\n",
      "Training score: 0.9991894961158608\n",
      "Reservoir Computing algorithm - Testing phase:\n",
      "\n",
      "Initialization complete. \t\tElapsed time: 0.003989219665527344 s\n"
     ]
    },
    {
     "data": {
      "application/vnd.jupyter.widget-view+json": {
       "model_id": "d375a61ec4d4469f94478647592e6bce",
       "version_major": 2,
       "version_minor": 0
      },
      "text/plain": [
       "HBox(children=(IntProgress(value=0, description='reservoir update', max=300, style=ProgressStyle(description_w…"
      ]
     },
     "metadata": {},
     "output_type": "display_data"
    },
    {
     "data": {
      "application/vnd.jupyter.widget-view+json": {
       "model_id": "439dc4fd75c84f49b795fc0a288f8bf0",
       "version_major": 2,
       "version_minor": 0
      },
      "text/plain": [
       "HBox(children=(IntProgress(value=0, description='reservoir construction', max=700, style=ProgressStyle(descrip…"
      ]
     },
     "metadata": {},
     "output_type": "display_data"
    },
    {
     "name": "stdout",
     "output_type": "stream",
     "text": [
      "\n",
      "Reservoir iterations complete. \t\tElapsed time: 11.802441358566284 s\n",
      "Testing complete. \t\t\tElapsed time: 0.011968374252319336 s\n",
      "Testing score: 0.018023036256203273\n",
      "Reservoir Computing algorithm - Testing phase:\n",
      "\n",
      "Initialization complete. \t\tElapsed time: 0.0009961128234863281 s\n"
     ]
    },
    {
     "data": {
      "application/vnd.jupyter.widget-view+json": {
       "model_id": "35b3834d32354209a47ed5590de31b63",
       "version_major": 2,
       "version_minor": 0
      },
      "text/plain": [
       "HBox(children=(IntProgress(value=0, description='reservoir update', max=300, style=ProgressStyle(description_w…"
      ]
     },
     "metadata": {},
     "output_type": "display_data"
    },
    {
     "data": {
      "application/vnd.jupyter.widget-view+json": {
       "model_id": "2a7366875dba42d785569abbc9b9f998",
       "version_major": 2,
       "version_minor": 0
      },
      "text/plain": [
       "HBox(children=(IntProgress(value=0, description='reservoir construction', max=1700, style=ProgressStyle(descri…"
      ]
     },
     "metadata": {},
     "output_type": "display_data"
    },
    {
     "name": "stdout",
     "output_type": "stream",
     "text": [
      "\n",
      "Reservoir iterations complete. \t\tElapsed time: 13.969677209854126 s\n",
      "Testing complete. \t\t\tElapsed time: 0.010970354080200195 s\n",
      "Testing score: 0.0037928426264891273\n",
      "[CV] ................... k=4, rho=0.1, train_param=10.0, total=  22.4s\n",
      "[CV] k=4, rho=0.1, train_param=10.0 ..................................\n",
      "Reservoir Computing algorithm - Training phase:\n",
      "\n",
      "Initialization complete. \t\tElapsed time: 4.099015474319458 s\n"
     ]
    },
    {
     "data": {
      "application/vnd.jupyter.widget-view+json": {
       "model_id": "aa2de6cdaa284271bd4e3b76b12232a0",
       "version_major": 2,
       "version_minor": 0
      },
      "text/plain": [
       "HBox(children=(IntProgress(value=0, description='reservoir construction', max=2000, style=ProgressStyle(descri…"
      ]
     },
     "metadata": {},
     "output_type": "display_data"
    },
    {
     "name": "stdout",
     "output_type": "stream",
     "text": [
      "\n",
      "Reservoir iterations complete. \t\tElapsed time: 4.524900197982788 s\n",
      "true_output.shape = (1, 1900, 18)\n",
      "(1, 1900, 4000)\n",
      "concat_states.shape = (1900, 4000)\n",
      "y.shape = (1900, 18)\n",
      "Training complete. \t\t\tElapsed time: 0.28623461723327637 s\n",
      "Training score: 0.999129386468612\n",
      "Reservoir Computing algorithm - Testing phase:\n",
      "\n",
      "Initialization complete. \t\tElapsed time: 0.0029916763305664062 s\n"
     ]
    },
    {
     "data": {
      "application/vnd.jupyter.widget-view+json": {
       "model_id": "441484f9ef884700a899fa41c4613804",
       "version_major": 2,
       "version_minor": 0
      },
      "text/plain": [
       "HBox(children=(IntProgress(value=0, description='reservoir update', max=300, style=ProgressStyle(description_w…"
      ]
     },
     "metadata": {},
     "output_type": "display_data"
    },
    {
     "data": {
      "application/vnd.jupyter.widget-view+json": {
       "model_id": "b7f847cecf6d4e60856aca6871b87de6",
       "version_major": 2,
       "version_minor": 0
      },
      "text/plain": [
       "HBox(children=(IntProgress(value=0, description='reservoir construction', max=700, style=ProgressStyle(descrip…"
      ]
     },
     "metadata": {},
     "output_type": "display_data"
    },
    {
     "name": "stdout",
     "output_type": "stream",
     "text": [
      "\n",
      "Reservoir iterations complete. \t\tElapsed time: 15.17941164970398 s\n",
      "Testing complete. \t\t\tElapsed time: 0.015958070755004883 s\n",
      "Testing score: 0.02950560184044354\n",
      "Reservoir Computing algorithm - Testing phase:\n",
      "\n",
      "Initialization complete. \t\tElapsed time: 0.0029916763305664062 s\n"
     ]
    },
    {
     "data": {
      "application/vnd.jupyter.widget-view+json": {
       "model_id": "cc8ffb84cf2c4e1688f904d94deba316",
       "version_major": 2,
       "version_minor": 0
      },
      "text/plain": [
       "HBox(children=(IntProgress(value=0, description='reservoir update', max=300, style=ProgressStyle(description_w…"
      ]
     },
     "metadata": {},
     "output_type": "display_data"
    },
    {
     "data": {
      "application/vnd.jupyter.widget-view+json": {
       "model_id": "9a127332bd7b424e95cb81b073f708d7",
       "version_major": 2,
       "version_minor": 0
      },
      "text/plain": [
       "HBox(children=(IntProgress(value=0, description='reservoir construction', max=1700, style=ProgressStyle(descri…"
      ]
     },
     "metadata": {},
     "output_type": "display_data"
    },
    {
     "name": "stdout",
     "output_type": "stream",
     "text": [
      "\n",
      "Reservoir iterations complete. \t\tElapsed time: 13.9875967502594 s\n",
      "Testing complete. \t\t\tElapsed time: 0.014965057373046875 s\n",
      "Testing score: 0.00637403214248994\n",
      "[CV] ................... k=4, rho=0.1, train_param=10.0, total=  26.0s\n",
      "[CV] k=4, rho=0.1, train_param=10.0 ..................................\n",
      "Reservoir Computing algorithm - Training phase:\n",
      "\n",
      "Initialization complete. \t\tElapsed time: 3.864665985107422 s\n"
     ]
    },
    {
     "data": {
      "application/vnd.jupyter.widget-view+json": {
       "model_id": "54e87f8bbaf34483a02cbb160a7f480f",
       "version_major": 2,
       "version_minor": 0
      },
      "text/plain": [
       "HBox(children=(IntProgress(value=0, description='reservoir construction', max=2000, style=ProgressStyle(descri…"
      ]
     },
     "metadata": {},
     "output_type": "display_data"
    },
    {
     "name": "stdout",
     "output_type": "stream",
     "text": [
      "\n",
      "Reservoir iterations complete. \t\tElapsed time: 4.525898456573486 s\n",
      "true_output.shape = (1, 1900, 18)\n",
      "(1, 1900, 4000)\n",
      "concat_states.shape = (1900, 4000)\n",
      "y.shape = (1900, 18)\n",
      "Training complete. \t\t\tElapsed time: 0.26429319381713867 s\n",
      "Training score: 0.9997389973085232\n",
      "Reservoir Computing algorithm - Testing phase:\n",
      "\n",
      "Initialization complete. \t\tElapsed time: 0.0039899349212646484 s\n"
     ]
    },
    {
     "data": {
      "application/vnd.jupyter.widget-view+json": {
       "model_id": "ded89f8d98c541cc8074fd74e8252907",
       "version_major": 2,
       "version_minor": 0
      },
      "text/plain": [
       "HBox(children=(IntProgress(value=0, description='reservoir update', max=300, style=ProgressStyle(description_w…"
      ]
     },
     "metadata": {},
     "output_type": "display_data"
    },
    {
     "data": {
      "application/vnd.jupyter.widget-view+json": {
       "model_id": "f3aebd293f054d20b99fbe528674838b",
       "version_major": 2,
       "version_minor": 0
      },
      "text/plain": [
       "HBox(children=(IntProgress(value=0, description='reservoir construction', max=700, style=ProgressStyle(descrip…"
      ]
     },
     "metadata": {},
     "output_type": "display_data"
    },
    {
     "name": "stdout",
     "output_type": "stream",
     "text": [
      "\n",
      "Reservoir iterations complete. \t\tElapsed time: 13.487934350967407 s\n",
      "Testing complete. \t\t\tElapsed time: 0.011969327926635742 s\n",
      "Testing score: 0.01741473752132875\n",
      "Reservoir Computing algorithm - Testing phase:\n",
      "\n",
      "Initialization complete. \t\tElapsed time: 0.0019960403442382812 s\n"
     ]
    },
    {
     "data": {
      "application/vnd.jupyter.widget-view+json": {
       "model_id": "2951ade556ce4c8d8d678353726c1626",
       "version_major": 2,
       "version_minor": 0
      },
      "text/plain": [
       "HBox(children=(IntProgress(value=0, description='reservoir update', max=300, style=ProgressStyle(description_w…"
      ]
     },
     "metadata": {},
     "output_type": "display_data"
    },
    {
     "data": {
      "application/vnd.jupyter.widget-view+json": {
       "model_id": "e83eb55b1c7c44c29db0a9b8f1cdf24e",
       "version_major": 2,
       "version_minor": 0
      },
      "text/plain": [
       "HBox(children=(IntProgress(value=0, description='reservoir construction', max=1700, style=ProgressStyle(descri…"
      ]
     },
     "metadata": {},
     "output_type": "display_data"
    },
    {
     "name": "stdout",
     "output_type": "stream",
     "text": [
      "\n",
      "Reservoir iterations complete. \t\tElapsed time: 14.370571613311768 s\n",
      "Testing complete. \t\t\tElapsed time: 0.01196742057800293 s\n",
      "Testing score: 0.06551889499323096\n",
      "[CV] ................... k=4, rho=0.1, train_param=10.0, total=  24.0s\n",
      "[CV] k=4, rho=0.1, train_param=100.0 .................................\n",
      "Reservoir Computing algorithm - Training phase:\n",
      "\n",
      "Initialization complete. \t\tElapsed time: 3.4467501640319824 s\n"
     ]
    },
    {
     "data": {
      "application/vnd.jupyter.widget-view+json": {
       "model_id": "c919e918abc3414e8adfe6ad71669758",
       "version_major": 2,
       "version_minor": 0
      },
      "text/plain": [
       "HBox(children=(IntProgress(value=0, description='reservoir construction', max=2000, style=ProgressStyle(descri…"
      ]
     },
     "metadata": {},
     "output_type": "display_data"
    },
    {
     "name": "stdout",
     "output_type": "stream",
     "text": [
      "\n",
      "Reservoir iterations complete. \t\tElapsed time: 3.753962278366089 s\n",
      "true_output.shape = (1, 1900, 18)\n",
      "(1, 1900, 4000)\n",
      "concat_states.shape = (1900, 4000)\n",
      "y.shape = (1900, 18)\n",
      "Training complete. \t\t\tElapsed time: 0.26329565048217773 s\n",
      "Training score: 0.9988653291717562\n",
      "Reservoir Computing algorithm - Testing phase:\n",
      "\n",
      "Initialization complete. \t\tElapsed time: 0.00399017333984375 s\n"
     ]
    },
    {
     "data": {
      "application/vnd.jupyter.widget-view+json": {
       "model_id": "01ad383dbe204c4b96bebbdc4afb6546",
       "version_major": 2,
       "version_minor": 0
      },
      "text/plain": [
       "HBox(children=(IntProgress(value=0, description='reservoir update', max=300, style=ProgressStyle(description_w…"
      ]
     },
     "metadata": {},
     "output_type": "display_data"
    },
    {
     "data": {
      "application/vnd.jupyter.widget-view+json": {
       "model_id": "fef4c8952b5d405db270bb00097c9093",
       "version_major": 2,
       "version_minor": 0
      },
      "text/plain": [
       "HBox(children=(IntProgress(value=0, description='reservoir construction', max=700, style=ProgressStyle(descrip…"
      ]
     },
     "metadata": {},
     "output_type": "display_data"
    },
    {
     "name": "stdout",
     "output_type": "stream",
     "text": [
      "\n",
      "Reservoir iterations complete. \t\tElapsed time: 10.941741943359375 s\n",
      "Testing complete. \t\t\tElapsed time: 0.010973930358886719 s\n",
      "Testing score: 0.008841015933166576\n",
      "Reservoir Computing algorithm - Testing phase:\n",
      "\n",
      "Initialization complete. \t\tElapsed time: 0.002026081085205078 s\n"
     ]
    },
    {
     "data": {
      "application/vnd.jupyter.widget-view+json": {
       "model_id": "7cdc3f84891447f3aff491bcadbbb44c",
       "version_major": 2,
       "version_minor": 0
      },
      "text/plain": [
       "HBox(children=(IntProgress(value=0, description='reservoir update', max=300, style=ProgressStyle(description_w…"
      ]
     },
     "metadata": {},
     "output_type": "display_data"
    },
    {
     "data": {
      "application/vnd.jupyter.widget-view+json": {
       "model_id": "78e173a2138641daa849c0f9c008cc0b",
       "version_major": 2,
       "version_minor": 0
      },
      "text/plain": [
       "HBox(children=(IntProgress(value=0, description='reservoir construction', max=1700, style=ProgressStyle(descri…"
      ]
     },
     "metadata": {},
     "output_type": "display_data"
    },
    {
     "name": "stdout",
     "output_type": "stream",
     "text": [
      "\n",
      "Reservoir iterations complete. \t\tElapsed time: 13.285444498062134 s\n",
      "Testing complete. \t\t\tElapsed time: 0.010970354080200195 s\n",
      "Testing score: 0.0018414584029325205\n",
      "[CV] .................. k=4, rho=0.1, train_param=100.0, total=  20.2s\n",
      "[CV] k=4, rho=0.1, train_param=100.0 .................................\n",
      "Reservoir Computing algorithm - Training phase:\n",
      "\n",
      "Initialization complete. \t\tElapsed time: 3.44574236869812 s\n"
     ]
    },
    {
     "data": {
      "application/vnd.jupyter.widget-view+json": {
       "model_id": "2506f88ed4424bf1a1e3a7fca28d720c",
       "version_major": 2,
       "version_minor": 0
      },
      "text/plain": [
       "HBox(children=(IntProgress(value=0, description='reservoir construction', max=2000, style=ProgressStyle(descri…"
      ]
     },
     "metadata": {},
     "output_type": "display_data"
    },
    {
     "name": "stdout",
     "output_type": "stream",
     "text": [
      "\n",
      "Reservoir iterations complete. \t\tElapsed time: 3.6781651973724365 s\n",
      "true_output.shape = (1, 1900, 18)\n",
      "(1, 1900, 4000)\n",
      "concat_states.shape = (1900, 4000)\n",
      "y.shape = (1900, 18)\n",
      "Training complete. \t\t\tElapsed time: 0.3071784973144531 s\n",
      "Training score: 0.9988219334287106\n",
      "Reservoir Computing algorithm - Testing phase:\n",
      "\n",
      "Initialization complete. \t\tElapsed time: 0.003988742828369141 s\n"
     ]
    },
    {
     "data": {
      "application/vnd.jupyter.widget-view+json": {
       "model_id": "655b9a3ad945446981b0483773a4e7ce",
       "version_major": 2,
       "version_minor": 0
      },
      "text/plain": [
       "HBox(children=(IntProgress(value=0, description='reservoir update', max=300, style=ProgressStyle(description_w…"
      ]
     },
     "metadata": {},
     "output_type": "display_data"
    },
    {
     "data": {
      "application/vnd.jupyter.widget-view+json": {
       "model_id": "1241af19ab4842188d6a2926cb19aee0",
       "version_major": 2,
       "version_minor": 0
      },
      "text/plain": [
       "HBox(children=(IntProgress(value=0, description='reservoir construction', max=700, style=ProgressStyle(descrip…"
      ]
     },
     "metadata": {},
     "output_type": "display_data"
    },
    {
     "name": "stdout",
     "output_type": "stream",
     "text": [
      "\n",
      "Reservoir iterations complete. \t\tElapsed time: 12.317064762115479 s\n",
      "Testing complete. \t\t\tElapsed time: 0.011969327926635742 s\n",
      "Testing score: 0.02837748038931548\n",
      "Reservoir Computing algorithm - Testing phase:\n",
      "\n",
      "Initialization complete. \t\tElapsed time: 0.0020020008087158203 s\n"
     ]
    },
    {
     "data": {
      "application/vnd.jupyter.widget-view+json": {
       "model_id": "8f420a7f8f4644119037b5a1f4da9bb6",
       "version_major": 2,
       "version_minor": 0
      },
      "text/plain": [
       "HBox(children=(IntProgress(value=0, description='reservoir update', max=300, style=ProgressStyle(description_w…"
      ]
     },
     "metadata": {},
     "output_type": "display_data"
    },
    {
     "data": {
      "application/vnd.jupyter.widget-view+json": {
       "model_id": "66f68ae387b64709b0d5894e48d980fd",
       "version_major": 2,
       "version_minor": 0
      },
      "text/plain": [
       "HBox(children=(IntProgress(value=0, description='reservoir construction', max=1700, style=ProgressStyle(descri…"
      ]
     },
     "metadata": {},
     "output_type": "display_data"
    },
    {
     "name": "stdout",
     "output_type": "stream",
     "text": [
      "\n",
      "Reservoir iterations complete. \t\tElapsed time: 15.085654258728027 s\n",
      "Testing complete. \t\t\tElapsed time: 0.0109710693359375 s\n",
      "Testing score: 0.0033894624479814187\n",
      "[CV] .................. k=4, rho=0.1, train_param=100.0, total=  21.6s\n",
      "[CV] k=4, rho=0.1, train_param=100.0 .................................\n",
      "Reservoir Computing algorithm - Training phase:\n",
      "\n",
      "Initialization complete. \t\tElapsed time: 3.893587350845337 s\n"
     ]
    },
    {
     "data": {
      "application/vnd.jupyter.widget-view+json": {
       "model_id": "edacb811d2774da5a2ce5a8af64875ed",
       "version_major": 2,
       "version_minor": 0
      },
      "text/plain": [
       "HBox(children=(IntProgress(value=0, description='reservoir construction', max=2000, style=ProgressStyle(descri…"
      ]
     },
     "metadata": {},
     "output_type": "display_data"
    },
    {
     "name": "stdout",
     "output_type": "stream",
     "text": [
      "\n",
      "Reservoir iterations complete. \t\tElapsed time: 4.051168918609619 s\n",
      "true_output.shape = (1, 1900, 18)\n",
      "(1, 1900, 4000)\n",
      "concat_states.shape = (1900, 4000)\n",
      "y.shape = (1900, 18)\n",
      "Training complete. \t\t\tElapsed time: 0.28922486305236816 s\n",
      "Training score: 0.9994502500020086\n",
      "Reservoir Computing algorithm - Testing phase:\n",
      "\n",
      "Initialization complete. \t\tElapsed time: 0.0039904117584228516 s\n"
     ]
    },
    {
     "data": {
      "application/vnd.jupyter.widget-view+json": {
       "model_id": "dd02f38dd75a4feabc6e367781985d8e",
       "version_major": 2,
       "version_minor": 0
      },
      "text/plain": [
       "HBox(children=(IntProgress(value=0, description='reservoir update', max=300, style=ProgressStyle(description_w…"
      ]
     },
     "metadata": {},
     "output_type": "display_data"
    },
    {
     "data": {
      "application/vnd.jupyter.widget-view+json": {
       "model_id": "4f5c45d44be7416ca8816b34f371b5fb",
       "version_major": 2,
       "version_minor": 0
      },
      "text/plain": [
       "HBox(children=(IntProgress(value=0, description='reservoir construction', max=700, style=ProgressStyle(descrip…"
      ]
     },
     "metadata": {},
     "output_type": "display_data"
    },
    {
     "name": "stdout",
     "output_type": "stream",
     "text": [
      "\n",
      "Reservoir iterations complete. \t\tElapsed time: 13.524834156036377 s\n",
      "Testing complete. \t\t\tElapsed time: 0.016956567764282227 s\n",
      "Testing score: 0.008514946452771288\n",
      "Reservoir Computing algorithm - Testing phase:\n",
      "\n",
      "Initialization complete. \t\tElapsed time: 0.001994609832763672 s\n"
     ]
    },
    {
     "data": {
      "application/vnd.jupyter.widget-view+json": {
       "model_id": "a0a2fa0c8b5b4170a9c88d2ee076077a",
       "version_major": 2,
       "version_minor": 0
      },
      "text/plain": [
       "HBox(children=(IntProgress(value=0, description='reservoir update', max=300, style=ProgressStyle(description_w…"
      ]
     },
     "metadata": {},
     "output_type": "display_data"
    },
    {
     "data": {
      "application/vnd.jupyter.widget-view+json": {
       "model_id": "f80e3d4ee8be457e84b126b937cd7a11",
       "version_major": 2,
       "version_minor": 0
      },
      "text/plain": [
       "HBox(children=(IntProgress(value=0, description='reservoir construction', max=1700, style=ProgressStyle(descri…"
      ]
     },
     "metadata": {},
     "output_type": "display_data"
    },
    {
     "name": "stdout",
     "output_type": "stream",
     "text": [
      "\n",
      "Reservoir iterations complete. \t\tElapsed time: 15.383864164352417 s\n",
      "Testing complete. \t\t\tElapsed time: 0.0159604549407959 s\n",
      "Testing score: 0.043309920325726434\n",
      "[CV] .................. k=4, rho=0.1, train_param=100.0, total=  23.7s\n",
      "[CV] k=4, rho=0.1, train_param=1000.0 ................................\n",
      "Reservoir Computing algorithm - Training phase:\n",
      "\n",
      "Initialization complete. \t\tElapsed time: 5.0165855884552 s\n"
     ]
    },
    {
     "data": {
      "application/vnd.jupyter.widget-view+json": {
       "model_id": "8269408f1cc04e15aa8e4f61d4465ebc",
       "version_major": 2,
       "version_minor": 0
      },
      "text/plain": [
       "HBox(children=(IntProgress(value=0, description='reservoir construction', max=2000, style=ProgressStyle(descri…"
      ]
     },
     "metadata": {},
     "output_type": "display_data"
    },
    {
     "name": "stdout",
     "output_type": "stream",
     "text": [
      "\n",
      "Reservoir iterations complete. \t\tElapsed time: 5.096373558044434 s\n",
      "true_output.shape = (1, 1900, 18)\n",
      "(1, 1900, 4000)\n",
      "concat_states.shape = (1900, 4000)\n",
      "y.shape = (1900, 18)\n",
      "Training complete. \t\t\tElapsed time: 0.34407997131347656 s\n",
      "Training score: 0.9970545564125315\n",
      "Reservoir Computing algorithm - Testing phase:\n",
      "\n",
      "Initialization complete. \t\tElapsed time: 0.003990650177001953 s\n"
     ]
    },
    {
     "data": {
      "application/vnd.jupyter.widget-view+json": {
       "model_id": "d602b04b7b574451816ccefc5a75be17",
       "version_major": 2,
       "version_minor": 0
      },
      "text/plain": [
       "HBox(children=(IntProgress(value=0, description='reservoir update', max=300, style=ProgressStyle(description_w…"
      ]
     },
     "metadata": {},
     "output_type": "display_data"
    },
    {
     "data": {
      "application/vnd.jupyter.widget-view+json": {
       "model_id": "2b3a99d77a6f4f2696668450d9dbb0c5",
       "version_major": 2,
       "version_minor": 0
      },
      "text/plain": [
       "HBox(children=(IntProgress(value=0, description='reservoir construction', max=700, style=ProgressStyle(descrip…"
      ]
     },
     "metadata": {},
     "output_type": "display_data"
    },
    {
     "name": "stdout",
     "output_type": "stream",
     "text": [
      "\n",
      "Reservoir iterations complete. \t\tElapsed time: 13.156818628311157 s\n",
      "Testing complete. \t\t\tElapsed time: 0.012966632843017578 s\n",
      "Testing score: 0.016698010033336104\n",
      "Reservoir Computing algorithm - Testing phase:\n",
      "\n",
      "Initialization complete. \t\tElapsed time: 0.000993967056274414 s\n"
     ]
    },
    {
     "data": {
      "application/vnd.jupyter.widget-view+json": {
       "model_id": "6ba792970b374832a2ddfe8772976357",
       "version_major": 2,
       "version_minor": 0
      },
      "text/plain": [
       "HBox(children=(IntProgress(value=0, description='reservoir update', max=300, style=ProgressStyle(description_w…"
      ]
     },
     "metadata": {},
     "output_type": "display_data"
    },
    {
     "data": {
      "application/vnd.jupyter.widget-view+json": {
       "model_id": "825273eac255431f9ca64cd435aa3bae",
       "version_major": 2,
       "version_minor": 0
      },
      "text/plain": [
       "HBox(children=(IntProgress(value=0, description='reservoir construction', max=1700, style=ProgressStyle(descri…"
      ]
     },
     "metadata": {},
     "output_type": "display_data"
    },
    {
     "name": "stdout",
     "output_type": "stream",
     "text": [
      "\n",
      "Reservoir iterations complete. \t\tElapsed time: 14.137166261672974 s\n",
      "Testing complete. \t\t\tElapsed time: 0.017952680587768555 s\n",
      "Testing score: 0.00010712856882782387\n",
      "[CV] ................. k=4, rho=0.1, train_param=1000.0, total=  25.4s\n",
      "[CV] k=4, rho=0.1, train_param=1000.0 ................................\n",
      "Reservoir Computing algorithm - Training phase:\n",
      "\n",
      "Initialization complete. \t\tElapsed time: 3.8975770473480225 s\n"
     ]
    },
    {
     "data": {
      "application/vnd.jupyter.widget-view+json": {
       "model_id": "a7aeff1531a64810b36a56c650d1ce56",
       "version_major": 2,
       "version_minor": 0
      },
      "text/plain": [
       "HBox(children=(IntProgress(value=0, description='reservoir construction', max=2000, style=ProgressStyle(descri…"
      ]
     },
     "metadata": {},
     "output_type": "display_data"
    },
    {
     "name": "stdout",
     "output_type": "stream",
     "text": [
      "\n",
      "Reservoir iterations complete. \t\tElapsed time: 4.377295732498169 s\n",
      "true_output.shape = (1, 1900, 18)\n",
      "(1, 1900, 4000)\n",
      "concat_states.shape = (1900, 4000)\n",
      "y.shape = (1900, 18)\n",
      "Training complete. \t\t\tElapsed time: 0.26927971839904785 s\n",
      "Training score: 0.9970113157482996\n",
      "Reservoir Computing algorithm - Testing phase:\n",
      "\n",
      "Initialization complete. \t\tElapsed time: 0.0029921531677246094 s\n"
     ]
    },
    {
     "data": {
      "application/vnd.jupyter.widget-view+json": {
       "model_id": "8097a87f62c44cfba7b1c6e24e9c3d76",
       "version_major": 2,
       "version_minor": 0
      },
      "text/plain": [
       "HBox(children=(IntProgress(value=0, description='reservoir update', max=300, style=ProgressStyle(description_w…"
      ]
     },
     "metadata": {},
     "output_type": "display_data"
    },
    {
     "data": {
      "application/vnd.jupyter.widget-view+json": {
       "model_id": "1b5a35e6a2714b548bfc0d913575c8e2",
       "version_major": 2,
       "version_minor": 0
      },
      "text/plain": [
       "HBox(children=(IntProgress(value=0, description='reservoir construction', max=700, style=ProgressStyle(descrip…"
      ]
     },
     "metadata": {},
     "output_type": "display_data"
    },
    {
     "name": "stdout",
     "output_type": "stream",
     "text": [
      "\n",
      "Reservoir iterations complete. \t\tElapsed time: 12.522515535354614 s\n",
      "Testing complete. \t\t\tElapsed time: 0.01496124267578125 s\n",
      "Testing score: 0.009520503779631383\n",
      "Reservoir Computing algorithm - Testing phase:\n",
      "\n",
      "Initialization complete. \t\tElapsed time: 0.0009686946868896484 s\n"
     ]
    },
    {
     "data": {
      "application/vnd.jupyter.widget-view+json": {
       "model_id": "f23c2adb957e401d83746c11ef61148a",
       "version_major": 2,
       "version_minor": 0
      },
      "text/plain": [
       "HBox(children=(IntProgress(value=0, description='reservoir update', max=300, style=ProgressStyle(description_w…"
      ]
     },
     "metadata": {},
     "output_type": "display_data"
    },
    {
     "data": {
      "application/vnd.jupyter.widget-view+json": {
       "model_id": "ea343fba23f64fa68fee22df47a24086",
       "version_major": 2,
       "version_minor": 0
      },
      "text/plain": [
       "HBox(children=(IntProgress(value=0, description='reservoir construction', max=1700, style=ProgressStyle(descri…"
      ]
     },
     "metadata": {},
     "output_type": "display_data"
    },
    {
     "name": "stdout",
     "output_type": "stream",
     "text": [
      "\n",
      "Reservoir iterations complete. \t\tElapsed time: 15.918435096740723 s\n",
      "Testing complete. \t\t\tElapsed time: 0.01097249984741211 s\n",
      "Testing score: 0.003787901185368943\n",
      "[CV] ................. k=4, rho=0.1, train_param=1000.0, total=  23.0s\n",
      "[CV] k=4, rho=0.1, train_param=1000.0 ................................\n",
      "Reservoir Computing algorithm - Training phase:\n",
      "\n",
      "Initialization complete. \t\tElapsed time: 3.708073854446411 s\n"
     ]
    },
    {
     "data": {
      "application/vnd.jupyter.widget-view+json": {
       "model_id": "4147399884964396a4d5f550f247c3a7",
       "version_major": 2,
       "version_minor": 0
      },
      "text/plain": [
       "HBox(children=(IntProgress(value=0, description='reservoir construction', max=2000, style=ProgressStyle(descri…"
      ]
     },
     "metadata": {},
     "output_type": "display_data"
    },
    {
     "name": "stdout",
     "output_type": "stream",
     "text": [
      "\n",
      "Reservoir iterations complete. \t\tElapsed time: 4.236671686172485 s\n",
      "true_output.shape = (1, 1900, 18)\n",
      "(1, 1900, 4000)\n",
      "concat_states.shape = (1900, 4000)\n",
      "y.shape = (1900, 18)\n",
      "Training complete. \t\t\tElapsed time: 0.2563145160675049 s\n",
      "Training score: 0.9975411378260628\n",
      "Reservoir Computing algorithm - Testing phase:\n",
      "\n",
      "Initialization complete. \t\tElapsed time: 0.002991914749145508 s\n"
     ]
    },
    {
     "data": {
      "application/vnd.jupyter.widget-view+json": {
       "model_id": "2a13de8ca8d6488f86bf98e0bf426e24",
       "version_major": 2,
       "version_minor": 0
      },
      "text/plain": [
       "HBox(children=(IntProgress(value=0, description='reservoir update', max=300, style=ProgressStyle(description_w…"
      ]
     },
     "metadata": {},
     "output_type": "display_data"
    },
    {
     "data": {
      "application/vnd.jupyter.widget-view+json": {
       "model_id": "f90973cf92b14adf888d91c88caec2d0",
       "version_major": 2,
       "version_minor": 0
      },
      "text/plain": [
       "HBox(children=(IntProgress(value=0, description='reservoir construction', max=700, style=ProgressStyle(descrip…"
      ]
     },
     "metadata": {},
     "output_type": "display_data"
    },
    {
     "name": "stdout",
     "output_type": "stream",
     "text": [
      "\n",
      "Reservoir iterations complete. \t\tElapsed time: 13.009725332260132 s\n",
      "Testing complete. \t\t\tElapsed time: 0.010972261428833008 s\n",
      "Testing score: 0.02118851594123343\n",
      "Reservoir Computing algorithm - Testing phase:\n",
      "\n",
      "Initialization complete. \t\tElapsed time: 0.0020227432250976562 s\n"
     ]
    },
    {
     "data": {
      "application/vnd.jupyter.widget-view+json": {
       "model_id": "46505c1740b34bbea4e7ba65731b8cba",
       "version_major": 2,
       "version_minor": 0
      },
      "text/plain": [
       "HBox(children=(IntProgress(value=0, description='reservoir update', max=300, style=ProgressStyle(description_w…"
      ]
     },
     "metadata": {},
     "output_type": "display_data"
    },
    {
     "data": {
      "application/vnd.jupyter.widget-view+json": {
       "model_id": "09bd8547baef4fa3b92bd244502dcd73",
       "version_major": 2,
       "version_minor": 0
      },
      "text/plain": [
       "HBox(children=(IntProgress(value=0, description='reservoir construction', max=1700, style=ProgressStyle(descri…"
      ]
     },
     "metadata": {},
     "output_type": "display_data"
    },
    {
     "name": "stdout",
     "output_type": "stream",
     "text": [
      "\n",
      "Reservoir iterations complete. \t\tElapsed time: 13.67540431022644 s\n",
      "Testing complete. \t\t\tElapsed time: 0.012967824935913086 s\n",
      "Testing score: 0.02137044700148392\n",
      "[CV] ................. k=4, rho=0.1, train_param=1000.0, total=  23.0s\n",
      "[CV] k=4, rho=0.4, train_param=1 .....................................\n",
      "Reservoir Computing algorithm - Training phase:\n",
      "\n",
      "Initialization complete. \t\tElapsed time: 4.009250164031982 s\n"
     ]
    },
    {
     "data": {
      "application/vnd.jupyter.widget-view+json": {
       "model_id": "1f374047146d45f3bfee195899107c64",
       "version_major": 2,
       "version_minor": 0
      },
      "text/plain": [
       "HBox(children=(IntProgress(value=0, description='reservoir construction', max=2000, style=ProgressStyle(descri…"
      ]
     },
     "metadata": {},
     "output_type": "display_data"
    },
    {
     "name": "stdout",
     "output_type": "stream",
     "text": [
      "\n",
      "Reservoir iterations complete. \t\tElapsed time: 4.447108745574951 s\n",
      "true_output.shape = (1, 1900, 18)\n",
      "(1, 1900, 4000)\n",
      "concat_states.shape = (1900, 4000)\n",
      "y.shape = (1900, 18)\n",
      "Training complete. \t\t\tElapsed time: 0.26628804206848145 s\n",
      "Training score: 0.999307658098609\n",
      "Reservoir Computing algorithm - Testing phase:\n",
      "\n",
      "Initialization complete. \t\tElapsed time: 0.003989696502685547 s\n"
     ]
    },
    {
     "data": {
      "application/vnd.jupyter.widget-view+json": {
       "model_id": "094dc1ad8e244452af92fbdc7525ae7b",
       "version_major": 2,
       "version_minor": 0
      },
      "text/plain": [
       "HBox(children=(IntProgress(value=0, description='reservoir update', max=300, style=ProgressStyle(description_w…"
      ]
     },
     "metadata": {},
     "output_type": "display_data"
    },
    {
     "data": {
      "application/vnd.jupyter.widget-view+json": {
       "model_id": "fa2a20985edd471988f6dc37479df0af",
       "version_major": 2,
       "version_minor": 0
      },
      "text/plain": [
       "HBox(children=(IntProgress(value=0, description='reservoir construction', max=700, style=ProgressStyle(descrip…"
      ]
     },
     "metadata": {},
     "output_type": "display_data"
    },
    {
     "name": "stdout",
     "output_type": "stream",
     "text": [
      "\n",
      "Reservoir iterations complete. \t\tElapsed time: 13.79912257194519 s\n",
      "Testing complete. \t\t\tElapsed time: 0.011970996856689453 s\n",
      "Testing score: 0.1052792317095077\n",
      "Reservoir Computing algorithm - Testing phase:\n",
      "\n",
      "Initialization complete. \t\tElapsed time: 0.000997304916381836 s\n"
     ]
    },
    {
     "data": {
      "application/vnd.jupyter.widget-view+json": {
       "model_id": "246722f72a9845cca0e0e762bb01242b",
       "version_major": 2,
       "version_minor": 0
      },
      "text/plain": [
       "HBox(children=(IntProgress(value=0, description='reservoir update', max=300, style=ProgressStyle(description_w…"
      ]
     },
     "metadata": {},
     "output_type": "display_data"
    },
    {
     "data": {
      "application/vnd.jupyter.widget-view+json": {
       "model_id": "8b55b7136f584a729486092bc868ffaf",
       "version_major": 2,
       "version_minor": 0
      },
      "text/plain": [
       "HBox(children=(IntProgress(value=0, description='reservoir construction', max=1700, style=ProgressStyle(descri…"
      ]
     },
     "metadata": {},
     "output_type": "display_data"
    },
    {
     "name": "stdout",
     "output_type": "stream",
     "text": [
      "\n",
      "Reservoir iterations complete. \t\tElapsed time: 13.830984830856323 s\n",
      "Testing complete. \t\t\tElapsed time: 0.011968612670898438 s\n",
      "Testing score: 0.006548509176394188\n",
      "[CV] ...................... k=4, rho=0.4, train_param=1, total=  24.3s\n",
      "[CV] k=4, rho=0.4, train_param=1 .....................................\n",
      "Reservoir Computing algorithm - Training phase:\n",
      "\n",
      "Initialization complete. \t\tElapsed time: 3.9843454360961914 s\n"
     ]
    },
    {
     "data": {
      "application/vnd.jupyter.widget-view+json": {
       "model_id": "fd2314763aab4f68b4cd9132be662392",
       "version_major": 2,
       "version_minor": 0
      },
      "text/plain": [
       "HBox(children=(IntProgress(value=0, description='reservoir construction', max=2000, style=ProgressStyle(descri…"
      ]
     },
     "metadata": {},
     "output_type": "display_data"
    },
    {
     "name": "stdout",
     "output_type": "stream",
     "text": [
      "\n",
      "Reservoir iterations complete. \t\tElapsed time: 4.436654329299927 s\n",
      "true_output.shape = (1, 1900, 18)\n",
      "(1, 1900, 4000)\n",
      "concat_states.shape = (1900, 4000)\n",
      "y.shape = (1900, 18)\n",
      "Training complete. \t\t\tElapsed time: 0.2622988224029541 s\n",
      "Training score: 0.9992538879230775\n",
      "Reservoir Computing algorithm - Testing phase:\n",
      "\n",
      "Initialization complete. \t\tElapsed time: 0.004986763000488281 s\n"
     ]
    },
    {
     "data": {
      "application/vnd.jupyter.widget-view+json": {
       "model_id": "1565694384104e7581555b1cf582c019",
       "version_major": 2,
       "version_minor": 0
      },
      "text/plain": [
       "HBox(children=(IntProgress(value=0, description='reservoir update', max=300, style=ProgressStyle(description_w…"
      ]
     },
     "metadata": {},
     "output_type": "display_data"
    },
    {
     "data": {
      "application/vnd.jupyter.widget-view+json": {
       "model_id": "166eb10237a542c788372128ffa1b2dc",
       "version_major": 2,
       "version_minor": 0
      },
      "text/plain": [
       "HBox(children=(IntProgress(value=0, description='reservoir construction', max=700, style=ProgressStyle(descrip…"
      ]
     },
     "metadata": {},
     "output_type": "display_data"
    },
    {
     "name": "stdout",
     "output_type": "stream",
     "text": [
      "\n",
      "Reservoir iterations complete. \t\tElapsed time: 13.85000228881836 s\n",
      "Testing complete. \t\t\tElapsed time: 0.011969804763793945 s\n",
      "Testing score: 0.0020342579541217393\n",
      "Reservoir Computing algorithm - Testing phase:\n",
      "\n",
      "Initialization complete. \t\tElapsed time: 0.0019598007202148438 s\n"
     ]
    },
    {
     "data": {
      "application/vnd.jupyter.widget-view+json": {
       "model_id": "c18379a35f824015b7f25c0ebabd9af5",
       "version_major": 2,
       "version_minor": 0
      },
      "text/plain": [
       "HBox(children=(IntProgress(value=0, description='reservoir update', max=300, style=ProgressStyle(description_w…"
      ]
     },
     "metadata": {},
     "output_type": "display_data"
    },
    {
     "data": {
      "application/vnd.jupyter.widget-view+json": {
       "model_id": "809f0b3459a04662a58efa51faefc963",
       "version_major": 2,
       "version_minor": 0
      },
      "text/plain": [
       "HBox(children=(IntProgress(value=0, description='reservoir construction', max=1700, style=ProgressStyle(descri…"
      ]
     },
     "metadata": {},
     "output_type": "display_data"
    },
    {
     "name": "stdout",
     "output_type": "stream",
     "text": [
      "\n",
      "Reservoir iterations complete. \t\tElapsed time: 13.872904300689697 s\n",
      "Testing complete. \t\t\tElapsed time: 0.011971712112426758 s\n",
      "Testing score: 0.0032098171271920484\n",
      "[CV] ...................... k=4, rho=0.4, train_param=1, total=  24.4s\n",
      "[CV] k=4, rho=0.4, train_param=1 .....................................\n",
      "Reservoir Computing algorithm - Training phase:\n",
      "\n",
      "Initialization complete. \t\tElapsed time: 4.118130683898926 s\n"
     ]
    },
    {
     "data": {
      "application/vnd.jupyter.widget-view+json": {
       "model_id": "dae0db21d3784ab59f7d961410aad8db",
       "version_major": 2,
       "version_minor": 0
      },
      "text/plain": [
       "HBox(children=(IntProgress(value=0, description='reservoir construction', max=2000, style=ProgressStyle(descri…"
      ]
     },
     "metadata": {},
     "output_type": "display_data"
    },
    {
     "name": "stdout",
     "output_type": "stream",
     "text": [
      "\n",
      "Reservoir iterations complete. \t\tElapsed time: 4.891635417938232 s\n",
      "true_output.shape = (1, 1900, 18)\n",
      "(1, 1900, 4000)\n",
      "concat_states.shape = (1900, 4000)\n",
      "y.shape = (1900, 18)\n",
      "Training complete. \t\t\tElapsed time: 0.2702784538269043 s\n",
      "Training score: 0.9998111367479028\n",
      "Reservoir Computing algorithm - Testing phase:\n",
      "\n",
      "Initialization complete. \t\tElapsed time: 0.004986763000488281 s\n"
     ]
    },
    {
     "data": {
      "application/vnd.jupyter.widget-view+json": {
       "model_id": "34c882ee098344faa7d031a50af29a0a",
       "version_major": 2,
       "version_minor": 0
      },
      "text/plain": [
       "HBox(children=(IntProgress(value=0, description='reservoir update', max=300, style=ProgressStyle(description_w…"
      ]
     },
     "metadata": {},
     "output_type": "display_data"
    },
    {
     "data": {
      "application/vnd.jupyter.widget-view+json": {
       "model_id": "5a45b67b85624128a8b48b1fd03d817d",
       "version_major": 2,
       "version_minor": 0
      },
      "text/plain": [
       "HBox(children=(IntProgress(value=0, description='reservoir construction', max=700, style=ProgressStyle(descrip…"
      ]
     },
     "metadata": {},
     "output_type": "display_data"
    },
    {
     "name": "stdout",
     "output_type": "stream",
     "text": [
      "\n",
      "Reservoir iterations complete. \t\tElapsed time: 11.560089111328125 s\n",
      "Testing complete. \t\t\tElapsed time: 0.010971307754516602 s\n",
      "Testing score: 0.04570559148044583\n",
      "Reservoir Computing algorithm - Testing phase:\n",
      "\n",
      "Initialization complete. \t\tElapsed time: 0.0010018348693847656 s\n"
     ]
    },
    {
     "data": {
      "application/vnd.jupyter.widget-view+json": {
       "model_id": "8c67b3f657fc4c61b1d753dfb7addfa0",
       "version_major": 2,
       "version_minor": 0
      },
      "text/plain": [
       "HBox(children=(IntProgress(value=0, description='reservoir update', max=300, style=ProgressStyle(description_w…"
      ]
     },
     "metadata": {},
     "output_type": "display_data"
    },
    {
     "data": {
      "application/vnd.jupyter.widget-view+json": {
       "model_id": "51fb7871b900448fb0c10418bcdc72ef",
       "version_major": 2,
       "version_minor": 0
      },
      "text/plain": [
       "HBox(children=(IntProgress(value=0, description='reservoir construction', max=1700, style=ProgressStyle(descri…"
      ]
     },
     "metadata": {},
     "output_type": "display_data"
    },
    {
     "name": "stdout",
     "output_type": "stream",
     "text": [
      "\n",
      "Reservoir iterations complete. \t\tElapsed time: 13.472475528717041 s\n",
      "Testing complete. \t\t\tElapsed time: 0.01197052001953125 s\n",
      "Testing score: 0.01570504079430888\n",
      "[CV] ...................... k=4, rho=0.4, train_param=1, total=  22.7s\n",
      "[CV] k=4, rho=0.4, train_param=10.0 ..................................\n",
      "Reservoir Computing algorithm - Training phase:\n",
      "\n",
      "Initialization complete. \t\tElapsed time: 3.8785955905914307 s\n"
     ]
    },
    {
     "data": {
      "application/vnd.jupyter.widget-view+json": {
       "model_id": "cdb7834956144a36820b76061fc6d203",
       "version_major": 2,
       "version_minor": 0
      },
      "text/plain": [
       "HBox(children=(IntProgress(value=0, description='reservoir construction', max=2000, style=ProgressStyle(descri…"
      ]
     },
     "metadata": {},
     "output_type": "display_data"
    },
    {
     "name": "stdout",
     "output_type": "stream",
     "text": [
      "\n",
      "Reservoir iterations complete. \t\tElapsed time: 4.497972726821899 s\n",
      "true_output.shape = (1, 1900, 18)\n",
      "(1, 1900, 4000)\n",
      "concat_states.shape = (1900, 4000)\n",
      "y.shape = (1900, 18)\n",
      "Training complete. \t\t\tElapsed time: 0.26628756523132324 s\n",
      "Training score: 0.9992055393749719\n",
      "Reservoir Computing algorithm - Testing phase:\n",
      "\n",
      "Initialization complete. \t\tElapsed time: 0.003989458084106445 s\n"
     ]
    },
    {
     "data": {
      "application/vnd.jupyter.widget-view+json": {
       "model_id": "dad4a21654e14cf188dffbfc0dfa726f",
       "version_major": 2,
       "version_minor": 0
      },
      "text/plain": [
       "HBox(children=(IntProgress(value=0, description='reservoir update', max=300, style=ProgressStyle(description_w…"
      ]
     },
     "metadata": {},
     "output_type": "display_data"
    },
    {
     "data": {
      "application/vnd.jupyter.widget-view+json": {
       "model_id": "8794e86bfa364771bc7e96a4f382aef7",
       "version_major": 2,
       "version_minor": 0
      },
      "text/plain": [
       "HBox(children=(IntProgress(value=0, description='reservoir construction', max=700, style=ProgressStyle(descrip…"
      ]
     },
     "metadata": {},
     "output_type": "display_data"
    },
    {
     "name": "stdout",
     "output_type": "stream",
     "text": [
      "\n",
      "Reservoir iterations complete. \t\tElapsed time: 10.941742181777954 s\n",
      "Testing complete. \t\t\tElapsed time: 0.011969804763793945 s\n",
      "Testing score: 0.014204587106462607\n",
      "Reservoir Computing algorithm - Testing phase:\n",
      "\n",
      "Initialization complete. \t\tElapsed time: 0.0019953250885009766 s\n"
     ]
    },
    {
     "data": {
      "application/vnd.jupyter.widget-view+json": {
       "model_id": "119fc47db47d45a2ace6d0133b5e79dd",
       "version_major": 2,
       "version_minor": 0
      },
      "text/plain": [
       "HBox(children=(IntProgress(value=0, description='reservoir update', max=300, style=ProgressStyle(description_w…"
      ]
     },
     "metadata": {},
     "output_type": "display_data"
    },
    {
     "data": {
      "application/vnd.jupyter.widget-view+json": {
       "model_id": "e5dd2c0568bf49a18006dcdba84662a6",
       "version_major": 2,
       "version_minor": 0
      },
      "text/plain": [
       "HBox(children=(IntProgress(value=0, description='reservoir construction', max=1700, style=ProgressStyle(descri…"
      ]
     },
     "metadata": {},
     "output_type": "display_data"
    },
    {
     "name": "stdout",
     "output_type": "stream",
     "text": [
      "\n",
      "Reservoir iterations complete. \t\tElapsed time: 12.664136409759521 s\n",
      "Testing complete. \t\t\tElapsed time: 0.012967586517333984 s\n",
      "Testing score: 0.0010437758115769292\n",
      "[CV] ................... k=4, rho=0.4, train_param=10.0, total=  21.3s\n",
      "[CV] k=4, rho=0.4, train_param=10.0 ..................................\n",
      "Reservoir Computing algorithm - Training phase:\n",
      "\n",
      "Initialization complete. \t\tElapsed time: 3.5744175910949707 s\n"
     ]
    },
    {
     "data": {
      "application/vnd.jupyter.widget-view+json": {
       "model_id": "352ed28e68384371a0f2d24f5a8a2f62",
       "version_major": 2,
       "version_minor": 0
      },
      "text/plain": [
       "HBox(children=(IntProgress(value=0, description='reservoir construction', max=2000, style=ProgressStyle(descri…"
      ]
     },
     "metadata": {},
     "output_type": "display_data"
    },
    {
     "name": "stdout",
     "output_type": "stream",
     "text": [
      "\n",
      "Reservoir iterations complete. \t\tElapsed time: 3.8167943954467773 s\n",
      "true_output.shape = (1, 1900, 18)\n",
      "(1, 1900, 4000)\n",
      "concat_states.shape = (1900, 4000)\n",
      "y.shape = (1900, 18)\n",
      "Training complete. \t\t\tElapsed time: 0.26927947998046875 s\n",
      "Training score: 0.9991457640991154\n",
      "Reservoir Computing algorithm - Testing phase:\n",
      "\n",
      "Initialization complete. \t\tElapsed time: 0.003989458084106445 s\n"
     ]
    },
    {
     "data": {
      "application/vnd.jupyter.widget-view+json": {
       "model_id": "c38f3ac4ef3149ab8934e26158337e2d",
       "version_major": 2,
       "version_minor": 0
      },
      "text/plain": [
       "HBox(children=(IntProgress(value=0, description='reservoir update', max=300, style=ProgressStyle(description_w…"
      ]
     },
     "metadata": {},
     "output_type": "display_data"
    },
    {
     "data": {
      "application/vnd.jupyter.widget-view+json": {
       "model_id": "8f4027633dcd4bf5bb39ad05f342a58c",
       "version_major": 2,
       "version_minor": 0
      },
      "text/plain": [
       "HBox(children=(IntProgress(value=0, description='reservoir construction', max=700, style=ProgressStyle(descrip…"
      ]
     },
     "metadata": {},
     "output_type": "display_data"
    },
    {
     "name": "stdout",
     "output_type": "stream",
     "text": [
      "\n",
      "Reservoir iterations complete. \t\tElapsed time: 10.901849508285522 s\n",
      "Testing complete. \t\t\tElapsed time: 0.010972976684570312 s\n",
      "Testing score: 0.007059072820244232\n",
      "Reservoir Computing algorithm - Testing phase:\n",
      "\n",
      "Initialization complete. \t\tElapsed time: 0.002022981643676758 s\n"
     ]
    },
    {
     "data": {
      "application/vnd.jupyter.widget-view+json": {
       "model_id": "d97cdf4063544f818c84e187a22fdfb9",
       "version_major": 2,
       "version_minor": 0
      },
      "text/plain": [
       "HBox(children=(IntProgress(value=0, description='reservoir update', max=300, style=ProgressStyle(description_w…"
      ]
     },
     "metadata": {},
     "output_type": "display_data"
    },
    {
     "data": {
      "application/vnd.jupyter.widget-view+json": {
       "model_id": "7d0ccdddb37e4cb28b53ca8920efdd18",
       "version_major": 2,
       "version_minor": 0
      },
      "text/plain": [
       "HBox(children=(IntProgress(value=0, description='reservoir construction', max=1700, style=ProgressStyle(descri…"
      ]
     },
     "metadata": {},
     "output_type": "display_data"
    },
    {
     "name": "stdout",
     "output_type": "stream",
     "text": [
      "\n",
      "Reservoir iterations complete. \t\tElapsed time: 13.908302068710327 s\n",
      "Testing complete. \t\t\tElapsed time: 0.013962984085083008 s\n",
      "Testing score: 0.001816156607742253\n",
      "[CV] ................... k=4, rho=0.4, train_param=10.0, total=  20.4s\n",
      "[CV] k=4, rho=0.4, train_param=10.0 ..................................\n",
      "Reservoir Computing algorithm - Training phase:\n",
      "\n",
      "Initialization complete. \t\tElapsed time: 4.041194677352905 s\n"
     ]
    },
    {
     "data": {
      "application/vnd.jupyter.widget-view+json": {
       "model_id": "c9282957efe342c0ac550aba133cfcc5",
       "version_major": 2,
       "version_minor": 0
      },
      "text/plain": [
       "HBox(children=(IntProgress(value=0, description='reservoir construction', max=2000, style=ProgressStyle(descri…"
      ]
     },
     "metadata": {},
     "output_type": "display_data"
    },
    {
     "name": "stdout",
     "output_type": "stream",
     "text": [
      "\n",
      "Reservoir iterations complete. \t\tElapsed time: 4.483012437820435 s\n",
      "true_output.shape = (1, 1900, 18)\n",
      "(1, 1900, 4000)\n",
      "concat_states.shape = (1900, 4000)\n",
      "y.shape = (1900, 18)\n",
      "Training complete. \t\t\tElapsed time: 0.26729774475097656 s\n",
      "Training score: 0.9997498823236918\n",
      "Reservoir Computing algorithm - Testing phase:\n",
      "\n",
      "Initialization complete. \t\tElapsed time: 0.002992391586303711 s\n"
     ]
    },
    {
     "data": {
      "application/vnd.jupyter.widget-view+json": {
       "model_id": "111390c9a0f34f5fb31bec1e703039e4",
       "version_major": 2,
       "version_minor": 0
      },
      "text/plain": [
       "HBox(children=(IntProgress(value=0, description='reservoir update', max=300, style=ProgressStyle(description_w…"
      ]
     },
     "metadata": {},
     "output_type": "display_data"
    },
    {
     "data": {
      "application/vnd.jupyter.widget-view+json": {
       "model_id": "ad3dbed2c7f941afa8b868b11694a1d9",
       "version_major": 2,
       "version_minor": 0
      },
      "text/plain": [
       "HBox(children=(IntProgress(value=0, description='reservoir construction', max=700, style=ProgressStyle(descrip…"
      ]
     },
     "metadata": {},
     "output_type": "display_data"
    },
    {
     "name": "stdout",
     "output_type": "stream",
     "text": [
      "\n",
      "Reservoir iterations complete. \t\tElapsed time: 11.72464895248413 s\n",
      "Testing complete. \t\t\tElapsed time: 0.011975526809692383 s\n",
      "Testing score: 0.021311253310630763\n",
      "Reservoir Computing algorithm - Testing phase:\n",
      "\n",
      "Initialization complete. \t\tElapsed time: 0.0009641647338867188 s\n"
     ]
    },
    {
     "data": {
      "application/vnd.jupyter.widget-view+json": {
       "model_id": "fae79072f7124253b98400fdf8287476",
       "version_major": 2,
       "version_minor": 0
      },
      "text/plain": [
       "HBox(children=(IntProgress(value=0, description='reservoir update', max=300, style=ProgressStyle(description_w…"
      ]
     },
     "metadata": {},
     "output_type": "display_data"
    },
    {
     "data": {
      "application/vnd.jupyter.widget-view+json": {
       "model_id": "70120d6fa03941439abdb862a51e8fad",
       "version_major": 2,
       "version_minor": 0
      },
      "text/plain": [
       "HBox(children=(IntProgress(value=0, description='reservoir construction', max=1700, style=ProgressStyle(descri…"
      ]
     },
     "metadata": {},
     "output_type": "display_data"
    },
    {
     "name": "stdout",
     "output_type": "stream",
     "text": [
      "\n",
      "Reservoir iterations complete. \t\tElapsed time: 19.74918818473816 s\n",
      "Testing complete. \t\t\tElapsed time: 0.010971784591674805 s\n",
      "Testing score: 0.006944764203662933\n",
      "[CV] ................... k=4, rho=0.4, train_param=10.0, total=  22.3s\n",
      "[CV] k=4, rho=0.4, train_param=100.0 .................................\n",
      "Reservoir Computing algorithm - Training phase:\n",
      "\n",
      "Initialization complete. \t\tElapsed time: 3.781858444213867 s\n"
     ]
    },
    {
     "data": {
      "application/vnd.jupyter.widget-view+json": {
       "model_id": "54696bbd89124eacad728d7acb34795d",
       "version_major": 2,
       "version_minor": 0
      },
      "text/plain": [
       "HBox(children=(IntProgress(value=0, description='reservoir construction', max=2000, style=ProgressStyle(descri…"
      ]
     },
     "metadata": {},
     "output_type": "display_data"
    },
    {
     "name": "stdout",
     "output_type": "stream",
     "text": [
      "\n",
      "Reservoir iterations complete. \t\tElapsed time: 3.85269832611084 s\n",
      "true_output.shape = (1, 1900, 18)\n",
      "(1, 1900, 4000)\n",
      "concat_states.shape = (1900, 4000)\n",
      "y.shape = (1900, 18)\n",
      "Training complete. \t\t\tElapsed time: 0.2652900218963623 s\n",
      "Training score: 0.9989266918806736\n",
      "Reservoir Computing algorithm - Testing phase:\n",
      "\n",
      "Initialization complete. \t\tElapsed time: 0.003988981246948242 s\n"
     ]
    },
    {
     "data": {
      "application/vnd.jupyter.widget-view+json": {
       "model_id": "0524ffb547244040b52fc1b97d17b629",
       "version_major": 2,
       "version_minor": 0
      },
      "text/plain": [
       "HBox(children=(IntProgress(value=0, description='reservoir update', max=300, style=ProgressStyle(description_w…"
      ]
     },
     "metadata": {},
     "output_type": "display_data"
    },
    {
     "data": {
      "application/vnd.jupyter.widget-view+json": {
       "model_id": "200f5757aedc4a01ac7106ca46bf6701",
       "version_major": 2,
       "version_minor": 0
      },
      "text/plain": [
       "HBox(children=(IntProgress(value=0, description='reservoir construction', max=700, style=ProgressStyle(descrip…"
      ]
     },
     "metadata": {},
     "output_type": "display_data"
    },
    {
     "name": "stdout",
     "output_type": "stream",
     "text": [
      "\n",
      "Reservoir iterations complete. \t\tElapsed time: 11.258894681930542 s\n",
      "Testing complete. \t\t\tElapsed time: 0.011971712112426758 s\n",
      "Testing score: 0.019391933715585764\n",
      "Reservoir Computing algorithm - Testing phase:\n",
      "\n",
      "Initialization complete. \t\tElapsed time: 0.0009799003601074219 s\n"
     ]
    },
    {
     "data": {
      "application/vnd.jupyter.widget-view+json": {
       "model_id": "0192ca265b4a4b6ead3deafa39a8c213",
       "version_major": 2,
       "version_minor": 0
      },
      "text/plain": [
       "HBox(children=(IntProgress(value=0, description='reservoir update', max=300, style=ProgressStyle(description_w…"
      ]
     },
     "metadata": {},
     "output_type": "display_data"
    },
    {
     "data": {
      "application/vnd.jupyter.widget-view+json": {
       "model_id": "b759d952811247cea74145f4c551a0d8",
       "version_major": 2,
       "version_minor": 0
      },
      "text/plain": [
       "HBox(children=(IntProgress(value=0, description='reservoir construction', max=1700, style=ProgressStyle(descri…"
      ]
     },
     "metadata": {},
     "output_type": "display_data"
    },
    {
     "name": "stdout",
     "output_type": "stream",
     "text": [
      "\n",
      "Reservoir iterations complete. \t\tElapsed time: 12.711990356445312 s\n",
      "Testing complete. \t\t\tElapsed time: 0.011968135833740234 s\n",
      "Testing score: 0.005227202085215926\n",
      "[CV] .................. k=4, rho=0.4, train_param=100.0, total=  20.9s\n",
      "[CV] k=4, rho=0.4, train_param=100.0 .................................\n",
      "Reservoir Computing algorithm - Training phase:\n",
      "\n",
      "Initialization complete. \t\tElapsed time: 5.587055683135986 s\n"
     ]
    },
    {
     "data": {
      "application/vnd.jupyter.widget-view+json": {
       "model_id": "97580217230a412684def6b017ee71ac",
       "version_major": 2,
       "version_minor": 0
      },
      "text/plain": [
       "HBox(children=(IntProgress(value=0, description='reservoir construction', max=2000, style=ProgressStyle(descri…"
      ]
     },
     "metadata": {},
     "output_type": "display_data"
    },
    {
     "name": "stdout",
     "output_type": "stream",
     "text": [
      "\n",
      "Reservoir iterations complete. \t\tElapsed time: 5.786528825759888 s\n",
      "true_output.shape = (1, 1900, 18)\n",
      "(1, 1900, 4000)\n",
      "concat_states.shape = (1900, 4000)\n",
      "y.shape = (1900, 18)\n",
      "Training complete. \t\t\tElapsed time: 0.39693760871887207 s\n",
      "Training score: 0.9988829233820905\n",
      "Reservoir Computing algorithm - Testing phase:\n",
      "\n",
      "Initialization complete. \t\tElapsed time: 0.00698089599609375 s\n"
     ]
    },
    {
     "data": {
      "application/vnd.jupyter.widget-view+json": {
       "model_id": "dc50550885f64441be2a1c0243dfa3b5",
       "version_major": 2,
       "version_minor": 0
      },
      "text/plain": [
       "HBox(children=(IntProgress(value=0, description='reservoir update', max=300, style=ProgressStyle(description_w…"
      ]
     },
     "metadata": {},
     "output_type": "display_data"
    },
    {
     "data": {
      "application/vnd.jupyter.widget-view+json": {
       "model_id": "77e01b60c2b149d5b3bb5e418709cba9",
       "version_major": 2,
       "version_minor": 0
      },
      "text/plain": [
       "HBox(children=(IntProgress(value=0, description='reservoir construction', max=700, style=ProgressStyle(descrip…"
      ]
     },
     "metadata": {},
     "output_type": "display_data"
    },
    {
     "name": "stdout",
     "output_type": "stream",
     "text": [
      "\n",
      "Reservoir iterations complete. \t\tElapsed time: 19.443012714385986 s\n",
      "Testing complete. \t\t\tElapsed time: 0.017949819564819336 s\n",
      "Testing score: 0.01711136058751368\n",
      "Reservoir Computing algorithm - Testing phase:\n",
      "\n",
      "Initialization complete. \t\tElapsed time: 0.0019941329956054688 s\n"
     ]
    },
    {
     "data": {
      "application/vnd.jupyter.widget-view+json": {
       "model_id": "93eb5dc59a57479292638959055e454c",
       "version_major": 2,
       "version_minor": 0
      },
      "text/plain": [
       "HBox(children=(IntProgress(value=0, description='reservoir update', max=300, style=ProgressStyle(description_w…"
      ]
     },
     "metadata": {},
     "output_type": "display_data"
    },
    {
     "data": {
      "application/vnd.jupyter.widget-view+json": {
       "model_id": "2f865fb3952c4c5d92bd75f11f3452f0",
       "version_major": 2,
       "version_minor": 0
      },
      "text/plain": [
       "HBox(children=(IntProgress(value=0, description='reservoir construction', max=1700, style=ProgressStyle(descri…"
      ]
     },
     "metadata": {},
     "output_type": "display_data"
    },
    {
     "name": "stdout",
     "output_type": "stream",
     "text": [
      "\n",
      "Reservoir iterations complete. \t\tElapsed time: 17.176071166992188 s\n",
      "Testing complete. \t\t\tElapsed time: 0.012968778610229492 s\n",
      "Testing score: 4.456320329813173e-05\n",
      "[CV] .................. k=4, rho=0.4, train_param=100.0, total=  33.2s\n",
      "[CV] k=4, rho=0.4, train_param=100.0 .................................\n",
      "Reservoir Computing algorithm - Training phase:\n",
      "\n",
      "Initialization complete. \t\tElapsed time: 4.1887993812561035 s\n"
     ]
    },
    {
     "data": {
      "application/vnd.jupyter.widget-view+json": {
       "model_id": "28e039bdbb984b53926d41bb0cb1d995",
       "version_major": 2,
       "version_minor": 0
      },
      "text/plain": [
       "HBox(children=(IntProgress(value=0, description='reservoir construction', max=2000, style=ProgressStyle(descri…"
      ]
     },
     "metadata": {},
     "output_type": "display_data"
    },
    {
     "name": "stdout",
     "output_type": "stream",
     "text": [
      "\n",
      "Reservoir iterations complete. \t\tElapsed time: 4.043188571929932 s\n",
      "true_output.shape = (1, 1900, 18)\n",
      "(1, 1900, 4000)\n",
      "concat_states.shape = (1900, 4000)\n",
      "y.shape = (1900, 18)\n",
      "Training complete. \t\t\tElapsed time: 0.270277738571167 s\n",
      "Training score: 0.9995056257161491\n",
      "Reservoir Computing algorithm - Testing phase:\n",
      "\n",
      "Initialization complete. \t\tElapsed time: 0.003989219665527344 s\n"
     ]
    },
    {
     "data": {
      "application/vnd.jupyter.widget-view+json": {
       "model_id": "bfcdb4727ce146499bf8494013ff5db2",
       "version_major": 2,
       "version_minor": 0
      },
      "text/plain": [
       "HBox(children=(IntProgress(value=0, description='reservoir update', max=300, style=ProgressStyle(description_w…"
      ]
     },
     "metadata": {},
     "output_type": "display_data"
    },
    {
     "data": {
      "application/vnd.jupyter.widget-view+json": {
       "model_id": "37063a4710a34c4caf8374f7d3b1e32e",
       "version_major": 2,
       "version_minor": 0
      },
      "text/plain": [
       "HBox(children=(IntProgress(value=0, description='reservoir construction', max=700, style=ProgressStyle(descrip…"
      ]
     },
     "metadata": {},
     "output_type": "display_data"
    },
    {
     "name": "stdout",
     "output_type": "stream",
     "text": [
      "\n",
      "Reservoir iterations complete. \t\tElapsed time: 16.492899894714355 s\n",
      "Testing complete. \t\t\tElapsed time: 0.015958547592163086 s\n",
      "Testing score: 2.265171527585906e-05\n",
      "Reservoir Computing algorithm - Testing phase:\n",
      "\n",
      "Initialization complete. \t\tElapsed time: 0.0019943714141845703 s\n"
     ]
    },
    {
     "data": {
      "application/vnd.jupyter.widget-view+json": {
       "model_id": "968977190bb34a219804fe5c95b64c53",
       "version_major": 2,
       "version_minor": 0
      },
      "text/plain": [
       "HBox(children=(IntProgress(value=0, description='reservoir update', max=300, style=ProgressStyle(description_w…"
      ]
     },
     "metadata": {},
     "output_type": "display_data"
    },
    {
     "data": {
      "application/vnd.jupyter.widget-view+json": {
       "model_id": "f6fc1eaa35dd4b45bfed84b6f6fcff38",
       "version_major": 2,
       "version_minor": 0
      },
      "text/plain": [
       "HBox(children=(IntProgress(value=0, description='reservoir construction', max=1700, style=ProgressStyle(descri…"
      ]
     },
     "metadata": {},
     "output_type": "display_data"
    },
    {
     "name": "stdout",
     "output_type": "stream",
     "text": [
      "\n",
      "Reservoir iterations complete. \t\tElapsed time: 19.115413904190063 s\n",
      "Testing complete. \t\t\tElapsed time: 0.010972738265991211 s\n",
      "Testing score: 0.0356843954915339\n",
      "[CV] .................. k=4, rho=0.4, train_param=100.0, total=  26.9s\n",
      "[CV] k=4, rho=0.4, train_param=1000.0 ................................\n",
      "Reservoir Computing algorithm - Training phase:\n",
      "\n",
      "Initialization complete. \t\tElapsed time: 3.7419657707214355 s\n"
     ]
    },
    {
     "data": {
      "application/vnd.jupyter.widget-view+json": {
       "model_id": "7193d401fad940dd9dd83502bd3b7be3",
       "version_major": 2,
       "version_minor": 0
      },
      "text/plain": [
       "HBox(children=(IntProgress(value=0, description='reservoir construction', max=2000, style=ProgressStyle(descri…"
      ]
     },
     "metadata": {},
     "output_type": "display_data"
    },
    {
     "name": "stdout",
     "output_type": "stream",
     "text": [
      "\n",
      "Reservoir iterations complete. \t\tElapsed time: 3.8975777626037598 s\n",
      "true_output.shape = (1, 1900, 18)\n",
      "(1, 1900, 4000)\n",
      "concat_states.shape = (1900, 4000)\n",
      "y.shape = (1900, 18)\n",
      "Training complete. \t\t\tElapsed time: 0.25531721115112305 s\n",
      "Training score: 0.9970932892334193\n",
      "Reservoir Computing algorithm - Testing phase:\n",
      "\n",
      "Initialization complete. \t\tElapsed time: 0.0029916763305664062 s\n"
     ]
    },
    {
     "data": {
      "application/vnd.jupyter.widget-view+json": {
       "model_id": "0fcd93fce665490a92bd1b22c3500d9f",
       "version_major": 2,
       "version_minor": 0
      },
      "text/plain": [
       "HBox(children=(IntProgress(value=0, description='reservoir update', max=300, style=ProgressStyle(description_w…"
      ]
     },
     "metadata": {},
     "output_type": "display_data"
    },
    {
     "data": {
      "application/vnd.jupyter.widget-view+json": {
       "model_id": "74b16cba67c74a5c996c2633784bd9f3",
       "version_major": 2,
       "version_minor": 0
      },
      "text/plain": [
       "HBox(children=(IntProgress(value=0, description='reservoir construction', max=700, style=ProgressStyle(descrip…"
      ]
     },
     "metadata": {},
     "output_type": "display_data"
    },
    {
     "name": "stdout",
     "output_type": "stream",
     "text": [
      "\n",
      "Reservoir iterations complete. \t\tElapsed time: 15.634728908538818 s\n",
      "Testing complete. \t\t\tElapsed time: 0.02792644500732422 s\n",
      "Testing score: 0.09126422465199283\n",
      "Reservoir Computing algorithm - Testing phase:\n",
      "\n",
      "Initialization complete. \t\tElapsed time: 0.002004384994506836 s\n"
     ]
    },
    {
     "data": {
      "application/vnd.jupyter.widget-view+json": {
       "model_id": "a49c5f488e1445cabd259f00f793c6d7",
       "version_major": 2,
       "version_minor": 0
      },
      "text/plain": [
       "HBox(children=(IntProgress(value=0, description='reservoir update', max=300, style=ProgressStyle(description_w…"
      ]
     },
     "metadata": {},
     "output_type": "display_data"
    },
    {
     "data": {
      "application/vnd.jupyter.widget-view+json": {
       "model_id": "ac1b35f9784a4d4386c2926ddddc40a4",
       "version_major": 2,
       "version_minor": 0
      },
      "text/plain": [
       "HBox(children=(IntProgress(value=0, description='reservoir construction', max=1700, style=ProgressStyle(descri…"
      ]
     },
     "metadata": {},
     "output_type": "display_data"
    },
    {
     "name": "stdout",
     "output_type": "stream",
     "text": [
      "\n",
      "Reservoir iterations complete. \t\tElapsed time: 20.6806902885437 s\n",
      "Testing complete. \t\t\tElapsed time: 0.012965202331542969 s\n",
      "Testing score: 0.0003931431651046772\n",
      "[CV] ................. k=4, rho=0.4, train_param=1000.0, total=  25.6s\n",
      "[CV] k=4, rho=0.4, train_param=1000.0 ................................\n",
      "Reservoir Computing algorithm - Training phase:\n",
      "\n",
      "Initialization complete. \t\tElapsed time: 6.685116767883301 s\n"
     ]
    },
    {
     "data": {
      "application/vnd.jupyter.widget-view+json": {
       "model_id": "7a06813b2b754f77883678a55740ca66",
       "version_major": 2,
       "version_minor": 0
      },
      "text/plain": [
       "HBox(children=(IntProgress(value=0, description='reservoir construction', max=2000, style=ProgressStyle(descri…"
      ]
     },
     "metadata": {},
     "output_type": "display_data"
    },
    {
     "name": "stdout",
     "output_type": "stream",
     "text": [
      "\n",
      "Reservoir iterations complete. \t\tElapsed time: 4.900890350341797 s\n",
      "true_output.shape = (1, 1900, 18)\n",
      "(1, 1900, 4000)\n",
      "concat_states.shape = (1900, 4000)\n",
      "y.shape = (1900, 18)\n",
      "Training complete. \t\t\tElapsed time: 0.26628780364990234 s\n",
      "Training score: 0.9969948388564155\n",
      "Reservoir Computing algorithm - Testing phase:\n",
      "\n",
      "Initialization complete. \t\tElapsed time: 0.0029916763305664062 s\n"
     ]
    },
    {
     "data": {
      "application/vnd.jupyter.widget-view+json": {
       "model_id": "75787004326544ee8759f30cc157d291",
       "version_major": 2,
       "version_minor": 0
      },
      "text/plain": [
       "HBox(children=(IntProgress(value=0, description='reservoir update', max=300, style=ProgressStyle(description_w…"
      ]
     },
     "metadata": {},
     "output_type": "display_data"
    },
    {
     "data": {
      "application/vnd.jupyter.widget-view+json": {
       "model_id": "79c86d5aa4cf4131b0ecf53001730457",
       "version_major": 2,
       "version_minor": 0
      },
      "text/plain": [
       "HBox(children=(IntProgress(value=0, description='reservoir construction', max=700, style=ProgressStyle(descrip…"
      ]
     },
     "metadata": {},
     "output_type": "display_data"
    },
    {
     "name": "stdout",
     "output_type": "stream",
     "text": [
      "\n",
      "Reservoir iterations complete. \t\tElapsed time: 12.162478923797607 s\n",
      "Testing complete. \t\t\tElapsed time: 0.009974002838134766 s\n",
      "Testing score: 0.014706840560105374\n",
      "Reservoir Computing algorithm - Testing phase:\n",
      "\n",
      "Initialization complete. \t\tElapsed time: 0.000997304916381836 s\n"
     ]
    },
    {
     "data": {
      "application/vnd.jupyter.widget-view+json": {
       "model_id": "92459936131546c8ab7a38d40d2adb4c",
       "version_major": 2,
       "version_minor": 0
      },
      "text/plain": [
       "HBox(children=(IntProgress(value=0, description='reservoir update', max=300, style=ProgressStyle(description_w…"
      ]
     },
     "metadata": {},
     "output_type": "display_data"
    },
    {
     "data": {
      "application/vnd.jupyter.widget-view+json": {
       "model_id": "a40e985631dd44daa7513b2695a215e2",
       "version_major": 2,
       "version_minor": 0
      },
      "text/plain": [
       "HBox(children=(IntProgress(value=0, description='reservoir construction', max=1700, style=ProgressStyle(descri…"
      ]
     },
     "metadata": {},
     "output_type": "display_data"
    },
    {
     "name": "stdout",
     "output_type": "stream",
     "text": [
      "\n",
      "Reservoir iterations complete. \t\tElapsed time: 23.44530940055847 s\n",
      "Testing complete. \t\t\tElapsed time: 0.012966394424438477 s\n",
      "Testing score: 0.010300820896107106\n",
      "[CV] ................. k=4, rho=0.4, train_param=1000.0, total=  25.9s\n",
      "[CV] k=4, rho=0.4, train_param=1000.0 ................................\n",
      "Reservoir Computing algorithm - Training phase:\n",
      "\n",
      "Initialization complete. \t\tElapsed time: 3.7729110717773438 s\n"
     ]
    },
    {
     "data": {
      "application/vnd.jupyter.widget-view+json": {
       "model_id": "790dfb3ef0934606a734c1a02ab8ce9e",
       "version_major": 2,
       "version_minor": 0
      },
      "text/plain": [
       "HBox(children=(IntProgress(value=0, description='reservoir construction', max=2000, style=ProgressStyle(descri…"
      ]
     },
     "metadata": {},
     "output_type": "display_data"
    },
    {
     "name": "stdout",
     "output_type": "stream",
     "text": [
      "\n",
      "Reservoir iterations complete. \t\tElapsed time: 4.42317271232605 s\n",
      "true_output.shape = (1, 1900, 18)\n",
      "(1, 1900, 4000)\n",
      "concat_states.shape = (1900, 4000)\n",
      "y.shape = (1900, 18)\n",
      "Training complete. \t\t\tElapsed time: 0.31615447998046875 s\n",
      "Training score: 0.9976176808258076\n",
      "Reservoir Computing algorithm - Testing phase:\n",
      "\n",
      "Initialization complete. \t\tElapsed time: 0.007979393005371094 s\n"
     ]
    },
    {
     "data": {
      "application/vnd.jupyter.widget-view+json": {
       "model_id": "af53013ee4ed49999e27a7dc92ec14a5",
       "version_major": 2,
       "version_minor": 0
      },
      "text/plain": [
       "HBox(children=(IntProgress(value=0, description='reservoir update', max=300, style=ProgressStyle(description_w…"
      ]
     },
     "metadata": {},
     "output_type": "display_data"
    },
    {
     "data": {
      "application/vnd.jupyter.widget-view+json": {
       "model_id": "a8db0fab8f134c7882d7277c9b02b658",
       "version_major": 2,
       "version_minor": 0
      },
      "text/plain": [
       "HBox(children=(IntProgress(value=0, description='reservoir construction', max=700, style=ProgressStyle(descrip…"
      ]
     },
     "metadata": {},
     "output_type": "display_data"
    },
    {
     "name": "stdout",
     "output_type": "stream",
     "text": [
      "\n",
      "Reservoir iterations complete. \t\tElapsed time: 11.410488605499268 s\n",
      "Testing complete. \t\t\tElapsed time: 0.010974407196044922 s\n",
      "Testing score: 0.002284830416007893\n",
      "Reservoir Computing algorithm - Testing phase:\n",
      "\n",
      "Initialization complete. \t\tElapsed time: 0.002000570297241211 s\n"
     ]
    },
    {
     "data": {
      "application/vnd.jupyter.widget-view+json": {
       "model_id": "bf3bdc4ced1141a3b726eaa1ecb912f8",
       "version_major": 2,
       "version_minor": 0
      },
      "text/plain": [
       "HBox(children=(IntProgress(value=0, description='reservoir update', max=300, style=ProgressStyle(description_w…"
      ]
     },
     "metadata": {},
     "output_type": "display_data"
    },
    {
     "data": {
      "application/vnd.jupyter.widget-view+json": {
       "model_id": "3b90b2ab2cfc4a7f95f5e10ddadb8198",
       "version_major": 2,
       "version_minor": 0
      },
      "text/plain": [
       "HBox(children=(IntProgress(value=0, description='reservoir construction', max=1700, style=ProgressStyle(descri…"
      ]
     },
     "metadata": {},
     "output_type": "display_data"
    },
    {
     "name": "stdout",
     "output_type": "stream",
     "text": [
      "\n",
      "Reservoir iterations complete. \t\tElapsed time: 13.387168645858765 s\n",
      "Testing complete. \t\t\tElapsed time: 0.010971784591674805 s\n",
      "Testing score: 0.014094210340577513\n",
      "[CV] ................. k=4, rho=0.4, train_param=1000.0, total=  21.7s\n",
      "[CV] k=4, rho=0.7000000000000001, train_param=1 ......................\n",
      "Reservoir Computing algorithm - Training phase:\n",
      "\n",
      "Initialization complete. \t\tElapsed time: 3.6073262691497803 s\n"
     ]
    },
    {
     "data": {
      "application/vnd.jupyter.widget-view+json": {
       "model_id": "342224243fe143f0b14524079a7cf7a0",
       "version_major": 2,
       "version_minor": 0
      },
      "text/plain": [
       "HBox(children=(IntProgress(value=0, description='reservoir construction', max=2000, style=ProgressStyle(descri…"
      ]
     },
     "metadata": {},
     "output_type": "display_data"
    },
    {
     "name": "stdout",
     "output_type": "stream",
     "text": [
      "\n",
      "Reservoir iterations complete. \t\tElapsed time: 3.8726446628570557 s\n",
      "true_output.shape = (1, 1900, 18)\n",
      "(1, 1900, 4000)\n",
      "concat_states.shape = (1900, 4000)\n",
      "y.shape = (1900, 18)\n",
      "Training complete. \t\t\tElapsed time: 0.27526378631591797 s\n",
      "Training score: 0.9993579212238715\n",
      "Reservoir Computing algorithm - Testing phase:\n",
      "\n",
      "Initialization complete. \t\tElapsed time: 0.00399017333984375 s\n"
     ]
    },
    {
     "data": {
      "application/vnd.jupyter.widget-view+json": {
       "model_id": "6c06f72b046946e68737894e9b179cd5",
       "version_major": 2,
       "version_minor": 0
      },
      "text/plain": [
       "HBox(children=(IntProgress(value=0, description='reservoir update', max=300, style=ProgressStyle(description_w…"
      ]
     },
     "metadata": {},
     "output_type": "display_data"
    },
    {
     "data": {
      "application/vnd.jupyter.widget-view+json": {
       "model_id": "e8142ce5f4994d9ebfdf7c83110c9e50",
       "version_major": 2,
       "version_minor": 0
      },
      "text/plain": [
       "HBox(children=(IntProgress(value=0, description='reservoir construction', max=700, style=ProgressStyle(descrip…"
      ]
     },
     "metadata": {},
     "output_type": "display_data"
    },
    {
     "name": "stdout",
     "output_type": "stream",
     "text": [
      "\n",
      "Reservoir iterations complete. \t\tElapsed time: 12.589336156845093 s\n",
      "Testing complete. \t\t\tElapsed time: 0.012966632843017578 s\n",
      "Testing score: 0.07944236852245216\n",
      "Reservoir Computing algorithm - Testing phase:\n",
      "\n",
      "Initialization complete. \t\tElapsed time: 0.0019965171813964844 s\n"
     ]
    },
    {
     "data": {
      "application/vnd.jupyter.widget-view+json": {
       "model_id": "021eb87e4ee94183ac48bc72ad284ad6",
       "version_major": 2,
       "version_minor": 0
      },
      "text/plain": [
       "HBox(children=(IntProgress(value=0, description='reservoir update', max=300, style=ProgressStyle(description_w…"
      ]
     },
     "metadata": {},
     "output_type": "display_data"
    },
    {
     "data": {
      "application/vnd.jupyter.widget-view+json": {
       "model_id": "d2c53160df2647aabdae0860f289a743",
       "version_major": 2,
       "version_minor": 0
      },
      "text/plain": [
       "HBox(children=(IntProgress(value=0, description='reservoir construction', max=1700, style=ProgressStyle(descri…"
      ]
     },
     "metadata": {},
     "output_type": "display_data"
    },
    {
     "name": "stdout",
     "output_type": "stream",
     "text": [
      "\n",
      "Reservoir iterations complete. \t\tElapsed time: 14.155118942260742 s\n",
      "Testing complete. \t\t\tElapsed time: 0.021941423416137695 s\n",
      "Testing score: 0.01819410802269729\n",
      "[CV] ....... k=4, rho=0.7000000000000001, train_param=1, total=  22.2s\n",
      "[CV] k=4, rho=0.7000000000000001, train_param=1 ......................\n",
      "Reservoir Computing algorithm - Training phase:\n",
      "\n",
      "Initialization complete. \t\tElapsed time: 4.080090522766113 s\n"
     ]
    },
    {
     "data": {
      "application/vnd.jupyter.widget-view+json": {
       "model_id": "5d7485d81e1c4a0da228847e730e6a59",
       "version_major": 2,
       "version_minor": 0
      },
      "text/plain": [
       "HBox(children=(IntProgress(value=0, description='reservoir construction', max=2000, style=ProgressStyle(descri…"
      ]
     },
     "metadata": {},
     "output_type": "display_data"
    },
    {
     "name": "stdout",
     "output_type": "stream",
     "text": [
      "\n",
      "Reservoir iterations complete. \t\tElapsed time: 4.603689670562744 s\n",
      "true_output.shape = (1, 1900, 18)\n",
      "(1, 1900, 4000)\n",
      "concat_states.shape = (1900, 4000)\n",
      "y.shape = (1900, 18)\n",
      "Training complete. \t\t\tElapsed time: 0.2892262935638428 s\n",
      "Training score: 0.9992927215068637\n",
      "Reservoir Computing algorithm - Testing phase:\n",
      "\n",
      "Initialization complete. \t\tElapsed time: 0.0029900074005126953 s\n"
     ]
    },
    {
     "data": {
      "application/vnd.jupyter.widget-view+json": {
       "model_id": "3b2b89042249433cb942264f02464684",
       "version_major": 2,
       "version_minor": 0
      },
      "text/plain": [
       "HBox(children=(IntProgress(value=0, description='reservoir update', max=300, style=ProgressStyle(description_w…"
      ]
     },
     "metadata": {},
     "output_type": "display_data"
    },
    {
     "data": {
      "application/vnd.jupyter.widget-view+json": {
       "model_id": "88056d9d57274948a1941cda57801de5",
       "version_major": 2,
       "version_minor": 0
      },
      "text/plain": [
       "HBox(children=(IntProgress(value=0, description='reservoir construction', max=700, style=ProgressStyle(descrip…"
      ]
     },
     "metadata": {},
     "output_type": "display_data"
    },
    {
     "name": "stdout",
     "output_type": "stream",
     "text": [
      "\n",
      "Reservoir iterations complete. \t\tElapsed time: 12.937914609909058 s\n",
      "Testing complete. \t\t\tElapsed time: 0.012966394424438477 s\n",
      "Testing score: 0.001736506293643797\n",
      "Reservoir Computing algorithm - Testing phase:\n",
      "\n",
      "Initialization complete. \t\tElapsed time: 0.001983642578125 s\n"
     ]
    },
    {
     "data": {
      "application/vnd.jupyter.widget-view+json": {
       "model_id": "c14abe1e59714425950fb3086012ed2b",
       "version_major": 2,
       "version_minor": 0
      },
      "text/plain": [
       "HBox(children=(IntProgress(value=0, description='reservoir update', max=300, style=ProgressStyle(description_w…"
      ]
     },
     "metadata": {},
     "output_type": "display_data"
    },
    {
     "data": {
      "application/vnd.jupyter.widget-view+json": {
       "model_id": "b86c495ac324444dae88d669e542008a",
       "version_major": 2,
       "version_minor": 0
      },
      "text/plain": [
       "HBox(children=(IntProgress(value=0, description='reservoir construction', max=1700, style=ProgressStyle(descri…"
      ]
     },
     "metadata": {},
     "output_type": "display_data"
    },
    {
     "name": "stdout",
     "output_type": "stream",
     "text": [
      "\n",
      "Reservoir iterations complete. \t\tElapsed time: 13.638010501861572 s\n",
      "Testing complete. \t\t\tElapsed time: 0.012966632843017578 s\n",
      "Testing score: 0.09575689159670223\n",
      "[CV] ....... k=4, rho=0.7000000000000001, train_param=1, total=  23.7s\n",
      "[CV] k=4, rho=0.7000000000000001, train_param=1 ......................\n",
      "Reservoir Computing algorithm - Training phase:\n",
      "\n",
      "Initialization complete. \t\tElapsed time: 4.101172208786011 s\n"
     ]
    },
    {
     "data": {
      "application/vnd.jupyter.widget-view+json": {
       "model_id": "78db03fd2ce346e09d79d0bc18efd53f",
       "version_major": 2,
       "version_minor": 0
      },
      "text/plain": [
       "HBox(children=(IntProgress(value=0, description='reservoir construction', max=2000, style=ProgressStyle(descri…"
      ]
     },
     "metadata": {},
     "output_type": "display_data"
    },
    {
     "name": "stdout",
     "output_type": "stream",
     "text": [
      "\n",
      "Reservoir iterations complete. \t\tElapsed time: 4.692453622817993 s\n",
      "true_output.shape = (1, 1900, 18)\n",
      "(1, 1900, 4000)\n",
      "concat_states.shape = (1900, 4000)\n",
      "y.shape = (1900, 18)\n",
      "Training complete. \t\t\tElapsed time: 0.34707045555114746 s\n",
      "Training score: 0.9998239549842671\n",
      "Reservoir Computing algorithm - Testing phase:\n",
      "\n",
      "Initialization complete. \t\tElapsed time: 0.004985809326171875 s\n"
     ]
    },
    {
     "data": {
      "application/vnd.jupyter.widget-view+json": {
       "model_id": "982515fc884b429b911ff29e61a469a4",
       "version_major": 2,
       "version_minor": 0
      },
      "text/plain": [
       "HBox(children=(IntProgress(value=0, description='reservoir update', max=300, style=ProgressStyle(description_w…"
      ]
     },
     "metadata": {},
     "output_type": "display_data"
    },
    {
     "data": {
      "application/vnd.jupyter.widget-view+json": {
       "model_id": "d5f170f11c5846479728b7f32893bd61",
       "version_major": 2,
       "version_minor": 0
      },
      "text/plain": [
       "HBox(children=(IntProgress(value=0, description='reservoir construction', max=700, style=ProgressStyle(descrip…"
      ]
     },
     "metadata": {},
     "output_type": "display_data"
    },
    {
     "name": "stdout",
     "output_type": "stream",
     "text": [
      "\n",
      "Reservoir iterations complete. \t\tElapsed time: 18.534948587417603 s\n",
      "Testing complete. \t\t\tElapsed time: 0.02293992042541504 s\n",
      "Testing score: 0.03246056557447372\n",
      "Reservoir Computing algorithm - Testing phase:\n",
      "\n",
      "Initialization complete. \t\tElapsed time: 0.0019922256469726562 s\n"
     ]
    },
    {
     "data": {
      "application/vnd.jupyter.widget-view+json": {
       "model_id": "2cd7e8ec628f4f579f0c6b30fb2aa10c",
       "version_major": 2,
       "version_minor": 0
      },
      "text/plain": [
       "HBox(children=(IntProgress(value=0, description='reservoir update', max=300, style=ProgressStyle(description_w…"
      ]
     },
     "metadata": {},
     "output_type": "display_data"
    },
    {
     "data": {
      "application/vnd.jupyter.widget-view+json": {
       "model_id": "fe346d94698c4bed8b577dda0293d2f5",
       "version_major": 2,
       "version_minor": 0
      },
      "text/plain": [
       "HBox(children=(IntProgress(value=0, description='reservoir construction', max=1700, style=ProgressStyle(descri…"
      ]
     },
     "metadata": {},
     "output_type": "display_data"
    }
   ],
   "source": [
    "ctanh = GridSearchCV(estimator=b, param_grid=params, return_train_score=True, cv=3, verbose=2)\n",
    "n_sequence = 1\n",
    "spatial_points = 30\n",
    "lyap_exp = 0.0461\n",
    "ks_data, xx, tt = data1D.kuramoto_sivashinsky_matlab(sequence_length=3000, n_sequence=n_sequence, spatial_points=spatial_points)\n",
    "input_shape=ks_data.shape\n",
    "input_data = ks_data.reshape((input_shape[1], input_shape[0], input_shape[2]))\n",
    "ctanh.fit(input_data)\n",
    "\n",
    "print(ctanh.best_params_)"
   ]
  },
  {
   "cell_type": "code",
   "execution_count": null,
   "metadata": {},
   "outputs": [],
   "source": []
  },
  {
   "cell_type": "code",
   "execution_count": null,
   "metadata": {},
   "outputs": [],
   "source": []
  },
  {
   "cell_type": "code",
   "execution_count": null,
   "metadata": {},
   "outputs": [],
   "source": []
  }
 ],
 "metadata": {
  "kernelspec": {
   "display_name": "Python 3",
   "language": "python",
   "name": "python3"
  },
  "language_info": {
   "codemirror_mode": {
    "name": "ipython",
    "version": 3
   },
   "file_extension": ".py",
   "mimetype": "text/x-python",
   "name": "python",
   "nbconvert_exporter": "python",
   "pygments_lexer": "ipython3",
   "version": "3.5.2"
  }
 },
 "nbformat": 4,
 "nbformat_minor": 2
}
