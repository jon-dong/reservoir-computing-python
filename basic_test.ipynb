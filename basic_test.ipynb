{
 "cells": [
  {
   "cell_type": "code",
   "execution_count": 1,
   "metadata": {},
   "outputs": [],
   "source": [
    "#!/usr/bin/python\n",
    "\n",
    "from __future__ import absolute_import\n",
    "from __future__ import division\n",
    "from __future__ import print_function\n",
    "\n",
    "# import os\n",
    "# import sys\n",
    "import numpy as np\n",
    "\n",
    "import time\n",
    "\n",
    "from reservoir import Reservoir\n",
    "import data"
   ]
  },
  {
   "cell_type": "code",
   "execution_count": 12,
   "metadata": {},
   "outputs": [
    {
     "name": "stdout",
     "output_type": "stream",
     "text": [
      "The autoreload extension is already loaded. To reload it, use:\n",
      "  %reload_ext autoreload\n"
     ]
    }
   ],
   "source": [
    "%load_ext autoreload\n",
    "%autoreload 1\n",
    "%aimport data\n",
    "%aimport reservoir"
   ]
  },
  {
   "cell_type": "code",
   "execution_count": 47,
   "metadata": {},
   "outputs": [],
   "source": [
    "input_data, y = data.mackey_glass(sequence_length=2000)"
   ]
  },
  {
   "cell_type": "code",
   "execution_count": 48,
   "metadata": {},
   "outputs": [],
   "source": [
    "b = Reservoir(n_res=1000, input_scale=2, train_method='ridge', train_param=1,\n",
    "                          weights_type='complex gaussian', random_projection='simulation',\n",
    "                          activation_fun='binary', activation_param=1,\n",
    "                          encoding_method='naivebinary', input_dim=1000, forget=100)"
   ]
  },
  {
   "cell_type": "code",
   "execution_count": 50,
   "metadata": {
    "scrolled": false
   },
   "outputs": [
    {
     "name": "stdout",
     "output_type": "stream",
     "text": [
      "Start of training...\n",
      "Initialization finished. Elapsed time:\n",
      "0.39473676681518555\n",
      "100%|██████████| 2000/2000 [00:04<00:00, 497.46it/s]\n",
      "Iterations finished. Elapsed time:\n",
      "4.426968812942505\n",
      "Training finished. Elapsed time:\n",
      "4.8801350593566895\n",
      "Training score:\n",
      "0.9985175479480708\n"
     ]
    },
    {
     "data": {
      "text/plain": [
       "Reservoir(activation_fun='binary', activation_param=1,\n",
       "     encoding_method='naivebinary', encoding_param=None, forget=100,\n",
       "     input_dim=1000, input_scale=2, n_res=1000, opu_transform=None,\n",
       "     random_projection='simulation',\n",
       "     random_state=<mtrand.RandomState object at 0x7ff0166efb40>,\n",
       "     res_scale=1, save=0, train_method='ridge', train_param=1, verbose=1,\n",
       "     weights_type='complex gaussian')"
      ]
     },
     "execution_count": 50,
     "metadata": {},
     "output_type": "execute_result"
    }
   ],
   "source": [
    "b.fit(input_data, y)"
   ]
  },
  {
   "cell_type": "code",
   "execution_count": 58,
   "metadata": {},
   "outputs": [
    {
     "name": "stdout",
     "output_type": "stream",
     "text": [
      "Start of testing...\n",
      "Initialization finished. Elapsed time:\n",
      "0.01117396354675293\n",
      "100%|██████████| 1000/1000 [00:01<00:00, 504.57it/s]\n",
      "Iterations finished. Elapsed time:\n",
      "1.9970552921295166\n",
      "Testing finished. Elapsed time:\n",
      "1.9981191158294678\n",
      "Testing finished. Elapsed time:\n",
      "4.8801350593566895\n",
      "Testing score:\n",
      "0.986506801191624\n"
     ]
    }
   ],
   "source": [
    "input_data, y = data.mackey_glass(sequence_length=1000)\n",
    "valid_score = b.score(input_data, np.ravel(y[:,b.forget:,:]))"
   ]
  },
  {
   "cell_type": "code",
   "execution_count": 55,
   "metadata": {},
   "outputs": [
    {
     "data": {
      "text/plain": [
       "(1, 1000, 1)"
      ]
     },
     "execution_count": 55,
     "metadata": {},
     "output_type": "execute_result"
    }
   ],
   "source": [
    "y.shape"
   ]
  },
  {
   "cell_type": "code",
   "execution_count": null,
   "metadata": {},
   "outputs": [],
   "source": []
  }
 ],
 "metadata": {
  "kernelspec": {
   "display_name": "Python 3",
   "language": "python",
   "name": "python3"
  },
  "language_info": {
   "codemirror_mode": {
    "name": "ipython",
    "version": 3
   },
   "file_extension": ".py",
   "mimetype": "text/x-python",
   "name": "python",
   "nbconvert_exporter": "python",
   "pygments_lexer": "ipython3",
   "version": "3.6.6"
  }
 },
 "nbformat": 4,
 "nbformat_minor": 2
}
