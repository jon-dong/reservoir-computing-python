{
 "cells": [
  {
   "cell_type": "code",
   "execution_count": 1,
   "metadata": {},
   "outputs": [],
   "source": [
    "#!/usr/bin/python\n",
    "\n",
    "from __future__ import absolute_import\n",
    "from __future__ import division\n",
    "from __future__ import print_function\n",
    "\n",
    "# import os\n",
    "# import sys\n",
    "import numpy as np\n",
    "\n",
    "import time\n",
    "\n",
    "from reservoir import Reservoir\n",
    "import data"
   ]
  },
  {
   "cell_type": "code",
   "execution_count": 2,
   "metadata": {},
   "outputs": [],
   "source": [
    "%load_ext autoreload\n",
    "%autoreload 1\n",
    "%aimport data\n",
    "%aimport reservoir"
   ]
  },
  {
   "cell_type": "code",
   "execution_count": 3,
   "metadata": {},
   "outputs": [],
   "source": [
    "input_data, y = data.mackey_glass(sequence_length=2000)"
   ]
  },
  {
   "cell_type": "code",
   "execution_count": 4,
   "metadata": {},
   "outputs": [],
   "source": [
    "b = Reservoir(n_res=1000, input_scale=2, train_method='ridge', train_param=1,\n",
    "                          weights_type='complex gaussian', random_projection='simulation',\n",
    "                          activation_fun='binary', activation_param=1,\n",
    "                          encoding_method='naivebinary', input_dim=1000, forget=100)"
   ]
  },
  {
   "cell_type": "code",
   "execution_count": 5,
   "metadata": {
    "scrolled": false
   },
   "outputs": [
    {
     "name": "stdout",
     "output_type": "stream",
     "text": [
      "Start of training...\n",
      "Initialization finished. Elapsed time:\n",
      "0.22969436645507812\n",
      "100%|██████████| 2000/2000 [00:03<00:00, 652.37it/s]\n",
      "Iterations finished. Elapsed time:\n",
      "3.299440860748291\n",
      "Training finished. Elapsed time:\n",
      "3.6349148750305176\n",
      "Training score:\n",
      "0.9977606500442536\n"
     ]
    },
    {
     "data": {
      "text/plain": [
       "Reservoir(activation_fun='binary', activation_param=1,\n",
       "     encoding_method='naivebinary', encoding_param=None, forget=100,\n",
       "     input_dim=1000, input_scale=2, n_res=1000, opu_transform=None,\n",
       "     random_projection='simulation',\n",
       "     random_state=<mtrand.RandomState object at 0x7f04540905a0>,\n",
       "     res_scale=1, save=0, train_method='ridge', train_param=1, verbose=1,\n",
       "     weights_type='complex gaussian')"
      ]
     },
     "execution_count": 5,
     "metadata": {},
     "output_type": "execute_result"
    }
   ],
   "source": [
    "b.fit(input_data, y)"
   ]
  },
  {
   "cell_type": "code",
   "execution_count": 6,
   "metadata": {},
   "outputs": [
    {
     "name": "stdout",
     "output_type": "stream",
     "text": [
      "Start of testing...\n",
      "Initialization finished. Elapsed time:\n",
      "0.008414030075073242\n",
      "100%|██████████| 1000/1000 [00:01<00:00, 712.87it/s]\n",
      "Iterations finished. Elapsed time:\n",
      "1.4133644104003906\n",
      "Testing finished. Elapsed time:\n",
      "1.416456937789917\n",
      "Testing finished. Elapsed time:\n",
      "3.6349148750305176\n",
      "Testing score:\n",
      "0.9794421179857048\n"
     ]
    }
   ],
   "source": [
    "input_data, y = data.mackey_glass(sequence_length=1000)\n",
    "valid_score = b.score(input_data, np.ravel(y[:,b.forget:,:]))"
   ]
  },
  {
   "cell_type": "code",
   "execution_count": 7,
   "metadata": {},
   "outputs": [
    {
     "data": {
      "text/plain": [
       "(1, 1000, 1)"
      ]
     },
     "execution_count": 7,
     "metadata": {},
     "output_type": "execute_result"
    }
   ],
   "source": [
    "y.shape"
   ]
  },
  {
   "cell_type": "code",
   "execution_count": null,
   "metadata": {},
   "outputs": [],
   "source": []
  }
 ],
 "metadata": {
  "kernelspec": {
   "display_name": "Python 3",
   "language": "python",
   "name": "python3"
  },
  "language_info": {
   "codemirror_mode": {
    "name": "ipython",
    "version": 3
   },
   "file_extension": ".py",
   "mimetype": "text/x-python",
   "name": "python",
   "nbconvert_exporter": "python",
   "pygments_lexer": "ipython3",
   "version": "3.5.2"
  }
 },
 "nbformat": 4,
 "nbformat_minor": 2
}
