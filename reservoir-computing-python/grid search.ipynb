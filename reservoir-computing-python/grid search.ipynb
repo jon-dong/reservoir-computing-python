{
 "cells": [
  {
   "cell_type": "code",
   "execution_count": 15,
   "metadata": {},
   "outputs": [
    {
     "name": "stdout",
     "output_type": "stream",
     "text": [
      "The autoreload extension is already loaded. To reload it, use:\n",
      "  %reload_ext autoreload\n"
     ]
    }
   ],
   "source": [
    "import numpy as np\n",
    "import data1D\n",
    "from reservoir import Reservoir\n",
    "from sklearn.model_selection import GridSearchCV\n",
    "\n",
    "%load_ext autoreload\n",
    "%autoreload 2\n",
    "%aimport data1D\n",
    "%aimport reservoir\n",
    "\n",
    "%matplotlib inline"
   ]
  },
  {
   "cell_type": "code",
   "execution_count": null,
   "metadata": {},
   "outputs": [],
   "source": []
  },
  {
   "cell_type": "code",
   "execution_count": 16,
   "metadata": {},
   "outputs": [],
   "source": [
    "\n",
    "parallel_runs = 1\n",
    "forget = 100\n",
    "b = Reservoir(n_res=2000, res_scale=.1, res_encoding=None, res_enc_param=np.pi,\n",
    "              input_scale=1, input_encoding=None,\n",
    "              random_projection='simulation', weights_type='gaussian',\n",
    "              activation_fun='tanh', activation_param=10,\n",
    "              parallel_runs=parallel_runs,  bias_scale=0.1, leak_rate=0.8,\n",
    "              pred_horizon=1, rec_pred_steps=200, forget = forget,\n",
    "              train_method='ridge', train_param=10, verbose=1, gridsearch=True\n",
    "             )"
   ]
  },
  {
   "cell_type": "code",
   "execution_count": null,
   "metadata": {},
   "outputs": [],
   "source": []
  },
  {
   "cell_type": "code",
   "execution_count": 20,
   "metadata": {},
   "outputs": [],
   "source": [
    "params = [\n",
    "  {'res_scale': np.arange(.01, 1, .14),\n",
    "   'input_scale': np.arange(.01, 1, .14)\n",
    "   'bias_scale': np.arange(.01, 1, .14),\n",
    "  }\n",
    "]"
   ]
  },
  {
   "cell_type": "code",
   "execution_count": null,
   "metadata": {},
   "outputs": [],
   "source": []
  },
  {
   "cell_type": "code",
   "execution_count": 21,
   "metadata": {
    "scrolled": false
   },
   "outputs": [
    {
     "name": "stdout",
     "output_type": "stream",
     "text": [
      "Fitting 3 folds for each of 4 candidates, totalling 12 fits\n"
     ]
    },
    {
     "name": "stderr",
     "output_type": "stream",
     "text": [
      "[Parallel(n_jobs=1)]: Using backend SequentialBackend with 1 concurrent workers.\n"
     ]
    },
    {
     "name": "stdout",
     "output_type": "stream",
     "text": [
      "[CV] input_scale=0.01, res_scale=0.01 ................................\n",
      "Reservoir Computing algorithm - Training phase:\n",
      "\n",
      "Initialization complete. \t\tElapsed time: 0.12566161155700684 s\n"
     ]
    },
    {
     "data": {
      "application/vnd.jupyter.widget-view+json": {
       "model_id": "057287f6cd5f40bb9adee7b51e8658fd",
       "version_major": 2,
       "version_minor": 0
      },
      "text/plain": [
       "HBox(children=(IntProgress(value=0, description='reservoir construction', max=2000, style=ProgressStyle(descri…"
      ]
     },
     "metadata": {},
     "output_type": "display_data"
    },
    {
     "name": "stdout",
     "output_type": "stream",
     "text": [
      "\n",
      "Reservoir iterations complete. \t\tElapsed time: 5.113326549530029 s\n",
      "Training complete. \t\t\tElapsed time: 0.34906649589538574 s\n",
      "Training score: 0.9968699527725844\n",
      "Reservoir Computing algorithm - Testing phase:\n",
      "\n",
      "Initialization complete. \t\tElapsed time: 0.0009918212890625 s\n"
     ]
    },
    {
     "data": {
      "application/vnd.jupyter.widget-view+json": {
       "model_id": "2c0e7228dafa4427b2e7d80fc35eecbb",
       "version_major": 2,
       "version_minor": 0
      },
      "text/plain": [
       "HBox(children=(IntProgress(value=0, description='reservoir update', max=200, style=ProgressStyle(description_w…"
      ]
     },
     "metadata": {},
     "output_type": "display_data"
    },
    {
     "data": {
      "application/vnd.jupyter.widget-view+json": {
       "model_id": "9ef9e85a94114da082f4cad824dfe44c",
       "version_major": 2,
       "version_minor": 0
      },
      "text/plain": [
       "HBox(children=(IntProgress(value=0, description='reservoir construction', max=800, style=ProgressStyle(descrip…"
      ]
     },
     "metadata": {},
     "output_type": "display_data"
    },
    {
     "name": "stdout",
     "output_type": "stream",
     "text": [
      "\n",
      "pred_output = [[-0.136373   -1.16516088 -1.69024578 -1.57533952]\n",
      " [-0.24050292 -1.24844972 -1.71275944 -1.54582175]\n",
      " [-0.34639483 -1.33019393 -1.73168718 -1.51307936]]\n",
      "true_output = [[-0.21422892 -1.26556111 -1.75169607 -1.58223217]\n",
      " [-0.3245488  -1.3502267  -1.77097593 -1.54897258]\n",
      " [-0.43580374 -1.43189857 -1.78572346 -1.51211763]]\n",
      "Reservoir iterations complete. \t\tElapsed time: 8.494287490844727 s\n",
      "Testing complete. \t\t\tElapsed time: 0.013966083526611328 s\n",
      "Testing score: 0.03241768487055693\n",
      "Reservoir Computing algorithm - Testing phase:\n",
      "\n",
      "Initialization complete. \t\tElapsed time: 0.0019958019256591797 s\n"
     ]
    },
    {
     "data": {
      "application/vnd.jupyter.widget-view+json": {
       "model_id": "03e69ee899614b64b039aa6c9e381d1f",
       "version_major": 2,
       "version_minor": 0
      },
      "text/plain": [
       "HBox(children=(IntProgress(value=0, description='reservoir update', max=200, style=ProgressStyle(description_w…"
      ]
     },
     "metadata": {},
     "output_type": "display_data"
    },
    {
     "data": {
      "application/vnd.jupyter.widget-view+json": {
       "model_id": "ccf714e80bc94df694427e7d46f6829c",
       "version_major": 2,
       "version_minor": 0
      },
      "text/plain": [
       "HBox(children=(IntProgress(value=0, description='reservoir construction', max=1800, style=ProgressStyle(descri…"
      ]
     },
     "metadata": {},
     "output_type": "display_data"
    },
    {
     "name": "stdout",
     "output_type": "stream",
     "text": [
      "\n",
      "pred_output = [[0.2919722  0.83705639 1.5096957  2.05930679]\n",
      " [0.28793754 0.82437349 1.4907129  2.05069034]\n",
      " [0.28341691 0.80953173 1.46838486 2.03930143]]\n",
      "true_output = [[0.29832833 0.8422505  1.50255029 2.04731924]\n",
      " [0.2927631  0.82699817 1.48134577 2.03635891]\n",
      " [0.28651278 0.80946637 1.4567273  2.02221932]]\n",
      "Reservoir iterations complete. \t\tElapsed time: 10.603646039962769 s\n",
      "Testing complete. \t\t\tElapsed time: 0.013963699340820312 s\n",
      "Testing score: 0.21482510869315385\n",
      "[CV] ................. input_scale=0.01, res_scale=0.01, total=  14.0s\n"
     ]
    },
    {
     "name": "stderr",
     "output_type": "stream",
     "text": [
      "[Parallel(n_jobs=1)]: Done   1 out of   1 | elapsed:   24.7s remaining:    0.0s\n"
     ]
    },
    {
     "name": "stdout",
     "output_type": "stream",
     "text": [
      "[CV] input_scale=0.01, res_scale=0.01 ................................\n",
      "Reservoir Computing algorithm - Training phase:\n",
      "\n",
      "Initialization complete. \t\tElapsed time: 0.10969400405883789 s\n"
     ]
    },
    {
     "data": {
      "application/vnd.jupyter.widget-view+json": {
       "model_id": "25c335f19e85489b921f415bb8f492f1",
       "version_major": 2,
       "version_minor": 0
      },
      "text/plain": [
       "HBox(children=(IntProgress(value=0, description='reservoir construction', max=2000, style=ProgressStyle(descri…"
      ]
     },
     "metadata": {},
     "output_type": "display_data"
    },
    {
     "name": "stdout",
     "output_type": "stream",
     "text": [
      "\n",
      "Reservoir iterations complete. \t\tElapsed time: 4.190794229507446 s\n",
      "Training complete. \t\t\tElapsed time: 0.33510422706604004 s\n",
      "Training score: 0.9957462945667892\n",
      "Reservoir Computing algorithm - Testing phase:\n",
      "\n",
      "Initialization complete. \t\tElapsed time: 0.0009944438934326172 s\n"
     ]
    },
    {
     "data": {
      "application/vnd.jupyter.widget-view+json": {
       "model_id": "9ef1446f8a5c43a6b47a488ccd1c82e9",
       "version_major": 2,
       "version_minor": 0
      },
      "text/plain": [
       "HBox(children=(IntProgress(value=0, description='reservoir update', max=200, style=ProgressStyle(description_w…"
      ]
     },
     "metadata": {},
     "output_type": "display_data"
    },
    {
     "data": {
      "application/vnd.jupyter.widget-view+json": {
       "model_id": "0728c59f59a841d5b75fa6f510eb8b84",
       "version_major": 2,
       "version_minor": 0
      },
      "text/plain": [
       "HBox(children=(IntProgress(value=0, description='reservoir construction', max=800, style=ProgressStyle(descrip…"
      ]
     },
     "metadata": {},
     "output_type": "display_data"
    },
    {
     "name": "stdout",
     "output_type": "stream",
     "text": [
      "\n",
      "pred_output = [[-1.24295397 -1.67798937 -1.46845585 -0.96203172]\n",
      " [-1.26416552 -1.69297907 -1.47728713 -0.96815817]\n",
      " [-1.28806014 -1.70804426 -1.48440712 -0.97214235]]\n",
      "true_output = [[-1.26618997 -1.68835774 -1.47042168 -0.97626466]\n",
      " [-1.29038563 -1.70335636 -1.47774807 -0.98031317]\n",
      " [-1.31724654 -1.71816847 -1.48315537 -0.98206872]]\n",
      "Reservoir iterations complete. \t\tElapsed time: 9.338036060333252 s\n",
      "Testing complete. \t\t\tElapsed time: 0.013957738876342773 s\n",
      "Testing score: 0.0027258458215214504\n",
      "Reservoir Computing algorithm - Testing phase:\n",
      "\n",
      "Initialization complete. \t\tElapsed time: 0.003988504409790039 s\n"
     ]
    },
    {
     "data": {
      "application/vnd.jupyter.widget-view+json": {
       "model_id": "e5ffbbf4d23c48e7924bde623e5d0317",
       "version_major": 2,
       "version_minor": 0
      },
      "text/plain": [
       "HBox(children=(IntProgress(value=0, description='reservoir update', max=200, style=ProgressStyle(description_w…"
      ]
     },
     "metadata": {},
     "output_type": "display_data"
    },
    {
     "data": {
      "application/vnd.jupyter.widget-view+json": {
       "model_id": "ae9d06592d36413ba543586de4bda62e",
       "version_major": 2,
       "version_minor": 0
      },
      "text/plain": [
       "HBox(children=(IntProgress(value=0, description='reservoir construction', max=1800, style=ProgressStyle(descri…"
      ]
     },
     "metadata": {},
     "output_type": "display_data"
    },
    {
     "name": "stdout",
     "output_type": "stream",
     "text": [
      "\n",
      "pred_output = [[0.29188411 0.84617539 1.52173228 2.06580463]\n",
      " [0.28858807 0.83453767 1.5035499  2.05738353]\n",
      " [0.28472788 0.8207059  1.48205747 2.04626409]]\n",
      "true_output = [[0.29832833 0.8422505  1.50255029 2.04731924]\n",
      " [0.2927631  0.82699817 1.48134577 2.03635891]\n",
      " [0.28651278 0.80946637 1.4567273  2.02221932]]\n",
      "Reservoir iterations complete. \t\tElapsed time: 11.75456976890564 s\n",
      "Testing complete. \t\t\tElapsed time: 0.013966798782348633 s\n",
      "Testing score: 0.18377791115570175\n",
      "[CV] ................. input_scale=0.01, res_scale=0.01, total=  13.9s\n",
      "[CV] input_scale=0.01, res_scale=0.01 ................................\n",
      "Reservoir Computing algorithm - Training phase:\n",
      "\n",
      "Initialization complete. \t\tElapsed time: 0.10970497131347656 s\n"
     ]
    },
    {
     "data": {
      "application/vnd.jupyter.widget-view+json": {
       "model_id": "579789c94c7f46369db7de2d2c4a1d73",
       "version_major": 2,
       "version_minor": 0
      },
      "text/plain": [
       "HBox(children=(IntProgress(value=0, description='reservoir construction', max=2000, style=ProgressStyle(descri…"
      ]
     },
     "metadata": {},
     "output_type": "display_data"
    },
    {
     "name": "stdout",
     "output_type": "stream",
     "text": [
      "\n",
      "Reservoir iterations complete. \t\tElapsed time: 3.693125009536743 s\n",
      "Training complete. \t\t\tElapsed time: 0.3720059394836426 s\n",
      "Training score: 0.9970340711235273\n",
      "Reservoir Computing algorithm - Testing phase:\n",
      "\n",
      "Initialization complete. \t\tElapsed time: 0.001996755599975586 s\n"
     ]
    },
    {
     "data": {
      "application/vnd.jupyter.widget-view+json": {
       "model_id": "44232ad87e4d474790d85400b6b9da68",
       "version_major": 2,
       "version_minor": 0
      },
      "text/plain": [
       "HBox(children=(IntProgress(value=0, description='reservoir update', max=200, style=ProgressStyle(description_w…"
      ]
     },
     "metadata": {},
     "output_type": "display_data"
    },
    {
     "data": {
      "application/vnd.jupyter.widget-view+json": {
       "model_id": "43a21d63691641c39818093196230d1e",
       "version_major": 2,
       "version_minor": 0
      },
      "text/plain": [
       "HBox(children=(IntProgress(value=0, description='reservoir construction', max=800, style=ProgressStyle(descrip…"
      ]
     },
     "metadata": {},
     "output_type": "display_data"
    },
    {
     "name": "stdout",
     "output_type": "stream",
     "text": [
      "\n",
      "pred_output = [[0.32616439 0.85602688 1.53195349 2.08452866]\n",
      " [0.32274602 0.84563438 1.51547632 2.07834066]\n",
      " [0.31896118 0.83331778 1.49579572 2.06941923]]\n",
      "true_output = [[0.29832833 0.8422505  1.50255029 2.04731924]\n",
      " [0.2927631  0.82699817 1.48134577 2.03635891]\n",
      " [0.28651278 0.80946637 1.4567273  2.02221932]]\n",
      "Reservoir iterations complete. \t\tElapsed time: 7.999605655670166 s\n",
      "Testing complete. \t\t\tElapsed time: 0.011969566345214844 s\n",
      "Testing score: 0.0024625407601423276\n",
      "Reservoir Computing algorithm - Testing phase:\n",
      "\n",
      "Initialization complete. \t\tElapsed time: 0.0019953250885009766 s\n"
     ]
    },
    {
     "data": {
      "application/vnd.jupyter.widget-view+json": {
       "model_id": "a5bec3d241704d1893acecbfc2e9e3f3",
       "version_major": 2,
       "version_minor": 0
      },
      "text/plain": [
       "HBox(children=(IntProgress(value=0, description='reservoir update', max=200, style=ProgressStyle(description_w…"
      ]
     },
     "metadata": {},
     "output_type": "display_data"
    },
    {
     "data": {
      "application/vnd.jupyter.widget-view+json": {
       "model_id": "1c2755b5f3b64c89b94d6f3930b17265",
       "version_major": 2,
       "version_minor": 0
      },
      "text/plain": [
       "HBox(children=(IntProgress(value=0, description='reservoir construction', max=1800, style=ProgressStyle(descri…"
      ]
     },
     "metadata": {},
     "output_type": "display_data"
    },
    {
     "name": "stdout",
     "output_type": "stream",
     "text": [
      "\n",
      "pred_output = [[-1.24847758 -1.67817927 -1.46395851 -0.95792383]\n",
      " [-1.27013759 -1.69349867 -1.47303568 -0.96405165]\n",
      " [-1.29446613 -1.70882041 -1.48034502 -0.96797432]]\n",
      "true_output = [[-1.26618997 -1.68835774 -1.47042168 -0.97626466]\n",
      " [-1.29038563 -1.70335636 -1.47774807 -0.98031317]\n",
      " [-1.31724654 -1.71816847 -1.48315537 -0.98206872]]\n",
      "Reservoir iterations complete. \t\tElapsed time: 9.836697101593018 s\n",
      "Testing complete. \t\t\tElapsed time: 0.012965679168701172 s\n",
      "Testing score: 0.17942886455919105\n",
      "[CV] ................. input_scale=0.01, res_scale=0.01, total=  12.1s\n",
      "[CV] input_scale=0.01, res_scale=0.51 ................................\n",
      "Reservoir Computing algorithm - Training phase:\n",
      "\n",
      "Initialization complete. \t\tElapsed time: 0.1096949577331543 s\n"
     ]
    },
    {
     "data": {
      "application/vnd.jupyter.widget-view+json": {
       "model_id": "99e36a7b50a74b788c46666dc231018b",
       "version_major": 2,
       "version_minor": 0
      },
      "text/plain": [
       "HBox(children=(IntProgress(value=0, description='reservoir construction', max=2000, style=ProgressStyle(descri…"
      ]
     },
     "metadata": {},
     "output_type": "display_data"
    },
    {
     "name": "stdout",
     "output_type": "stream",
     "text": [
      "\n",
      "Reservoir iterations complete. \t\tElapsed time: 3.6771678924560547 s\n",
      "Training complete. \t\t\tElapsed time: 0.3610343933105469 s\n",
      "Training score: 0.9971823607715029\n",
      "Reservoir Computing algorithm - Testing phase:\n",
      "\n",
      "Initialization complete. \t\tElapsed time: 0.000997781753540039 s\n"
     ]
    },
    {
     "data": {
      "application/vnd.jupyter.widget-view+json": {
       "model_id": "fc480b02c5c241c88c881e9f5a8a178b",
       "version_major": 2,
       "version_minor": 0
      },
      "text/plain": [
       "HBox(children=(IntProgress(value=0, description='reservoir update', max=200, style=ProgressStyle(description_w…"
      ]
     },
     "metadata": {},
     "output_type": "display_data"
    },
    {
     "data": {
      "application/vnd.jupyter.widget-view+json": {
       "model_id": "9f30b856eab445168e8d725edb0e3746",
       "version_major": 2,
       "version_minor": 0
      },
      "text/plain": [
       "HBox(children=(IntProgress(value=0, description='reservoir construction', max=800, style=ProgressStyle(descrip…"
      ]
     },
     "metadata": {},
     "output_type": "display_data"
    },
    {
     "name": "stdout",
     "output_type": "stream",
     "text": [
      "\n",
      "pred_output = [[-0.14112249 -1.17305105 -1.69842721 -1.58062815]\n",
      " [-0.24572199 -1.25675904 -1.72114336 -1.5510496 ]\n",
      " [-0.35204603 -1.33884122 -1.74017757 -1.51817538]]\n",
      "true_output = [[-0.21422892 -1.26556111 -1.75169607 -1.58223217]\n",
      " [-0.3245488  -1.3502267  -1.77097593 -1.54897258]\n",
      " [-0.43580374 -1.43189857 -1.78572346 -1.51211763]]\n",
      "Reservoir iterations complete. \t\tElapsed time: 8.074410200119019 s\n",
      "Testing complete. \t\t\tElapsed time: 0.012965679168701172 s\n",
      "Testing score: 0.03642845402538922\n",
      "Reservoir Computing algorithm - Testing phase:\n",
      "\n",
      "Initialization complete. \t\tElapsed time: 0.0009975433349609375 s\n"
     ]
    },
    {
     "data": {
      "application/vnd.jupyter.widget-view+json": {
       "model_id": "13ce9f5db12342f6842bd075720550f3",
       "version_major": 2,
       "version_minor": 0
      },
      "text/plain": [
       "HBox(children=(IntProgress(value=0, description='reservoir update', max=200, style=ProgressStyle(description_w…"
      ]
     },
     "metadata": {},
     "output_type": "display_data"
    },
    {
     "data": {
      "application/vnd.jupyter.widget-view+json": {
       "model_id": "7ec728badb9a431294e0910e554e0a0c",
       "version_major": 2,
       "version_minor": 0
      },
      "text/plain": [
       "HBox(children=(IntProgress(value=0, description='reservoir construction', max=1800, style=ProgressStyle(descri…"
      ]
     },
     "metadata": {},
     "output_type": "display_data"
    },
    {
     "name": "stdout",
     "output_type": "stream",
     "text": [
      "\n",
      "pred_output = [[0.29236004 0.83763579 1.51033358 2.05992067]\n",
      " [0.28813321 0.82455241 1.49095278 2.05111022]\n",
      " [0.28341152 0.80929411 1.46820266 2.03949845]]\n",
      "true_output = [[0.29832833 0.8422505  1.50255029 2.04731924]\n",
      " [0.2927631  0.82699817 1.48134577 2.03635891]\n",
      " [0.28651278 0.80946637 1.4567273  2.02221932]]\n",
      "Reservoir iterations complete. \t\tElapsed time: 9.923465251922607 s\n",
      "Testing complete. \t\t\tElapsed time: 0.014976263046264648 s\n",
      "Testing score: 0.2249847240226929\n",
      "[CV] ................. input_scale=0.01, res_scale=0.51, total=  12.2s\n",
      "[CV] input_scale=0.01, res_scale=0.51 ................................\n",
      "Reservoir Computing algorithm - Training phase:\n",
      "\n",
      "Initialization complete. \t\tElapsed time: 0.10970592498779297 s\n"
     ]
    },
    {
     "data": {
      "application/vnd.jupyter.widget-view+json": {
       "model_id": "539dbab77c0641e2aa04c3c77528657f",
       "version_major": 2,
       "version_minor": 0
      },
      "text/plain": [
       "HBox(children=(IntProgress(value=0, description='reservoir construction', max=2000, style=ProgressStyle(descri…"
      ]
     },
     "metadata": {},
     "output_type": "display_data"
    },
    {
     "name": "stdout",
     "output_type": "stream",
     "text": [
      "\n",
      "Reservoir iterations complete. \t\tElapsed time: 3.654229164123535 s\n",
      "Training complete. \t\t\tElapsed time: 0.36003708839416504 s\n",
      "Training score: 0.9960693179779889\n",
      "Reservoir Computing algorithm - Testing phase:\n",
      "\n",
      "Initialization complete. \t\tElapsed time: 0.0009970664978027344 s\n"
     ]
    },
    {
     "data": {
      "application/vnd.jupyter.widget-view+json": {
       "model_id": "3f535b6e18e74a6ca4026192edefd8fd",
       "version_major": 2,
       "version_minor": 0
      },
      "text/plain": [
       "HBox(children=(IntProgress(value=0, description='reservoir update', max=200, style=ProgressStyle(description_w…"
      ]
     },
     "metadata": {},
     "output_type": "display_data"
    },
    {
     "data": {
      "application/vnd.jupyter.widget-view+json": {
       "model_id": "2b7437be560449f28eac66c899fd7221",
       "version_major": 2,
       "version_minor": 0
      },
      "text/plain": [
       "HBox(children=(IntProgress(value=0, description='reservoir construction', max=800, style=ProgressStyle(descrip…"
      ]
     },
     "metadata": {},
     "output_type": "display_data"
    },
    {
     "name": "stdout",
     "output_type": "stream",
     "text": [
      "\n",
      "pred_output = [[-1.24154431 -1.67545415 -1.46575139 -0.96019992]\n",
      " [-1.26280806 -1.69039976 -1.47447175 -0.96618774]\n",
      " [-1.28675432 -1.70541038 -1.48146483 -0.97001809]]\n",
      "true_output = [[-1.26618997 -1.68835774 -1.47042168 -0.97626466]\n",
      " [-1.29038563 -1.70335636 -1.47774807 -0.98031317]\n",
      " [-1.31724654 -1.71816847 -1.48315537 -0.98206872]]\n",
      "Reservoir iterations complete. \t\tElapsed time: 8.133252143859863 s\n",
      "Testing complete. \t\t\tElapsed time: 0.012965202331542969 s\n",
      "Testing score: 0.0039048424091898226\n",
      "Reservoir Computing algorithm - Testing phase:\n",
      "\n",
      "Initialization complete. \t\tElapsed time: 0.0019953250885009766 s\n"
     ]
    },
    {
     "data": {
      "application/vnd.jupyter.widget-view+json": {
       "model_id": "fd020463cbe84aa7a0c2a66aed8f0740",
       "version_major": 2,
       "version_minor": 0
      },
      "text/plain": [
       "HBox(children=(IntProgress(value=0, description='reservoir update', max=200, style=ProgressStyle(description_w…"
      ]
     },
     "metadata": {},
     "output_type": "display_data"
    },
    {
     "data": {
      "application/vnd.jupyter.widget-view+json": {
       "model_id": "0a4d617e5174476698875acbb3df9a32",
       "version_major": 2,
       "version_minor": 0
      },
      "text/plain": [
       "HBox(children=(IntProgress(value=0, description='reservoir construction', max=1800, style=ProgressStyle(descri…"
      ]
     },
     "metadata": {},
     "output_type": "display_data"
    },
    {
     "name": "stdout",
     "output_type": "stream",
     "text": [
      "\n",
      "pred_output = [[0.29238228 0.84518682 1.51975947 2.06415544]\n",
      " [0.28889521 0.83319171 1.50121776 2.05550532]\n",
      " [0.28483325 0.81898114 1.47933808 2.04412774]]\n",
      "true_output = [[0.29832833 0.8422505  1.50255029 2.04731924]\n",
      " [0.2927631  0.82699817 1.48134577 2.03635891]\n",
      " [0.28651278 0.80946637 1.4567273  2.02221932]]\n",
      "Reservoir iterations complete. \t\tElapsed time: 9.779849290847778 s\n",
      "Testing complete. \t\t\tElapsed time: 0.01296687126159668 s\n",
      "Testing score: 0.19365468173781725\n",
      "[CV] ................. input_scale=0.01, res_scale=0.51, total=  12.2s\n",
      "[CV] input_scale=0.01, res_scale=0.51 ................................\n",
      "Reservoir Computing algorithm - Training phase:\n",
      "\n",
      "Initialization complete. \t\tElapsed time: 0.11068940162658691 s\n"
     ]
    },
    {
     "data": {
      "application/vnd.jupyter.widget-view+json": {
       "model_id": "a368d0eca3854946bd2d6570e53e797d",
       "version_major": 2,
       "version_minor": 0
      },
      "text/plain": [
       "HBox(children=(IntProgress(value=0, description='reservoir construction', max=2000, style=ProgressStyle(descri…"
      ]
     },
     "metadata": {},
     "output_type": "display_data"
    },
    {
     "name": "stdout",
     "output_type": "stream",
     "text": [
      "\n",
      "Reservoir iterations complete. \t\tElapsed time: 3.647247552871704 s\n",
      "Training complete. \t\t\tElapsed time: 0.348069429397583 s\n",
      "Training score: 0.9972971852159205\n",
      "Reservoir Computing algorithm - Testing phase:\n",
      "\n",
      "Initialization complete. \t\tElapsed time: 0.0009965896606445312 s\n"
     ]
    },
    {
     "data": {
      "application/vnd.jupyter.widget-view+json": {
       "model_id": "4cd641f2f2d54ae0a4a257c9c5527c6c",
       "version_major": 2,
       "version_minor": 0
      },
      "text/plain": [
       "HBox(children=(IntProgress(value=0, description='reservoir update', max=200, style=ProgressStyle(description_w…"
      ]
     },
     "metadata": {},
     "output_type": "display_data"
    },
    {
     "data": {
      "application/vnd.jupyter.widget-view+json": {
       "model_id": "b1c6274b8f1e4695bb4f5f54d4cd0c31",
       "version_major": 2,
       "version_minor": 0
      },
      "text/plain": [
       "HBox(children=(IntProgress(value=0, description='reservoir construction', max=800, style=ProgressStyle(descrip…"
      ]
     },
     "metadata": {},
     "output_type": "display_data"
    },
    {
     "name": "stdout",
     "output_type": "stream",
     "text": [
      "\n",
      "pred_output = [[0.32510979 0.8553468  1.53227173 2.08577854]\n",
      " [0.32144099 0.84442989 1.51518357 2.07915354]\n",
      " [0.31738782 0.83155917 1.49485597 2.06976617]]\n",
      "true_output = [[0.29832833 0.8422505  1.50255029 2.04731924]\n",
      " [0.2927631  0.82699817 1.48134577 2.03635891]\n",
      " [0.28651278 0.80946637 1.4567273  2.02221932]]\n",
      "Reservoir iterations complete. \t\tElapsed time: 8.080394506454468 s\n",
      "Testing complete. \t\t\tElapsed time: 0.012964963912963867 s\n",
      "Testing score: 0.0027160051425717713\n",
      "Reservoir Computing algorithm - Testing phase:\n",
      "\n",
      "Initialization complete. \t\tElapsed time: 0.001994609832763672 s\n"
     ]
    },
    {
     "data": {
      "application/vnd.jupyter.widget-view+json": {
       "model_id": "7ade2a3601c74e46a4c4006a66e86f71",
       "version_major": 2,
       "version_minor": 0
      },
      "text/plain": [
       "HBox(children=(IntProgress(value=0, description='reservoir update', max=200, style=ProgressStyle(description_w…"
      ]
     },
     "metadata": {},
     "output_type": "display_data"
    },
    {
     "data": {
      "application/vnd.jupyter.widget-view+json": {
       "model_id": "cbc1c08a4c8b49ac8b12663022160a8c",
       "version_major": 2,
       "version_minor": 0
      },
      "text/plain": [
       "HBox(children=(IntProgress(value=0, description='reservoir construction', max=1800, style=ProgressStyle(descri…"
      ]
     },
     "metadata": {},
     "output_type": "display_data"
    },
    {
     "name": "stdout",
     "output_type": "stream",
     "text": [
      "\n",
      "pred_output = [[-1.24683306 -1.67696302 -1.46360618 -0.95835832]\n",
      " [-1.26863592 -1.69226712 -1.4724988  -0.96424181]\n",
      " [-1.29311661 -1.70757098 -1.47961049 -0.96790501]]\n",
      "true_output = [[-1.26618997 -1.68835774 -1.47042168 -0.97626466]\n",
      " [-1.29038563 -1.70335636 -1.47774807 -0.98031317]\n",
      " [-1.31724654 -1.71816847 -1.48315537 -0.98206872]]\n",
      "Reservoir iterations complete. \t\tElapsed time: 9.765886783599854 s\n",
      "Testing complete. \t\t\tElapsed time: 0.013963460922241211 s\n",
      "Testing score: 0.1857297864229966\n",
      "[CV] ................. input_scale=0.01, res_scale=0.51, total=  12.1s\n",
      "[CV] input_scale=0.51, res_scale=0.01 ................................\n",
      "Reservoir Computing algorithm - Training phase:\n",
      "\n",
      "Initialization complete. \t\tElapsed time: 0.10970497131347656 s\n"
     ]
    },
    {
     "data": {
      "application/vnd.jupyter.widget-view+json": {
       "model_id": "0b6bcac766e74da793cedde7b28bb0e3",
       "version_major": 2,
       "version_minor": 0
      },
      "text/plain": [
       "HBox(children=(IntProgress(value=0, description='reservoir construction', max=2000, style=ProgressStyle(descri…"
      ]
     },
     "metadata": {},
     "output_type": "display_data"
    },
    {
     "name": "stdout",
     "output_type": "stream",
     "text": [
      "\n",
      "Reservoir iterations complete. \t\tElapsed time: 3.653231382369995 s\n",
      "Training complete. \t\t\tElapsed time: 0.3700110912322998 s\n",
      "Training score: 0.9994110254080532\n",
      "Reservoir Computing algorithm - Testing phase:\n",
      "\n",
      "Initialization complete. \t\tElapsed time: 0.000997304916381836 s\n"
     ]
    },
    {
     "data": {
      "application/vnd.jupyter.widget-view+json": {
       "model_id": "82ce5b5abb634212a563dcbe8942c6c9",
       "version_major": 2,
       "version_minor": 0
      },
      "text/plain": [
       "HBox(children=(IntProgress(value=0, description='reservoir update', max=200, style=ProgressStyle(description_w…"
      ]
     },
     "metadata": {},
     "output_type": "display_data"
    },
    {
     "data": {
      "application/vnd.jupyter.widget-view+json": {
       "model_id": "a643fa670be64c85848cca5c52e87c87",
       "version_major": 2,
       "version_minor": 0
      },
      "text/plain": [
       "HBox(children=(IntProgress(value=0, description='reservoir construction', max=800, style=ProgressStyle(descrip…"
      ]
     },
     "metadata": {},
     "output_type": "display_data"
    },
    {
     "name": "stdout",
     "output_type": "stream",
     "text": [
      "\n",
      "pred_output = [[-0.24903335 -1.307561   -1.78752469 -1.58700922]\n",
      " [-0.35200043 -1.38958473 -1.81097417 -1.56035628]\n",
      " [-0.45623318 -1.46898102 -1.83040214 -1.53106228]]\n",
      "true_output = [[-0.21422892 -1.26556111 -1.75169607 -1.58223217]\n",
      " [-0.3245488  -1.3502267  -1.77097593 -1.54897258]\n",
      " [-0.43580374 -1.43189857 -1.78572346 -1.51211763]]\n",
      "Reservoir iterations complete. \t\tElapsed time: 8.05745530128479 s\n",
      "Testing complete. \t\t\tElapsed time: 0.010983705520629883 s\n",
      "Testing score: 0.04183242072223721\n",
      "Reservoir Computing algorithm - Testing phase:\n",
      "\n",
      "Initialization complete. \t\tElapsed time: 0.001994609832763672 s\n"
     ]
    },
    {
     "data": {
      "application/vnd.jupyter.widget-view+json": {
       "model_id": "cb63e848e21d4749ad141da294edc6a6",
       "version_major": 2,
       "version_minor": 0
      },
      "text/plain": [
       "HBox(children=(IntProgress(value=0, description='reservoir update', max=200, style=ProgressStyle(description_w…"
      ]
     },
     "metadata": {},
     "output_type": "display_data"
    },
    {
     "data": {
      "application/vnd.jupyter.widget-view+json": {
       "model_id": "dc7182ba1cc74a0ba825e87f1184cbcf",
       "version_major": 2,
       "version_minor": 0
      },
      "text/plain": [
       "HBox(children=(IntProgress(value=0, description='reservoir construction', max=1800, style=ProgressStyle(descri…"
      ]
     },
     "metadata": {},
     "output_type": "display_data"
    },
    {
     "name": "stdout",
     "output_type": "stream",
     "text": [
      "\n",
      "pred_output = [[0.29899521 0.84784684 1.51290037 2.05755856]\n",
      " [0.29425366 0.83283477 1.49092166 2.0447844 ]\n",
      " [0.28866314 0.81523937 1.4652043  2.02868126]]\n",
      "true_output = [[0.29832833 0.8422505  1.50255029 2.04731924]\n",
      " [0.2927631  0.82699817 1.48134577 2.03635891]\n",
      " [0.28651278 0.80946637 1.4567273  2.02221932]]\n",
      "Reservoir iterations complete. \t\tElapsed time: 9.821740627288818 s\n",
      "Testing complete. \t\t\tElapsed time: 0.012961387634277344 s\n",
      "Testing score: 0.2639102878834779\n",
      "[CV] ................. input_scale=0.51, res_scale=0.01, total=  12.1s\n",
      "[CV] input_scale=0.51, res_scale=0.01 ................................\n",
      "Reservoir Computing algorithm - Training phase:\n",
      "\n",
      "Initialization complete. \t\tElapsed time: 0.1107029914855957 s\n"
     ]
    },
    {
     "data": {
      "application/vnd.jupyter.widget-view+json": {
       "model_id": "58e0ef3c99a047c38f286117c7338353",
       "version_major": 2,
       "version_minor": 0
      },
      "text/plain": [
       "HBox(children=(IntProgress(value=0, description='reservoir construction', max=2000, style=ProgressStyle(descri…"
      ]
     },
     "metadata": {},
     "output_type": "display_data"
    },
    {
     "name": "stdout",
     "output_type": "stream",
     "text": [
      "\n",
      "Reservoir iterations complete. \t\tElapsed time: 3.6961169242858887 s\n",
      "Training complete. \t\t\tElapsed time: 0.3370985984802246 s\n",
      "Training score: 0.9986648534242187\n",
      "Reservoir Computing algorithm - Testing phase:\n",
      "\n",
      "Initialization complete. \t\tElapsed time: 0.0009984970092773438 s\n"
     ]
    },
    {
     "data": {
      "application/vnd.jupyter.widget-view+json": {
       "model_id": "fda859263ca5409ca583616b738a92eb",
       "version_major": 2,
       "version_minor": 0
      },
      "text/plain": [
       "HBox(children=(IntProgress(value=0, description='reservoir update', max=200, style=ProgressStyle(description_w…"
      ]
     },
     "metadata": {},
     "output_type": "display_data"
    },
    {
     "data": {
      "application/vnd.jupyter.widget-view+json": {
       "model_id": "66b48f00ebab41b8ab56d85504115d23",
       "version_major": 2,
       "version_minor": 0
      },
      "text/plain": [
       "HBox(children=(IntProgress(value=0, description='reservoir construction', max=800, style=ProgressStyle(descrip…"
      ]
     },
     "metadata": {},
     "output_type": "display_data"
    },
    {
     "name": "stdout",
     "output_type": "stream",
     "text": [
      "\n",
      "pred_output = [[-1.04181849 -1.4286636  -1.30611656 -0.91876854]\n",
      " [-1.06981631 -1.44724841 -1.31512747 -0.9231933 ]\n",
      " [-1.1008218  -1.46593558 -1.3223388  -0.92531176]]\n",
      "true_output = [[-1.26618997 -1.68835774 -1.47042168 -0.97626466]\n",
      " [-1.29038563 -1.70335636 -1.47774807 -0.98031317]\n",
      " [-1.31724654 -1.71816847 -1.48315537 -0.98206872]]\n",
      "Reservoir iterations complete. \t\tElapsed time: 8.116297721862793 s\n",
      "Testing complete. \t\t\tElapsed time: 0.011971235275268555 s\n",
      "Testing score: 0.07912960795918035\n",
      "Reservoir Computing algorithm - Testing phase:\n",
      "\n",
      "Initialization complete. \t\tElapsed time: 0.001995086669921875 s\n"
     ]
    },
    {
     "data": {
      "application/vnd.jupyter.widget-view+json": {
       "model_id": "18483e9b14c641469665b05a39b3088c",
       "version_major": 2,
       "version_minor": 0
      },
      "text/plain": [
       "HBox(children=(IntProgress(value=0, description='reservoir update', max=200, style=ProgressStyle(description_w…"
      ]
     },
     "metadata": {},
     "output_type": "display_data"
    },
    {
     "data": {
      "application/vnd.jupyter.widget-view+json": {
       "model_id": "d91c4e9d2edd452ebbca66e69a4f8df0",
       "version_major": 2,
       "version_minor": 0
      },
      "text/plain": [
       "HBox(children=(IntProgress(value=0, description='reservoir construction', max=1800, style=ProgressStyle(descri…"
      ]
     },
     "metadata": {},
     "output_type": "display_data"
    },
    {
     "name": "stdout",
     "output_type": "stream",
     "text": [
      "\n",
      "pred_output = [[0.30616834 0.8502735  1.50874907 2.05581518]\n",
      " [0.29983384 0.83410475 1.48634697 2.04287828]\n",
      " [0.29243731 0.81531093 1.46037048 2.02668045]]\n",
      "true_output = [[0.29832833 0.8422505  1.50255029 2.04731924]\n",
      " [0.2927631  0.82699817 1.48134577 2.03635891]\n",
      " [0.28651278 0.80946637 1.4567273  2.02221932]]\n",
      "Reservoir iterations complete. \t\tElapsed time: 9.858638763427734 s\n",
      "Testing complete. \t\t\tElapsed time: 0.011968851089477539 s\n",
      "Testing score: 0.38154971048628017\n",
      "[CV] ................. input_scale=0.51, res_scale=0.01, total=  12.2s\n",
      "[CV] input_scale=0.51, res_scale=0.01 ................................\n",
      "Reservoir Computing algorithm - Training phase:\n",
      "\n",
      "Initialization complete. \t\tElapsed time: 0.10970568656921387 s\n"
     ]
    },
    {
     "data": {
      "application/vnd.jupyter.widget-view+json": {
       "model_id": "8eb9449109f449048d8fe7df3da35a0d",
       "version_major": 2,
       "version_minor": 0
      },
      "text/plain": [
       "HBox(children=(IntProgress(value=0, description='reservoir construction', max=2000, style=ProgressStyle(descri…"
      ]
     },
     "metadata": {},
     "output_type": "display_data"
    },
    {
     "name": "stdout",
     "output_type": "stream",
     "text": [
      "\n",
      "Reservoir iterations complete. \t\tElapsed time: 3.721050262451172 s\n",
      "Training complete. \t\t\tElapsed time: 0.3640263080596924 s\n",
      "Training score: 0.9993284454033757\n",
      "Reservoir Computing algorithm - Testing phase:\n",
      "\n",
      "Initialization complete. \t\tElapsed time: 0.0009918212890625 s\n"
     ]
    },
    {
     "data": {
      "application/vnd.jupyter.widget-view+json": {
       "model_id": "5cfa99ac7b7c4daf8847d713c216ab2f",
       "version_major": 2,
       "version_minor": 0
      },
      "text/plain": [
       "HBox(children=(IntProgress(value=0, description='reservoir update', max=200, style=ProgressStyle(description_w…"
      ]
     },
     "metadata": {},
     "output_type": "display_data"
    },
    {
     "data": {
      "application/vnd.jupyter.widget-view+json": {
       "model_id": "1c7299fb460d45f0b8af5c695094a4da",
       "version_major": 2,
       "version_minor": 0
      },
      "text/plain": [
       "HBox(children=(IntProgress(value=0, description='reservoir construction', max=800, style=ProgressStyle(descrip…"
      ]
     },
     "metadata": {},
     "output_type": "display_data"
    },
    {
     "name": "stdout",
     "output_type": "stream",
     "text": [
      "\n",
      "pred_output = [[0.37850033 0.91127491 1.5382333  2.06426374]\n",
      " [0.37646892 0.89766253 1.51592337 2.04928889]\n",
      " [0.3735846  0.88134355 1.48982147 2.03113168]]\n",
      "true_output = [[0.29832833 0.8422505  1.50255029 2.04731924]\n",
      " [0.2927631  0.82699817 1.48134577 2.03635891]\n",
      " [0.28651278 0.80946637 1.4567273  2.02221932]]\n",
      "Reservoir iterations complete. \t\tElapsed time: 8.071425914764404 s\n",
      "Testing complete. \t\t\tElapsed time: 0.012958526611328125 s\n",
      "Testing score: 0.02236772910323869\n",
      "Reservoir Computing algorithm - Testing phase:\n",
      "\n",
      "Initialization complete. \t\tElapsed time: 0.001995563507080078 s\n"
     ]
    },
    {
     "data": {
      "application/vnd.jupyter.widget-view+json": {
       "model_id": "80d9b445ac8348a59af9f0de80272554",
       "version_major": 2,
       "version_minor": 0
      },
      "text/plain": [
       "HBox(children=(IntProgress(value=0, description='reservoir update', max=200, style=ProgressStyle(description_w…"
      ]
     },
     "metadata": {},
     "output_type": "display_data"
    },
    {
     "data": {
      "application/vnd.jupyter.widget-view+json": {
       "model_id": "8953d81a7d684678a9ef2dfa1d44bd6d",
       "version_major": 2,
       "version_minor": 0
      },
      "text/plain": [
       "HBox(children=(IntProgress(value=0, description='reservoir construction', max=1800, style=ProgressStyle(descri…"
      ]
     },
     "metadata": {},
     "output_type": "display_data"
    },
    {
     "name": "stdout",
     "output_type": "stream",
     "text": [
      "\n",
      "pred_output = [[-1.27757874 -1.70181485 -1.47868906 -0.97944939]\n",
      " [-1.30194359 -1.71681172 -1.48595355 -0.98368719]\n",
      " [-1.32885652 -1.73142544 -1.4911731  -0.98562263]]\n",
      "true_output = [[-1.26618997 -1.68835774 -1.47042168 -0.97626466]\n",
      " [-1.29038563 -1.70335636 -1.47774807 -0.98031317]\n",
      " [-1.31724654 -1.71816847 -1.48315537 -0.98206872]]\n",
      "Reservoir iterations complete. \t\tElapsed time: 9.852653980255127 s\n",
      "Testing complete. \t\t\tElapsed time: 0.011969566345214844 s\n",
      "Testing score: 0.14969107381513921\n",
      "[CV] ................. input_scale=0.51, res_scale=0.01, total=  12.2s\n",
      "[CV] input_scale=0.51, res_scale=0.51 ................................\n",
      "Reservoir Computing algorithm - Training phase:\n",
      "\n",
      "Initialization complete. \t\tElapsed time: 0.10970497131347656 s\n"
     ]
    },
    {
     "data": {
      "application/vnd.jupyter.widget-view+json": {
       "model_id": "dbf7b81028524a99bc181632e09b8699",
       "version_major": 2,
       "version_minor": 0
      },
      "text/plain": [
       "HBox(children=(IntProgress(value=0, description='reservoir construction', max=2000, style=ProgressStyle(descri…"
      ]
     },
     "metadata": {},
     "output_type": "display_data"
    },
    {
     "name": "stdout",
     "output_type": "stream",
     "text": [
      "\n",
      "Reservoir iterations complete. \t\tElapsed time: 3.6761698722839355 s\n",
      "Training complete. \t\t\tElapsed time: 0.35804271697998047 s\n",
      "Training score: 0.9994487815135084\n",
      "Reservoir Computing algorithm - Testing phase:\n",
      "\n",
      "Initialization complete. \t\tElapsed time: 0.0009965896606445312 s\n"
     ]
    },
    {
     "data": {
      "application/vnd.jupyter.widget-view+json": {
       "model_id": "c82ca64de9454d73946103bd7e8eda05",
       "version_major": 2,
       "version_minor": 0
      },
      "text/plain": [
       "HBox(children=(IntProgress(value=0, description='reservoir update', max=200, style=ProgressStyle(description_w…"
      ]
     },
     "metadata": {},
     "output_type": "display_data"
    },
    {
     "data": {
      "application/vnd.jupyter.widget-view+json": {
       "model_id": "611427304d48403399a3500fcf1b6d59",
       "version_major": 2,
       "version_minor": 0
      },
      "text/plain": [
       "HBox(children=(IntProgress(value=0, description='reservoir construction', max=800, style=ProgressStyle(descrip…"
      ]
     },
     "metadata": {},
     "output_type": "display_data"
    },
    {
     "name": "stdout",
     "output_type": "stream",
     "text": [
      "\n",
      "pred_output = [[-0.22504268 -1.27749863 -1.77076399 -1.57988005]\n",
      " [-0.32919556 -1.3589056  -1.79163497 -1.54999204]\n",
      " [-0.43451515 -1.43738299 -1.80795238 -1.51720515]]\n",
      "true_output = [[-0.21422892 -1.26556111 -1.75169607 -1.58223217]\n",
      " [-0.3245488  -1.3502267  -1.77097593 -1.54897258]\n",
      " [-0.43580374 -1.43189857 -1.78572346 -1.51211763]]\n",
      "Reservoir iterations complete. \t\tElapsed time: 8.079396724700928 s\n",
      "Testing complete. \t\t\tElapsed time: 0.013969182968139648 s\n",
      "Testing score: 0.041354628623156066\n",
      "Reservoir Computing algorithm - Testing phase:\n",
      "\n",
      "Initialization complete. \t\tElapsed time: 0.0029888153076171875 s\n"
     ]
    },
    {
     "data": {
      "application/vnd.jupyter.widget-view+json": {
       "model_id": "5ffd9e9fad8f4149a8ce60bbf4886de6",
       "version_major": 2,
       "version_minor": 0
      },
      "text/plain": [
       "HBox(children=(IntProgress(value=0, description='reservoir update', max=200, style=ProgressStyle(description_w…"
      ]
     },
     "metadata": {},
     "output_type": "display_data"
    },
    {
     "data": {
      "application/vnd.jupyter.widget-view+json": {
       "model_id": "110053522a144ee4b8da235180eba8e4",
       "version_major": 2,
       "version_minor": 0
      },
      "text/plain": [
       "HBox(children=(IntProgress(value=0, description='reservoir construction', max=1800, style=ProgressStyle(descri…"
      ]
     },
     "metadata": {},
     "output_type": "display_data"
    },
    {
     "name": "stdout",
     "output_type": "stream",
     "text": [
      "\n",
      "pred_output = [[0.30254492 0.84826866 1.50841169 2.05132947]\n",
      " [0.29713224 0.83325984 1.48721515 2.03995858]\n",
      " [0.29077994 0.81565218 1.46233372 2.02532005]]\n",
      "true_output = [[0.29832833 0.8422505  1.50255029 2.04731924]\n",
      " [0.2927631  0.82699817 1.48134577 2.03635891]\n",
      " [0.28651278 0.80946637 1.4567273  2.02221932]]\n",
      "Reservoir iterations complete. \t\tElapsed time: 9.86661696434021 s\n",
      "Testing complete. \t\t\tElapsed time: 0.012965679168701172 s\n",
      "Testing score: 0.4549525955635593\n",
      "[CV] ................. input_scale=0.51, res_scale=0.51, total=  12.2s\n",
      "[CV] input_scale=0.51, res_scale=0.51 ................................\n",
      "Reservoir Computing algorithm - Training phase:\n",
      "\n",
      "Initialization complete. \t\tElapsed time: 0.11069607734680176 s\n"
     ]
    },
    {
     "data": {
      "application/vnd.jupyter.widget-view+json": {
       "model_id": "6b8408744b2a48f594c892fb89e806e6",
       "version_major": 2,
       "version_minor": 0
      },
      "text/plain": [
       "HBox(children=(IntProgress(value=0, description='reservoir construction', max=2000, style=ProgressStyle(descri…"
      ]
     },
     "metadata": {},
     "output_type": "display_data"
    },
    {
     "name": "stdout",
     "output_type": "stream",
     "text": [
      "\n",
      "Reservoir iterations complete. \t\tElapsed time: 3.6761701107025146 s\n",
      "Training complete. \t\t\tElapsed time: 0.36801648139953613 s\n",
      "Training score: 0.9987416091499265\n",
      "Reservoir Computing algorithm - Testing phase:\n",
      "\n",
      "Initialization complete. \t\tElapsed time: 0.0009968280792236328 s\n"
     ]
    },
    {
     "data": {
      "application/vnd.jupyter.widget-view+json": {
       "model_id": "91c79bb9fc9f43188a8d0209e8af4e8e",
       "version_major": 2,
       "version_minor": 0
      },
      "text/plain": [
       "HBox(children=(IntProgress(value=0, description='reservoir update', max=200, style=ProgressStyle(description_w…"
      ]
     },
     "metadata": {},
     "output_type": "display_data"
    },
    {
     "data": {
      "application/vnd.jupyter.widget-view+json": {
       "model_id": "249e1474b9a04441b7affa0c2af5693b",
       "version_major": 2,
       "version_minor": 0
      },
      "text/plain": [
       "HBox(children=(IntProgress(value=0, description='reservoir construction', max=800, style=ProgressStyle(descrip…"
      ]
     },
     "metadata": {},
     "output_type": "display_data"
    },
    {
     "name": "stdout",
     "output_type": "stream",
     "text": [
      "\n",
      "pred_output = [[-0.93247126 -1.3231539  -1.24378474 -0.89943451]\n",
      " [-0.96040413 -1.34214984 -1.25345952 -0.90423681]\n",
      " [-0.99163342 -1.36146409 -1.26142747 -0.90673068]]\n",
      "true_output = [[-1.26618997 -1.68835774 -1.47042168 -0.97626466]\n",
      " [-1.29038563 -1.70335636 -1.47774807 -0.98031317]\n",
      " [-1.31724654 -1.71816847 -1.48315537 -0.98206872]]\n",
      "Reservoir iterations complete. \t\tElapsed time: 8.197147846221924 s\n",
      "Testing complete. \t\t\tElapsed time: 0.011968851089477539 s\n",
      "Testing score: 0.11256122494922358\n",
      "Reservoir Computing algorithm - Testing phase:\n",
      "\n",
      "Initialization complete. \t\tElapsed time: 0.001995086669921875 s\n"
     ]
    },
    {
     "data": {
      "application/vnd.jupyter.widget-view+json": {
       "model_id": "ac7d24df54884ed6a3786da0422ba18e",
       "version_major": 2,
       "version_minor": 0
      },
      "text/plain": [
       "HBox(children=(IntProgress(value=0, description='reservoir update', max=200, style=ProgressStyle(description_w…"
      ]
     },
     "metadata": {},
     "output_type": "display_data"
    },
    {
     "data": {
      "application/vnd.jupyter.widget-view+json": {
       "model_id": "d2dee981b3814f84ad3e3290be6c660d",
       "version_major": 2,
       "version_minor": 0
      },
      "text/plain": [
       "HBox(children=(IntProgress(value=0, description='reservoir construction', max=1800, style=ProgressStyle(descri…"
      ]
     },
     "metadata": {},
     "output_type": "display_data"
    },
    {
     "name": "stdout",
     "output_type": "stream",
     "text": [
      "\n",
      "pred_output = [[0.31246725 0.85703905 1.51358016 2.0572182 ]\n",
      " [0.30559874 0.84028931 1.49108621 2.04508359]\n",
      " [0.29762791 0.8207787  1.46475981 2.0294179 ]]\n",
      "true_output = [[0.29832833 0.8422505  1.50255029 2.04731924]\n",
      " [0.2927631  0.82699817 1.48134577 2.03635891]\n",
      " [0.28651278 0.80946637 1.4567273  2.02221932]]\n",
      "Reservoir iterations complete. \t\tElapsed time: 9.966350555419922 s\n",
      "Testing complete. \t\t\tElapsed time: 0.011971473693847656 s\n",
      "Testing score: 0.5407711394968902\n",
      "[CV] ................. input_scale=0.51, res_scale=0.51, total=  12.3s\n",
      "[CV] input_scale=0.51, res_scale=0.51 ................................\n",
      "Reservoir Computing algorithm - Training phase:\n",
      "\n",
      "Initialization complete. \t\tElapsed time: 0.10970592498779297 s\n"
     ]
    },
    {
     "data": {
      "application/vnd.jupyter.widget-view+json": {
       "model_id": "dba5431b252749e1b2fd6a7520861464",
       "version_major": 2,
       "version_minor": 0
      },
      "text/plain": [
       "HBox(children=(IntProgress(value=0, description='reservoir construction', max=2000, style=ProgressStyle(descri…"
      ]
     },
     "metadata": {},
     "output_type": "display_data"
    },
    {
     "name": "stdout",
     "output_type": "stream",
     "text": [
      "\n",
      "Reservoir iterations complete. \t\tElapsed time: 3.8616740703582764 s\n",
      "Training complete. \t\t\tElapsed time: 0.3590400218963623 s\n",
      "Training score: 0.9993712269596112\n",
      "Reservoir Computing algorithm - Testing phase:\n",
      "\n",
      "Initialization complete. \t\tElapsed time: 0.0009970664978027344 s\n"
     ]
    },
    {
     "data": {
      "application/vnd.jupyter.widget-view+json": {
       "model_id": "424b24f76465444e84a32438e7800c59",
       "version_major": 2,
       "version_minor": 0
      },
      "text/plain": [
       "HBox(children=(IntProgress(value=0, description='reservoir update', max=200, style=ProgressStyle(description_w…"
      ]
     },
     "metadata": {},
     "output_type": "display_data"
    },
    {
     "data": {
      "application/vnd.jupyter.widget-view+json": {
       "model_id": "a4d95d68cee043139f1ecb8b2fdf6bed",
       "version_major": 2,
       "version_minor": 0
      },
      "text/plain": [
       "HBox(children=(IntProgress(value=0, description='reservoir construction', max=800, style=ProgressStyle(descrip…"
      ]
     },
     "metadata": {},
     "output_type": "display_data"
    },
    {
     "name": "stdout",
     "output_type": "stream",
     "text": [
      "\n",
      "pred_output = [[0.36067173 0.85953333 1.50154152 2.06234153]\n",
      " [0.35753475 0.8461845  1.48071843 2.0502193 ]\n",
      " [0.35350892 0.8303696  1.45626836 2.03484664]]\n",
      "true_output = [[0.29832833 0.8422505  1.50255029 2.04731924]\n",
      " [0.2927631  0.82699817 1.48134577 2.03635891]\n",
      " [0.28651278 0.80946637 1.4567273  2.02221932]]\n",
      "Reservoir iterations complete. \t\tElapsed time: 8.09834599494934 s\n",
      "Testing complete. \t\t\tElapsed time: 0.012966394424438477 s\n",
      "Testing score: 0.024987863252767775\n",
      "Reservoir Computing algorithm - Testing phase:\n",
      "\n",
      "Initialization complete. \t\tElapsed time: 0.0019834041595458984 s\n"
     ]
    },
    {
     "data": {
      "application/vnd.jupyter.widget-view+json": {
       "model_id": "6a7732d0a1154565b3f7cb6b84206bdc",
       "version_major": 2,
       "version_minor": 0
      },
      "text/plain": [
       "HBox(children=(IntProgress(value=0, description='reservoir update', max=200, style=ProgressStyle(description_w…"
      ]
     },
     "metadata": {},
     "output_type": "display_data"
    },
    {
     "data": {
      "application/vnd.jupyter.widget-view+json": {
       "model_id": "8e9162d66245457585215ed23ec767e6",
       "version_major": 2,
       "version_minor": 0
      },
      "text/plain": [
       "HBox(children=(IntProgress(value=0, description='reservoir construction', max=1800, style=ProgressStyle(descri…"
      ]
     },
     "metadata": {},
     "output_type": "display_data"
    },
    {
     "name": "stdout",
     "output_type": "stream",
     "text": [
      "\n",
      "pred_output = [[-1.27218511 -1.69659877 -1.47594051 -0.97820786]\n",
      " [-1.29688932 -1.71173023 -1.48297746 -0.98209779]\n",
      " [-1.3241292  -1.72652844 -1.48800801 -0.98370437]]\n",
      "true_output = [[-1.26618997 -1.68835774 -1.47042168 -0.97626466]\n",
      " [-1.29038563 -1.70335636 -1.47774807 -0.98031317]\n",
      " [-1.31724654 -1.71816847 -1.48315537 -0.98206872]]\n",
      "Reservoir iterations complete. \t\tElapsed time: 9.812761545181274 s\n",
      "Testing complete. \t\t\tElapsed time: 0.013964176177978516 s\n",
      "Testing score: 0.19716926930583076\n",
      "[CV] ................. input_scale=0.51, res_scale=0.51, total=  12.4s\n"
     ]
    },
    {
     "name": "stderr",
     "output_type": "stream",
     "text": [
      "[Parallel(n_jobs=1)]: Done  12 out of  12 | elapsed:  4.5min finished\n"
     ]
    },
    {
     "name": "stdout",
     "output_type": "stream",
     "text": [
      "Reservoir Computing algorithm - Training phase:\n",
      "\n",
      "Initialization complete. \t\tElapsed time: 0.10970568656921387 s\n"
     ]
    },
    {
     "data": {
      "application/vnd.jupyter.widget-view+json": {
       "model_id": "e7cfbf4c68c344fd8539378e8dfc13a4",
       "version_major": 2,
       "version_minor": 0
      },
      "text/plain": [
       "HBox(children=(IntProgress(value=0, description='reservoir construction', max=3000, style=ProgressStyle(descri…"
      ]
     },
     "metadata": {},
     "output_type": "display_data"
    },
    {
     "name": "stdout",
     "output_type": "stream",
     "text": [
      "\n",
      "Reservoir iterations complete. \t\tElapsed time: 5.500293016433716 s\n",
      "Training complete. \t\t\tElapsed time: 0.27028536796569824 s\n",
      "Training score: 0.9996356240271881\n",
      "{'input_scale': 0.51, 'res_scale': 0.51}\n"
     ]
    }
   ],
   "source": [
    "ctanh = GridSearchCV(estimator=b, param_grid=params, return_train_score=True, cv=3, verbose=2)\n",
    "n_sequence = 1\n",
    "spatial_points = 30\n",
    "lyap_exp = 0.0461\n",
    "ks_data, xx, tt = data1D.kuramoto_sivashinsky_matlab(sequence_length=3000, n_sequence=n_sequence, spatial_points=spatial_points)\n",
    "input_shape=ks_data.shape\n",
    "input_data = ks_data.reshape((ks_data.shape[1], ks_data.shape[0], ks_data.shape[2]))\n",
    "ctanh.fit(input_data)\n",
    "\n",
    "print(ctanh.best_params_)"
   ]
  },
  {
   "cell_type": "code",
   "execution_count": null,
   "metadata": {},
   "outputs": [],
   "source": []
  },
  {
   "cell_type": "code",
   "execution_count": null,
   "metadata": {},
   "outputs": [],
   "source": []
  }
 ],
 "metadata": {
  "kernelspec": {
   "display_name": "Python 3",
   "language": "python",
   "name": "python3"
  },
  "language_info": {
   "codemirror_mode": {
    "name": "ipython",
    "version": 3
   },
   "file_extension": ".py",
   "mimetype": "text/x-python",
   "name": "python",
   "nbconvert_exporter": "python",
   "pygments_lexer": "ipython3",
   "version": "3.7.3"
  }
 },
 "nbformat": 4,
 "nbformat_minor": 2
}
