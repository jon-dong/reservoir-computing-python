{
 "cells": [
  {
   "cell_type": "markdown",
   "metadata": {},
   "source": [
    "# Reservoir Computing and Mackey-Glass prediction\n",
    "\n",
    "This notebook is an example of Mackey-Glass prediction using Reservoir Computing, towards an optical implementation.\n",
    "\n",
    "## Initialization"
   ]
  },
  {
   "cell_type": "code",
   "execution_count": 39,
   "metadata": {},
   "outputs": [
    {
     "name": "stdout",
     "output_type": "stream",
     "text": [
      "The autoreload extension is already loaded. To reload it, use:\n",
      "  %reload_ext autoreload\n"
     ]
    }
   ],
   "source": [
    "import numpy as np\n",
    "import time\n",
    "\n",
    "from reservoir import Reservoir\n",
    "import data1D\n",
    "\n",
    "%load_ext autoreload\n",
    "%autoreload 2\n",
    "\n",
    "%matplotlib inline\n",
    "import matplotlib.pyplot as plt"
   ]
  },
  {
   "cell_type": "markdown",
   "metadata": {},
   "source": [
    "## Data generation"
   ]
  },
  {
   "cell_type": "code",
   "execution_count": 113,
   "metadata": {},
   "outputs": [],
   "source": [
    "input_data = data1D.mackey_glass(sequence_length=4000, n_sequence=1)"
   ]
  },
  {
   "cell_type": "markdown",
   "metadata": {},
   "source": [
    "## Reservoir initialization"
   ]
  },
  {
   "cell_type": "code",
   "execution_count": 122,
   "metadata": {},
   "outputs": [],
   "source": [
    "b = Reservoir(n_res=400, res_encoding=None, \n",
    "              input_scale=2, input_encoding=None, \n",
    "              random_projection='simulation', weights_type='gaussian', \n",
    "              activation_fun='tanh', \n",
    "              parallel_runs=3, \n",
    "              future_pred=True, pred_horizon=10,\n",
    "              train_method='ridge', train_param=1e1\n",
    "              )"
   ]
  },
  {
   "cell_type": "markdown",
   "metadata": {},
   "source": [
    "## Reservoir Training"
   ]
  },
  {
   "cell_type": "code",
   "execution_count": 123,
   "metadata": {},
   "outputs": [
    {
     "name": "stdout",
     "output_type": "stream",
     "text": [
      "Start of training...\n",
      "Initialization finished. Elapsed time: 0.006743192672729492s\n",
      "100%|██████████| 1000/1000 [00:00<00:00, 16657.42it/s]\n",
      "Iterations finished. Elapsed time: 0.06852602958679199s\n",
      "Training finished. Elapsed time: 0.08043313026428223s\n",
      "Training score: 0.9326282383239699\n"
     ]
    }
   ],
   "source": [
    "b.fit(input_data);"
   ]
  },
  {
   "cell_type": "markdown",
   "metadata": {},
   "source": [
    "## Reservoir Validation"
   ]
  },
  {
   "cell_type": "code",
   "execution_count": 124,
   "metadata": {},
   "outputs": [],
   "source": [
    "input_data = data1D.mackey_glass(sequence_length=1000, n_sequence=1)"
   ]
  },
  {
   "cell_type": "code",
   "execution_count": 125,
   "metadata": {},
   "outputs": [
    {
     "name": "stdout",
     "output_type": "stream",
     "text": [
      "Start of testing...\n",
      "Initialization finished. Elapsed time: 0.0006656646728515625\n",
      "100%|██████████| 1000/1000 [00:00<00:00, 17756.07it/s]\n",
      "Iterations finished. Elapsed time: 0.059375762939453125\n",
      "Testing finished. Elapsed time: 0.06063961982727051\n",
      "Testing finished. Elapsed time:\n",
      "0.08043313026428223\n",
      "Testing score:\n",
      "0.9623935873757039\n"
     ]
    }
   ],
   "source": [
    "pred_output, valid_score = b.score(input_data);"
   ]
  }
 ],
 "metadata": {
  "kernelspec": {
   "display_name": "Python 3",
   "language": "python",
   "name": "python3"
  },
  "language_info": {
   "codemirror_mode": {
    "name": "ipython",
    "version": 3
   },
   "file_extension": ".py",
   "mimetype": "text/x-python",
   "name": "python",
   "nbconvert_exporter": "python",
   "pygments_lexer": "ipython3",
   "version": "3.6.6"
  }
 },
 "nbformat": 4,
 "nbformat_minor": 2
}
