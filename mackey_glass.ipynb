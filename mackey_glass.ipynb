{
 "cells": [
  {
   "cell_type": "markdown",
   "metadata": {},
   "source": [
    "# Reservoir Computing and Mackey-Glass prediction\n",
    "\n",
    "This notebook is an example of Mackey-Glass prediction using Reservoir Computing, towards an optical implementation.\n",
    "\n",
    "## Initialization"
   ]
  },
  {
   "cell_type": "code",
   "execution_count": 21,
   "metadata": {},
   "outputs": [
    {
     "name": "stdout",
     "output_type": "stream",
     "text": [
      "The autoreload extension is already loaded. To reload it, use:\n",
      "  %reload_ext autoreload\n"
     ]
    }
   ],
   "source": [
    "import numpy as np\n",
    "import time\n",
    "\n",
    "from reservoir import Reservoir\n",
    "import data1D\n",
    "\n",
    "%load_ext autoreload\n",
    "%autoreload 2\n",
    "\n",
    "%matplotlib inline\n",
    "import matplotlib.pyplot as plt"
   ]
  },
  {
   "cell_type": "markdown",
   "metadata": {},
   "source": [
    "## Data generation"
   ]
  },
  {
   "cell_type": "code",
   "execution_count": 303,
   "metadata": {},
   "outputs": [],
   "source": [
    "input_data = data.mackey_glass(sequence_length=2000)\n",
    "horizon = 2  # up to how many timesteps in the future we want to predict\n",
    "output_data = np.zeros(input_data.shape[0:-1] + (horizon,))\n",
    "for i_step in range(horizon):\n",
    "    temp = np.roll(input_data, -(i_step+1), axis=1)\n",
    "    output_data[:, :, i_step] = np.squeeze(np.roll(input_data, -(i_step+1), axis=1))"
   ]
  },
  {
   "cell_type": "markdown",
   "metadata": {},
   "source": [
    "## Reservoir initialization"
   ]
  },
  {
   "cell_type": "code",
   "execution_count": 304,
   "metadata": {},
   "outputs": [],
   "source": [
    "b = Reservoir(n_res=1000, input_scale=2, train_method='ridge', train_param=1e2,\n",
    "              weights_type='complex gaussian', random_projection='simulation',\n",
    "              activation_fun='binary', activation_param=1, encoding_method='naive_binary',\n",
    "              input_dim=100, forget=100)"
   ]
  },
  {
   "cell_type": "markdown",
   "metadata": {},
   "source": [
    "## Reservoir Training"
   ]
  },
  {
   "cell_type": "code",
   "execution_count": 305,
   "metadata": {},
   "outputs": [
    {
     "name": "stdout",
     "output_type": "stream",
     "text": [
      "Start of training...\n",
      "Initialization finished. Elapsed time:\n",
      "0.07437944412231445\n",
      "100%|██████████| 2000/2000 [00:01<00:00, 1191.78it/s]\n",
      "Iterations finished. Elapsed time:\n",
      "1.754845142364502\n",
      "Training finished. Elapsed time:\n",
      "1.8852083683013916\n",
      "Training score:\n",
      "0.982214879603867\n"
     ]
    }
   ],
   "source": [
    "y = output_data\n",
    "b.fit(input_data, y);"
   ]
  },
  {
   "cell_type": "markdown",
   "metadata": {},
   "source": [
    "## Reservoir Validation"
   ]
  },
  {
   "cell_type": "code",
   "execution_count": 306,
   "metadata": {},
   "outputs": [],
   "source": [
    "input_data = data1D.mackey_glass(sequence_length=2000)\n",
    "output_data = np.zeros(input_data.shape[0:-1] + (horizon,))\n",
    "for i_step in range(horizon):\n",
    "    temp = np.roll(input_data, -(i_step+1), axis=1)\n",
    "    output_data[:, :, i_step] = np.squeeze(np.roll(input_data, -(i_step+1), axis=1))"
   ]
  },
  {
   "cell_type": "code",
   "execution_count": 307,
   "metadata": {},
   "outputs": [
    {
     "name": "stdout",
     "output_type": "stream",
     "text": [
      "Start of testing...\n",
      "Initialization finished. Elapsed time:\n",
      "0.0008304119110107422\n",
      "100%|██████████| 2000/2000 [00:01<00:00, 1235.71it/s]\n",
      "Iterations finished. Elapsed time:\n",
      "1.62312650680542\n",
      "Testing finished. Elapsed time:\n",
      "1.6258511543273926\n",
      "Testing finished. Elapsed time:\n",
      "1.8852083683013916\n",
      "Testing score:\n",
      "0.968064614684969\n"
     ]
    }
   ],
   "source": [
    "y = output_data\n",
    "pred_output, valid_score = b.score(input_data, y);"
   ]
  },
  {
   "cell_type": "code",
   "execution_count": 308,
   "metadata": {},
   "outputs": [
    {
     "data": {
      "image/png": "[encoded data removed]",
      "text/plain": [
       "<Figure size 432x288 with 1 Axes>"
      ]
     },
     "metadata": {
      "needs_background": "light"
     },
     "output_type": "display_data"
    }
   ],
   "source": [
    "plot_length = 200\n",
    "for i_fig in range(1):\n",
    "    plt.figure(i_fig)\n",
    "    plt.plot(pred_output[:plot_length, i_fig])\n",
    "    plt.plot(y[0, b.forget:b.forget+plot_length, i_fig])\n",
    "    plt.title('Predicted curves ' + str(i_fig))\n",
    "    plt.show()"
   ]
  },
  {
   "cell_type": "code",
   "execution_count": null,
   "metadata": {},
   "outputs": [],
   "source": []
  }
 ],
 "metadata": {
  "kernelspec": {
   "display_name": "Python 3",
   "language": "python",
   "name": "python3"
  },
  "language_info": {
   "codemirror_mode": {
    "name": "ipython",
    "version": 3
   },
   "file_extension": ".py",
   "mimetype": "text/x-python",
   "name": "python",
   "nbconvert_exporter": "python",
   "pygments_lexer": "ipython3",
   "version": "3.6.7"
  }
 },
 "nbformat": 4,
 "nbformat_minor": 2
}
