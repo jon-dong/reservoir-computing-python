{
 "cells": [
  {
   "cell_type": "markdown",
   "metadata": {},
   "source": [
    "# Reservoir Computing and Mackey-Glass prediction\n",
    "\n",
    "This notebook is an example of Mackey-Glass prediction using Reservoir Computing, towards an optical implementation.\n",
    "\n",
    "## Initialization"
   ]
  },
  {
   "cell_type": "code",
   "execution_count": 1,
   "metadata": {},
   "outputs": [],
   "source": [
    "import numpy as np\n",
    "import time\n",
    "\n",
    "from reservoir import Reservoir\n",
    "import data1D\n",
    "\n",
    "%load_ext autoreload\n",
    "%autoreload 2\n",
    "\n",
    "%matplotlib inline\n",
    "import matplotlib.pyplot as plt"
   ]
  },
  {
   "cell_type": "markdown",
   "metadata": {},
   "source": [
    "## Data generation"
   ]
  },
  {
   "cell_type": "code",
   "execution_count": 47,
   "metadata": {},
   "outputs": [],
   "source": [
    "input_data = data1D.mackey_glass(sequence_length=4000, n_sequence=4)"
   ]
  },
  {
   "cell_type": "markdown",
   "metadata": {},
   "source": [
    "## Reservoir initialization"
   ]
  },
  {
   "cell_type": "code",
   "execution_count": 57,
   "metadata": {},
   "outputs": [],
   "source": [
    "b = Reservoir(n_res=400, res_encoding=None, \n",
    "              input_scale=2, input_encoding=None, \n",
    "              random_projection='simulation', weights_type='gaussian', \n",
    "              activation_fun='tanh', \n",
    "              parallel_runs=2, \n",
    "              future_pred=True, pred_horizon=10, rec_pred_steps=5,\n",
    "              train_method='ridge', train_param=1e1\n",
    "              )"
   ]
  },
  {
   "cell_type": "markdown",
   "metadata": {},
   "source": [
    "## Reservoir Training"
   ]
  },
  {
   "cell_type": "code",
   "execution_count": 58,
   "metadata": {},
   "outputs": [
    {
     "name": "stdout",
     "output_type": "stream",
     "text": [
      "Start of training...\n",
      "Initialization finished. Elapsed time: 0.006781101226806641s\n",
      "100%|██████████| 1000/1000 [00:00<00:00, 7167.39it/s]\n",
      "100%|██████████| 1000/1000 [00:00<00:00, 6769.72it/s]\n",
      "Iterations finished. Elapsed time: 0.29825687408447266s\n",
      "Training finished. Elapsed time: 0.3409416675567627s\n",
      "Training score: 0.9580793547370432\n"
     ]
    }
   ],
   "source": [
    "b.fit(input_data);"
   ]
  },
  {
   "cell_type": "markdown",
   "metadata": {},
   "source": [
    "## Reservoir Validation"
   ]
  },
  {
   "cell_type": "code",
   "execution_count": 50,
   "metadata": {},
   "outputs": [],
   "source": [
    "input_data = data1D.mackey_glass(sequence_length=1000, n_sequence=4)"
   ]
  },
  {
   "cell_type": "code",
   "execution_count": 51,
   "metadata": {},
   "outputs": [
    {
     "name": "stdout",
     "output_type": "stream",
     "text": [
      "Start of testing...\n",
      "Initialization finished. Elapsed time: 0.0006029605865478516\n",
      "100%|██████████| 1000/1000 [00:00<00:00, 6900.34it/s]\n",
      "100%|██████████| 1000/1000 [00:00<00:00, 6331.79it/s]\n",
      "Iterations finished. Elapsed time: 0.3092832565307617\n",
      "Testing finished. Elapsed time: 0.31441521644592285\n",
      "Testing finished. Elapsed time:\n",
      "1.4603302478790283\n",
      "Testing score:\n",
      "0.9671487424091577\n"
     ]
    }
   ],
   "source": [
    "pred_output, valid_score = b.score(input_data);"
   ]
  },
  {
   "cell_type": "markdown",
   "metadata": {},
   "source": [
    "## Other tests"
   ]
  },
  {
   "cell_type": "code",
   "execution_count": 65,
   "metadata": {},
   "outputs": [
    {
     "name": "stdout",
     "output_type": "stream",
     "text": [
      "Start of testing...\n",
      "Initialization finished. Elapsed time:\n",
      "0.000843048095703125\n",
      "100%|██████████| 1000/1000 [00:00<00:00, 6215.40it/s]\n",
      "100%|██████████| 1000/1000 [00:00<00:00, 7049.96it/s]\n",
      "Iterations finished. Elapsed time:\n",
      "0.3092167377471924\n",
      "100%|██████████| 10/10 [00:00<00:00, 3607.69it/s]\n",
      "100%|██████████| 10/10 [00:00<00:00, 3591.63it/s]\n",
      "100%|██████████| 10/10 [00:00<00:00, 3535.32it/s]\n",
      "100%|██████████| 10/10 [00:00<00:00, 2748.38it/s]\n",
      "100%|██████████| 10/10 [00:00<00:00, 3612.35it/s]\n",
      "100%|██████████| 10/10 [00:00<00:00, 3179.19it/s]\n",
      "100%|██████████| 10/10 [00:00<00:00, 1655.34it/s]\n",
      "100%|██████████| 10/10 [00:00<00:00, 2729.07it/s]\n",
      "100%|██████████| 10/10 [00:00<00:00, 3291.20it/s]\n",
      "100%|██████████| 10/10 [00:00<00:00, 1601.80it/s]\n",
      "Testing finished. Elapsed time:\n",
      "0.37238335609436035\n"
     ]
    }
   ],
   "source": [
    "pred_output = b.recursive_predict(input_data)"
   ]
  },
  {
   "cell_type": "code",
   "execution_count": 71,
   "metadata": {},
   "outputs": [
    {
     "data": {
      "text/plain": [
       "array([[-0.26454723],\n",
       "       [-0.26656505],\n",
       "       [-0.26804122],\n",
       "       [-0.26762064],\n",
       "       [-0.26533327],\n",
       "       [-0.25986885],\n",
       "       [-0.24764043],\n",
       "       [-0.22255974],\n",
       "       [-0.18038663],\n",
       "       [-0.12459471],\n",
       "       [-0.06565773],\n",
       "       [-0.01290324],\n",
       "       [ 0.03129311],\n",
       "       [ 0.06925056],\n",
       "       [ 0.10355023],\n",
       "       [ 0.13385409],\n",
       "       [ 0.15899744],\n",
       "       [ 0.18022663],\n",
       "       [ 0.20087184],\n",
       "       [ 0.22230902],\n",
       "       [ 0.2406364 ],\n",
       "       [ 0.2550432 ],\n",
       "       [ 0.26849431],\n",
       "       [ 0.28122507],\n",
       "       [ 0.2926467 ],\n",
       "       [ 0.30258166],\n",
       "       [ 0.30923835],\n",
       "       [ 0.30624911],\n",
       "       [ 0.28679058],\n",
       "       [ 0.24940795],\n",
       "       [ 0.19790131],\n",
       "       [ 0.13819335],\n",
       "       [ 0.07523867],\n",
       "       [ 0.01168678],\n",
       "       [-0.05145017],\n",
       "       [-0.11335722],\n",
       "       [-0.17329503],\n",
       "       [-0.22852126],\n",
       "       [-0.27545545],\n",
       "       [-0.31859588],\n",
       "       [-0.36188673],\n",
       "       [-0.40007745],\n",
       "       [-0.43044826],\n",
       "       [-0.45600158],\n",
       "       [-0.47861127],\n",
       "       [-0.49672979],\n",
       "       [-0.50899178],\n",
       "       [-0.51521268],\n",
       "       [-0.51380902],\n",
       "       [-0.50139563],\n",
       "       [-0.07749103],\n",
       "       [-0.06216211],\n",
       "       [-0.05058793],\n",
       "       [-0.04131634],\n",
       "       [-0.03310124],\n",
       "       [-0.02524546],\n",
       "       [-0.01732278],\n",
       "       [-0.00765607],\n",
       "       [ 0.00585837],\n",
       "       [ 0.02507675],\n",
       "       [ 0.04284994],\n",
       "       [ 0.06837519],\n",
       "       [ 0.09244545],\n",
       "       [ 0.10852018],\n",
       "       [ 0.11473131],\n",
       "       [ 0.11369177],\n",
       "       [ 0.11242842],\n",
       "       [ 0.11461195],\n",
       "       [ 0.12028276],\n",
       "       [ 0.12728402],\n",
       "       [ 0.12208261],\n",
       "       [ 0.11107736],\n",
       "       [ 0.09323732],\n",
       "       [ 0.06589577],\n",
       "       [ 0.0301564 ],\n",
       "       [-0.00942039],\n",
       "       [-0.04565966],\n",
       "       [-0.07591668],\n",
       "       [-0.10350276],\n",
       "       [-0.13230671],\n",
       "       [-0.15414554],\n",
       "       [-0.17555365],\n",
       "       [-0.19397907],\n",
       "       [-0.20665885],\n",
       "       [-0.2127528 ],\n",
       "       [-0.21340111],\n",
       "       [-0.21406882],\n",
       "       [-0.21776872],\n",
       "       [-0.22523711],\n",
       "       [-0.23096244],\n",
       "       [-0.22750556],\n",
       "       [-0.21382713],\n",
       "       [-0.19060988],\n",
       "       [-0.15658271],\n",
       "       [-0.11290691],\n",
       "       [-0.06254279],\n",
       "       [-0.01074661],\n",
       "       [ 0.03906502],\n",
       "       [ 0.08596427],\n",
       "       [ 0.13074346]])"
      ]
     },
     "execution_count": 71,
     "metadata": {},
     "output_type": "execute_result"
    }
   ],
   "source": [
    "pred_output[0, 950:]"
   ]
  },
  {
   "cell_type": "code",
   "execution_count": null,
   "metadata": {},
   "outputs": [],
   "source": []
  }
 ],
 "metadata": {
  "kernelspec": {
   "display_name": "Python 3",
   "language": "python",
   "name": "python3"
  },
  "language_info": {
   "codemirror_mode": {
    "name": "ipython",
    "version": 3
   },
   "file_extension": ".py",
   "mimetype": "text/x-python",
   "name": "python",
   "nbconvert_exporter": "python",
   "pygments_lexer": "ipython3",
   "version": "3.6.6"
  }
 },
 "nbformat": 4,
 "nbformat_minor": 2
}
