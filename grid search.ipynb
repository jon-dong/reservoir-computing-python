{
 "cells": [
  {
   "cell_type": "code",
   "execution_count": 1,
   "metadata": {},
   "outputs": [],
   "source": [
    "import numpy as np\n",
    "import data1D\n",
    "from reservoir import Reservoir\n",
    "from sklearn.model_selection import GridSearchCV\n",
    "\n",
    "%load_ext autoreload\n",
    "%autoreload 2\n",
    "%aimport data1D\n",
    "%aimport reservoir\n",
    "\n",
    "%matplotlib inline"
   ]
  },
  {
   "cell_type": "code",
   "execution_count": 2,
   "metadata": {},
   "outputs": [],
   "source": [
    "parallel_runs = 1\n",
    "forget = 1000\n",
    "n_testing_states = 200\n",
    "b = Reservoir(n_res=2000, res_scale=None, res_encoding=None, res_enc_param=np.pi,\n",
    "              input_scale=None, input_encoding=None,\n",
    "              random_projection='simulation', weights_type='gaussian',\n",
    "              activation_fun='tanh', activation_param=None,\n",
    "              parallel_runs=parallel_runs,  bias_scale=None, leak_rate=None,\n",
    "              pred_horizon=1, rec_pred_steps=80, forget = forget, n_testing_states = n_testing_states,\n",
    "              train_method='ridge', train_param=10, verbose=0, gridsearch=True,\n",
    "              scale_input_MinMax = (-1, 1), scale_res_MinMax = None, scale_output_MinMax = (-1, 1)\n",
    "             )"
   ]
  },
  {
   "cell_type": "code",
   "execution_count": 3,
   "metadata": {},
   "outputs": [],
   "source": [
    "params = [\n",
    "  {'res_scale': np.linspace(.1, 1, 10),\n",
    "   'input_scale': np.linspace(0, 1, 11),\n",
    "   'bias_scale': np.linspace(0, 1, 11),\n",
    "   'leak_rate': np.linspace(0, 0.9, 10),\n",
    "   'activation_param': np.linspace(1, 10, 10)\n",
    "  }\n",
    "]"
   ]
  },
  {
   "cell_type": "code",
   "execution_count": null,
   "metadata": {
    "scrolled": false
   },
   "outputs": [
    {
     "name": "stdout",
     "output_type": "stream",
     "text": [
      "Fitting 3 folds for each of 121000 candidates, totalling 363000 fits\n",
      "[CV] activation_param=1.0, bias_scale=0.0, input_scale=0.0, leak_rate=0.0, res_scale=0.1 \n"
     ]
    },
    {
     "name": "stderr",
     "output_type": "stream",
     "text": [
      "[Parallel(n_jobs=1)]: Using backend SequentialBackend with 1 concurrent workers.\n"
     ]
    },
    {
     "name": "stdout",
     "output_type": "stream",
     "text": [
      "Testing score: 0.09576485062869801\n",
      "Testing score: 0.21135211136103535\n",
      "[CV]  activation_param=1.0, bias_scale=0.0, input_scale=0.0, leak_rate=0.0, res_scale=0.1, total=  15.0s\n",
      "[CV] activation_param=1.0, bias_scale=0.0, input_scale=0.0, leak_rate=0.0, res_scale=0.1 \n"
     ]
    },
    {
     "name": "stderr",
     "output_type": "stream",
     "text": [
      "[Parallel(n_jobs=1)]: Done   1 out of   1 | elapsed:   25.9s remaining:    0.0s\n"
     ]
    },
    {
     "name": "stdout",
     "output_type": "stream",
     "text": [
      "Testing score: 0.18598407869855837\n",
      "Testing score: 0.2118366488326403\n",
      "[CV]  activation_param=1.0, bias_scale=0.0, input_scale=0.0, leak_rate=0.0, res_scale=0.1, total=  14.6s\n",
      "[CV] activation_param=1.0, bias_scale=0.0, input_scale=0.0, leak_rate=0.0, res_scale=0.1 \n",
      "Testing score: 0.126058061028877\n",
      "Testing score: 0.1350604576937478\n",
      "[CV]  activation_param=1.0, bias_scale=0.0, input_scale=0.0, leak_rate=0.0, res_scale=0.1, total=  15.4s\n",
      "[CV] activation_param=1.0, bias_scale=0.0, input_scale=0.0, leak_rate=0.0, res_scale=0.2 \n",
      "Testing score: 0.09600338844612988\n",
      "Testing score: 0.20841911975026167\n",
      "[CV]  activation_param=1.0, bias_scale=0.0, input_scale=0.0, leak_rate=0.0, res_scale=0.2, total=  14.4s\n",
      "[CV] activation_param=1.0, bias_scale=0.0, input_scale=0.0, leak_rate=0.0, res_scale=0.2 \n",
      "Testing score: 0.18813719594688103\n",
      "Testing score: 0.21158623062125134\n",
      "[CV]  activation_param=1.0, bias_scale=0.0, input_scale=0.0, leak_rate=0.0, res_scale=0.2, total=  15.8s\n",
      "[CV] activation_param=1.0, bias_scale=0.0, input_scale=0.0, leak_rate=0.0, res_scale=0.2 \n",
      "Testing score: 0.1243587256772968\n",
      "Testing score: 0.13535923395909125\n",
      "[CV]  activation_param=1.0, bias_scale=0.0, input_scale=0.0, leak_rate=0.0, res_scale=0.2, total=  14.8s\n",
      "[CV] activation_param=1.0, bias_scale=0.0, input_scale=0.0, leak_rate=0.0, res_scale=0.30000000000000004 \n",
      "Testing score: 0.09593740310217867\n",
      "Testing score: 0.21119072162204464\n",
      "[CV]  activation_param=1.0, bias_scale=0.0, input_scale=0.0, leak_rate=0.0, res_scale=0.30000000000000004, total=  14.8s\n",
      "[CV] activation_param=1.0, bias_scale=0.0, input_scale=0.0, leak_rate=0.0, res_scale=0.30000000000000004 \n",
      "Testing score: 0.1888261540223546\n",
      "Testing score: 0.21138491608018734\n",
      "[CV]  activation_param=1.0, bias_scale=0.0, input_scale=0.0, leak_rate=0.0, res_scale=0.30000000000000004, total=  15.0s\n",
      "[CV] activation_param=1.0, bias_scale=0.0, input_scale=0.0, leak_rate=0.0, res_scale=0.30000000000000004 \n",
      "Testing score: 0.12301038922930348\n",
      "Testing score: 0.13457139829417009\n",
      "[CV]  activation_param=1.0, bias_scale=0.0, input_scale=0.0, leak_rate=0.0, res_scale=0.30000000000000004, total=  15.2s\n",
      "[CV] activation_param=1.0, bias_scale=0.0, input_scale=0.0, leak_rate=0.0, res_scale=0.4 \n",
      "Testing score: 0.09612317481196542\n",
      "Testing score: 0.20839871608410857\n",
      "[CV]  activation_param=1.0, bias_scale=0.0, input_scale=0.0, leak_rate=0.0, res_scale=0.4, total=  15.0s\n",
      "[CV] activation_param=1.0, bias_scale=0.0, input_scale=0.0, leak_rate=0.0, res_scale=0.4 \n",
      "Testing score: 0.18965800081155423\n",
      "Testing score: 0.21243553934066528\n",
      "[CV]  activation_param=1.0, bias_scale=0.0, input_scale=0.0, leak_rate=0.0, res_scale=0.4, total=  14.4s\n",
      "[CV] activation_param=1.0, bias_scale=0.0, input_scale=0.0, leak_rate=0.0, res_scale=0.4 \n",
      "Testing score: 0.12320840779927118\n",
      "Testing score: 0.13378395687266786\n",
      "[CV]  activation_param=1.0, bias_scale=0.0, input_scale=0.0, leak_rate=0.0, res_scale=0.4, total=  14.9s\n",
      "[CV] activation_param=1.0, bias_scale=0.0, input_scale=0.0, leak_rate=0.0, res_scale=0.5 \n",
      "Testing score: 0.09611525740483216\n",
      "Testing score: 0.21352027362560433\n",
      "[CV]  activation_param=1.0, bias_scale=0.0, input_scale=0.0, leak_rate=0.0, res_scale=0.5, total=  15.1s\n",
      "[CV] activation_param=1.0, bias_scale=0.0, input_scale=0.0, leak_rate=0.0, res_scale=0.5 \n",
      "Testing score: 0.19088600131037625\n",
      "Testing score: 0.21034402778295763\n",
      "[CV]  activation_param=1.0, bias_scale=0.0, input_scale=0.0, leak_rate=0.0, res_scale=0.5, total=  14.9s\n",
      "[CV] activation_param=1.0, bias_scale=0.0, input_scale=0.0, leak_rate=0.0, res_scale=0.5 \n",
      "Testing score: 0.12515066929093363\n",
      "Testing score: 0.14177166279208392\n",
      "[CV]  activation_param=1.0, bias_scale=0.0, input_scale=0.0, leak_rate=0.0, res_scale=0.5, total=  14.2s\n",
      "[CV] activation_param=1.0, bias_scale=0.0, input_scale=0.0, leak_rate=0.0, res_scale=0.6 \n",
      "Testing score: 0.09586164971692095\n",
      "Testing score: 0.21049741093107865\n",
      "[CV]  activation_param=1.0, bias_scale=0.0, input_scale=0.0, leak_rate=0.0, res_scale=0.6, total=  14.5s\n",
      "[CV] activation_param=1.0, bias_scale=0.0, input_scale=0.0, leak_rate=0.0, res_scale=0.6 \n",
      "Testing score: 0.18742316730452846\n",
      "Testing score: 0.21173220406944912\n",
      "[CV]  activation_param=1.0, bias_scale=0.0, input_scale=0.0, leak_rate=0.0, res_scale=0.6, total=  15.3s\n",
      "[CV] activation_param=1.0, bias_scale=0.0, input_scale=0.0, leak_rate=0.0, res_scale=0.6 \n",
      "Testing score: 0.12581862772698887\n",
      "Testing score: 0.13743054395397328\n",
      "[CV]  activation_param=1.0, bias_scale=0.0, input_scale=0.0, leak_rate=0.0, res_scale=0.6, total=  14.2s\n",
      "[CV] activation_param=1.0, bias_scale=0.0, input_scale=0.0, leak_rate=0.0, res_scale=0.7000000000000001 \n",
      "Testing score: 0.0954220784769087\n",
      "Testing score: 0.21278184255652996\n",
      "[CV]  activation_param=1.0, bias_scale=0.0, input_scale=0.0, leak_rate=0.0, res_scale=0.7000000000000001, total=  15.7s\n",
      "[CV] activation_param=1.0, bias_scale=0.0, input_scale=0.0, leak_rate=0.0, res_scale=0.7000000000000001 \n",
      "Testing score: 0.18387264518384938\n",
      "Testing score: 0.2124866741706637\n",
      "[CV]  activation_param=1.0, bias_scale=0.0, input_scale=0.0, leak_rate=0.0, res_scale=0.7000000000000001, total=  15.4s\n",
      "[CV] activation_param=1.0, bias_scale=0.0, input_scale=0.0, leak_rate=0.0, res_scale=0.7000000000000001 \n",
      "Testing score: 0.12151119040509094\n",
      "Testing score: 0.13701867056528969\n",
      "[CV]  activation_param=1.0, bias_scale=0.0, input_scale=0.0, leak_rate=0.0, res_scale=0.7000000000000001, total=  15.2s\n",
      "[CV] activation_param=1.0, bias_scale=0.0, input_scale=0.0, leak_rate=0.0, res_scale=0.8 \n",
      "Testing score: 0.09603136640554283\n",
      "Testing score: 0.20973852211494384\n",
      "[CV]  activation_param=1.0, bias_scale=0.0, input_scale=0.0, leak_rate=0.0, res_scale=0.8, total=  14.3s\n",
      "[CV] activation_param=1.0, bias_scale=0.0, input_scale=0.0, leak_rate=0.0, res_scale=0.8 \n",
      "Testing score: 0.18857522341276858\n",
      "Testing score: 0.2115730711559718\n",
      "[CV]  activation_param=1.0, bias_scale=0.0, input_scale=0.0, leak_rate=0.0, res_scale=0.8, total=  16.4s\n",
      "[CV] activation_param=1.0, bias_scale=0.0, input_scale=0.0, leak_rate=0.0, res_scale=0.8 \n",
      "Testing score: 0.12780099711834833\n",
      "Testing score: 0.13896534528348636\n",
      "[CV]  activation_param=1.0, bias_scale=0.0, input_scale=0.0, leak_rate=0.0, res_scale=0.8, total=  18.1s\n",
      "[CV] activation_param=1.0, bias_scale=0.0, input_scale=0.0, leak_rate=0.0, res_scale=0.9 \n",
      "Testing score: 0.09579820181474372\n",
      "Testing score: 0.21025252212332035\n",
      "[CV]  activation_param=1.0, bias_scale=0.0, input_scale=0.0, leak_rate=0.0, res_scale=0.9, total=  16.1s\n",
      "[CV] activation_param=1.0, bias_scale=0.0, input_scale=0.0, leak_rate=0.0, res_scale=0.9 \n",
      "Testing score: 0.1881190247351484\n",
      "Testing score: 0.21233299711243114\n",
      "[CV]  activation_param=1.0, bias_scale=0.0, input_scale=0.0, leak_rate=0.0, res_scale=0.9, total=  14.8s\n",
      "[CV] activation_param=1.0, bias_scale=0.0, input_scale=0.0, leak_rate=0.0, res_scale=0.9 \n"
     ]
    }
   ],
   "source": [
    "ctanh = GridSearchCV(estimator=b, param_grid=params, return_train_score=True, cv=3, verbose=2)\n",
    "n_sequence = 1\n",
    "spatial_points = 65\n",
    "lyap_exp = 0.0461\n",
    "# ks_data, xx, tt = data1D.kuramoto_sivashinsky_from_dataset(sequence_length=3000, n_sequence=n_sequence, spatial_points=spatial_points)\n",
    "ks_data, xx, tt = data1D.kuramoto_sivashinsky_from_dataset(sequence_length=4000, n_sequence=n_sequence)\n",
    "\n",
    "input_shape=ks_data.shape\n",
    "input_data = ks_data.reshape((ks_data.shape[1], ks_data.shape[0], ks_data.shape[2]))\n",
    "ctanh.fit(input_data)\n",
    "\n",
    "print(ctanh.best_params_)"
   ]
  },
  {
   "cell_type": "code",
   "execution_count": null,
   "metadata": {},
   "outputs": [],
   "source": []
  }
 ],
 "metadata": {
  "kernelspec": {
   "display_name": "Python 3",
   "language": "python",
   "name": "python3"
  },
  "language_info": {
   "codemirror_mode": {
    "name": "ipython",
    "version": 3
   },
   "file_extension": ".py",
   "mimetype": "text/x-python",
   "name": "python",
   "nbconvert_exporter": "python",
   "pygments_lexer": "ipython3",
   "version": "3.6.7"
  }
 },
 "nbformat": 4,
 "nbformat_minor": 2
}
