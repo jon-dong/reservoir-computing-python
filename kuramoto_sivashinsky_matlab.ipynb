{
 "cells": [
  {
   "cell_type": "code",
   "execution_count": 1,
   "metadata": {},
   "outputs": [],
   "source": [
    "#!/usr/bin/python\n",
    "\n",
    "from __future__ import absolute_import\n",
    "from __future__ import division\n",
    "from __future__ import print_function\n",
    "import scipy.io\n",
    "\n",
    "# import os\n",
    "# import sys\n",
    "import numpy as np\n",
    "\n",
    "import time\n",
    "\n",
    "from reservoir import Reservoir\n",
    "import data1D\n",
    "import data_utils\n",
    "\n",
    "%load_ext autoreload\n",
    "%autoreload 2\n",
    "%aimport data1D\n",
    "%aimport reservoir\n",
    "\n",
    "\n",
    "%matplotlib inline\n",
    "import matplotlib.pyplot as plt\n",
    "\n",
    "# setx PATH \"%PATH%;C:\\Octave\\Octave-5.1.0.0"
   ]
  },
  {
   "cell_type": "code",
   "execution_count": 22,
   "metadata": {},
   "outputs": [],
   "source": [
    "# Input data\n",
    "n_sequence=1\n",
    "spatial_points = 42\n",
    "spatial_points_ = spatial_points\n",
    "lyap_exp = 0.0461\n",
    "n_train = 5000\n",
    "n_test = 1000\n",
    "forget = 100\n",
    "parallel_runs = 1\n",
    "ks_data_origin, xx_, tt = data1D.kuramoto_sivashinsky_matlab(sequence_length=n_train+n_test, n_sequence=n_sequence, spatial_points=spatial_points)\n",
    "# ks_data_origin=ks_data_origin+np.random.rand(ks_data_origin.shape[0],ks_data_origin.shape[1],ks_data_origin.shape[2])\n",
    "ks_data_train = ks_data_origin[:, :n_train, :]\n",
    "input_shape=ks_data_train.shape"
   ]
  },
  {
   "cell_type": "code",
   "execution_count": 30,
   "metadata": {
    "scrolled": false
   },
   "outputs": [
    {
     "name": "stdout",
     "output_type": "stream",
     "text": [
      "Reservoir Computing algorithm - Training phase:\n",
      "\n",
      "Initialization complete. \t\tElapsed time: 6.121602773666382 s\n"
     ]
    },
    {
     "data": {
      "application/vnd.jupyter.widget-view+json": {
       "model_id": "9e8734a872bc4b18bebbb301f8a83dc8",
       "version_major": 2,
       "version_minor": 0
      },
      "text/plain": [
       "HBox(children=(IntProgress(value=0, description='reservoir construction', max=5000, style=ProgressStyle(descri…"
      ]
     },
     "metadata": {},
     "output_type": "display_data"
    },
    {
     "name": "stdout",
     "output_type": "stream",
     "text": [
      "\n",
      "Reservoir iterations complete. \t\tElapsed time: 17.359581232070923 s\n",
      "(1, 4900, 4000)\n",
      "concat_states.shape = (4900, 4000)\n",
      "y.shape = (4900, 42)\n",
      "Training complete. \t\t\tElapsed time: 1.009300947189331 s\n",
      "Training score: 0.9996863434691436\n"
     ]
    }
   ],
   "source": [
    "b = Reservoir(n_res=2000, res_scale=1, res_encoding=None, res_enc_param=np.pi,\n",
    "              input_scale=1, input_encoding=None,\n",
    "              random_projection='PRL', weights_type='gaussian',\n",
    "              activation_fun='tanh', activation_param=10,\n",
    "              parallel_runs=parallel_runs,  bias_scale=0.1, leak_rate=1,\n",
    "              pred_horizon=1, rec_pred_steps=300, forget = forget,\n",
    "              train_method='ridge', train_param=50, verbose=1,\n",
    "              k=3, rho=0.6, l=0\n",
    "             )\n",
    "\n",
    "# Algorithm training\n",
    "b.fit(ks_data_train);"
   ]
  },
  {
   "cell_type": "code",
   "execution_count": null,
   "metadata": {
    "scrolled": false
   },
   "outputs": [],
   "source": []
  },
  {
   "cell_type": "code",
   "execution_count": 31,
   "metadata": {},
   "outputs": [],
   "source": [
    "# testing data\n",
    "# ks_data_test, _, _ = data1D.kuramoto_sivashinsky_matlab(sequence_length=n_test, n_sequence=n_sequence, spatial_points=spatial_points)\n",
    "# ks_data_test = ks_data_origin\n",
    "\n",
    "parallel = 500\n",
    "ks_data_test = ks_data_origin[:, n_train:, :]"
   ]
  },
  {
   "cell_type": "code",
   "execution_count": null,
   "metadata": {
    "scrolled": false
   },
   "outputs": [
    {
     "name": "stdout",
     "output_type": "stream",
     "text": [
      "Reservoir Computing algorithm - Testing phase:\n",
      "\n",
      "Initialization complete. \t\tElapsed time: 0.007978439331054688 s\n"
     ]
    },
    {
     "data": {
      "application/vnd.jupyter.widget-view+json": {
       "model_id": "6aafb2d7ed5745aa822da7b891e79fb4",
       "version_major": 2,
       "version_minor": 0
      },
      "text/plain": [
       "HBox(children=(IntProgress(value=0, description='reservoir update', max=300, style=ProgressStyle(description_w…"
      ]
     },
     "metadata": {},
     "output_type": "display_data"
    },
    {
     "data": {
      "application/vnd.jupyter.widget-view+json": {
       "model_id": "2896bc294fbe484db4a5b50639e3c526",
       "version_major": 2,
       "version_minor": 0
      },
      "text/plain": [
       "HBox(children=(IntProgress(value=0, description='reservoir construction', max=700, style=ProgressStyle(descrip…"
      ]
     },
     "metadata": {},
     "output_type": "display_data"
    }
   ],
   "source": [
    "# Algorithm testing\n",
    "# b.forget = n_test - b.pred_horizon*b.rec_pred_steps - parallel\n",
    "# b.parallel_runs = parallel_runs\n",
    "pred_output, rmse, rmse_vec, rmse_vert = b.predict_and_score(ks_data_test, detailed_score=True, \n",
    "                                                  parallel=parallel)\n",
    "# print(pred_output[:4, :5])\n",
    "# print(rmse.shape)\n",
    "print(rmse_vec[:5])\n",
    "print(rmse_vert[:5])"
   ]
  },
  {
   "cell_type": "code",
   "execution_count": null,
   "metadata": {},
   "outputs": [],
   "source": [
    "pred_output.shape"
   ]
  },
  {
   "cell_type": "code",
   "execution_count": null,
   "metadata": {
    "scrolled": false
   },
   "outputs": [],
   "source": [
    "b.forget = n_test - b.pred_horizon*b.rec_pred_steps - parallel\n",
    "total_pred = (rmse.shape[1])\n",
    "length_input = pred_output.shape[0] - total_pred\n",
    "time_input = range(rmse.shape[0])\n",
    "time_pred = tt[0:total_pred]*lyap_exp\n",
    "\n",
    "plt.figure(1,figsize=(8,2))\n",
    "plt.ylabel('average rms by prediction length')\n",
    "plt.xlabel('\\Lambda_{max} * Time')\n",
    "plt.plot(time_pred[:], rmse_vec[:])\n",
    "# scipy.io.savemat('time_pred_new_2.mat', dict(time_pred_new_2=time_pred))\n",
    "# scipy.io.savemat('rmse_vec_new_2.mat', dict(rmse_vec_new_2=rmse_vec))\n",
    "plt.show;\n",
    "\n",
    "plt.figure(2,figsize=(10,2))\n",
    "plt.title('rmse for phase encoding')\n",
    "plt.ylabel('input length')\n",
    "plt.xlabel('\\Lambda_{max} * Time')\n",
    "im=plt.pcolormesh(time_pred[:], time_input[:], rmse[:,:], cmap='gist_heat')\n",
    "plt.colorbar(im)\n",
    "plt.show;\n",
    "print('best plot is at '+str(np.argmin(rmse_vert)))"
   ]
  },
  {
   "cell_type": "code",
   "execution_count": null,
   "metadata": {},
   "outputs": [],
   "source": [
    "plt.figure(2,figsize=(10,2))\n",
    "plt.title('rmse for phase encoding')\n",
    "plt.ylabel('input length')\n",
    "plt.xlabel('\\Lambda_{max} * Time')\n",
    "im=plt.pcolormesh( rmse[99:110,:], cmap='gist_heat')\n",
    "plt.colorbar(im)\n",
    "plt.show;"
   ]
  },
  {
   "cell_type": "code",
   "execution_count": null,
   "metadata": {},
   "outputs": [],
   "source": []
  },
  {
   "cell_type": "code",
   "execution_count": null,
   "metadata": {},
   "outputs": [],
   "source": [
    "spatial_points = spatial_points_\n",
    "xx = xx_\n",
    "n_input = np.argmin(rmse_vert)\n",
    "# i=0\n",
    "# time = (tt[0:n_input] if i==0 else tt[0:total_pred])*lyap_exp\n",
    "# total_pred = b.pred_horizon*b.rec_pred_steps\n",
    "total_pred = b.rec_pred_steps\n",
    "# print(total_pred)\n",
    "\n",
    "# n_input = 500 #round(pred_output.shape[0]/2-300)\n",
    "\n",
    "\n",
    "if b.random_projection == 'PRL' and b.l != 0:\n",
    "    xx = xx[b.l:-b.l]\n",
    "    input_data = ks_data_test[0, b.forget:b.forget+total_pred, b.l:-b.l]\n",
    "    targetted_data = ks_data_test[0, n_input+b.forget:n_input+b.forget+total_pred, b.l:-b.l]\n",
    "else:\n",
    "    input_data = ks_data_test[0, b.forget:b.forget+total_pred, :]\n",
    "    targetted_data = ks_data_test[0, n_input+b.forget:n_input+b.forget+total_pred, :]\n",
    "\n",
    "prediction = pred_output[n_input, :].reshape(targetted_data.shape)\n",
    "\n",
    "vmax = max(abs(np.concatenate((targetted_data,input_data)).flatten()))\n",
    "vmin = -vmax\n",
    "\n",
    "# plot training data\n",
    "fig, axs = plt.subplots(3, 1, sharex=False, figsize=(9,9))\n",
    "plt.suptitle('Trained, tested, predicted and abs(tested-predicted) plots                       ')\n",
    "plt.ylabel('x')\n",
    "plt.xlabel('\\Lambda_{max} * Time')\n",
    "# print(targetted_data.shape)\n",
    "# print(prediction.shape)\n",
    "# datum = [input_data, targetted_data, prediction, np.abs(targetted_data-prediction)]\n",
    "datum = [targetted_data, prediction, targetted_data-prediction]\n",
    "# print(datum[0].shape)\n",
    "# time = (tt[0:n_input+b.forget] if i==0 else tt[0:total_pred])*lyap_exp\n",
    "# xx_axs, time_axs = np.mgrid[xx, time]\n",
    "if b.random_projection == 'PRL':\n",
    "    spatial_points = spatial_points - 2 * b.l\n",
    "xx_axs = np.zeros((spatial_points, total_pred))\n",
    "time_axs = np.zeros((spatial_points, total_pred))\n",
    "for i in range(total_pred):\n",
    "    xx_axs[:, i] = xx\n",
    "for i in range(spatial_points):\n",
    "    time_axs[i, :] = (tt[n_input+b.forget:n_input+b.forget+total_pred]-tt[n_input+b.forget])*lyap_exp\n",
    "for i in range(3):\n",
    "    # im=axs[i].pcolormesh(time, xx, datum[i].T, cmap='viridis', vmin=vmin, vmax=vmax)\n",
    "    im=axs[i].pcolormesh(time_axs, xx_axs, datum[i].T, cmap=plt.get_cmap('jet'), vmin=vmin, vmax=vmax)\n",
    "fig.colorbar(im, ax=axs.ravel().tolist(), shrink=0.4)\n",
    "\n",
    "# plt.figure(3,figsize=(9,2.5))\n",
    "# im=plt.pcolormesh(time_axs, xx_axs, datum[2].T, cmap='gray')\n",
    "# plt.colorbar(im)\n",
    "# # plt.savefig('DND_input_data.png')"
   ]
  },
  {
   "cell_type": "code",
   "execution_count": null,
   "metadata": {},
   "outputs": [],
   "source": []
  },
  {
   "cell_type": "code",
   "execution_count": null,
   "metadata": {},
   "outputs": [],
   "source": []
  }
 ],
 "metadata": {
  "kernelspec": {
   "display_name": "Python 3",
   "language": "python",
   "name": "python3"
  },
  "language_info": {
   "codemirror_mode": {
    "name": "ipython",
    "version": 3
   },
   "file_extension": ".py",
   "mimetype": "text/x-python",
   "name": "python",
   "nbconvert_exporter": "python",
   "pygments_lexer": "ipython3",
   "version": "3.5.2"
  }
 },
 "nbformat": 4,
 "nbformat_minor": 2
}
