{
 "cells": [
  {
   "cell_type": "code",
   "execution_count": 1,
   "metadata": {},
   "outputs": [],
   "source": [
    "import numpy as np\n",
    "import time\n",
    "from sklearn.model_selection import GridSearchCV\n",
    "\n",
    "from reservoir import Reservoir\n",
    "import data1D\n",
    "\n",
    "%load_ext autoreload\n",
    "%autoreload 2\n",
    "\n",
    "%matplotlib inline\n",
    "import matplotlib.pyplot as plt\n",
    "import seaborn\n",
    "seaborn.set()"
   ]
  },
  {
   "cell_type": "code",
   "execution_count": 10,
   "metadata": {},
   "outputs": [
    {
     "name": "stdout",
     "output_type": "stream",
     "text": [
      "Reservoir Computing algorithm - Training phase:\n",
      "\n",
      "Initialization complete. \t\tElapsed time: 1.7793936729431152 s\n",
      "100%|██████████| 2000/2000 [00:36<00:00, 56.47it/s]\n",
      "Statistics of the reservoir states:\n",
      "Sample [-0.55002735  0.94178697  0.85203169 -0.83597053 -0.98655007]\n",
      "Mean value: -0.002267002724775445\n",
      "Standard deviation: 0.7245822248010008\n",
      "Minimal value: -0.9999983594324178\n",
      "Maximal value: 0.9999990949911852\n"
     ]
    },
    {
     "data": {
      "image/png": "[encoded data removed]",
      "text/plain": [
       "<Figure size 432x288 with 1 Axes>"
      ]
     },
     "metadata": {
      "needs_background": "light"
     },
     "output_type": "display_data"
    },
    {
     "name": "stdout",
     "output_type": "stream",
     "text": [
      "Reservoir iterations complete. \t\tElapsed time: 37.32862687110901 s\n",
      "Training complete. \t\t\tElapsed time: 17.984426736831665 s\n",
      "Training score: 0.9393495531910172\n"
     ]
    },
    {
     "data": {
      "text/plain": [
       "Reservoir(activation_fun='tanh', activation_param=None, add_bias=True,\n",
       "     bias_scale=0.7, cam_roi=None, cam_sampling_range=None, forget=100,\n",
       "     future_pred=True, input_dim=1, input_enc_dim=1, input_enc_param=None,\n",
       "     input_encoding=None, input_scale=2, leak_rate=0.6, matlab_eng=None,\n",
       "     n_res=6000, parallel_runs=1, pred_horizon=400,\n",
       "     random_projection='simulation',\n",
       "     random_state=<mtrand.RandomState object at 0x7f3dc40331f8>,\n",
       "     rec_pred_steps=5, res_enc_dim=1, res_enc_param=None,\n",
       "     res_encoding=None, res_scale=1.7, save=0, slm_size=None,\n",
       "     train_method='ridge', train_param=0.01, verbose=3,\n",
       "     weights_type='gaussian')"
      ]
     },
     "execution_count": 10,
     "metadata": {},
     "output_type": "execute_result"
    }
   ],
   "source": [
    "# Generation of training sequence\n",
    "input_data = data1D.mackey_glass(sequence_length=2000, n_sequence=1)\n",
    "# Creation of Reservoir with 1000 neurons and tanh non-linearity\n",
    "b = Reservoir(n_res=6000, res_encoding=None, res_scale=1.7,\n",
    "              input_scale=2, input_encoding=None, \n",
    "              random_projection='simulation', weights_type='gaussian', \n",
    "              activation_fun='tanh', \n",
    "              parallel_runs=1, leak_rate=0.6, bias_scale=0.7, \n",
    "              future_pred=True, pred_horizon=400, rec_pred_steps=5,\n",
    "              train_method='ridge', train_param=1e-2, verbose=3\n",
    "              )\n",
    "b.fit(input_data)"
   ]
  },
  {
   "cell_type": "code",
   "execution_count": null,
   "metadata": {},
   "outputs": [],
   "source": []
  }
 ],
 "metadata": {
  "kernelspec": {
   "display_name": "Python 3",
   "language": "python",
   "name": "python3"
  },
  "language_info": {
   "codemirror_mode": {
    "name": "ipython",
    "version": 3
   },
   "file_extension": ".py",
   "mimetype": "text/x-python",
   "name": "python",
   "nbconvert_exporter": "python",
   "pygments_lexer": "ipython3",
   "version": "3.6.6"
  }
 },
 "nbformat": 4,
 "nbformat_minor": 2
}
