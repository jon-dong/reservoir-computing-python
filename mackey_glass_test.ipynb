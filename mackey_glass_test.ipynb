{
 "cells": [
  {
   "cell_type": "code",
   "execution_count": 27,
   "metadata": {},
   "outputs": [
    {
     "name": "stdout",
     "output_type": "stream",
     "text": [
      "The autoreload extension is already loaded. To reload it, use:\n",
      "  %reload_ext autoreload\n"
     ]
    }
   ],
   "source": [
    "#!/usr/bin/python\n",
    "\n",
    "from __future__ import absolute_import\n",
    "from __future__ import division\n",
    "from __future__ import print_function\n",
    "\n",
    "# import os\n",
    "# import sys\n",
    "import numpy as np\n",
    "\n",
    "import time\n",
    "\n",
    "from reservoir import Reservoir\n",
    "import data\n",
    "\n",
    "%load_ext autoreload\n",
    "%autoreload 1\n",
    "%aimport data\n",
    "%aimport reservoir\n",
    "\n",
    "%matplotlib inline\n",
    "import matplotlib.pyplot as plt"
   ]
  },
  {
   "cell_type": "code",
   "execution_count": 24,
   "metadata": {},
   "outputs": [],
   "source": [
    "b = Reservoir(n_res=400, input_scale=2, train_method='ridge', train_param=5,\n",
    "                          weights_type='complex gaussian', random_projection='simulation',\n",
    "                          activation_fun='binary', activation_param=1,\n",
    "                          encoding_method='naivebinary', input_dim=1000, forget=100)"
   ]
  },
  {
   "cell_type": "code",
   "execution_count": 25,
   "metadata": {
    "scrolled": false
   },
   "outputs": [
    {
     "name": "stdout",
     "output_type": "stream",
     "text": [
      "Start of training...\n",
      "Initialization finished. Elapsed time:\n",
      "0.13045048713684082\n",
      "100%|██████████| 2000/2000 [00:01<00:00, 1942.42it/s]\n",
      "Iterations finished. Elapsed time:\n",
      "1.1646251678466797\n",
      "Training finished. Elapsed time:\n",
      "1.48343825340271\n",
      "Training score:\n",
      "0.993992002122691\n"
     ]
    },
    {
     "data": {
      "text/plain": [
       "Reservoir(activation_fun='binary', activation_param=1,\n",
       "     encoding_method='naivebinary', encoding_param=None, forget=100,\n",
       "     input_dim=1000, input_scale=2, n_res=400, opu_transform=None,\n",
       "     random_projection='simulation',\n",
       "     random_state=<mtrand.RandomState object at 0x7f5f9472ebd0>,\n",
       "     res_scale=1, save=0, train_method='ridge', train_param=5, verbose=1,\n",
       "     weights_type='complex gaussian')"
      ]
     },
     "execution_count": 25,
     "metadata": {},
     "output_type": "execute_result"
    }
   ],
   "source": [
    "input_data, y = data.mackey_glass(sequence_length=2000)\n",
    "b.fit(input_data, y)"
   ]
  },
  {
   "cell_type": "code",
   "execution_count": 26,
   "metadata": {},
   "outputs": [
    {
     "name": "stdout",
     "output_type": "stream",
     "text": [
      "Start of testing...\n",
      "Initialization finished. Elapsed time:\n",
      "0.03945302963256836\n",
      "100%|██████████| 1000/1000 [00:00<00:00, 1836.38it/s]\n",
      "Iterations finished. Elapsed time:\n",
      "0.5878982543945312\n",
      "Testing finished. Elapsed time:\n",
      "0.5887002944946289\n",
      "Testing finished. Elapsed time:\n",
      "1.48343825340271\n",
      "Testing score:\n",
      "0.9862881741279051\n"
     ]
    }
   ],
   "source": [
    "input_data, y = data.mackey_glass(sequence_length=1000)\n",
    "pred_output, valid_score = b.score(input_data, np.ravel(y[:,b.forget:,:]))"
   ]
  },
  {
   "cell_type": "code",
   "execution_count": 28,
   "metadata": {},
   "outputs": [
    {
     "data": {
      "image/png": "[encoded data removed]",
      "text/plain": [
       "<Figure size 432x288 with 1 Axes>"
      ]
     },
     "metadata": {
      "needs_background": "light"
     },
     "output_type": "display_data"
    }
   ],
   "source": [
    "true_output = np.ravel(y[:, b.forget:, :])\n",
    "pred_output = np.ravel(pred_output)\n",
    "\n",
    "plt.plot(true_output[:200])\n",
    "plt.plot(pred_output[:200])\n",
    "plt.show()"
   ]
  },
  {
   "cell_type": "code",
   "execution_count": null,
   "metadata": {},
   "outputs": [],
   "source": []
  }
 ],
 "metadata": {
  "kernelspec": {
   "display_name": "Python 3",
   "language": "python",
   "name": "python3"
  },
  "language_info": {
   "codemirror_mode": {
    "name": "ipython",
    "version": 3
   },
   "file_extension": ".py",
   "mimetype": "text/x-python",
   "name": "python",
   "nbconvert_exporter": "python",
   "pygments_lexer": "ipython3",
   "version": "3.6.6"
  }
 },
 "nbformat": 4,
 "nbformat_minor": 2
}
